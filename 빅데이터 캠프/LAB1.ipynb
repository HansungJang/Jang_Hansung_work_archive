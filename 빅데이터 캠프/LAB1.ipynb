{
 "cells": [
  {
   "cell_type": "code",
   "execution_count": 1,
   "id": "6374efa2",
   "metadata": {
    "scrolled": true
   },
   "outputs": [
    {
     "name": "stdout",
     "output_type": "stream",
     "text": [
      "enter your inputjang\n"
     ]
    },
    {
     "data": {
      "text/plain": [
       "'jang'"
      ]
     },
     "execution_count": 1,
     "metadata": {},
     "output_type": "execute_result"
    }
   ],
   "source": [
    "input('enter your input')"
   ]
  },
  {
   "cell_type": "code",
   "execution_count": 2,
   "id": "0344fb4a",
   "metadata": {},
   "outputs": [
    {
     "name": "stdout",
     "output_type": "stream",
     "text": [
      "Hello, Python!\n",
      "Python is really agreat language, isn't it?\n"
     ]
    }
   ],
   "source": [
    "print(\"Hello, Python!\")\n",
    "print(\"Python is really agreat language,\", \"isn't it?\")"
   ]
  },
  {
   "cell_type": "markdown",
   "id": "15b2f91a",
   "metadata": {},
   "source": [
    "# LAB1"
   ]
  },
  {
   "cell_type": "code",
   "execution_count": 13,
   "id": "4bea5426",
   "metadata": {},
   "outputs": [
    {
     "name": "stdout",
     "output_type": "stream",
     "text": [
      "Twinkle, Ttwinkle, little star,    \n",
      "\tHow I wonder what you are!\n",
      "\t\tup above the world so high,\n",
      "\t\tLike a diamond in the sky.\n",
      "Twinkle, Ttwinkle, little star,\n",
      "\tHow I wonder what you are!\n"
     ]
    }
   ],
   "source": [
    "print(\"Twinkle, Ttwinkle, little star, \\\n",
    "   \\n\\tHow I wonder what you are!\")\n",
    "print(\"\\t\\tup above the world so high,\")\n",
    "print(\"\\t\\tLike a diamond in the sky.\")\n",
    "print(\"Twinkle, Ttwinkle, little star,\")\n",
    "print(\"\\tHow I wonder what you are!\")"
   ]
  },
  {
   "cell_type": "code",
   "execution_count": 15,
   "id": "8c39ca60",
   "metadata": {},
   "outputs": [
    {
     "name": "stdout",
     "output_type": "stream",
     "text": [
      "<class 'int'>\n",
      "<class 'float'>\n",
      "<class 'complex'>\n"
     ]
    }
   ],
   "source": [
    "x = 1 \n",
    "y= 35656222.554887711\n",
    "z = 3255522j\n",
    "\n",
    "print (type(x))\n",
    "print (type(y))\n",
    "print (type(z))"
   ]
  },
  {
   "cell_type": "code",
   "execution_count": 17,
   "id": "df664fe8",
   "metadata": {},
   "outputs": [
    {
     "data": {
      "text/plain": [
       "0"
      ]
     },
     "execution_count": 17,
     "metadata": {},
     "output_type": "execute_result"
    }
   ],
   "source": [
    "a = 3\n",
    "b = 4\n",
    "a%b\n",
    "b%a\n",
    "# a//b\n",
    "# a**b"
   ]
  },
  {
   "cell_type": "code",
   "execution_count": 23,
   "id": "77878350",
   "metadata": {},
   "outputs": [
    {
     "name": "stdout",
     "output_type": "stream",
     "text": [
      "i eat  apples three days.\n"
     ]
    }
   ],
   "source": [
    "a = \"three\"\n",
    "print(\"i eat  apples %s days.\" % a)"
   ]
  },
  {
   "cell_type": "code",
   "execution_count": 26,
   "id": "e9bfc81f",
   "metadata": {},
   "outputs": [
    {
     "name": "stdout",
     "output_type": "stream",
     "text": [
      "        hi\n",
      "hi        \n",
      "3.46\n",
      "3.46\n"
     ]
    }
   ],
   "source": [
    "print(\"%10s\" % \"hi\")\n",
    "print(\"%-10s\" % \"hi\")\n",
    "print(round(3.456544545, 2))\n",
    "print(\"%.2f\" % 3.456544545)\n"
   ]
  },
  {
   "cell_type": "code",
   "execution_count": 38,
   "id": "4bb93a7d",
   "metadata": {},
   "outputs": [
    {
     "name": "stdout",
     "output_type": "stream",
     "text": [
      "what is your name : james\n",
      "what is your balance : 15.33\n",
      "Hello, james, Your current balance is $15.33.\n"
     ]
    }
   ],
   "source": [
    "format_string = \"Hello\"\n",
    "name = input(\"what is your name : \")\n",
    "pre = input(\"what is your balance : \")\n",
    "balance = float(pre)\n",
    "print(\"%s, %s, Your current balance is $%.2f.\"  %(format_string, name, balance))"
   ]
  },
  {
   "cell_type": "code",
   "execution_count": 39,
   "id": "7b09c964",
   "metadata": {},
   "outputs": [
    {
     "name": "stdout",
     "output_type": "stream",
     "text": [
      "what is your name : james\n",
      "what is your balance : 15.222\n",
      "Hello, james, Your current balance is $%15.222.\n"
     ]
    }
   ],
   "source": [
    "format_string = \"Hello\"\n",
    "name = input(\"what is your name : \")\n",
    "pre = input(\"what is your balance : \")\n",
    "balance = float(pre)\n",
    "print(\"{}, {}, Your current balance is $%{}.\"  .format(format_string, name, balance))"
   ]
  },
  {
   "cell_type": "code",
   "execution_count": 43,
   "id": "5fa81ca7",
   "metadata": {},
   "outputs": [
    {
     "name": "stdout",
     "output_type": "stream",
     "text": [
      "what is your name: james\n",
      "what is your age: 11\n"
     ]
    },
    {
     "data": {
      "text/plain": [
       "str"
      ]
     },
     "execution_count": 43,
     "metadata": {},
     "output_type": "execute_result"
    }
   ],
   "source": [
    "#[예제문제]  사용자에게 (이름, 나이)를 물은뒤 100살이 되는 년도 출력 \n",
    "# input 2가지 : 이름(str-type) , 나이(int - type)\n",
    "name = input(\"what is your name: \")\n",
    "age = input(\"what is your age: \")\n",
    "type(age)\n",
    "years = 2023 + (100 - int(age))\n",
    "\n",
    "print(\"Hi {}, {} year is when you're age become 100!\" .format(name, years)) "
   ]
  },
  {
   "cell_type": "code",
   "execution_count": 19,
   "id": "7027d0d6",
   "metadata": {},
   "outputs": [
    {
     "name": "stdout",
     "output_type": "stream",
     "text": [
      "insert your Height: 165\n",
      "insert your weight: 78\n",
      "your bmi is 28.65\n"
     ]
    }
   ],
   "source": [
    "# input (2) : float[2] // height, weight \n",
    "height = float(input(\"insert your Height: \"))\n",
    "weight = float(input(\"insert your weight: \"))\n",
    "\n",
    "#height = input(\"insert your Height: \")\n",
    "#weight = input(\"insert your weight: \")\n",
    "\n",
    "bmi = weight / ((height/100)**2)\n",
    "print(\"your bmi is %.2f\" %bmi)"
   ]
  },
  {
   "cell_type": "code",
   "execution_count": 2,
   "id": "1dfd2574",
   "metadata": {},
   "outputs": [
    {
     "name": "stdout",
     "output_type": "stream",
     "text": [
      "Enter the gross income: 150000\n",
      "Enter the number of dependents: 3\n",
      "The income tax is $11000.00\n"
     ]
    }
   ],
   "source": [
    "income = float(input(\"Enter the gross income: \"))\n",
    "dependents = int(input(\"Enter the number of dependents: \"))\n",
    "\n",
    "std_dec = 10000\n",
    "add_dec = 3000 * dependents\n",
    "tax = (0.2) * income - (std_dec + add_dec)\n",
    "\n",
    "print(\"The income tax is $%.2f\" % tax)"
   ]
  },
  {
   "cell_type": "code",
   "execution_count": null,
   "id": "7714e59a",
   "metadata": {},
   "outputs": [],
   "source": []
  },
  {
   "cell_type": "code",
   "execution_count": 2,
   "id": "4e784bab",
   "metadata": {},
   "outputs": [
    {
     "name": "stdout",
     "output_type": "stream",
     "text": [
      "['aa', 'bb', 'cc', 'dd', 'ee']\n"
     ]
    },
    {
     "data": {
      "text/plain": [
       "5"
      ]
     },
     "execution_count": 2,
     "metadata": {},
     "output_type": "execute_result"
    }
   ],
   "source": [
    "thislist = [\"aa\", \"bb\", \"cc\", \"dd\", \"ee\"]\n",
    "print(thislist)\n",
    "#len(thislist)\n",
    "#len(thislist)\n",
    "#print(len)\n",
    "#print(thislist[-1])\n",
    "#thislist[1:3]\n",
    "#thislist[-4:-2]"
   ]
  },
  {
   "cell_type": "code",
   "execution_count": 7,
   "id": "6b9701ad",
   "metadata": {},
   "outputs": [],
   "source": [
    "thislist.remove('aa')"
   ]
  },
  {
   "cell_type": "code",
   "execution_count": 8,
   "id": "d02f87be",
   "metadata": {},
   "outputs": [
    {
     "data": {
      "text/plain": [
       "['zz', 'cc', 'dd', 'ee']"
      ]
     },
     "execution_count": 8,
     "metadata": {},
     "output_type": "execute_result"
    }
   ],
   "source": [
    "thislist"
   ]
  },
  {
   "cell_type": "code",
   "execution_count": 11,
   "id": "ca0aef31",
   "metadata": {},
   "outputs": [],
   "source": [
    "#튜플\n",
    "tuple1 = ('app' , 'bana', 'cher')"
   ]
  },
  {
   "cell_type": "code",
   "execution_count": 12,
   "id": "2582d534",
   "metadata": {},
   "outputs": [
    {
     "data": {
      "text/plain": [
       "('app', 'bana', 'cher')"
      ]
     },
     "execution_count": 12,
     "metadata": {},
     "output_type": "execute_result"
    }
   ],
   "source": [
    "tuple1"
   ]
  },
  {
   "cell_type": "code",
   "execution_count": 13,
   "id": "363a92c9",
   "metadata": {},
   "outputs": [],
   "source": [
    "tuple2 = ('app2' , 'bana2', 'cher2')"
   ]
  },
  {
   "cell_type": "code",
   "execution_count": 14,
   "id": "76de36d6",
   "metadata": {},
   "outputs": [
    {
     "data": {
      "text/plain": [
       "('app', 'bana', 'cher', 'app2', 'bana2', 'cher2')"
      ]
     },
     "execution_count": 14,
     "metadata": {},
     "output_type": "execute_result"
    }
   ],
   "source": [
    "tuple1 + tuple2"
   ]
  },
  {
   "cell_type": "code",
   "execution_count": null,
   "id": "754b2d75",
   "metadata": {},
   "outputs": [],
   "source": [
    "#딕션너리"
   ]
  },
  {
   "cell_type": "code",
   "execution_count": 15,
   "id": "053f2f3c",
   "metadata": {},
   "outputs": [
    {
     "data": {
      "text/plain": [
       "dict"
      ]
     },
     "execution_count": 15,
     "metadata": {},
     "output_type": "execute_result"
    }
   ],
   "source": [
    "dict1 = {'brand': 'ford', \n",
    "        'model' : 'mustang', \n",
    "        'year' : 1964}\n",
    "type(dict1)"
   ]
  },
  {
   "cell_type": "code",
   "execution_count": 16,
   "id": "bb43a53b",
   "metadata": {},
   "outputs": [
    {
     "data": {
      "text/plain": [
       "'mustang'"
      ]
     },
     "execution_count": 16,
     "metadata": {},
     "output_type": "execute_result"
    }
   ],
   "source": [
    "dict1['model']"
   ]
  },
  {
   "cell_type": "code",
   "execution_count": 17,
   "id": "be30401a",
   "metadata": {},
   "outputs": [
    {
     "data": {
      "text/plain": [
       "'mustang'"
      ]
     },
     "execution_count": 17,
     "metadata": {},
     "output_type": "execute_result"
    }
   ],
   "source": [
    "dict1.get('model')"
   ]
  },
  {
   "cell_type": "code",
   "execution_count": 18,
   "id": "e9e1777e",
   "metadata": {},
   "outputs": [
    {
     "data": {
      "text/plain": [
       "{'brand': 'ford', 'model': 'mustang', 'year': 2019}"
      ]
     },
     "execution_count": 18,
     "metadata": {},
     "output_type": "execute_result"
    }
   ],
   "source": [
    "dict1['year'] = 2019\n",
    "dict1"
   ]
  },
  {
   "cell_type": "code",
   "execution_count": 19,
   "id": "010b773a",
   "metadata": {},
   "outputs": [
    {
     "data": {
      "text/plain": [
       "3"
      ]
     },
     "execution_count": 19,
     "metadata": {},
     "output_type": "execute_result"
    }
   ],
   "source": [
    "len(dict1)"
   ]
  },
  {
   "cell_type": "code",
   "execution_count": 20,
   "id": "be9f833a",
   "metadata": {},
   "outputs": [
    {
     "data": {
      "text/plain": [
       "{'brand': 'ford', 'model': 'mustang', 'year': 2019, 'color': 'navy'}"
      ]
     },
     "execution_count": 20,
     "metadata": {},
     "output_type": "execute_result"
    }
   ],
   "source": [
    "dict1['color'] = 'navy'\n",
    "dict1"
   ]
  },
  {
   "cell_type": "code",
   "execution_count": 21,
   "id": "2124c93a",
   "metadata": {},
   "outputs": [
    {
     "data": {
      "text/plain": [
       "'mustang'"
      ]
     },
     "execution_count": 21,
     "metadata": {},
     "output_type": "execute_result"
    }
   ],
   "source": [
    "dict1.pop('model')"
   ]
  },
  {
   "cell_type": "code",
   "execution_count": 22,
   "id": "7adf72b4",
   "metadata": {},
   "outputs": [
    {
     "data": {
      "text/plain": [
       "{'brand': 'ford', 'year': 2019, 'color': 'navy'}"
      ]
     },
     "execution_count": 22,
     "metadata": {},
     "output_type": "execute_result"
    }
   ],
   "source": [
    "dict1"
   ]
  },
  {
   "cell_type": "code",
   "execution_count": 23,
   "id": "676ae05a",
   "metadata": {},
   "outputs": [],
   "source": [
    "del dict1['year']"
   ]
  },
  {
   "cell_type": "code",
   "execution_count": 24,
   "id": "e24041f7",
   "metadata": {},
   "outputs": [
    {
     "data": {
      "text/plain": [
       "{'brand': 'ford', 'color': 'navy'}"
      ]
     },
     "execution_count": 24,
     "metadata": {},
     "output_type": "execute_result"
    }
   ],
   "source": [
    "dict1"
   ]
  },
  {
   "cell_type": "code",
   "execution_count": 25,
   "id": "463cb268",
   "metadata": {},
   "outputs": [],
   "source": [
    "dict_source = dict1.copy()"
   ]
  },
  {
   "cell_type": "code",
   "execution_count": 26,
   "id": "e1e31c3b",
   "metadata": {},
   "outputs": [
    {
     "data": {
      "text/plain": [
       "{'brand': 'ford', 'color': 'navy'}"
      ]
     },
     "execution_count": 26,
     "metadata": {},
     "output_type": "execute_result"
    }
   ],
   "source": [
    "dict(dict1)"
   ]
  },
  {
   "cell_type": "code",
   "execution_count": 27,
   "id": "e9d7fe54",
   "metadata": {},
   "outputs": [
    {
     "data": {
      "text/plain": [
       "<function dict.clear>"
      ]
     },
     "execution_count": 27,
     "metadata": {},
     "output_type": "execute_result"
    }
   ],
   "source": [
    "dict1.clear"
   ]
  },
  {
   "cell_type": "code",
   "execution_count": 28,
   "id": "3ed7abda",
   "metadata": {},
   "outputs": [],
   "source": [
    "del dict1"
   ]
  },
  {
   "cell_type": "code",
   "execution_count": 30,
   "id": "1e42de78",
   "metadata": {},
   "outputs": [
    {
     "data": {
      "text/plain": [
       "{'brand': 'ford', 'color': 'navy'}"
      ]
     },
     "execution_count": 30,
     "metadata": {},
     "output_type": "execute_result"
    }
   ],
   "source": [
    "dict_source"
   ]
  },
  {
   "cell_type": "code",
   "execution_count": 31,
   "id": "c065411c",
   "metadata": {},
   "outputs": [
    {
     "name": "stdout",
     "output_type": "stream",
     "text": [
      "숫자 배열을 입력하세요: 1,2,3,4\n",
      "list:  ['1', '2', '3', '4']\n",
      "duple:  ('1', '2', '3', '4')\n"
     ]
    }
   ],
   "source": [
    "#SPLIT 사용하는 문제 \n",
    "seq = input('숫자 배열을 입력하세요: ')\n",
    "lst = seq.split(',')\n",
    "print('list: ', lst)\n",
    "print('duple: ', tuple(lst))\n",
    "\n"
   ]
  },
  {
   "cell_type": "code",
   "execution_count": 40,
   "id": "20f5107c",
   "metadata": {},
   "outputs": [
    {
     "name": "stdout",
     "output_type": "stream",
     "text": [
      "문자열을 입력하세요: ham bur ger\n",
      "BUR\n"
     ]
    },
    {
     "ename": "AttributeError",
     "evalue": "'str' object has no attribute 'insert'",
     "output_type": "error",
     "traceback": [
      "\u001b[1;31m---------------------------------------------------------------------------\u001b[0m",
      "\u001b[1;31mAttributeError\u001b[0m                            Traceback (most recent call last)",
      "Cell \u001b[1;32mIn[40], line 9\u001b[0m\n\u001b[0;32m      7\u001b[0m new_word \u001b[38;5;241m=\u001b[39m arr\u001b[38;5;241m.\u001b[39msplit(\u001b[38;5;124m'\u001b[39m\u001b[38;5;124m \u001b[39m\u001b[38;5;124m'\u001b[39m)[\u001b[38;5;241m1\u001b[39m]\u001b[38;5;241m.\u001b[39mupper()\n\u001b[0;32m      8\u001b[0m sec_arr \u001b[38;5;241m=\u001b[39m arr\n\u001b[1;32m----> 9\u001b[0m sec_arr\u001b[38;5;241m.\u001b[39minsert(sec_arr[\u001b[38;5;241m1\u001b[39m], new_word)\n\u001b[0;32m     10\u001b[0m \u001b[38;5;66;03m#.split(' ')[1].upper()\u001b[39;00m\n\u001b[0;32m     11\u001b[0m \u001b[38;5;28mprint\u001b[39m(sec_arr)\n",
      "\u001b[1;31mAttributeError\u001b[0m: 'str' object has no attribute 'insert'"
     ]
    }
   ],
   "source": [
    "#input : 2개 이상의 문자열; \n",
    "#split으로 단어를 나누기; \n",
    "arr = input('문자열을 입력하세요: ')\n",
    "print(arr.split(' ')[1].upper())\n",
    "#바뀐 문장이 저장되지 않음; \n",
    "#다시\n",
    "new_word = arr.split(' ')[1].upper()\n",
    "sec_arr = arr\n",
    "sec_arr.insert(1, new_word)\n",
    "sec_arr.remove('bur')\n",
    "' '.join(sec_arr) \n",
    "#.split(' ')[1].upper()\n",
    "print(sec_arr)\n",
    "#list를 하나의 문자열로 합칠때\n",
    "#.join(sent.split(' '))\n",
    "#print(arr)\n",
    "#arr[1]\n"
   ]
  },
  {
   "cell_type": "code",
   "execution_count": 45,
   "id": "dff49d42",
   "metadata": {},
   "outputs": [
    {
     "ename": "NameError",
     "evalue": "name 'sample_data' is not defined",
     "output_type": "error",
     "traceback": [
      "\u001b[1;31m---------------------------------------------------------------------------\u001b[0m",
      "\u001b[1;31mNameError\u001b[0m                                 Traceback (most recent call last)",
      "Cell \u001b[1;32mIn[45], line 2\u001b[0m\n\u001b[0;32m      1\u001b[0m smaple_data \u001b[38;5;241m=\u001b[39m [\u001b[38;5;124m\"\u001b[39m\u001b[38;5;124mthis is better\u001b[39m\u001b[38;5;124m\"\u001b[39m]\n\u001b[1;32m----> 2\u001b[0m sample_data1 \u001b[38;5;241m=\u001b[39m sample_data\u001b[38;5;241m.\u001b[39msplit(\u001b[38;5;124m'\u001b[39m\u001b[38;5;124m \u001b[39m\u001b[38;5;124m'\u001b[39m)\n\u001b[0;32m      3\u001b[0m sample_split1[\u001b[38;5;241m1\u001b[39m] \u001b[38;5;241m=\u001b[39m second_word\n\u001b[0;32m      4\u001b[0m \u001b[38;5;124m'\u001b[39m\u001b[38;5;124m \u001b[39m\u001b[38;5;124m'\u001b[39m\u001b[38;5;241m.\u001b[39mjoin(sample_split)\n",
      "\u001b[1;31mNameError\u001b[0m: name 'sample_data' is not defined"
     ]
    }
   ],
   "source": [
    "smaple_data = [\"this is better\"]\n",
    "sample_data1 = sample_data.split(' ')\n",
    "sample_split1[1] = second_word\n",
    "' '.join(sample_split)"
   ]
  },
  {
   "cell_type": "code",
   "execution_count": 49,
   "id": "cbadc4c5",
   "metadata": {},
   "outputs": [
    {
     "name": "stdout",
     "output_type": "stream",
     "text": [
      "input your GPA: 1.2\n",
      "saddly... your application is denied\n"
     ]
    }
   ],
   "source": [
    "# python의 조건문 \n",
    "# python에서는 ':'표기를 해주어야 한다! \n",
    "your_gpa = float(input(\"input your GPA: \"))\n",
    "if your_gpa > 2.0: \n",
    "    print(\"your application is accepted!\")\n",
    "else: \n",
    "    print(\"saddly... your application is denied\")\n",
    "    "
   ]
  },
  {
   "cell_type": "code",
   "execution_count": 51,
   "id": "7026f1b2",
   "metadata": {},
   "outputs": [
    {
     "name": "stdout",
     "output_type": "stream",
     "text": [
      "input integer number: 4\n",
      "your num is even\n"
     ]
    }
   ],
   "source": [
    "# python의 조건문 \n",
    "# python에서는 ':'표기를 해주어야 한다! \n",
    "num = int(input(\"input integer number: \"))\n",
    "if ((num % 2) ==  0): \n",
    "    print(\"your num is even\")\n",
    "else: \n",
    "    print(\"your num is odd\")"
   ]
  },
  {
   "cell_type": "code",
   "execution_count": 54,
   "id": "a30eb15d",
   "metadata": {},
   "outputs": [
    {
     "name": "stdout",
     "output_type": "stream",
     "text": [
      "Negative number\n"
     ]
    }
   ],
   "source": [
    "num = -1\n",
    "if num > 0:\n",
    "    print(\"Positive number\")\n",
    "elif num == 0:\n",
    "    print(\"Zero\")\n",
    "else:\n",
    "    print(\"Negative number\")"
   ]
  },
  {
   "cell_type": "code",
   "execution_count": 61,
   "id": "e1e79140",
   "metadata": {},
   "outputs": [
    {
     "data": {
      "text/plain": [
       "True"
      ]
     },
     "execution_count": 61,
     "metadata": {},
     "output_type": "execute_result"
    }
   ],
   "source": [
    "#1 + 1 == 2 #True\n",
    "#3.2 != 2.5 #True\n",
    "#10 < 5 #False\n",
    "#10 > 5 #True\n",
    "#126 <= 100 #False\n",
    "5.0 >= 5.0 #True"
   ]
  },
  {
   "cell_type": "code",
   "execution_count": 65,
   "id": "9fe69398",
   "metadata": {},
   "outputs": [
    {
     "data": {
      "text/plain": [
       "False"
      ]
     },
     "execution_count": 65,
     "metadata": {},
     "output_type": "execute_result"
    }
   ],
   "source": [
    "#9 != 6 and 2 < 3 #True\n",
    "#2 == 3 or 1 < 5 #True\n",
    "not (7 > 0) #False"
   ]
  },
  {
   "cell_type": "code",
   "execution_count": 67,
   "id": "8557c620",
   "metadata": {},
   "outputs": [
    {
     "data": {
      "text/plain": [
       "True"
      ]
     },
     "execution_count": 67,
     "metadata": {},
     "output_type": "execute_result"
    }
   ],
   "source": [
    "9 != 6 "
   ]
  },
  {
   "cell_type": "code",
   "execution_count": 1,
   "id": "02a6b157",
   "metadata": {},
   "outputs": [
    {
     "name": "stdout",
     "output_type": "stream",
     "text": [
      "Enter the numeric grade: 99\n",
      "The letter grade is:  A\n"
     ]
    }
   ],
   "source": [
    "grade = int(input('Enter the numeric grade: '))\n",
    "cal_grade = grade / 10 \n",
    "\n",
    "#1-st solution\n",
    "#if cal_grade >= 9 : \n",
    " #   print('The letter grade is A')\n",
    "#elif cal_grade <9 and cal_grade > 8 : \n",
    " #   print('The letter grade is B')\n",
    "#elif cal_grade <8 and cal_grade > 7 : \n",
    " #   print('The letter grade is C')\n",
    "#elif cal_grade <7 and cal_grade > 6 : \n",
    " #   print('The letter grade is D')\n",
    "#else :\n",
    " #  print('The letter grade is F')\n",
    "\n",
    "#2-nd solution \n",
    "\n",
    "if cal_grade >= 9 : \n",
    "   letter_grade = 'A'\n",
    "elif cal_grade <9 and cal_grade > 8 : \n",
    "    letter_grade = 'B'\n",
    "elif cal_grade <8 and cal_grade > 7 : \n",
    "        letter_grade = 'C'\n",
    "elif cal_grade <7 and cal_grade > 6 : \n",
    "        letter_grade = 'D'\n",
    "else :\n",
    "      letter_grade = 'F'\n",
    "\n",
    "print('The letter grade is: ', letter_grade)\n"
   ]
  },
  {
   "cell_type": "code",
   "execution_count": 9,
   "id": "38e54740",
   "metadata": {},
   "outputs": [
    {
     "name": "stdout",
     "output_type": "stream",
     "text": [
      "가장 큰 숫자는 10와 14와 17 중 17 입니다.\n"
     ]
    }
   ],
   "source": [
    "input_str = '10,14,17'\n",
    "num = input_str.split(',')\n",
    "max_num = int(num[0])\n",
    "\n",
    "if max_num < int(num[1]):\n",
    "    max_num = int(num[1])\n",
    "if max_num < int(num[2]):\n",
    "    max_num = int(num[2])\n",
    "\n",
    "print('가장 큰 숫자는 {}와 {}와 {} 중 {} 입니다.'.format(num[0], num[1], num[2], max_num))\n"
   ]
  },
  {
   "cell_type": "code",
   "execution_count": 8,
   "id": "9ef4ff80",
   "metadata": {},
   "outputs": [
    {
     "name": "stdout",
     "output_type": "stream",
     "text": [
      "insert integer number array 1 2 8\n"
     ]
    },
    {
     "ename": "ValueError",
     "evalue": "invalid literal for int() with base 10: '1 2 8'",
     "output_type": "error",
     "traceback": [
      "\u001b[1;31m---------------------------------------------------------------------------\u001b[0m",
      "\u001b[1;31mValueError\u001b[0m                                Traceback (most recent call last)",
      "Cell \u001b[1;32mIn[8], line 1\u001b[0m\n\u001b[1;32m----> 1\u001b[0m num_str \u001b[38;5;241m=\u001b[39m \u001b[38;5;28mint\u001b[39m(\u001b[38;5;28minput\u001b[39m(\u001b[38;5;124m'\u001b[39m\u001b[38;5;124minsert integer number array \u001b[39m\u001b[38;5;124m'\u001b[39m))\n\u001b[0;32m      2\u001b[0m \u001b[38;5;28mmax\u001b[39m \u001b[38;5;241m=\u001b[39m num_str[\u001b[38;5;241m0\u001b[39m]\n\u001b[0;32m      3\u001b[0m size \u001b[38;5;241m=\u001b[39m \u001b[38;5;28mlen\u001b[39m(num_str)\n",
      "\u001b[1;31mValueError\u001b[0m: invalid literal for int() with base 10: '1 2 8'"
     ]
    }
   ],
   "source": [
    "num_str = input('insert integer number array ').split(' ')\n",
    "max = (int)num_str[0]\n",
    "\n",
    "\n",
    "size = len(num_str)\n",
    "count = 0 \n",
    "\n",
    "while count < size :\n",
    "    if max < num_str[count]: \n",
    "        max = num_str[count]\n",
    "    count += 1\n",
    "    \n",
    "print(num_str)\n",
    "print('가장큰 수  %d ' % max)"
   ]
  },
  {
   "cell_type": "code",
   "execution_count": 9,
   "id": "3c1d7eaa",
   "metadata": {},
   "outputs": [
    {
     "name": "stdout",
     "output_type": "stream",
     "text": [
      "Select options \n",
      "1.ADD \n",
      "2.sub\n",
      "3.mul\n",
      "4,div \n",
      "Enter choice (1~4): 4\n",
      "first num: 8\n",
      "second num: 2\n",
      "8 / 2 = 4.0\n"
     ]
    }
   ],
   "source": [
    "print(\"Select options \\n1.ADD \\n2.sub\\n3.mul\\n4,div \")\n",
    "\n",
    "mode = int(input(\"Enter choice (1~4): \"))\n",
    "first = int(input(\"first num: \"))\n",
    "sec = int(input(\"second num: \"))\n",
    "\n",
    "if mode == 1:\n",
    "    print(\"{} + {} = {}\" .format(first, sec, first + sec))\n",
    "elif mode == 2 :\n",
    "    print(\"{} - {} = {}\" .format(first, sec, first - sec))\n",
    "elif mode == 3 :\n",
    "    print(\"{} * {} = {}\" .format(first, sec, first * sec))\n",
    "else :\n",
    "    print(\"{} / {} = {}\" .format(first, sec, first / sec))"
   ]
  },
  {
   "cell_type": "code",
   "execution_count": 11,
   "id": "eb237f7f",
   "metadata": {
    "scrolled": true
   },
   "outputs": [
    {
     "name": "stdout",
     "output_type": "stream",
     "text": [
      "1\n",
      "2\n",
      "4\n",
      "8\n",
      "16\n",
      "32\n",
      "64\n",
      "128\n"
     ]
    }
   ],
   "source": [
    "number = 1 \n",
    "\n",
    "while number < 200 :\n",
    "    print(number)\n",
    "    number *= 2\n",
    "    "
   ]
  },
  {
   "cell_type": "code",
   "execution_count": null,
   "id": "92f06c1e",
   "metadata": {},
   "outputs": [],
   "source": [
    "#for loop "
   ]
  },
  {
   "cell_type": "code",
   "execution_count": 12,
   "id": "5a91b262",
   "metadata": {},
   "outputs": [
    {
     "name": "stdout",
     "output_type": "stream",
     "text": [
      "cat 3\n",
      "window 6\n",
      "defenestrate 12\n"
     ]
    }
   ],
   "source": [
    "a = ['cat', 'window', 'defenestrate']\n",
    "for x in a:\n",
    "    print(x, len (x))"
   ]
  },
  {
   "cell_type": "code",
   "execution_count": 15,
   "id": "6c7e1702",
   "metadata": {},
   "outputs": [
    {
     "name": "stdout",
     "output_type": "stream",
     "text": [
      "1 squared is 1\n",
      "3 squared is 9\n",
      "5 squared is 25\n",
      "7 squared is 49\n",
      "9 squared is 81\n"
     ]
    }
   ],
   "source": [
    "for x in range(1, 10, 2):\n",
    "    print( x, \"squared is\", x * x)"
   ]
  },
  {
   "cell_type": "code",
   "execution_count": 17,
   "id": "a0ad8670",
   "metadata": {},
   "outputs": [
    {
     "name": "stdout",
     "output_type": "stream",
     "text": [
      "10 squared is 100\n",
      "8 squared is 64\n",
      "6 squared is 36\n",
      "4 squared is 16\n",
      "2 squared is 4\n"
     ]
    }
   ],
   "source": [
    "for x in range(10, 1, -2):\n",
    "    print( x, \"squared is\", x * x)"
   ]
  },
  {
   "cell_type": "code",
   "execution_count": 26,
   "id": "3fe0f544",
   "metadata": {},
   "outputs": [
    {
     "name": "stdout",
     "output_type": "stream",
     "text": [
      "insert integer number array 1 2 4 8 1\n",
      "8\n"
     ]
    }
   ],
   "source": [
    "num_str = input('insert integer number array ').split(' ')\n",
    "size = len(num_str)\n",
    "\n",
    "max = num_str[0]\n",
    "for count in range(0, size):\n",
    "    if(max < num_str[count]):\n",
    "        max = num_str[count]\n",
    "        \n",
    "print(max)"
   ]
  },
  {
   "cell_type": "code",
   "execution_count": 29,
   "id": "98d743a9",
   "metadata": {},
   "outputs": [
    {
     "name": "stdout",
     "output_type": "stream",
     "text": [
      "1\n",
      "5\n",
      "14\n",
      "30\n",
      "55\n",
      "91\n",
      "140\n",
      "204\n",
      "285\n",
      "385\n",
      "sum of first 10 squares is 385\n"
     ]
    }
   ],
   "source": [
    "#cumulative loop :합산 \n",
    "sum = 0\n",
    "for i in range(1, 11):\n",
    "    sum += (i * i ) #or sum += i * i\n",
    "    print(sum)\n",
    "print(\"sum of first 10 squares is\", sum)"
   ]
  },
  {
   "cell_type": "code",
   "execution_count": 32,
   "id": "1e951b80",
   "metadata": {},
   "outputs": [
    {
     "data": {
      "text/plain": [
       "(['red', 'big', 'tasty'], ['apple', 'banana', 'orange'])"
      ]
     },
     "execution_count": 32,
     "metadata": {},
     "output_type": "execute_result"
    }
   ],
   "source": [
    "#nested loop \n",
    "adj = ['red', 'big', 'tasty']\n",
    "fruits = ['apple', 'banana', 'orange']\n",
    "\n",
    "#adj, fruits #tuple로 나옴\n",
    "\n",
    "for x in adj: \n",
    "    for y in fruits: \n",
    "        print(x, y)\n",
    "   \n"
   ]
  },
  {
   "cell_type": "code",
   "execution_count": 36,
   "id": "70e06c0e",
   "metadata": {},
   "outputs": [
    {
     "name": "stdout",
     "output_type": "stream",
     "text": [
      "apple\n"
     ]
    }
   ],
   "source": [
    "fruits = [\"apple\", \"banana\", \"cherry\"]\n",
    "for x in fruits:\n",
    "    if x == \"banana\":\n",
    "        break\n",
    "    print(x)"
   ]
  },
  {
   "cell_type": "code",
   "execution_count": 42,
   "id": "a79990ef",
   "metadata": {},
   "outputs": [
    {
     "ename": "AttributeError",
     "evalue": "'list' object has no attribute 'split'",
     "output_type": "error",
     "traceback": [
      "\u001b[1;31m---------------------------------------------------------------------------\u001b[0m",
      "\u001b[1;31mAttributeError\u001b[0m                            Traceback (most recent call last)",
      "Cell \u001b[1;32mIn[42], line 2\u001b[0m\n\u001b[0;32m      1\u001b[0m \u001b[38;5;28minput\u001b[39m \u001b[38;5;241m=\u001b[39m [\u001b[38;5;241m1990\u001b[39m, \u001b[38;5;241m1991\u001b[39m, \u001b[38;5;241m1994\u001b[39m, \u001b[38;5;241m1990\u001b[39m, \u001b[38;5;241m1992\u001b[39m, \u001b[38;5;241m1996\u001b[39m]\n\u001b[1;32m----> 2\u001b[0m num \u001b[38;5;241m=\u001b[39m \u001b[38;5;28minput\u001b[39m\u001b[38;5;241m.\u001b[39msplit(\u001b[38;5;124m'\u001b[39m\u001b[38;5;124m,\u001b[39m\u001b[38;5;124m'\u001b[39m)\n\u001b[0;32m      3\u001b[0m size \u001b[38;5;241m=\u001b[39m \u001b[38;5;28mlen\u001b[39m(num)\n\u001b[0;32m      5\u001b[0m \u001b[38;5;28;01mfor\u001b[39;00m x \u001b[38;5;129;01min\u001b[39;00m \u001b[38;5;28mrange\u001b[39m(\u001b[38;5;241m0\u001b[39m,size): \n",
      "\u001b[1;31mAttributeError\u001b[0m: 'list' object has no attribute 'split'"
     ]
    }
   ],
   "source": [
    "input = [1990, 1991, 1994, 1990, 1992, 1996]\n",
    "num = input.split(',')\n",
    "size = len(num)\n",
    "\n",
    "for x in range(0,size): \n",
    "    num[x] = 2023 - num[x]\n",
    "\n",
    "print(num)\n"
   ]
  },
  {
   "cell_type": "code",
   "execution_count": 44,
   "id": "867878f7",
   "metadata": {},
   "outputs": [
    {
     "name": "stdout",
     "output_type": "stream",
     "text": [
      "[33, 32, 29, 33, 31, 27]\n"
     ]
    }
   ],
   "source": [
    "input = [1990, 1991, 1994, 1990, 1992, 1996]\n",
    "op = []\n",
    "\n",
    "for i in input: \n",
    "    op.append(2023 - i)\n",
    "    \n",
    "print(op)"
   ]
  },
  {
   "cell_type": "code",
   "execution_count": 48,
   "id": "3682768f",
   "metadata": {},
   "outputs": [
    {
     "data": {
      "text/plain": [
       "[33, 32, 29, 33, 31, 27]"
      ]
     },
     "execution_count": 48,
     "metadata": {},
     "output_type": "execute_result"
    }
   ],
   "source": [
    "year = [1990, 1991, 1994, 1990, 1992, 1996]\n",
    "age = [2023 - x for x in year]\n",
    "age"
   ]
  },
  {
   "cell_type": "code",
   "execution_count": 61,
   "id": "ce09d778",
   "metadata": {},
   "outputs": [
    {
     "name": "stdout",
     "output_type": "stream",
     "text": [
      "sum : -5\n",
      "max : 2\n"
     ]
    }
   ],
   "source": [
    "num = [1, 2, -8, 0]\n",
    "sum = 0 \n",
    "max = num[0]\n",
    "\n",
    "for i in num:\n",
    "    sum += i\n",
    "    if(max < i): \n",
    "        max = i \n",
    "    \n",
    "print(\"sum : %d\"  %sum)\n",
    "print(\"max : %d\"  %max)"
   ]
  },
  {
   "cell_type": "code",
   "execution_count": 64,
   "id": "4ff64f49",
   "metadata": {},
   "outputs": [
    {
     "ename": "NameError",
     "evalue": "name 'new_num' is not defined",
     "output_type": "error",
     "traceback": [
      "\u001b[1;31m---------------------------------------------------------------------------\u001b[0m",
      "\u001b[1;31mNameError\u001b[0m                                 Traceback (most recent call last)",
      "Cell \u001b[1;32mIn[64], line 2\u001b[0m\n\u001b[0;32m      1\u001b[0m \u001b[38;5;66;03m#데이타 타입 변환; \u001b[39;00m\n\u001b[1;32m----> 2\u001b[0m \u001b[38;5;28;01mfor\u001b[39;00m k \u001b[38;5;129;01min\u001b[39;00m \u001b[38;5;28mrange\u001b[39m(\u001b[38;5;241m0\u001b[39m,\u001b[38;5;28mlen\u001b[39m(new_num)):\n\u001b[0;32m      3\u001b[0m     num\u001b[38;5;241m.\u001b[39mpop()\n\u001b[0;32m      6\u001b[0m num \u001b[38;5;241m=\u001b[39m \u001b[38;5;28minput\u001b[39m(\u001b[38;5;124m\"\u001b[39m\u001b[38;5;124mEnter your numbers: \u001b[39m\u001b[38;5;124m\"\u001b[39m)\n",
      "\u001b[1;31mNameError\u001b[0m: name 'new_num' is not defined"
     ]
    }
   ],
   "source": [
    "#데이타 타입 변환; \n",
    "for k in range(0,len(new_num)):\n",
    "    num.pop()\n",
    "\n",
    "\n",
    "num = input(\"Enter your numbers: \")\n",
    "new_num = num.split(',')\n",
    "\n",
    "for j in range (0, len(new_num)): \n",
    "    new_num[j] = int(new_num[j])\n",
    "    \n",
    "sum = 0\n",
    "for i in range(0, len(new_num)): \n",
    "    sum += new_num[i]\n",
    "\n",
    "print(sum)"
   ]
  },
  {
   "cell_type": "code",
   "execution_count": 67,
   "id": "699f49b1",
   "metadata": {},
   "outputs": [
    {
     "ename": "TypeError",
     "evalue": "'list' object is not callable",
     "output_type": "error",
     "traceback": [
      "\u001b[1;31m---------------------------------------------------------------------------\u001b[0m",
      "\u001b[1;31mTypeError\u001b[0m                                 Traceback (most recent call last)",
      "Cell \u001b[1;32mIn[67], line 1\u001b[0m\n\u001b[1;32m----> 1\u001b[0m in_num \u001b[38;5;241m=\u001b[39m \u001b[38;5;28minput\u001b[39m(\u001b[38;5;124m\"\u001b[39m\u001b[38;5;124mEnter integer num\u001b[39m\u001b[38;5;124m\"\u001b[39m)\u001b[38;5;241m.\u001b[39msplit(\u001b[38;5;124m'\u001b[39m\u001b[38;5;124m \u001b[39m\u001b[38;5;124m'\u001b[39m)\n\u001b[0;32m      3\u001b[0m \u001b[38;5;28;01mfor\u001b[39;00m i \u001b[38;5;129;01min\u001b[39;00m \u001b[38;5;28mrange\u001b[39m (\u001b[38;5;241m0\u001b[39m, \u001b[38;5;28mlen\u001b[39m(in_num)): \n\u001b[0;32m      4\u001b[0m     in_num[i] \u001b[38;5;241m=\u001b[39m \u001b[38;5;28mint\u001b[39m(in_num[i]) \n",
      "\u001b[1;31mTypeError\u001b[0m: 'list' object is not callable"
     ]
    }
   ],
   "source": [
    "in_num = input(\"Enter integer num\").split(' ')\n",
    "\n",
    "for i in range (0, len(in_num)): \n",
    "    in_num[i] = int(in_num[i]) \n",
    "\n",
    "max = in_num[0]\n",
    "for j in range (0, len(in_num)):\n",
    "        if(max < in_num[j]): \n",
    "            max = in_num[j] \n",
    "print(max)\n",
    "    \n",
    "\n",
    "\n"
   ]
  },
  {
   "cell_type": "code",
   "execution_count": null,
   "id": "2d7b142e",
   "metadata": {},
   "outputs": [],
   "source": []
  }
 ],
 "metadata": {
  "kernelspec": {
   "display_name": "Python 3 (ipykernel)",
   "language": "python",
   "name": "python3"
  },
  "language_info": {
   "codemirror_mode": {
    "name": "ipython",
    "version": 3
   },
   "file_extension": ".py",
   "mimetype": "text/x-python",
   "name": "python",
   "nbconvert_exporter": "python",
   "pygments_lexer": "ipython3",
   "version": "3.11.3"
  }
 },
 "nbformat": 4,
 "nbformat_minor": 5
}
