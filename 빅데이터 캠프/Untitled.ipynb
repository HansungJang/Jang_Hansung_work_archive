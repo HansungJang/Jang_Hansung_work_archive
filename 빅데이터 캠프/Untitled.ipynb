{
 "cells": [
  {
   "cell_type": "code",
   "execution_count": null,
   "id": "f7e1ca80",
   "metadata": {},
   "outputs": [],
   "source": [
    "\"\"\"calculate income tax\"\"\" \n",
    "income = float(input(\"Enter the gross income: \"))\n",
    "dependents = int(input(\"Enter the number of dependents: \"))\n",
    "\n",
    "std_dec = 10000\n",
    "add_dec = 3000 * dependents\n",
    "tax = (0.2) * income - (std_dec + add_dec)\n",
    "\n",
    "print(\"The income tax is $%.2f\" % tax)"
   ]
  }
 ],
 "metadata": {
  "kernelspec": {
   "display_name": "Python 3 (ipykernel)",
   "language": "python",
   "name": "python3"
  },
  "language_info": {
   "codemirror_mode": {
    "name": "ipython",
    "version": 3
   },
   "file_extension": ".py",
   "mimetype": "text/x-python",
   "name": "python",
   "nbconvert_exporter": "python",
   "pygments_lexer": "ipython3",
   "version": "3.11.3"
  }
 },
 "nbformat": 4,
 "nbformat_minor": 5
}
