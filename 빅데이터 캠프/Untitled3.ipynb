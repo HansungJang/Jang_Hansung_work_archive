{
 "cells": [
  {
   "cell_type": "code",
   "execution_count": 1,
   "id": "221cac81",
   "metadata": {},
   "outputs": [
    {
     "data": {
      "text/plain": [
       "-9.6"
      ]
     },
     "execution_count": 1,
     "metadata": {},
     "output_type": "execute_result"
    }
   ],
   "source": [
    "2/3/5*3-10"
   ]
  },
  {
   "cell_type": "code",
   "execution_count": null,
   "id": "d9f32aa1",
   "metadata": {},
   "outputs": [],
   "source": [
    "import pandas as pd\n",
    "\n",
    "df = pd,DataFrame({\"age\"= [1, ,2, , 4, 5],\n",
    "                   \"victor\"\n",
    "                 } )"
   ]
  }
 ],
 "metadata": {
  "kernelspec": {
   "display_name": "Python 3 (ipykernel)",
   "language": "python",
   "name": "python3"
  },
  "language_info": {
   "codemirror_mode": {
    "name": "ipython",
    "version": 3
   },
   "file_extension": ".py",
   "mimetype": "text/x-python",
   "name": "python",
   "nbconvert_exporter": "python",
   "pygments_lexer": "ipython3",
   "version": "3.11.3"
  }
 },
 "nbformat": 4,
 "nbformat_minor": 5
}
