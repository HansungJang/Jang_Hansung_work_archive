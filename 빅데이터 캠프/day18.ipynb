{
 "cells": [
  {
   "cell_type": "markdown",
   "id": "dbf28f66",
   "metadata": {},
   "source": [
    "# STEP3. 데이터 시각화 "
   ]
  },
  {
   "cell_type": "code",
   "execution_count": 2,
   "id": "e90a4d3d",
   "metadata": {},
   "outputs": [
    {
     "data": {
      "text/plain": [
       "'C:\\\\Users\\\\jangs'"
      ]
     },
     "execution_count": 2,
     "metadata": {},
     "output_type": "execute_result"
    }
   ],
   "source": [
    "import numpy as np\n",
    "import pandas as pd\n",
    "import matplotlib.pyplot as plt\n",
    "import seaborn as sns\n",
    "from sklearn import datasets\n",
    "import os \n",
    "\n",
    "os.getcwd() #excel파일 불러오기위한 팡링 위치 확인 "
   ]
  },
  {
   "cell_type": "code",
   "execution_count": 3,
   "id": "ed188c8b",
   "metadata": {},
   "outputs": [],
   "source": [
    "# 파일 불러오기 \n",
    "test_data = pd.read_excel('포항시_분실물데이터_project.xlsx')"
   ]
  },
  {
   "cell_type": "code",
   "execution_count": 4,
   "id": "c28ce378",
   "metadata": {
    "scrolled": false
   },
   "outputs": [
    {
     "data": {
      "text/html": [
       "<div>\n",
       "<style scoped>\n",
       "    .dataframe tbody tr th:only-of-type {\n",
       "        vertical-align: middle;\n",
       "    }\n",
       "\n",
       "    .dataframe tbody tr th {\n",
       "        vertical-align: top;\n",
       "    }\n",
       "\n",
       "    .dataframe thead th {\n",
       "        text-align: right;\n",
       "    }\n",
       "</style>\n",
       "<table border=\"1\" class=\"dataframe\">\n",
       "  <thead>\n",
       "    <tr style=\"text-align: right;\">\n",
       "      <th></th>\n",
       "      <th>고유번호</th>\n",
       "      <th>등록날짜</th>\n",
       "      <th>분실장소</th>\n",
       "      <th>lost_place</th>\n",
       "      <th>type_stuff</th>\n",
       "      <th>type_public</th>\n",
       "    </tr>\n",
       "  </thead>\n",
       "  <tbody>\n",
       "    <tr>\n",
       "      <th>0</th>\n",
       "      <td>L2023081500000396</td>\n",
       "      <td>2023-08-15</td>\n",
       "      <td>남구 대이동 대구은행 뒤  포항정육점 근처</td>\n",
       "      <td>기타_공공기관</td>\n",
       "      <td>쇼핑백</td>\n",
       "      <td>yes</td>\n",
       "    </tr>\n",
       "    <tr>\n",
       "      <th>1</th>\n",
       "      <td>L2023081400000444</td>\n",
       "      <td>2023-08-13</td>\n",
       "      <td>포항방향 외동휴게소</td>\n",
       "      <td>기타_공공기관</td>\n",
       "      <td>지갑</td>\n",
       "      <td>yes</td>\n",
       "    </tr>\n",
       "    <tr>\n",
       "      <th>2</th>\n",
       "      <td>L2023081300000407</td>\n",
       "      <td>2023-08-12</td>\n",
       "      <td>포항영일대 홍이이자카야 스타벅스사이</td>\n",
       "      <td>임의지역</td>\n",
       "      <td>귀금속</td>\n",
       "      <td>no</td>\n",
       "    </tr>\n",
       "    <tr>\n",
       "      <th>3</th>\n",
       "      <td>L2023081200000690</td>\n",
       "      <td>2023-08-12</td>\n",
       "      <td>포항시 영일대</td>\n",
       "      <td>임의지역</td>\n",
       "      <td>휴대폰</td>\n",
       "      <td>no</td>\n",
       "    </tr>\n",
       "    <tr>\n",
       "      <th>4</th>\n",
       "      <td>L2023081100000326</td>\n",
       "      <td>2023-08-09</td>\n",
       "      <td>포항영일대해수욕장 근처</td>\n",
       "      <td>임의지역</td>\n",
       "      <td>지갑</td>\n",
       "      <td>no</td>\n",
       "    </tr>\n",
       "    <tr>\n",
       "      <th>...</th>\n",
       "      <td>...</td>\n",
       "      <td>...</td>\n",
       "      <td>...</td>\n",
       "      <td>...</td>\n",
       "      <td>...</td>\n",
       "      <td>...</td>\n",
       "    </tr>\n",
       "    <tr>\n",
       "      <th>285</th>\n",
       "      <td>L2023020200000428</td>\n",
       "      <td>2022-10-15</td>\n",
       "      <td>포항운전면허시험장 앞 노상</td>\n",
       "      <td>기타_공공기관</td>\n",
       "      <td>자동차</td>\n",
       "      <td>yes</td>\n",
       "    </tr>\n",
       "    <tr>\n",
       "      <th>286</th>\n",
       "      <td>L2023043000000193</td>\n",
       "      <td>2022-10-07</td>\n",
       "      <td>포항시내 오락실(실내 야구.사격.노래)</td>\n",
       "      <td>임의지역</td>\n",
       "      <td>지갑</td>\n",
       "      <td>no</td>\n",
       "    </tr>\n",
       "    <tr>\n",
       "      <th>287</th>\n",
       "      <td>L2023040600000462</td>\n",
       "      <td>2022-10-01</td>\n",
       "      <td>포항시 남구 상공로270, 현대오일뱅크 앞</td>\n",
       "      <td>임의지역</td>\n",
       "      <td>자동차</td>\n",
       "      <td>no</td>\n",
       "    </tr>\n",
       "    <tr>\n",
       "      <th>288</th>\n",
       "      <td>L2023041700000876</td>\n",
       "      <td>2022-09-10</td>\n",
       "      <td>포항시 남구 양포 인근 불상지</td>\n",
       "      <td>임의지역</td>\n",
       "      <td>자동차</td>\n",
       "      <td>no</td>\n",
       "    </tr>\n",
       "    <tr>\n",
       "      <th>289</th>\n",
       "      <td>L2023020200000425</td>\n",
       "      <td>2022-04-01</td>\n",
       "      <td>포항시 남구 기림사 가는길</td>\n",
       "      <td>임의지역</td>\n",
       "      <td>자동차</td>\n",
       "      <td>no</td>\n",
       "    </tr>\n",
       "  </tbody>\n",
       "</table>\n",
       "<p>290 rows × 6 columns</p>\n",
       "</div>"
      ],
      "text/plain": [
       "                  고유번호        등록날짜                     분실장소 lost_place  \\\n",
       "0    L2023081500000396  2023-08-15  남구 대이동 대구은행 뒤  포항정육점 근처    기타_공공기관   \n",
       "1    L2023081400000444  2023-08-13               포항방향 외동휴게소    기타_공공기관   \n",
       "2    L2023081300000407  2023-08-12      포항영일대 홍이이자카야 스타벅스사이       임의지역   \n",
       "3    L2023081200000690  2023-08-12                  포항시 영일대       임의지역   \n",
       "4    L2023081100000326  2023-08-09             포항영일대해수욕장 근처       임의지역   \n",
       "..                 ...         ...                      ...        ...   \n",
       "285  L2023020200000428  2022-10-15           포항운전면허시험장 앞 노상    기타_공공기관   \n",
       "286  L2023043000000193  2022-10-07    포항시내 오락실(실내 야구.사격.노래)       임의지역   \n",
       "287  L2023040600000462  2022-10-01  포항시 남구 상공로270, 현대오일뱅크 앞       임의지역   \n",
       "288  L2023041700000876  2022-09-10         포항시 남구 양포 인근 불상지       임의지역   \n",
       "289  L2023020200000425  2022-04-01           포항시 남구 기림사 가는길       임의지역   \n",
       "\n",
       "    type_stuff type_public  \n",
       "0         쇼핑백          yes  \n",
       "1          지갑          yes  \n",
       "2         귀금속           no  \n",
       "3         휴대폰           no  \n",
       "4          지갑           no  \n",
       "..         ...         ...  \n",
       "285       자동차          yes  \n",
       "286        지갑           no  \n",
       "287       자동차           no  \n",
       "288       자동차           no  \n",
       "289       자동차           no  \n",
       "\n",
       "[290 rows x 6 columns]"
      ]
     },
     "execution_count": 4,
     "metadata": {},
     "output_type": "execute_result"
    }
   ],
   "source": [
    "test_data"
   ]
  },
  {
   "cell_type": "code",
   "execution_count": 5,
   "id": "ee8659be",
   "metadata": {},
   "outputs": [
    {
     "data": {
      "text/html": [
       "<div>\n",
       "<style scoped>\n",
       "    .dataframe tbody tr th:only-of-type {\n",
       "        vertical-align: middle;\n",
       "    }\n",
       "\n",
       "    .dataframe tbody tr th {\n",
       "        vertical-align: top;\n",
       "    }\n",
       "\n",
       "    .dataframe thead th {\n",
       "        text-align: right;\n",
       "    }\n",
       "</style>\n",
       "<table border=\"1\" class=\"dataframe\">\n",
       "  <thead>\n",
       "    <tr style=\"text-align: right;\">\n",
       "      <th></th>\n",
       "      <th>고유번호</th>\n",
       "      <th>등록날짜</th>\n",
       "      <th>분실장소</th>\n",
       "      <th>lost_place</th>\n",
       "      <th>type_stuff</th>\n",
       "      <th>type_public</th>\n",
       "    </tr>\n",
       "  </thead>\n",
       "  <tbody>\n",
       "  </tbody>\n",
       "</table>\n",
       "</div>"
      ],
      "text/plain": [
       "Empty DataFrame\n",
       "Columns: [고유번호, 등록날짜, 분실장소, lost_place, type_stuff, type_public]\n",
       "Index: []"
      ]
     },
     "execution_count": 5,
     "metadata": {},
     "output_type": "execute_result"
    }
   ],
   "source": [
    "# 중복되는 값 확인\n",
    "#조건식을 활용하여 데이터 선별 : 중복 값 없음 \n",
    "result = test_data.groupby('고유번호').filter(lambda group: len(group) > 1)\n",
    "result"
   ]
  },
  {
   "cell_type": "code",
   "execution_count": 6,
   "id": "d6884536",
   "metadata": {
    "scrolled": false
   },
   "outputs": [
    {
     "data": {
      "text/plain": [
       "고유번호           0\n",
       "등록날짜           0\n",
       "분실장소           0\n",
       "lost_place     0\n",
       "type_stuff     0\n",
       "type_public    0\n",
       "dtype: int64"
      ]
     },
     "execution_count": 6,
     "metadata": {},
     "output_type": "execute_result"
    }
   ],
   "source": [
    "# 결측치 확인 \n",
    "test_data.isna().sum()"
   ]
  },
  {
   "cell_type": "markdown",
   "id": "dc6c4ece",
   "metadata": {},
   "source": [
    "# STEP3. 데이터 시각화 "
   ]
  },
  {
   "cell_type": "markdown",
   "id": "585764a9",
   "metadata": {},
   "source": [
    "# 데이터 인코딩"
   ]
  },
  {
   "cell_type": "code",
   "execution_count": 7,
   "id": "63a0142c",
   "metadata": {},
   "outputs": [
    {
     "data": {
      "text/plain": [
       "고유번호           object\n",
       "등록날짜           object\n",
       "분실장소           object\n",
       "lost_place     object\n",
       "type_stuff     object\n",
       "type_public    object\n",
       "dtype: object"
      ]
     },
     "execution_count": 7,
     "metadata": {},
     "output_type": "execute_result"
    }
   ],
   "source": [
    "# 데이터 자료형 확인 \n",
    "test_data.dtypes"
   ]
  },
  {
   "cell_type": "markdown",
   "id": "7cf5cf57",
   "metadata": {},
   "source": [
    "# 1)'고유번호' -> index로 전환 \n",
    "# 2)'등록날짜' -> '-'split하여 합치기 \n",
    "# 3)'분실장소' -> type_public : (yes:1, no:0)\n",
    "# 4)'type_stuff' -> 유형 수치화 "
   ]
  },
  {
   "cell_type": "markdown",
   "id": "0ac7c273",
   "metadata": {},
   "source": [
    "# 1)'고유번호' -> index로 전환 "
   ]
  },
  {
   "cell_type": "code",
   "execution_count": 8,
   "id": "09e2d58e",
   "metadata": {},
   "outputs": [],
   "source": [
    "test_data.set_index('고유번호', inplace=True)"
   ]
  },
  {
   "cell_type": "code",
   "execution_count": null,
   "id": "5886d7eb",
   "metadata": {},
   "outputs": [],
   "source": [
    "test_data"
   ]
  },
  {
   "cell_type": "markdown",
   "id": "cb14a97b",
   "metadata": {},
   "source": [
    "# 2)'등록날짜' -> '-'split하여 합치기 "
   ]
  },
  {
   "cell_type": "code",
   "execution_count": 10,
   "id": "51902cc2",
   "metadata": {
    "scrolled": true
   },
   "outputs": [
    {
     "data": {
      "text/plain": [
       "고유번호\n",
       "L2023081500000396    [2023, 08, 15]\n",
       "L2023081400000444    [2023, 08, 13]\n",
       "L2023081300000407    [2023, 08, 12]\n",
       "L2023081200000690    [2023, 08, 12]\n",
       "L2023081100000326    [2023, 08, 09]\n",
       "                          ...      \n",
       "L2023020200000428    [2022, 10, 15]\n",
       "L2023043000000193    [2022, 10, 07]\n",
       "L2023040600000462    [2022, 10, 01]\n",
       "L2023041700000876    [2022, 09, 10]\n",
       "L2023020200000425    [2022, 04, 01]\n",
       "Name: 등록날짜, Length: 290, dtype: object"
      ]
     },
     "execution_count": 10,
     "metadata": {},
     "output_type": "execute_result"
    }
   ],
   "source": [
    "#등록 날짜 나누기 \n",
    "date = test_data['등록날짜']\n",
    "\n",
    "for i in range(len(test_data)):\n",
    "    date[i] = date[i].split('-')\n",
    "date"
   ]
  },
  {
   "cell_type": "code",
   "execution_count": 11,
   "id": "da0bc7a1",
   "metadata": {},
   "outputs": [
    {
     "data": {
      "text/plain": [
       "고유번호\n",
       "L2023081500000396    20230815\n",
       "L2023081400000444    20230813\n",
       "L2023081300000407    20230812\n",
       "L2023081200000690    20230812\n",
       "L2023081100000326    20230809\n",
       "                       ...   \n",
       "L2023020200000428    20221015\n",
       "L2023043000000193    20221007\n",
       "L2023040600000462    20221001\n",
       "L2023041700000876    20220910\n",
       "L2023020200000425    20220401\n",
       "Name: 등록날짜, Length: 290, dtype: object"
      ]
     },
     "execution_count": 11,
     "metadata": {},
     "output_type": "execute_result"
    }
   ],
   "source": [
    "#나눈일자 합치기 (.join)\n",
    "for i in range(len(test_data)):\n",
    "    date[i] = ''.join(date[i])\n",
    "date"
   ]
  },
  {
   "cell_type": "code",
   "execution_count": 12,
   "id": "bd19fb7f",
   "metadata": {},
   "outputs": [
    {
     "data": {
      "text/plain": [
       "290"
      ]
     },
     "execution_count": 12,
     "metadata": {},
     "output_type": "execute_result"
    }
   ],
   "source": [
    "# 자료형 변환 (object->int)\n",
    "new_date = []\n",
    "for i in range(len(test_data)):\n",
    "     new_date.append(int(str(date[i])))\n",
    "len(new_date)"
   ]
  },
  {
   "cell_type": "code",
   "execution_count": 13,
   "id": "6151531a",
   "metadata": {},
   "outputs": [],
   "source": [
    "test_data['register_date'] = new_date"
   ]
  },
  {
   "cell_type": "code",
   "execution_count": 14,
   "id": "39253ebd",
   "metadata": {},
   "outputs": [
    {
     "data": {
      "text/plain": [
       "등록날짜             object\n",
       "분실장소             object\n",
       "lost_place       object\n",
       "type_stuff       object\n",
       "type_public      object\n",
       "register_date     int64\n",
       "dtype: object"
      ]
     },
     "execution_count": 14,
     "metadata": {},
     "output_type": "execute_result"
    }
   ],
   "source": [
    "test_data.dtypes"
   ]
  },
  {
   "cell_type": "code",
   "execution_count": 15,
   "id": "27d4a51f",
   "metadata": {},
   "outputs": [],
   "source": [
    "test_data.drop(['등록날짜'],axis=1,inplace=True)"
   ]
  },
  {
   "cell_type": "markdown",
   "id": "a0453eca",
   "metadata": {},
   "source": [
    "# 3)'분실장소' -> type_public : (yes:1, no:0)"
   ]
  },
  {
   "cell_type": "code",
   "execution_count": 16,
   "id": "f1b52672",
   "metadata": {},
   "outputs": [],
   "source": [
    "#인코딩 \n",
    "test_data.type_public.replace({'yes': 1, 'no': 0}, inplace=True) "
   ]
  },
  {
   "cell_type": "code",
   "execution_count": 17,
   "id": "7f1e6267",
   "metadata": {},
   "outputs": [
    {
     "data": {
      "text/html": [
       "<div>\n",
       "<style scoped>\n",
       "    .dataframe tbody tr th:only-of-type {\n",
       "        vertical-align: middle;\n",
       "    }\n",
       "\n",
       "    .dataframe tbody tr th {\n",
       "        vertical-align: top;\n",
       "    }\n",
       "\n",
       "    .dataframe thead th {\n",
       "        text-align: right;\n",
       "    }\n",
       "</style>\n",
       "<table border=\"1\" class=\"dataframe\">\n",
       "  <thead>\n",
       "    <tr style=\"text-align: right;\">\n",
       "      <th></th>\n",
       "      <th>분실장소</th>\n",
       "      <th>lost_place</th>\n",
       "      <th>type_stuff</th>\n",
       "      <th>type_public</th>\n",
       "      <th>register_date</th>\n",
       "    </tr>\n",
       "    <tr>\n",
       "      <th>고유번호</th>\n",
       "      <th></th>\n",
       "      <th></th>\n",
       "      <th></th>\n",
       "      <th></th>\n",
       "      <th></th>\n",
       "    </tr>\n",
       "  </thead>\n",
       "  <tbody>\n",
       "    <tr>\n",
       "      <th>L2023081500000396</th>\n",
       "      <td>남구 대이동 대구은행 뒤  포항정육점 근처</td>\n",
       "      <td>기타_공공기관</td>\n",
       "      <td>쇼핑백</td>\n",
       "      <td>1</td>\n",
       "      <td>20230815</td>\n",
       "    </tr>\n",
       "    <tr>\n",
       "      <th>L2023081400000444</th>\n",
       "      <td>포항방향 외동휴게소</td>\n",
       "      <td>기타_공공기관</td>\n",
       "      <td>지갑</td>\n",
       "      <td>1</td>\n",
       "      <td>20230813</td>\n",
       "    </tr>\n",
       "    <tr>\n",
       "      <th>L2023081300000407</th>\n",
       "      <td>포항영일대 홍이이자카야 스타벅스사이</td>\n",
       "      <td>임의지역</td>\n",
       "      <td>귀금속</td>\n",
       "      <td>0</td>\n",
       "      <td>20230812</td>\n",
       "    </tr>\n",
       "    <tr>\n",
       "      <th>L2023081200000690</th>\n",
       "      <td>포항시 영일대</td>\n",
       "      <td>임의지역</td>\n",
       "      <td>휴대폰</td>\n",
       "      <td>0</td>\n",
       "      <td>20230812</td>\n",
       "    </tr>\n",
       "    <tr>\n",
       "      <th>L2023081100000326</th>\n",
       "      <td>포항영일대해수욕장 근처</td>\n",
       "      <td>임의지역</td>\n",
       "      <td>지갑</td>\n",
       "      <td>0</td>\n",
       "      <td>20230809</td>\n",
       "    </tr>\n",
       "    <tr>\n",
       "      <th>...</th>\n",
       "      <td>...</td>\n",
       "      <td>...</td>\n",
       "      <td>...</td>\n",
       "      <td>...</td>\n",
       "      <td>...</td>\n",
       "    </tr>\n",
       "    <tr>\n",
       "      <th>L2023020200000428</th>\n",
       "      <td>포항운전면허시험장 앞 노상</td>\n",
       "      <td>기타_공공기관</td>\n",
       "      <td>자동차</td>\n",
       "      <td>1</td>\n",
       "      <td>20221015</td>\n",
       "    </tr>\n",
       "    <tr>\n",
       "      <th>L2023043000000193</th>\n",
       "      <td>포항시내 오락실(실내 야구.사격.노래)</td>\n",
       "      <td>임의지역</td>\n",
       "      <td>지갑</td>\n",
       "      <td>0</td>\n",
       "      <td>20221007</td>\n",
       "    </tr>\n",
       "    <tr>\n",
       "      <th>L2023040600000462</th>\n",
       "      <td>포항시 남구 상공로270, 현대오일뱅크 앞</td>\n",
       "      <td>임의지역</td>\n",
       "      <td>자동차</td>\n",
       "      <td>0</td>\n",
       "      <td>20221001</td>\n",
       "    </tr>\n",
       "    <tr>\n",
       "      <th>L2023041700000876</th>\n",
       "      <td>포항시 남구 양포 인근 불상지</td>\n",
       "      <td>임의지역</td>\n",
       "      <td>자동차</td>\n",
       "      <td>0</td>\n",
       "      <td>20220910</td>\n",
       "    </tr>\n",
       "    <tr>\n",
       "      <th>L2023020200000425</th>\n",
       "      <td>포항시 남구 기림사 가는길</td>\n",
       "      <td>임의지역</td>\n",
       "      <td>자동차</td>\n",
       "      <td>0</td>\n",
       "      <td>20220401</td>\n",
       "    </tr>\n",
       "  </tbody>\n",
       "</table>\n",
       "<p>290 rows × 5 columns</p>\n",
       "</div>"
      ],
      "text/plain": [
       "                                      분실장소 lost_place type_stuff  type_public  \\\n",
       "고유번호                                                                            \n",
       "L2023081500000396  남구 대이동 대구은행 뒤  포항정육점 근처    기타_공공기관       쇼핑백             1   \n",
       "L2023081400000444               포항방향 외동휴게소    기타_공공기관        지갑             1   \n",
       "L2023081300000407      포항영일대 홍이이자카야 스타벅스사이       임의지역       귀금속             0   \n",
       "L2023081200000690                  포항시 영일대       임의지역       휴대폰             0   \n",
       "L2023081100000326             포항영일대해수욕장 근처       임의지역        지갑             0   \n",
       "...                                    ...        ...        ...          ...   \n",
       "L2023020200000428           포항운전면허시험장 앞 노상    기타_공공기관       자동차             1   \n",
       "L2023043000000193    포항시내 오락실(실내 야구.사격.노래)       임의지역        지갑             0   \n",
       "L2023040600000462  포항시 남구 상공로270, 현대오일뱅크 앞       임의지역       자동차             0   \n",
       "L2023041700000876         포항시 남구 양포 인근 불상지       임의지역       자동차             0   \n",
       "L2023020200000425           포항시 남구 기림사 가는길       임의지역       자동차             0   \n",
       "\n",
       "                   register_date  \n",
       "고유번호                              \n",
       "L2023081500000396       20230815  \n",
       "L2023081400000444       20230813  \n",
       "L2023081300000407       20230812  \n",
       "L2023081200000690       20230812  \n",
       "L2023081100000326       20230809  \n",
       "...                          ...  \n",
       "L2023020200000428       20221015  \n",
       "L2023043000000193       20221007  \n",
       "L2023040600000462       20221001  \n",
       "L2023041700000876       20220910  \n",
       "L2023020200000425       20220401  \n",
       "\n",
       "[290 rows x 5 columns]"
      ]
     },
     "execution_count": 17,
     "metadata": {},
     "output_type": "execute_result"
    }
   ],
   "source": [
    "test_data"
   ]
  },
  {
   "cell_type": "code",
   "execution_count": 18,
   "id": "93baccbe",
   "metadata": {},
   "outputs": [
    {
     "data": {
      "text/plain": [
       "분실장소             object\n",
       "lost_place       object\n",
       "type_stuff       object\n",
       "type_public       int64\n",
       "register_date     int64\n",
       "dtype: object"
      ]
     },
     "execution_count": 18,
     "metadata": {},
     "output_type": "execute_result"
    }
   ],
   "source": [
    "test_data.dtypes"
   ]
  },
  {
   "cell_type": "markdown",
   "id": "7da9abe3",
   "metadata": {},
   "source": [
    "# 3 -1) 분실장소(기차:1, 버스:2, 택시:3, 기타 공공기관:4 , 확인 불가지역:0)"
   ]
  },
  {
   "cell_type": "code",
   "execution_count": 19,
   "id": "ad2e27ca",
   "metadata": {},
   "outputs": [],
   "source": [
    "# 분실장소 encoding을 위해 단일화 (중복되는 데이터 삭제)\n",
    "test_data.drop(['분실장소'], axis=1, inplace=True)"
   ]
  },
  {
   "cell_type": "code",
   "execution_count": 20,
   "id": "6e5057ed",
   "metadata": {},
   "outputs": [
    {
     "data": {
      "text/html": [
       "<div>\n",
       "<style scoped>\n",
       "    .dataframe tbody tr th:only-of-type {\n",
       "        vertical-align: middle;\n",
       "    }\n",
       "\n",
       "    .dataframe tbody tr th {\n",
       "        vertical-align: top;\n",
       "    }\n",
       "\n",
       "    .dataframe thead th {\n",
       "        text-align: right;\n",
       "    }\n",
       "</style>\n",
       "<table border=\"1\" class=\"dataframe\">\n",
       "  <thead>\n",
       "    <tr style=\"text-align: right;\">\n",
       "      <th></th>\n",
       "      <th>type_stuff</th>\n",
       "      <th>type_public</th>\n",
       "      <th>register_date</th>\n",
       "    </tr>\n",
       "    <tr>\n",
       "      <th>lost_place</th>\n",
       "      <th></th>\n",
       "      <th></th>\n",
       "      <th></th>\n",
       "    </tr>\n",
       "  </thead>\n",
       "  <tbody>\n",
       "    <tr>\n",
       "      <th>기차</th>\n",
       "      <td>10</td>\n",
       "      <td>10</td>\n",
       "      <td>10</td>\n",
       "    </tr>\n",
       "    <tr>\n",
       "      <th>기타_공공기관</th>\n",
       "      <td>29</td>\n",
       "      <td>29</td>\n",
       "      <td>29</td>\n",
       "    </tr>\n",
       "    <tr>\n",
       "      <th>버스</th>\n",
       "      <td>33</td>\n",
       "      <td>33</td>\n",
       "      <td>33</td>\n",
       "    </tr>\n",
       "    <tr>\n",
       "      <th>임의지역</th>\n",
       "      <td>213</td>\n",
       "      <td>213</td>\n",
       "      <td>213</td>\n",
       "    </tr>\n",
       "    <tr>\n",
       "      <th>택시</th>\n",
       "      <td>5</td>\n",
       "      <td>5</td>\n",
       "      <td>5</td>\n",
       "    </tr>\n",
       "  </tbody>\n",
       "</table>\n",
       "</div>"
      ],
      "text/plain": [
       "            type_stuff  type_public  register_date\n",
       "lost_place                                        \n",
       "기차                  10           10             10\n",
       "기타_공공기관             29           29             29\n",
       "버스                  33           33             33\n",
       "임의지역               213          213            213\n",
       "택시                   5            5              5"
      ]
     },
     "execution_count": 20,
     "metadata": {},
     "output_type": "execute_result"
    }
   ],
   "source": [
    "test_data.groupby('lost_place').count() # encoding 변수의 갯수 확인 "
   ]
  },
  {
   "cell_type": "code",
   "execution_count": 21,
   "id": "35d65beb",
   "metadata": {},
   "outputs": [],
   "source": [
    "#인코딩 \n",
    "test_data.lost_place.replace({'기차': 1,'버스': 2,'택시': 3,'기타_공공기관': 4, '임의지역': 0}, inplace=True) "
   ]
  },
  {
   "cell_type": "markdown",
   "id": "1bb7b65a",
   "metadata": {},
   "source": [
    "# 3 -2) 분실물품 종류"
   ]
  },
  {
   "cell_type": "code",
   "execution_count": 22,
   "id": "162ef62b",
   "metadata": {},
   "outputs": [
    {
     "data": {
      "text/html": [
       "<div>\n",
       "<style scoped>\n",
       "    .dataframe tbody tr th:only-of-type {\n",
       "        vertical-align: middle;\n",
       "    }\n",
       "\n",
       "    .dataframe tbody tr th {\n",
       "        vertical-align: top;\n",
       "    }\n",
       "\n",
       "    .dataframe thead th {\n",
       "        text-align: right;\n",
       "    }\n",
       "</style>\n",
       "<table border=\"1\" class=\"dataframe\">\n",
       "  <thead>\n",
       "    <tr style=\"text-align: right;\">\n",
       "      <th></th>\n",
       "      <th>lost_place</th>\n",
       "      <th>type_public</th>\n",
       "      <th>register_date</th>\n",
       "    </tr>\n",
       "    <tr>\n",
       "      <th>type_stuff</th>\n",
       "      <th></th>\n",
       "      <th></th>\n",
       "      <th></th>\n",
       "    </tr>\n",
       "  </thead>\n",
       "  <tbody>\n",
       "    <tr>\n",
       "      <th>가방</th>\n",
       "      <td>15</td>\n",
       "      <td>15</td>\n",
       "      <td>15</td>\n",
       "    </tr>\n",
       "    <tr>\n",
       "      <th>귀금속</th>\n",
       "      <td>12</td>\n",
       "      <td>12</td>\n",
       "      <td>12</td>\n",
       "    </tr>\n",
       "    <tr>\n",
       "      <th>기타물품</th>\n",
       "      <td>6</td>\n",
       "      <td>6</td>\n",
       "      <td>6</td>\n",
       "    </tr>\n",
       "    <tr>\n",
       "      <th>산업용품</th>\n",
       "      <td>1</td>\n",
       "      <td>1</td>\n",
       "      <td>1</td>\n",
       "    </tr>\n",
       "    <tr>\n",
       "      <th>서류</th>\n",
       "      <td>6</td>\n",
       "      <td>6</td>\n",
       "      <td>6</td>\n",
       "    </tr>\n",
       "    <tr>\n",
       "      <th>쇼핑백</th>\n",
       "      <td>1</td>\n",
       "      <td>1</td>\n",
       "      <td>1</td>\n",
       "    </tr>\n",
       "    <tr>\n",
       "      <th>스포츠용품</th>\n",
       "      <td>5</td>\n",
       "      <td>5</td>\n",
       "      <td>5</td>\n",
       "    </tr>\n",
       "    <tr>\n",
       "      <th>악기</th>\n",
       "      <td>1</td>\n",
       "      <td>1</td>\n",
       "      <td>1</td>\n",
       "    </tr>\n",
       "    <tr>\n",
       "      <th>유가증권</th>\n",
       "      <td>3</td>\n",
       "      <td>3</td>\n",
       "      <td>3</td>\n",
       "    </tr>\n",
       "    <tr>\n",
       "      <th>유류품</th>\n",
       "      <td>1</td>\n",
       "      <td>1</td>\n",
       "      <td>1</td>\n",
       "    </tr>\n",
       "    <tr>\n",
       "      <th>의류</th>\n",
       "      <td>4</td>\n",
       "      <td>4</td>\n",
       "      <td>4</td>\n",
       "    </tr>\n",
       "    <tr>\n",
       "      <th>자동차</th>\n",
       "      <td>64</td>\n",
       "      <td>64</td>\n",
       "      <td>64</td>\n",
       "    </tr>\n",
       "    <tr>\n",
       "      <th>전자기기</th>\n",
       "      <td>12</td>\n",
       "      <td>12</td>\n",
       "      <td>12</td>\n",
       "    </tr>\n",
       "    <tr>\n",
       "      <th>증명서</th>\n",
       "      <td>23</td>\n",
       "      <td>23</td>\n",
       "      <td>23</td>\n",
       "    </tr>\n",
       "    <tr>\n",
       "      <th>지갑</th>\n",
       "      <td>88</td>\n",
       "      <td>88</td>\n",
       "      <td>88</td>\n",
       "    </tr>\n",
       "    <tr>\n",
       "      <th>카드</th>\n",
       "      <td>1</td>\n",
       "      <td>1</td>\n",
       "      <td>1</td>\n",
       "    </tr>\n",
       "    <tr>\n",
       "      <th>컴퓨터</th>\n",
       "      <td>2</td>\n",
       "      <td>2</td>\n",
       "      <td>2</td>\n",
       "    </tr>\n",
       "    <tr>\n",
       "      <th>현금</th>\n",
       "      <td>4</td>\n",
       "      <td>4</td>\n",
       "      <td>4</td>\n",
       "    </tr>\n",
       "    <tr>\n",
       "      <th>휴대폰</th>\n",
       "      <td>41</td>\n",
       "      <td>41</td>\n",
       "      <td>41</td>\n",
       "    </tr>\n",
       "  </tbody>\n",
       "</table>\n",
       "</div>"
      ],
      "text/plain": [
       "            lost_place  type_public  register_date\n",
       "type_stuff                                        \n",
       "가방                  15           15             15\n",
       "귀금속                 12           12             12\n",
       "기타물품                 6            6              6\n",
       "산업용품                 1            1              1\n",
       "서류                   6            6              6\n",
       "쇼핑백                  1            1              1\n",
       "스포츠용품                5            5              5\n",
       "악기                   1            1              1\n",
       "유가증권                 3            3              3\n",
       "유류품                  1            1              1\n",
       "의류                   4            4              4\n",
       "자동차                 64           64             64\n",
       "전자기기                12           12             12\n",
       "증명서                 23           23             23\n",
       "지갑                  88           88             88\n",
       "카드                   1            1              1\n",
       "컴퓨터                  2            2              2\n",
       "현금                   4            4              4\n",
       "휴대폰                 41           41             41"
      ]
     },
     "execution_count": 22,
     "metadata": {},
     "output_type": "execute_result"
    }
   ],
   "source": [
    "test_data.groupby('type_stuff').count() # encoding 변수의 갯수 확인 "
   ]
  },
  {
   "cell_type": "code",
   "execution_count": 23,
   "id": "385ca3a9",
   "metadata": {
    "scrolled": true
   },
   "outputs": [
    {
     "name": "stdout",
     "output_type": "stream",
     "text": [
      "                   lost_place  type_stuff  type_public  register_date\n",
      "고유번호                                                                 \n",
      "L2023081500000396           4           5            1       20230815\n",
      "L2023081400000444           4          14            1       20230813\n",
      "L2023081300000407           0           1            0       20230812\n",
      "L2023081200000690           0          18            0       20230812\n",
      "L2023081100000326           0          14            0       20230809\n",
      "...                       ...         ...          ...            ...\n",
      "L2023020200000428           4          11            1       20221015\n",
      "L2023043000000193           0          14            0       20221007\n",
      "L2023040600000462           0          11            0       20221001\n",
      "L2023041700000876           0          11            0       20220910\n",
      "L2023020200000425           0          11            0       20220401\n",
      "\n",
      "[290 rows x 4 columns]\n"
     ]
    }
   ],
   "source": [
    "# object type의 자료형에 대해서 정수형으로 변환\n",
    "from sklearn.preprocessing import LabelEncoder\n",
    "\n",
    "# LabelEncoder 인스턴스 생성\n",
    "label_encoder = LabelEncoder()\n",
    "\n",
    "# 모든 오브젝트 타입 열에 대해 레이블 인코딩 수행\n",
    "for column in test_data.select_dtypes(include=['object']).columns:\n",
    "    test_data[column] = label_encoder.fit_transform(test_data[column])\n",
    "\n",
    "print(test_data)"
   ]
  },
  {
   "cell_type": "code",
   "execution_count": 24,
   "id": "7a198364",
   "metadata": {},
   "outputs": [
    {
     "data": {
      "text/plain": [
       "lost_place       int64\n",
       "type_stuff       int32\n",
       "type_public      int64\n",
       "register_date    int64\n",
       "dtype: object"
      ]
     },
     "execution_count": 24,
     "metadata": {},
     "output_type": "execute_result"
    }
   ],
   "source": [
    "test_data.dtypes"
   ]
  },
  {
   "cell_type": "code",
   "execution_count": 25,
   "id": "f43b5fa0",
   "metadata": {},
   "outputs": [
    {
     "data": {
      "text/html": [
       "<div>\n",
       "<style scoped>\n",
       "    .dataframe tbody tr th:only-of-type {\n",
       "        vertical-align: middle;\n",
       "    }\n",
       "\n",
       "    .dataframe tbody tr th {\n",
       "        vertical-align: top;\n",
       "    }\n",
       "\n",
       "    .dataframe thead th {\n",
       "        text-align: right;\n",
       "    }\n",
       "</style>\n",
       "<table border=\"1\" class=\"dataframe\">\n",
       "  <thead>\n",
       "    <tr style=\"text-align: right;\">\n",
       "      <th></th>\n",
       "      <th>lost_place</th>\n",
       "      <th>type_public</th>\n",
       "      <th>register_date</th>\n",
       "    </tr>\n",
       "    <tr>\n",
       "      <th>type_stuff</th>\n",
       "      <th></th>\n",
       "      <th></th>\n",
       "      <th></th>\n",
       "    </tr>\n",
       "  </thead>\n",
       "  <tbody>\n",
       "    <tr>\n",
       "      <th>0</th>\n",
       "      <td>15</td>\n",
       "      <td>15</td>\n",
       "      <td>15</td>\n",
       "    </tr>\n",
       "    <tr>\n",
       "      <th>1</th>\n",
       "      <td>12</td>\n",
       "      <td>12</td>\n",
       "      <td>12</td>\n",
       "    </tr>\n",
       "    <tr>\n",
       "      <th>2</th>\n",
       "      <td>6</td>\n",
       "      <td>6</td>\n",
       "      <td>6</td>\n",
       "    </tr>\n",
       "    <tr>\n",
       "      <th>3</th>\n",
       "      <td>1</td>\n",
       "      <td>1</td>\n",
       "      <td>1</td>\n",
       "    </tr>\n",
       "    <tr>\n",
       "      <th>4</th>\n",
       "      <td>6</td>\n",
       "      <td>6</td>\n",
       "      <td>6</td>\n",
       "    </tr>\n",
       "    <tr>\n",
       "      <th>5</th>\n",
       "      <td>1</td>\n",
       "      <td>1</td>\n",
       "      <td>1</td>\n",
       "    </tr>\n",
       "    <tr>\n",
       "      <th>6</th>\n",
       "      <td>5</td>\n",
       "      <td>5</td>\n",
       "      <td>5</td>\n",
       "    </tr>\n",
       "    <tr>\n",
       "      <th>7</th>\n",
       "      <td>1</td>\n",
       "      <td>1</td>\n",
       "      <td>1</td>\n",
       "    </tr>\n",
       "    <tr>\n",
       "      <th>8</th>\n",
       "      <td>3</td>\n",
       "      <td>3</td>\n",
       "      <td>3</td>\n",
       "    </tr>\n",
       "    <tr>\n",
       "      <th>9</th>\n",
       "      <td>1</td>\n",
       "      <td>1</td>\n",
       "      <td>1</td>\n",
       "    </tr>\n",
       "    <tr>\n",
       "      <th>10</th>\n",
       "      <td>4</td>\n",
       "      <td>4</td>\n",
       "      <td>4</td>\n",
       "    </tr>\n",
       "    <tr>\n",
       "      <th>11</th>\n",
       "      <td>64</td>\n",
       "      <td>64</td>\n",
       "      <td>64</td>\n",
       "    </tr>\n",
       "    <tr>\n",
       "      <th>12</th>\n",
       "      <td>12</td>\n",
       "      <td>12</td>\n",
       "      <td>12</td>\n",
       "    </tr>\n",
       "    <tr>\n",
       "      <th>13</th>\n",
       "      <td>23</td>\n",
       "      <td>23</td>\n",
       "      <td>23</td>\n",
       "    </tr>\n",
       "    <tr>\n",
       "      <th>14</th>\n",
       "      <td>88</td>\n",
       "      <td>88</td>\n",
       "      <td>88</td>\n",
       "    </tr>\n",
       "    <tr>\n",
       "      <th>15</th>\n",
       "      <td>1</td>\n",
       "      <td>1</td>\n",
       "      <td>1</td>\n",
       "    </tr>\n",
       "    <tr>\n",
       "      <th>16</th>\n",
       "      <td>2</td>\n",
       "      <td>2</td>\n",
       "      <td>2</td>\n",
       "    </tr>\n",
       "    <tr>\n",
       "      <th>17</th>\n",
       "      <td>4</td>\n",
       "      <td>4</td>\n",
       "      <td>4</td>\n",
       "    </tr>\n",
       "    <tr>\n",
       "      <th>18</th>\n",
       "      <td>41</td>\n",
       "      <td>41</td>\n",
       "      <td>41</td>\n",
       "    </tr>\n",
       "  </tbody>\n",
       "</table>\n",
       "</div>"
      ],
      "text/plain": [
       "            lost_place  type_public  register_date\n",
       "type_stuff                                        \n",
       "0                   15           15             15\n",
       "1                   12           12             12\n",
       "2                    6            6              6\n",
       "3                    1            1              1\n",
       "4                    6            6              6\n",
       "5                    1            1              1\n",
       "6                    5            5              5\n",
       "7                    1            1              1\n",
       "8                    3            3              3\n",
       "9                    1            1              1\n",
       "10                   4            4              4\n",
       "11                  64           64             64\n",
       "12                  12           12             12\n",
       "13                  23           23             23\n",
       "14                  88           88             88\n",
       "15                   1            1              1\n",
       "16                   2            2              2\n",
       "17                   4            4              4\n",
       "18                  41           41             41"
      ]
     },
     "execution_count": 25,
     "metadata": {},
     "output_type": "execute_result"
    }
   ],
   "source": [
    "test_data.groupby('type_stuff').count() "
   ]
  },
  {
   "cell_type": "code",
   "execution_count": 28,
   "id": "019b4430",
   "metadata": {},
   "outputs": [
    {
     "data": {
      "text/plain": [
       "\" \\n- encoding된 값 -\\n'가방' : 0, \\t\\n'귀금속' : 1,\\t\\n'기타물품' : 2,\\t\\n'산업용품' :3,\\t\\n'서류' :4,\\t\\n'쇼핑백' :5,\\t\\n'스포츠용품':6,\\t\\n'악기':7,\\t\\t\\n'유가증권':8,\\t\\t\\n'유류품':9,\\t\\t\\n'의류':10,\\t\\t\\n'자동차':11,\\t\\t\\n'전자기기':12,\\t\\t\\n'증명서':13,\\t\\t\\n'지갑':14,\\t\\t\\n'카드':15,\\t\\t\\n'컴퓨터':16,\\t\\t\\n'현금':17,\\t\\t\\n'휴대폰':':18\\t\\n\\n\""
      ]
     },
     "execution_count": 28,
     "metadata": {},
     "output_type": "execute_result"
    }
   ],
   "source": [
    "''' \n",
    "- encoding된 값 -\n",
    "'가방' : 0, \t\n",
    "'귀금속' : 1,\t\n",
    "'기타물품' : 2,\t\n",
    "'산업용품' :3,\t\n",
    "'서류' :4,\t\n",
    "'쇼핑백' :5,\t\n",
    "'스포츠용품':6,\t\n",
    "'악기':7,\t\t\n",
    "'유가증권':8,\t\t\n",
    "'유류품':9,\t\t\n",
    "'의류':10,\t\t\n",
    "'자동차':11,\t\t\n",
    "'전자기기':12,\t\t\n",
    "'증명서':13,\t\t\n",
    "'지갑':14,\t\t\n",
    "'카드':15,\t\t\n",
    "'컴퓨터':16,\t\t\n",
    "'현금':17,\t\t\n",
    "'휴대폰':':18\t\n",
    "\n",
    "'''"
   ]
  },
  {
   "cell_type": "code",
   "execution_count": 29,
   "id": "c68d6b61",
   "metadata": {},
   "outputs": [
    {
     "data": {
      "text/html": [
       "<div>\n",
       "<style scoped>\n",
       "    .dataframe tbody tr th:only-of-type {\n",
       "        vertical-align: middle;\n",
       "    }\n",
       "\n",
       "    .dataframe tbody tr th {\n",
       "        vertical-align: top;\n",
       "    }\n",
       "\n",
       "    .dataframe thead th {\n",
       "        text-align: right;\n",
       "    }\n",
       "</style>\n",
       "<table border=\"1\" class=\"dataframe\">\n",
       "  <thead>\n",
       "    <tr style=\"text-align: right;\">\n",
       "      <th></th>\n",
       "      <th>lost_place</th>\n",
       "      <th>type_stuff</th>\n",
       "      <th>type_public</th>\n",
       "      <th>register_date</th>\n",
       "    </tr>\n",
       "    <tr>\n",
       "      <th>고유번호</th>\n",
       "      <th></th>\n",
       "      <th></th>\n",
       "      <th></th>\n",
       "      <th></th>\n",
       "    </tr>\n",
       "  </thead>\n",
       "  <tbody>\n",
       "    <tr>\n",
       "      <th>L2023081500000396</th>\n",
       "      <td>4</td>\n",
       "      <td>5</td>\n",
       "      <td>1</td>\n",
       "      <td>20230815</td>\n",
       "    </tr>\n",
       "    <tr>\n",
       "      <th>L2023081400000444</th>\n",
       "      <td>4</td>\n",
       "      <td>14</td>\n",
       "      <td>1</td>\n",
       "      <td>20230813</td>\n",
       "    </tr>\n",
       "    <tr>\n",
       "      <th>L2023081300000407</th>\n",
       "      <td>0</td>\n",
       "      <td>1</td>\n",
       "      <td>0</td>\n",
       "      <td>20230812</td>\n",
       "    </tr>\n",
       "    <tr>\n",
       "      <th>L2023081200000690</th>\n",
       "      <td>0</td>\n",
       "      <td>18</td>\n",
       "      <td>0</td>\n",
       "      <td>20230812</td>\n",
       "    </tr>\n",
       "    <tr>\n",
       "      <th>L2023081100000326</th>\n",
       "      <td>0</td>\n",
       "      <td>14</td>\n",
       "      <td>0</td>\n",
       "      <td>20230809</td>\n",
       "    </tr>\n",
       "  </tbody>\n",
       "</table>\n",
       "</div>"
      ],
      "text/plain": [
       "                   lost_place  type_stuff  type_public  register_date\n",
       "고유번호                                                                 \n",
       "L2023081500000396           4           5            1       20230815\n",
       "L2023081400000444           4          14            1       20230813\n",
       "L2023081300000407           0           1            0       20230812\n",
       "L2023081200000690           0          18            0       20230812\n",
       "L2023081100000326           0          14            0       20230809"
      ]
     },
     "execution_count": 29,
     "metadata": {},
     "output_type": "execute_result"
    }
   ],
   "source": [
    "test_data.isna().sum()\n",
    "test_data.head()"
   ]
  },
  {
   "cell_type": "code",
   "execution_count": 30,
   "id": "82367f2e",
   "metadata": {},
   "outputs": [
    {
     "data": {
      "text/html": [
       "<div>\n",
       "<style scoped>\n",
       "    .dataframe tbody tr th:only-of-type {\n",
       "        vertical-align: middle;\n",
       "    }\n",
       "\n",
       "    .dataframe tbody tr th {\n",
       "        vertical-align: top;\n",
       "    }\n",
       "\n",
       "    .dataframe thead th {\n",
       "        text-align: right;\n",
       "    }\n",
       "</style>\n",
       "<table border=\"1\" class=\"dataframe\">\n",
       "  <thead>\n",
       "    <tr style=\"text-align: right;\">\n",
       "      <th></th>\n",
       "      <th>lost_place</th>\n",
       "      <th>type_stuff</th>\n",
       "      <th>type_public</th>\n",
       "      <th>register_date</th>\n",
       "    </tr>\n",
       "  </thead>\n",
       "  <tbody>\n",
       "    <tr>\n",
       "      <th>count</th>\n",
       "      <td>290.000000</td>\n",
       "      <td>290.000000</td>\n",
       "      <td>290.000000</td>\n",
       "      <td>2.900000e+02</td>\n",
       "    </tr>\n",
       "    <tr>\n",
       "      <th>mean</th>\n",
       "      <td>0.713793</td>\n",
       "      <td>11.717241</td>\n",
       "      <td>0.265517</td>\n",
       "      <td>2.022951e+07</td>\n",
       "    </tr>\n",
       "    <tr>\n",
       "      <th>std</th>\n",
       "      <td>1.319595</td>\n",
       "      <td>4.934454</td>\n",
       "      <td>0.442372</td>\n",
       "      <td>2.804474e+03</td>\n",
       "    </tr>\n",
       "    <tr>\n",
       "      <th>min</th>\n",
       "      <td>0.000000</td>\n",
       "      <td>0.000000</td>\n",
       "      <td>0.000000</td>\n",
       "      <td>2.022040e+07</td>\n",
       "    </tr>\n",
       "    <tr>\n",
       "      <th>25%</th>\n",
       "      <td>0.000000</td>\n",
       "      <td>11.000000</td>\n",
       "      <td>0.000000</td>\n",
       "      <td>2.023021e+07</td>\n",
       "    </tr>\n",
       "    <tr>\n",
       "      <th>50%</th>\n",
       "      <td>0.000000</td>\n",
       "      <td>13.000000</td>\n",
       "      <td>0.000000</td>\n",
       "      <td>2.023041e+07</td>\n",
       "    </tr>\n",
       "    <tr>\n",
       "      <th>75%</th>\n",
       "      <td>1.000000</td>\n",
       "      <td>14.000000</td>\n",
       "      <td>1.000000</td>\n",
       "      <td>2.023061e+07</td>\n",
       "    </tr>\n",
       "    <tr>\n",
       "      <th>max</th>\n",
       "      <td>4.000000</td>\n",
       "      <td>18.000000</td>\n",
       "      <td>1.000000</td>\n",
       "      <td>2.023082e+07</td>\n",
       "    </tr>\n",
       "  </tbody>\n",
       "</table>\n",
       "</div>"
      ],
      "text/plain": [
       "       lost_place  type_stuff  type_public  register_date\n",
       "count  290.000000  290.000000   290.000000   2.900000e+02\n",
       "mean     0.713793   11.717241     0.265517   2.022951e+07\n",
       "std      1.319595    4.934454     0.442372   2.804474e+03\n",
       "min      0.000000    0.000000     0.000000   2.022040e+07\n",
       "25%      0.000000   11.000000     0.000000   2.023021e+07\n",
       "50%      0.000000   13.000000     0.000000   2.023041e+07\n",
       "75%      1.000000   14.000000     1.000000   2.023061e+07\n",
       "max      4.000000   18.000000     1.000000   2.023082e+07"
      ]
     },
     "execution_count": 30,
     "metadata": {},
     "output_type": "execute_result"
    }
   ],
   "source": [
    "test_data.describe() "
   ]
  },
  {
   "cell_type": "markdown",
   "id": "90e849d7",
   "metadata": {},
   "source": [
    "# 데이터 시각화"
   ]
  },
  {
   "cell_type": "code",
   "execution_count": 31,
   "id": "9613a2ea",
   "metadata": {},
   "outputs": [
    {
     "data": {
      "image/png": "[encoded data removed]",
      "text/plain": [
       "<Figure size 640x480 with 1 Axes>"
      ]
     },
     "metadata": {},
     "output_type": "display_data"
    },
    {
     "data": {
      "image/png": "[encoded data removed]",
      "text/plain": [
       "<Figure size 640x480 with 1 Axes>"
      ]
     },
     "metadata": {},
     "output_type": "display_data"
    }
   ],
   "source": [
    "#데이터 scailing 필요여부 판단 >> 필요\n",
    "\n",
    "# 변수들간의 관계 : \"register_date\" : 다른 변수들과 비교했을때 크기가 너무크게 설정되어 있어 변수들간의 관게 확인 어렵\n",
    "test_data.boxplot()\n",
    "plt.show()\n",
    "\n",
    "# \"register_date\"을 제외한 변수들간의 관계확인\n",
    "info_date = test_data.drop('register_date',axis=1)\n",
    "info_date.boxplot()\n",
    "plt.show()"
   ]
  },
  {
   "cell_type": "code",
   "execution_count": 32,
   "id": "0a401686",
   "metadata": {
    "scrolled": true
   },
   "outputs": [
    {
     "data": {
      "image/png": "[encoded data removed]",
      "text/plain": [
       "<Figure size 580.611x500 with 6 Axes>"
      ]
     },
     "metadata": {},
     "output_type": "display_data"
    },
    {
     "data": {
      "image/png": "[encoded data removed]",
      "text/plain": [
       "<Figure size 580.611x500 with 6 Axes>"
      ]
     },
     "metadata": {},
     "output_type": "display_data"
    }
   ],
   "source": [
    "#변수들 사이의 상관관게 : importance 예측\n",
    "sns.pairplot(info_date, hue='type_stuff') #'물품유형'을 기준으로 '대중교통시설여부', '공공장소<->임의지역' 변수들간의 관계\n",
    "plt.show()"
   ]
  },
  {
   "cell_type": "markdown",
   "id": "9a69a290",
   "metadata": {},
   "source": [
    "# 변수들간의 상관관계를 확인결과 \n",
    "\n",
    "\n",
    ">> 데이터 간의 분류가 명확하계 범주화 되는 'type_public'변수 : y 설정 유효해 보임"
   ]
  },
  {
   "cell_type": "code",
   "execution_count": 33,
   "id": "db0cb060",
   "metadata": {
    "scrolled": false
   },
   "outputs": [
    {
     "data": {
      "image/png": "[encoded data removed]",
      "text/plain": [
       "<Figure size 640x480 with 1 Axes>"
      ]
     },
     "metadata": {},
     "output_type": "display_data"
    }
   ],
   "source": [
    "# resample 여부 확인 >> resample필요 : oversample 이용 >> under sample이용하였을때 x 특정 물품 통게에서 제외될수있으므로 \n",
    "sns.countplot(x= test_data.type_public) #x/ version에 의해서 x축 지정해야 분리된 값이 출력\n",
    "plt.show()"
   ]
  },
  {
   "cell_type": "markdown",
   "id": "70cb8965",
   "metadata": {},
   "source": [
    "# 변수 분할 (x: 독립, y:종속 split) "
   ]
  },
  {
   "cell_type": "code",
   "execution_count": 34,
   "id": "6d4ed511",
   "metadata": {},
   "outputs": [],
   "source": [
    "y = test_data.type_public\n",
    "x = test_data.drop('type_public', axis=1)"
   ]
  },
  {
   "cell_type": "code",
   "execution_count": 35,
   "id": "af982c61",
   "metadata": {},
   "outputs": [
    {
     "data": {
      "text/html": [
       "<div>\n",
       "<style scoped>\n",
       "    .dataframe tbody tr th:only-of-type {\n",
       "        vertical-align: middle;\n",
       "    }\n",
       "\n",
       "    .dataframe tbody tr th {\n",
       "        vertical-align: top;\n",
       "    }\n",
       "\n",
       "    .dataframe thead th {\n",
       "        text-align: right;\n",
       "    }\n",
       "</style>\n",
       "<table border=\"1\" class=\"dataframe\">\n",
       "  <thead>\n",
       "    <tr style=\"text-align: right;\">\n",
       "      <th></th>\n",
       "      <th>lost_place</th>\n",
       "      <th>type_stuff</th>\n",
       "      <th>register_date</th>\n",
       "    </tr>\n",
       "    <tr>\n",
       "      <th>고유번호</th>\n",
       "      <th></th>\n",
       "      <th></th>\n",
       "      <th></th>\n",
       "    </tr>\n",
       "  </thead>\n",
       "  <tbody>\n",
       "    <tr>\n",
       "      <th>L2023081500000396</th>\n",
       "      <td>4</td>\n",
       "      <td>5</td>\n",
       "      <td>20230815</td>\n",
       "    </tr>\n",
       "    <tr>\n",
       "      <th>L2023081400000444</th>\n",
       "      <td>4</td>\n",
       "      <td>14</td>\n",
       "      <td>20230813</td>\n",
       "    </tr>\n",
       "    <tr>\n",
       "      <th>L2023081300000407</th>\n",
       "      <td>0</td>\n",
       "      <td>1</td>\n",
       "      <td>20230812</td>\n",
       "    </tr>\n",
       "    <tr>\n",
       "      <th>L2023081200000690</th>\n",
       "      <td>0</td>\n",
       "      <td>18</td>\n",
       "      <td>20230812</td>\n",
       "    </tr>\n",
       "    <tr>\n",
       "      <th>L2023081100000326</th>\n",
       "      <td>0</td>\n",
       "      <td>14</td>\n",
       "      <td>20230809</td>\n",
       "    </tr>\n",
       "  </tbody>\n",
       "</table>\n",
       "</div>"
      ],
      "text/plain": [
       "                   lost_place  type_stuff  register_date\n",
       "고유번호                                                    \n",
       "L2023081500000396           4           5       20230815\n",
       "L2023081400000444           4          14       20230813\n",
       "L2023081300000407           0           1       20230812\n",
       "L2023081200000690           0          18       20230812\n",
       "L2023081100000326           0          14       20230809"
      ]
     },
     "execution_count": 35,
     "metadata": {},
     "output_type": "execute_result"
    }
   ],
   "source": [
    "x.head()"
   ]
  },
  {
   "cell_type": "code",
   "execution_count": 36,
   "id": "71b743e0",
   "metadata": {},
   "outputs": [
    {
     "data": {
      "image/png": "[encoded data removed]",
      "text/plain": [
       "<Figure size 640x480 with 1 Axes>"
      ]
     },
     "metadata": {},
     "output_type": "display_data"
    }
   ],
   "source": [
    "#X값 스케일링 MinMaxScaler\n",
    "x.boxplot() #스케일링전에 범주확인 \n",
    "plt.show()"
   ]
  },
  {
   "cell_type": "markdown",
   "id": "7ae88644",
   "metadata": {},
   "source": [
    "# scailing "
   ]
  },
  {
   "cell_type": "code",
   "execution_count": 37,
   "id": "47f6ec56",
   "metadata": {},
   "outputs": [
    {
     "data": {
      "image/png": "[encoded data removed]",
      "text/plain": [
       "<Figure size 640x480 with 1 Axes>"
      ]
     },
     "metadata": {},
     "output_type": "display_data"
    }
   ],
   "source": [
    "# x값 스케일링 이후 \n",
    "from sklearn.preprocessing import MinMaxScaler\n",
    "scaler = MinMaxScaler()\n",
    "x_scaled = scaler.fit_transform(x)\n",
    "\n",
    "plt.boxplot(x_scaled)\n",
    "plt.show()"
   ]
  },
  {
   "cell_type": "markdown",
   "id": "9ab33e77",
   "metadata": {},
   "source": [
    "# 학습 데이터와 검증데이터 분할"
   ]
  },
  {
   "cell_type": "code",
   "execution_count": 38,
   "id": "86e05310",
   "metadata": {},
   "outputs": [],
   "source": [
    "#•Train and test split 훈련, 테스트데이터 분리\n",
    "from sklearn.model_selection import train_test_split\n",
    "x_train, x_test , y_train , y_test = train_test_split(x_scaled, y, test_size=.2, random_state=3)  #autocompletion; Jupiter에서는 'tab'"
   ]
  },
  {
   "cell_type": "code",
   "execution_count": 39,
   "id": "281c7f86",
   "metadata": {},
   "outputs": [
    {
     "data": {
      "text/plain": [
       "array([[0.        , 0.77777778, 0.98031496],\n",
       "       [0.        , 0.61111111, 0.98079508],\n",
       "       [0.        , 1.        , 0.99116574],\n",
       "       [0.        , 0.44444444, 0.97138467],\n",
       "       [0.        , 0.61111111, 0.960918  ],\n",
       "       [0.        , 0.61111111, 0.97100058],\n",
       "       [0.        , 0.72222222, 0.93143845],\n",
       "       [0.        , 0.11111111, 0.95275591],\n",
       "       [0.        , 0.05555556, 0.9535241 ],\n",
       "       [0.        , 1.        , 0.95131554],\n",
       "       [0.        , 0.77777778, 0.98972537],\n",
       "       [0.        , 0.22222222, 0.93259074],\n",
       "       [0.        , 0.77777778, 0.96207029],\n",
       "       [0.        , 0.77777778, 0.95169964],\n",
       "       [0.        , 0.61111111, 0.99865566],\n",
       "       [0.        , 0.22222222, 0.97042443],\n",
       "       [0.        , 0.        , 0.96984828],\n",
       "       [1.        , 0.77777778, 0.95294795],\n",
       "       [0.5       , 0.72222222, 0.07826003],\n",
       "       [0.        , 0.77777778, 0.9535241 ],\n",
       "       [0.        , 0.61111111, 0.97157672],\n",
       "       [0.5       , 0.77777778, 0.98137123],\n",
       "       [0.75      , 0.94444444, 0.96139812],\n",
       "       [0.        , 1.        , 0.94113693],\n",
       "       [1.        , 0.72222222, 0.95102746],\n",
       "       [0.        , 0.77777778, 0.99049357],\n",
       "       [0.        , 0.77777778, 0.07893221],\n",
       "       [0.        , 0.77777778, 0.98962935],\n",
       "       [0.        , 0.61111111, 0.94276935],\n",
       "       [0.5       , 0.5       , 0.93326292],\n",
       "       [1.        , 1.        , 0.9421932 ],\n",
       "       [0.5       , 0.72222222, 0.96226234],\n",
       "       [0.        , 0.61111111, 0.98934127],\n",
       "       [0.        , 0.61111111, 0.97023238],\n",
       "       [0.        , 0.77777778, 0.93143845],\n",
       "       [0.        , 0.        , 0.94238525],\n",
       "       [0.        , 0.77777778, 0.99942385],\n",
       "       [0.        , 0.61111111, 0.94171308],\n",
       "       [0.25      , 0.77777778, 0.07864413],\n",
       "       [0.        , 0.72222222, 0.94123296],\n",
       "       [0.        , 0.61111111, 0.97023238],\n",
       "       [1.        , 0.77777778, 0.99039754],\n",
       "       [0.        , 0.61111111, 0.97253697],\n",
       "       [0.        , 0.33333333, 0.98031496],\n",
       "       [0.        , 0.72222222, 0.07960438],\n",
       "       [0.        , 0.61111111, 0.07845208],\n",
       "       [0.        , 0.61111111, 0.94228923],\n",
       "       [0.        , 0.61111111, 0.94132898],\n",
       "       [0.        , 0.61111111, 0.96226234],\n",
       "       [0.        , 0.61111111, 0.99894373],\n",
       "       [0.25      , 0.72222222, 0.0797004 ],\n",
       "       [0.5       , 0.77777778, 0.99884771],\n",
       "       [0.        , 0.94444444, 0.95304398],\n",
       "       [0.5       , 0.05555556, 0.97272902],\n",
       "       [0.        , 0.77777778, 0.98041099],\n",
       "       [0.5       , 0.61111111, 0.96187824],\n",
       "       [0.        , 0.61111111, 0.94228923],\n",
       "       [0.        , 0.61111111, 0.95323603],\n",
       "       [0.        , 0.22222222, 0.9418091 ],\n",
       "       [0.        , 1.        , 0.96043787],\n",
       "       [0.        , 0.61111111, 0.98914922],\n",
       "       [0.        , 0.77777778, 0.9535241 ],\n",
       "       [0.        , 0.77777778, 0.9433455 ],\n",
       "       [0.        , 0.72222222, 0.94123296],\n",
       "       [1.        , 0.77777778, 0.98012291],\n",
       "       [0.        , 0.77777778, 0.07835606],\n",
       "       [0.5       , 0.77777778, 0.98962935],\n",
       "       [0.        , 0.77777778, 0.98108316],\n",
       "       [0.        , 0.66666667, 0.97234492],\n",
       "       [0.        , 1.        , 0.94344152],\n",
       "       [0.        , 0.77777778, 0.96149414],\n",
       "       [0.        , 0.05555556, 0.99865566],\n",
       "       [0.        , 0.77777778, 0.96024582],\n",
       "       [0.        , 0.        , 0.99174189],\n",
       "       [0.        , 0.77777778, 0.9433455 ],\n",
       "       [0.5       , 0.        , 0.95265988],\n",
       "       [0.        , 0.        , 0.94152103],\n",
       "       [0.75      , 1.        , 0.98185135],\n",
       "       [0.        , 0.61111111, 0.93259074],\n",
       "       [1.        , 0.61111111, 0.93316689],\n",
       "       [1.        , 0.77777778, 0.97263299],\n",
       "       [0.5       , 0.77777778, 0.95217976],\n",
       "       [0.        , 0.77777778, 0.9429614 ],\n",
       "       [0.        , 0.77777778, 0.95304398],\n",
       "       [0.        , 0.        , 0.94267332],\n",
       "       [0.        , 1.        , 0.97945074],\n",
       "       [0.        , 0.05555556, 0.941425  ],\n",
       "       [1.        , 0.55555556, 0.97013635],\n",
       "       [1.        , 0.72222222, 0.96120607],\n",
       "       [0.        , 0.77777778, 0.94200115],\n",
       "       [0.        , 0.72222222, 0.94123296],\n",
       "       [0.        , 0.61111111, 0.95294795],\n",
       "       [0.        , 0.61111111, 0.96274246],\n",
       "       [0.        , 0.33333333, 0.941425  ],\n",
       "       [0.5       , 0.77777778, 0.95217976],\n",
       "       [0.        , 0.61111111, 0.98031496],\n",
       "       [0.        , 0.77777778, 0.94353755],\n",
       "       [0.        , 0.72222222, 0.94123296],\n",
       "       [0.        , 0.77777778, 0.95112349],\n",
       "       [0.        , 0.77777778, 0.94305742],\n",
       "       [0.5       , 0.        , 0.97993086],\n",
       "       [1.        , 1.        , 0.07883618],\n",
       "       [1.        , 1.        , 0.97234492],\n",
       "       [0.25      , 0.66666667, 0.96216631],\n",
       "       [0.        , 0.77777778, 0.0797004 ],\n",
       "       [1.        , 0.61111111, 0.05895909],\n",
       "       [0.        , 0.77777778, 0.96178222],\n",
       "       [1.        , 0.        , 0.97176877],\n",
       "       [0.        , 0.77777778, 0.95064336],\n",
       "       [0.        , 1.        , 0.94344152],\n",
       "       [0.        , 0.77777778, 0.07893221],\n",
       "       [0.        , 0.        , 0.95189168],\n",
       "       [0.        , 0.77777778, 0.07960438],\n",
       "       [0.        , 0.        , 0.9992318 ],\n",
       "       [1.        , 0.77777778, 0.97119263],\n",
       "       [0.        , 0.77777778, 0.98185135],\n",
       "       [0.75      , 0.77777778, 0.99097369],\n",
       "       [0.        , 0.        , 0.95064336],\n",
       "       [0.        , 0.11111111, 0.98127521],\n",
       "       [0.        , 0.77777778, 0.97234492],\n",
       "       [0.        , 0.77777778, 0.99039754],\n",
       "       [0.        , 0.94444444, 0.07950835],\n",
       "       [0.5       , 0.77777778, 0.96187824],\n",
       "       [0.        , 0.33333333, 0.99116574],\n",
       "       [0.        , 0.11111111, 0.98117918],\n",
       "       [0.        , 0.61111111, 0.07681967],\n",
       "       [0.        , 0.72222222, 0.94123296],\n",
       "       [0.5       , 0.77777778, 0.93316689],\n",
       "       [0.        , 0.61111111, 0.04887651],\n",
       "       [0.5       , 1.        , 0.941425  ],\n",
       "       [0.25      , 0.61111111, 0.95237181],\n",
       "       [0.        , 0.61111111, 0.99020549],\n",
       "       [0.5       , 0.77777778, 0.95198771],\n",
       "       [0.        , 0.66666667, 0.95275591],\n",
       "       [0.        , 0.72222222, 0.96984828],\n",
       "       [1.        , 0.61111111, 0.93374304],\n",
       "       [0.75      , 0.77777778, 0.99154984],\n",
       "       [0.        , 0.05555556, 0.94353755],\n",
       "       [0.        , 0.77777778, 0.98953332],\n",
       "       [0.        , 0.61111111, 0.98069906],\n",
       "       [0.        , 1.        , 0.98012291],\n",
       "       [0.25      , 0.55555556, 0.9703284 ],\n",
       "       [0.        , 0.61111111, 0.06846553],\n",
       "       [0.        , 0.61111111, 0.99894373],\n",
       "       [0.        , 0.77777778, 0.98175533],\n",
       "       [0.        , 0.61111111, 0.95121951],\n",
       "       [0.        , 0.11111111, 0.94132898],\n",
       "       [0.25      , 1.        , 0.99903975],\n",
       "       [0.        , 0.77777778, 0.94171308],\n",
       "       [0.        , 0.77777778, 0.93364701],\n",
       "       [0.5       , 1.        , 0.99049357],\n",
       "       [0.        , 0.44444444, 0.98982139],\n",
       "       [0.5       , 0.77777778, 0.9714807 ],\n",
       "       [0.        , 0.77777778, 0.9816593 ],\n",
       "       [0.        , 0.61111111, 0.93239869],\n",
       "       [0.        , 0.61111111, 0.99135779],\n",
       "       [0.5       , 1.        , 0.97234492],\n",
       "       [0.        , 0.77777778, 0.95160361],\n",
       "       [0.        , 0.77777778, 0.93278279],\n",
       "       [0.        , 0.61111111, 0.98127521],\n",
       "       [0.        , 0.72222222, 0.07950835],\n",
       "       [0.        , 0.72222222, 0.95246783],\n",
       "       [0.5       , 0.66666667, 0.97244094],\n",
       "       [1.        , 0.77777778, 0.99010947],\n",
       "       [0.        , 0.61111111, 0.9535241 ],\n",
       "       [0.        , 0.05555556, 0.99971193],\n",
       "       [0.        , 0.72222222, 0.98185135],\n",
       "       [0.5       , 0.77777778, 0.93230267],\n",
       "       [0.        , 0.77777778, 0.95112349],\n",
       "       [0.        , 0.66666667, 0.9890532 ],\n",
       "       [0.        , 0.77777778, 0.9535241 ],\n",
       "       [0.        , 0.77777778, 0.93220664],\n",
       "       [0.        , 0.66666667, 0.96149414],\n",
       "       [0.        , 0.77777778, 0.941425  ],\n",
       "       [0.        , 1.        , 0.97205685],\n",
       "       [0.5       , 0.88888889, 0.95150759],\n",
       "       [0.        , 1.        , 0.98021894],\n",
       "       [0.        , 0.77777778, 0.99174189],\n",
       "       [0.        , 0.05555556, 0.93345496],\n",
       "       [1.        , 0.38888889, 0.95304398],\n",
       "       [0.        , 0.05555556, 0.98012291],\n",
       "       [0.25      , 0.77777778, 0.96120607],\n",
       "       [1.        , 0.55555556, 0.94171308],\n",
       "       [0.        , 0.77777778, 0.97176877],\n",
       "       [0.        , 0.77777778, 0.94123296],\n",
       "       [0.        , 1.        , 0.96303054],\n",
       "       [0.        , 0.61111111, 0.94104091],\n",
       "       [0.        , 1.        , 0.06001536],\n",
       "       [0.        , 0.72222222, 0.07681967],\n",
       "       [0.        , 0.11111111, 0.97013635],\n",
       "       [0.        , 0.11111111, 0.97954676],\n",
       "       [1.        , 0.77777778, 0.99980795],\n",
       "       [0.        , 0.77777778, 0.97023238],\n",
       "       [0.        , 1.        , 0.07950835],\n",
       "       [0.        , 1.        , 0.95227578],\n",
       "       [0.5       , 0.77777778, 0.93172652],\n",
       "       [0.        , 1.        , 0.94344152],\n",
       "       [0.        , 0.77777778, 0.0581909 ],\n",
       "       [0.        , 0.88888889, 0.95150759],\n",
       "       [0.        , 0.44444444, 0.95285193],\n",
       "       [0.75      , 0.77777778, 0.95073939],\n",
       "       [1.        , 0.27777778, 1.        ],\n",
       "       [0.5       , 0.77777778, 0.98175533],\n",
       "       [0.        , 0.61111111, 0.99068562],\n",
       "       [1.        , 0.61111111, 0.9429614 ],\n",
       "       [0.        , 0.05555556, 0.98223545],\n",
       "       [0.        , 0.        , 0.99145381],\n",
       "       [0.        , 0.22222222, 0.95217976],\n",
       "       [0.        , 1.        , 0.99039754],\n",
       "       [0.5       , 0.77777778, 0.95256386],\n",
       "       [0.        , 0.72222222, 0.99932783],\n",
       "       [0.        , 0.61111111, 0.        ],\n",
       "       [0.        , 0.61111111, 0.97128865],\n",
       "       [0.        , 0.33333333, 0.97205685],\n",
       "       [0.        , 0.61111111, 0.97042443],\n",
       "       [0.        , 0.66666667, 0.98050701],\n",
       "       [0.        , 0.61111111, 0.96255041],\n",
       "       [0.25      , 0.05555556, 0.93143845],\n",
       "       [0.        , 1.        , 0.960918  ],\n",
       "       [0.5       , 1.        , 0.99097369],\n",
       "       [0.        , 0.77777778, 0.97234492],\n",
       "       [0.25      , 1.        , 0.96101402],\n",
       "       [1.        , 0.77777778, 0.96984828],\n",
       "       [0.        , 0.61111111, 0.96168619],\n",
       "       [0.        , 0.61111111, 0.95256386],\n",
       "       [0.        , 0.77777778, 0.9433455 ],\n",
       "       [0.        , 0.        , 0.96120607],\n",
       "       [0.        , 0.22222222, 0.07749184],\n",
       "       [0.        , 0.66666667, 0.9320146 ],\n",
       "       [0.        , 0.77777778, 0.96226234],\n",
       "       [0.        , 0.22222222, 0.93249472],\n",
       "       [0.        , 0.72222222, 0.96043787]])"
      ]
     },
     "execution_count": 39,
     "metadata": {},
     "output_type": "execute_result"
    }
   ],
   "source": [
    "x_train"
   ]
  },
  {
   "cell_type": "markdown",
   "id": "9960bb43",
   "metadata": {},
   "source": [
    "# Resample "
   ]
  },
  {
   "cell_type": "code",
   "execution_count": 40,
   "id": "884358e3",
   "metadata": {},
   "outputs": [
    {
     "data": {
      "image/png": "[encoded data removed]",
      "text/plain": [
       "<Figure size 640x480 with 1 Axes>"
      ]
     },
     "metadata": {},
     "output_type": "display_data"
    }
   ],
   "source": [
    "# resample \n",
    "sns.countplot(x= y_train) #x/ version에 의해서 x축 지정해야 분리된 값이 출력\n",
    "plt.show()"
   ]
  },
  {
   "cell_type": "code",
   "execution_count": 41,
   "id": "7a05cd25",
   "metadata": {},
   "outputs": [],
   "source": [
    "from imblearn.over_sampling import SMOTE\n",
    "smote = SMOTE()\n",
    "x_smote, y_smote = smote.fit_resample(x_train, y_train)"
   ]
  },
  {
   "cell_type": "code",
   "execution_count": 42,
   "id": "c8eb7c62",
   "metadata": {},
   "outputs": [
    {
     "data": {
      "image/png": "[encoded data removed]",
      "text/plain": [
       "<Figure size 640x480 with 1 Axes>"
      ]
     },
     "metadata": {},
     "output_type": "display_data"
    }
   ],
   "source": [
    "sns.countplot(x=y_smote)\n",
    "plt.show()"
   ]
  },
  {
   "cell_type": "markdown",
   "id": "725804f1",
   "metadata": {},
   "source": [
    "# STEP4. 모델 학습 (범주 데이터; logistic_regression, Decision_tree, RF)"
   ]
  },
  {
   "cell_type": "code",
   "execution_count": 43,
   "id": "0f3e569a",
   "metadata": {
    "scrolled": true
   },
   "outputs": [],
   "source": [
    "from sklearn.linear_model import LogisticRegression \n",
    "from sklearn.tree import DecisionTreeClassifier\n",
    "from sklearn.ensemble import RandomForestClassifier\n",
    "from sklearn.model_selection import cross_val_score\n",
    "\n",
    "#모델 학습 : logistic_regression\n",
    "#log_model = RandomForestClassifier() #학습에 랜덤한 부분이 있음? log_model = LogisticRegression(random_state=1) 고정? \n",
    "#log_model.fit(x_smote, y_smote)"
   ]
  },
  {
   "cell_type": "code",
   "execution_count": 44,
   "id": "8147fbfb",
   "metadata": {},
   "outputs": [],
   "source": [
    "def evaluate_model(model, x_train, y_train, x_test, y_test):\n",
    "    model.fit(x_train, y_train) #훈련데이터로 학습  \n",
    "    score = model.score(x_test, y_test) # 모델평가 (r2_score)\n",
    "    print('test_score=', score)\n",
    "    cv = cross_val_score(model, x_test, y_test, cv=10, scoring='accuracy') \n",
    "    print(cv)\n",
    "    return score, cv"
   ]
  },
  {
   "cell_type": "code",
   "execution_count": 45,
   "id": "12ddf6cd",
   "metadata": {},
   "outputs": [],
   "source": [
    "# list로 score, cv_score 저장 \n",
    "score_lst = []\n",
    "cv_lst = []"
   ]
  },
  {
   "cell_type": "code",
   "execution_count": 46,
   "id": "2954c591",
   "metadata": {},
   "outputs": [
    {
     "name": "stdout",
     "output_type": "stream",
     "text": [
      "test_score= 0.9827586206896551\n",
      "[1.         0.83333333 1.         0.66666667 0.83333333 0.83333333\n",
      " 0.66666667 0.83333333 1.         1.        ]\n"
     ]
    }
   ],
   "source": [
    "# 회귀분석\n",
    "lr_model = LogisticRegression(random_state=3)\n",
    "lr_score, lr_cv = evaluate_model(lr_model, x_train, y_train, x_test, y_test)\n",
    "lr_score, lr_cv\n",
    "\n",
    "score_lst.append(lr_score)\n",
    "cv_lst.append(lr_cv)"
   ]
  },
  {
   "cell_type": "code",
   "execution_count": 47,
   "id": "a9b7a7bc",
   "metadata": {},
   "outputs": [
    {
     "name": "stdout",
     "output_type": "stream",
     "text": [
      "test_score= 1.0\n",
      "[1.         1.         1.         0.83333333 1.         1.\n",
      " 1.         1.         1.         1.        ]\n"
     ]
    }
   ],
   "source": [
    "#의사결정 트리\n",
    "dt_model = DecisionTreeClassifier(random_state=3)\n",
    "dt_score, dt_cv = evaluate_model(dt_model, x_train, y_train, x_test, y_test)\n",
    "dt_score, dt_cv\n",
    "\n",
    "score_lst.append(dt_score)\n",
    "cv_lst.append(dt_cv)"
   ]
  },
  {
   "cell_type": "code",
   "execution_count": 48,
   "id": "c0959a48",
   "metadata": {},
   "outputs": [
    {
     "name": "stdout",
     "output_type": "stream",
     "text": [
      "test_score= 1.0\n",
      "[1.         1.         1.         0.83333333 1.         1.\n",
      " 1.         1.         1.         1.        ]\n"
     ]
    }
   ],
   "source": [
    "#랜덤 포레스트\n",
    "rf_model = RandomForestClassifier(random_state=3)\n",
    "rf_score, rf_cv = evaluate_model(rf_model, x_train, y_train, x_test, y_test)\n",
    "rf_score, rf_cv\n",
    "\n",
    "score_lst.append(rf_score)\n",
    "cv_lst.append(rf_cv)"
   ]
  },
  {
   "cell_type": "markdown",
   "id": "dacd5443",
   "metadata": {},
   "source": [
    "# STEP5. 모델 정확도 검증 "
   ]
  },
  {
   "cell_type": "code",
   "execution_count": 49,
   "id": "c0f9c60e",
   "metadata": {},
   "outputs": [],
   "source": [
    "# score 평가 \n",
    "# 결정계수 테이블 \n",
    "score_df = pd.DataFrame(score_lst)\n",
    "score_df.index = ['LR', 'DT', 'RF']\n",
    "score_df.columns = ['score']"
   ]
  },
  {
   "cell_type": "code",
   "execution_count": 50,
   "id": "c2d5b19a",
   "metadata": {},
   "outputs": [],
   "source": [
    "#평균, 표준편차 테이블로 비교\n",
    "cv_df = pd.DataFrame(cv_lst, index=score_df.index).T\n",
    "cv_summary = pd.DataFrame({'mean': cv_df.mean(),\n",
    "                             'std': cv_df.std()})"
   ]
  },
  {
   "cell_type": "code",
   "execution_count": 51,
   "id": "256c8002",
   "metadata": {},
   "outputs": [
    {
     "data": {
      "image/png": "[encoded data removed]",
      "text/plain": [
       "<Figure size 640x480 with 1 Axes>"
      ]
     },
     "metadata": {},
     "output_type": "display_data"
    }
   ],
   "source": [
    "cv_df.boxplot()\n",
    "plt.show()"
   ]
  },
  {
   "cell_type": "code",
   "execution_count": 52,
   "id": "82304a74",
   "metadata": {
    "scrolled": true
   },
   "outputs": [
    {
     "data": {
      "text/html": [
       "<div>\n",
       "<style scoped>\n",
       "    .dataframe tbody tr th:only-of-type {\n",
       "        vertical-align: middle;\n",
       "    }\n",
       "\n",
       "    .dataframe tbody tr th {\n",
       "        vertical-align: top;\n",
       "    }\n",
       "\n",
       "    .dataframe thead th {\n",
       "        text-align: right;\n",
       "    }\n",
       "</style>\n",
       "<table border=\"1\" class=\"dataframe\">\n",
       "  <thead>\n",
       "    <tr style=\"text-align: right;\">\n",
       "      <th></th>\n",
       "      <th>score</th>\n",
       "    </tr>\n",
       "  </thead>\n",
       "  <tbody>\n",
       "    <tr>\n",
       "      <th>LR</th>\n",
       "      <td>0.982759</td>\n",
       "    </tr>\n",
       "    <tr>\n",
       "      <th>DT</th>\n",
       "      <td>1.000000</td>\n",
       "    </tr>\n",
       "    <tr>\n",
       "      <th>RF</th>\n",
       "      <td>1.000000</td>\n",
       "    </tr>\n",
       "  </tbody>\n",
       "</table>\n",
       "</div>"
      ],
      "text/plain": [
       "       score\n",
       "LR  0.982759\n",
       "DT  1.000000\n",
       "RF  1.000000"
      ]
     },
     "execution_count": 52,
     "metadata": {},
     "output_type": "execute_result"
    }
   ],
   "source": [
    "score_df"
   ]
  },
  {
   "cell_type": "code",
   "execution_count": 53,
   "id": "b24e6ab0",
   "metadata": {},
   "outputs": [
    {
     "data": {
      "text/html": [
       "<div>\n",
       "<style scoped>\n",
       "    .dataframe tbody tr th:only-of-type {\n",
       "        vertical-align: middle;\n",
       "    }\n",
       "\n",
       "    .dataframe tbody tr th {\n",
       "        vertical-align: top;\n",
       "    }\n",
       "\n",
       "    .dataframe thead th {\n",
       "        text-align: right;\n",
       "    }\n",
       "</style>\n",
       "<table border=\"1\" class=\"dataframe\">\n",
       "  <thead>\n",
       "    <tr style=\"text-align: right;\">\n",
       "      <th></th>\n",
       "      <th>mean</th>\n",
       "      <th>std</th>\n",
       "    </tr>\n",
       "  </thead>\n",
       "  <tbody>\n",
       "    <tr>\n",
       "      <th>LR</th>\n",
       "      <td>0.866667</td>\n",
       "      <td>0.131468</td>\n",
       "    </tr>\n",
       "    <tr>\n",
       "      <th>DT</th>\n",
       "      <td>0.983333</td>\n",
       "      <td>0.052705</td>\n",
       "    </tr>\n",
       "    <tr>\n",
       "      <th>RF</th>\n",
       "      <td>0.983333</td>\n",
       "      <td>0.052705</td>\n",
       "    </tr>\n",
       "  </tbody>\n",
       "</table>\n",
       "</div>"
      ],
      "text/plain": [
       "        mean       std\n",
       "LR  0.866667  0.131468\n",
       "DT  0.983333  0.052705\n",
       "RF  0.983333  0.052705"
      ]
     },
     "execution_count": 53,
     "metadata": {},
     "output_type": "execute_result"
    }
   ],
   "source": [
    "cv_summary # 정확도; RF,DT 모델이 높음 "
   ]
  },
  {
   "cell_type": "markdown",
   "id": "06357bbd",
   "metadata": {},
   "source": [
    "# 모델 결과 도출 변수별 기여도"
   ]
  },
  {
   "cell_type": "code",
   "execution_count": 54,
   "id": "a898465b",
   "metadata": {
    "scrolled": true
   },
   "outputs": [
    {
     "data": {
      "text/plain": [
       "array([0.85894306, 0.05432679, 0.08673015])"
      ]
     },
     "execution_count": 54,
     "metadata": {},
     "output_type": "execute_result"
    }
   ],
   "source": [
    "# 변수중 답변 영향에 큰 영향을 준 요인 : 'lost_place' 분실장소 88%\n",
    "rf_model.feature_importances_"
   ]
  },
  {
   "cell_type": "code",
   "execution_count": 55,
   "id": "f24afad3",
   "metadata": {
    "scrolled": false
   },
   "outputs": [
    {
     "data": {
      "image/png": "[encoded data removed]",
      "text/plain": [
       "<Figure size 640x480 with 1 Axes>"
      ]
     },
     "metadata": {},
     "output_type": "display_data"
    }
   ],
   "source": [
    "sns.barplot(x=rf_model.feature_importances_, y=x.columns) #숫자가 적은 변수가 중요한 변수\n",
    "plt.show()"
   ]
  },
  {
   "cell_type": "markdown",
   "id": "4588319f",
   "metadata": {},
   "source": [
    "# STEP6. 최종 학습 모델 선택및 테스트 데이터 실험 "
   ]
  },
  {
   "cell_type": "code",
   "execution_count": 56,
   "id": "b0945096",
   "metadata": {},
   "outputs": [],
   "source": [
    "#predict\n",
    "\n",
    "pred = rf_model.predict(x_test)"
   ]
  },
  {
   "cell_type": "code",
   "execution_count": 57,
   "id": "6223d623",
   "metadata": {
    "scrolled": true
   },
   "outputs": [
    {
     "data": {
      "text/html": [
       "<div>\n",
       "<style scoped>\n",
       "    .dataframe tbody tr th:only-of-type {\n",
       "        vertical-align: middle;\n",
       "    }\n",
       "\n",
       "    .dataframe tbody tr th {\n",
       "        vertical-align: top;\n",
       "    }\n",
       "\n",
       "    .dataframe thead th {\n",
       "        text-align: right;\n",
       "    }\n",
       "</style>\n",
       "<table border=\"1\" class=\"dataframe\">\n",
       "  <thead>\n",
       "    <tr style=\"text-align: right;\">\n",
       "      <th></th>\n",
       "      <th>Real_data</th>\n",
       "    </tr>\n",
       "    <tr>\n",
       "      <th>Predict_result</th>\n",
       "      <th></th>\n",
       "    </tr>\n",
       "  </thead>\n",
       "  <tbody>\n",
       "    <tr>\n",
       "      <th>0</th>\n",
       "      <td>43</td>\n",
       "    </tr>\n",
       "    <tr>\n",
       "      <th>1</th>\n",
       "      <td>15</td>\n",
       "    </tr>\n",
       "  </tbody>\n",
       "</table>\n",
       "</div>"
      ],
      "text/plain": [
       "                Real_data\n",
       "Predict_result           \n",
       "0                      43\n",
       "1                      15"
      ]
     },
     "execution_count": 57,
     "metadata": {},
     "output_type": "execute_result"
    }
   ],
   "source": [
    "pred_df = pd.DataFrame({'Predict_result': pred, \n",
    "                       'Real_data': y_test})\n",
    "\n",
    "# 예측분포 확인 \n",
    "pred_df.groupby('Predict_result').count()"
   ]
  },
  {
   "cell_type": "code",
   "execution_count": 58,
   "id": "2ef76471",
   "metadata": {},
   "outputs": [
    {
     "data": {
      "text/plain": [
       "0.25862068965517243"
      ]
     },
     "execution_count": 58,
     "metadata": {},
     "output_type": "execute_result"
    }
   ],
   "source": [
    "pred.mean() #분류 문제이므로 'mean()'을 통해서 '공공기관_분실' 확률 비교가능"
   ]
  },
  {
   "cell_type": "code",
   "execution_count": 59,
   "id": "b9f37d7c",
   "metadata": {
    "scrolled": true
   },
   "outputs": [
    {
     "data": {
      "text/plain": [
       "0.25862068965517243"
      ]
     },
     "execution_count": 59,
     "metadata": {},
     "output_type": "execute_result"
    }
   ],
   "source": [
    "y_test.mean() #실제모델에서 분포 확인 방법"
   ]
  },
  {
   "cell_type": "code",
   "execution_count": 60,
   "id": "f4cac730",
   "metadata": {},
   "outputs": [
    {
     "data": {
      "text/html": [
       "<div>\n",
       "<style scoped>\n",
       "    .dataframe tbody tr th:only-of-type {\n",
       "        vertical-align: middle;\n",
       "    }\n",
       "\n",
       "    .dataframe tbody tr th {\n",
       "        vertical-align: top;\n",
       "    }\n",
       "\n",
       "    .dataframe thead th {\n",
       "        text-align: right;\n",
       "    }\n",
       "</style>\n",
       "<table border=\"1\" class=\"dataframe\">\n",
       "  <thead>\n",
       "    <tr style=\"text-align: right;\">\n",
       "      <th></th>\n",
       "      <th>Predict_result</th>\n",
       "    </tr>\n",
       "    <tr>\n",
       "      <th>Real_data</th>\n",
       "      <th></th>\n",
       "    </tr>\n",
       "  </thead>\n",
       "  <tbody>\n",
       "    <tr>\n",
       "      <th>0</th>\n",
       "      <td>43</td>\n",
       "    </tr>\n",
       "    <tr>\n",
       "      <th>1</th>\n",
       "      <td>15</td>\n",
       "    </tr>\n",
       "  </tbody>\n",
       "</table>\n",
       "</div>"
      ],
      "text/plain": [
       "           Predict_result\n",
       "Real_data                \n",
       "0                      43\n",
       "1                      15"
      ]
     },
     "execution_count": 60,
     "metadata": {},
     "output_type": "execute_result"
    }
   ],
   "source": [
    "# 예측분포 확인 \n",
    "pred_df.groupby('Real_data').count()"
   ]
  },
  {
   "cell_type": "markdown",
   "id": "7654e6b5",
   "metadata": {},
   "source": [
    "# 데이터 검증 방법"
   ]
  },
  {
   "cell_type": "code",
   "execution_count": 61,
   "id": "4c96bb8a",
   "metadata": {},
   "outputs": [
    {
     "data": {
      "image/png": "[encoded data removed]",
      "text/plain": [
       "<Figure size 640x480 with 2 Axes>"
      ]
     },
     "metadata": {},
     "output_type": "display_data"
    }
   ],
   "source": [
    "from sklearn.metrics import confusion_matrix, classification_report\n",
    "\n",
    "#confussion_matrix\n",
    "rf_model = RandomForestClassifier()\n",
    "rf_model.fit(x_smote, y_smote)\n",
    "y_pred = rf_model.predict(x_test)\n",
    "sns.heatmap(confusion_matrix(y_test, y_pred), annot=True)\n",
    "plt.show()"
   ]
  },
  {
   "cell_type": "code",
   "execution_count": 62,
   "id": "8fa96aca",
   "metadata": {},
   "outputs": [
    {
     "name": "stdout",
     "output_type": "stream",
     "text": [
      "              precision    recall  f1-score   support\n",
      "\n",
      "           0       1.00      1.00      1.00        43\n",
      "           1       1.00      1.00      1.00        15\n",
      "\n",
      "    accuracy                           1.00        58\n",
      "   macro avg       1.00      1.00      1.00        58\n",
      "weighted avg       1.00      1.00      1.00        58\n",
      "\n"
     ]
    }
   ],
   "source": [
    "#분류 리포트 \n",
    "print(classification_report(y_test, y_pred))"
   ]
  },
  {
   "cell_type": "markdown",
   "id": "ee08d69b",
   "metadata": {},
   "source": [
    "# Fine_tuning "
   ]
  },
  {
   "cell_type": "code",
   "execution_count": 63,
   "id": "c9516232",
   "metadata": {},
   "outputs": [
    {
     "name": "stdout",
     "output_type": "stream",
     "text": [
      "최적 하이퍼 파라미터:  {'max_depth': 6, 'min_samples_leaf': 8, 'min_samples_split': 8, 'n_estimators': 10}\n",
      "최고 예측 정확도: 1.0000\n"
     ]
    }
   ],
   "source": [
    "# fine tuning\n",
    "from sklearn.model_selection import GridSearchCV\n",
    "\n",
    "params = { 'n_estimators' : [10, 100],\n",
    "           'max_depth' : [6, 8, 10, 12],\n",
    "           'min_samples_leaf' : [8, 12, 18],\n",
    "           'min_samples_split' : [8, 16, 20]\n",
    "            }\n",
    "\n",
    "# GridSearchCV 수행\n",
    "rf = RandomForestClassifier(random_state = 0, n_jobs = -1)\n",
    "grid_cv = GridSearchCV(rf, param_grid = params, cv = 3, n_jobs = -1)\n",
    "grid_cv.fit(x_train, y_train)\n",
    "\n",
    "print('최적 하이퍼 파라미터: ', grid_cv.best_params_)\n",
    "print('최고 예측 정확도: {:.4f}'.format(grid_cv.best_score_))"
   ]
  },
  {
   "cell_type": "code",
   "execution_count": 64,
   "id": "c5662cff",
   "metadata": {},
   "outputs": [
    {
     "data": {
      "text/html": [
       "<style>#sk-container-id-1 {color: black;background-color: white;}#sk-container-id-1 pre{padding: 0;}#sk-container-id-1 div.sk-toggleable {background-color: white;}#sk-container-id-1 label.sk-toggleable__label {cursor: pointer;display: block;width: 100%;margin-bottom: 0;padding: 0.3em;box-sizing: border-box;text-align: center;}#sk-container-id-1 label.sk-toggleable__label-arrow:before {content: \"▸\";float: left;margin-right: 0.25em;color: #696969;}#sk-container-id-1 label.sk-toggleable__label-arrow:hover:before {color: black;}#sk-container-id-1 div.sk-estimator:hover label.sk-toggleable__label-arrow:before {color: black;}#sk-container-id-1 div.sk-toggleable__content {max-height: 0;max-width: 0;overflow: hidden;text-align: left;background-color: #f0f8ff;}#sk-container-id-1 div.sk-toggleable__content pre {margin: 0.2em;color: black;border-radius: 0.25em;background-color: #f0f8ff;}#sk-container-id-1 input.sk-toggleable__control:checked~div.sk-toggleable__content {max-height: 200px;max-width: 100%;overflow: auto;}#sk-container-id-1 input.sk-toggleable__control:checked~label.sk-toggleable__label-arrow:before {content: \"▾\";}#sk-container-id-1 div.sk-estimator input.sk-toggleable__control:checked~label.sk-toggleable__label {background-color: #d4ebff;}#sk-container-id-1 div.sk-label input.sk-toggleable__control:checked~label.sk-toggleable__label {background-color: #d4ebff;}#sk-container-id-1 input.sk-hidden--visually {border: 0;clip: rect(1px 1px 1px 1px);clip: rect(1px, 1px, 1px, 1px);height: 1px;margin: -1px;overflow: hidden;padding: 0;position: absolute;width: 1px;}#sk-container-id-1 div.sk-estimator {font-family: monospace;background-color: #f0f8ff;border: 1px dotted black;border-radius: 0.25em;box-sizing: border-box;margin-bottom: 0.5em;}#sk-container-id-1 div.sk-estimator:hover {background-color: #d4ebff;}#sk-container-id-1 div.sk-parallel-item::after {content: \"\";width: 100%;border-bottom: 1px solid gray;flex-grow: 1;}#sk-container-id-1 div.sk-label:hover label.sk-toggleable__label {background-color: #d4ebff;}#sk-container-id-1 div.sk-serial::before {content: \"\";position: absolute;border-left: 1px solid gray;box-sizing: border-box;top: 0;bottom: 0;left: 50%;z-index: 0;}#sk-container-id-1 div.sk-serial {display: flex;flex-direction: column;align-items: center;background-color: white;padding-right: 0.2em;padding-left: 0.2em;position: relative;}#sk-container-id-1 div.sk-item {position: relative;z-index: 1;}#sk-container-id-1 div.sk-parallel {display: flex;align-items: stretch;justify-content: center;background-color: white;position: relative;}#sk-container-id-1 div.sk-item::before, #sk-container-id-1 div.sk-parallel-item::before {content: \"\";position: absolute;border-left: 1px solid gray;box-sizing: border-box;top: 0;bottom: 0;left: 50%;z-index: -1;}#sk-container-id-1 div.sk-parallel-item {display: flex;flex-direction: column;z-index: 1;position: relative;background-color: white;}#sk-container-id-1 div.sk-parallel-item:first-child::after {align-self: flex-end;width: 50%;}#sk-container-id-1 div.sk-parallel-item:last-child::after {align-self: flex-start;width: 50%;}#sk-container-id-1 div.sk-parallel-item:only-child::after {width: 0;}#sk-container-id-1 div.sk-dashed-wrapped {border: 1px dashed gray;margin: 0 0.4em 0.5em 0.4em;box-sizing: border-box;padding-bottom: 0.4em;background-color: white;}#sk-container-id-1 div.sk-label label {font-family: monospace;font-weight: bold;display: inline-block;line-height: 1.2em;}#sk-container-id-1 div.sk-label-container {text-align: center;}#sk-container-id-1 div.sk-container {/* jupyter's `normalize.less` sets `[hidden] { display: none; }` but bootstrap.min.css set `[hidden] { display: none !important; }` so we also need the `!important` here to be able to override the default hidden behavior on the sphinx rendered scikit-learn.org. See: https://github.com/scikit-learn/scikit-learn/issues/21755 */display: inline-block !important;position: relative;}#sk-container-id-1 div.sk-text-repr-fallback {display: none;}</style><div id=\"sk-container-id-1\" class=\"sk-top-container\"><div class=\"sk-text-repr-fallback\"><pre>RandomForestClassifier(max_depth=6, min_samples_leaf=8, min_samples_split=8,\n",
       "                       n_estimators=10)</pre><b>In a Jupyter environment, please rerun this cell to show the HTML representation or trust the notebook. <br />On GitHub, the HTML representation is unable to render, please try loading this page with nbviewer.org.</b></div><div class=\"sk-container\" hidden><div class=\"sk-item\"><div class=\"sk-estimator sk-toggleable\"><input class=\"sk-toggleable__control sk-hidden--visually\" id=\"sk-estimator-id-1\" type=\"checkbox\" checked><label for=\"sk-estimator-id-1\" class=\"sk-toggleable__label sk-toggleable__label-arrow\">RandomForestClassifier</label><div class=\"sk-toggleable__content\"><pre>RandomForestClassifier(max_depth=6, min_samples_leaf=8, min_samples_split=8,\n",
       "                       n_estimators=10)</pre></div></div></div></div></div>"
      ],
      "text/plain": [
       "RandomForestClassifier(max_depth=6, min_samples_leaf=8, min_samples_split=8,\n",
       "                       n_estimators=10)"
      ]
     },
     "execution_count": 64,
     "metadata": {},
     "output_type": "execute_result"
    }
   ],
   "source": [
    "# 추천된 파라미터로 재학습\n",
    "gb_model = RandomForestClassifier(\n",
    "max_depth = 6, min_samples_leaf = 8, min_samples_split = 8, n_estimators = 10\n",
    "    )\n",
    "gb_model.fit(x_smote, y_smote)"
   ]
  },
  {
   "cell_type": "code",
   "execution_count": 65,
   "id": "813f6ed6",
   "metadata": {},
   "outputs": [
    {
     "data": {
      "text/plain": [
       "1.0"
      ]
     },
     "execution_count": 65,
     "metadata": {},
     "output_type": "execute_result"
    }
   ],
   "source": [
    "# 재학습시 정확도\n",
    "gb_score = gb_model.score(x_test, y_test) \n",
    "gb_score"
   ]
  },
  {
   "cell_type": "code",
   "execution_count": 66,
   "id": "fcbd3da6",
   "metadata": {},
   "outputs": [
    {
     "data": {
      "text/plain": [
       "0"
      ]
     },
     "execution_count": 66,
     "metadata": {},
     "output_type": "execute_result"
    }
   ],
   "source": [
    "# 모델 이용방법; \n",
    "pred = gb_model.predict(x_test)\n",
    "pred[1]"
   ]
  },
  {
   "cell_type": "markdown",
   "id": "4605e12a",
   "metadata": {},
   "source": [
    "# 모델 학습시 활용하는 변수를 최소화 시킨 방법으로 학습 비교"
   ]
  },
  {
   "cell_type": "markdown",
   "id": "c0f6c8a6",
   "metadata": {},
   "source": [
    "# 모델 단순화 : 모델 활용한 서비스 제작 위해서"
   ]
  },
  {
   "cell_type": "code",
   "execution_count": 67,
   "id": "c171762b",
   "metadata": {},
   "outputs": [],
   "source": [
    "y = test_data.type_public\n",
    "x = test_data.lost_place"
   ]
  },
  {
   "cell_type": "code",
   "execution_count": 68,
   "id": "1ea9c216",
   "metadata": {},
   "outputs": [
    {
     "data": {
      "text/plain": [
       "4"
      ]
     },
     "execution_count": 68,
     "metadata": {},
     "output_type": "execute_result"
    }
   ],
   "source": [
    "type(x)\n",
    "x[0]"
   ]
  },
  {
   "cell_type": "code",
   "execution_count": 69,
   "id": "85993481",
   "metadata": {},
   "outputs": [],
   "source": [
    "#x의 1차원을 2차원으로 변환\n",
    "x_scaled = scaler.fit_transform(x.values.reshape(-1, 1))"
   ]
  },
  {
   "cell_type": "code",
   "execution_count": 70,
   "id": "1dcf7216",
   "metadata": {},
   "outputs": [
    {
     "data": {
      "text/plain": [
       "array([[1.  ],\n",
       "       [1.  ],\n",
       "       [0.  ],\n",
       "       [0.  ],\n",
       "       [0.  ],\n",
       "       [0.  ],\n",
       "       [0.5 ],\n",
       "       [0.  ],\n",
       "       [0.  ],\n",
       "       [0.25],\n",
       "       [0.  ],\n",
       "       [0.  ],\n",
       "       [0.5 ],\n",
       "       [0.  ],\n",
       "       [0.  ],\n",
       "       [0.  ],\n",
       "       [0.  ],\n",
       "       [0.  ],\n",
       "       [0.  ],\n",
       "       [0.75],\n",
       "       [0.  ],\n",
       "       [0.  ],\n",
       "       [0.  ],\n",
       "       [0.  ],\n",
       "       [0.  ],\n",
       "       [0.  ],\n",
       "       [0.5 ],\n",
       "       [0.75],\n",
       "       [0.  ],\n",
       "       [0.5 ],\n",
       "       [0.  ],\n",
       "       [1.  ],\n",
       "       [0.  ],\n",
       "       [0.  ],\n",
       "       [1.  ],\n",
       "       [0.  ],\n",
       "       [1.  ],\n",
       "       [0.  ],\n",
       "       [0.  ],\n",
       "       [0.  ],\n",
       "       [0.  ],\n",
       "       [0.5 ],\n",
       "       [0.  ],\n",
       "       [0.  ],\n",
       "       [0.  ],\n",
       "       [0.  ],\n",
       "       [0.5 ],\n",
       "       [0.  ],\n",
       "       [0.  ],\n",
       "       [0.  ],\n",
       "       [0.  ],\n",
       "       [0.75],\n",
       "       [0.  ],\n",
       "       [0.  ],\n",
       "       [0.5 ],\n",
       "       [0.  ],\n",
       "       [0.  ],\n",
       "       [0.5 ],\n",
       "       [0.  ],\n",
       "       [0.  ],\n",
       "       [0.  ],\n",
       "       [0.  ],\n",
       "       [0.  ],\n",
       "       [0.  ],\n",
       "       [0.5 ],\n",
       "       [1.  ],\n",
       "       [0.  ],\n",
       "       [0.  ],\n",
       "       [0.  ],\n",
       "       [0.  ],\n",
       "       [0.  ],\n",
       "       [0.  ],\n",
       "       [0.  ],\n",
       "       [0.  ],\n",
       "       [0.  ],\n",
       "       [0.  ],\n",
       "       [0.  ],\n",
       "       [1.  ],\n",
       "       [1.  ],\n",
       "       [0.  ],\n",
       "       [0.  ],\n",
       "       [0.5 ],\n",
       "       [0.  ],\n",
       "       [0.5 ],\n",
       "       [0.  ],\n",
       "       [0.  ],\n",
       "       [0.  ],\n",
       "       [0.5 ],\n",
       "       [1.  ],\n",
       "       [0.  ],\n",
       "       [0.5 ],\n",
       "       [0.5 ],\n",
       "       [0.  ],\n",
       "       [0.  ],\n",
       "       [0.  ],\n",
       "       [1.  ],\n",
       "       [0.  ],\n",
       "       [0.  ],\n",
       "       [0.  ],\n",
       "       [0.  ],\n",
       "       [1.  ],\n",
       "       [0.  ],\n",
       "       [0.  ],\n",
       "       [1.  ],\n",
       "       [0.5 ],\n",
       "       [0.  ],\n",
       "       [0.  ],\n",
       "       [1.  ],\n",
       "       [0.  ],\n",
       "       [0.  ],\n",
       "       [0.  ],\n",
       "       [0.  ],\n",
       "       [0.25],\n",
       "       [0.  ],\n",
       "       [0.  ],\n",
       "       [0.  ],\n",
       "       [1.  ],\n",
       "       [0.  ],\n",
       "       [0.  ],\n",
       "       [1.  ],\n",
       "       [0.  ],\n",
       "       [0.  ],\n",
       "       [0.5 ],\n",
       "       [1.  ],\n",
       "       [0.  ],\n",
       "       [0.  ],\n",
       "       [0.  ],\n",
       "       [1.  ],\n",
       "       [0.  ],\n",
       "       [0.  ],\n",
       "       [0.5 ],\n",
       "       [0.  ],\n",
       "       [0.  ],\n",
       "       [0.25],\n",
       "       [0.  ],\n",
       "       [0.5 ],\n",
       "       [0.5 ],\n",
       "       [0.  ],\n",
       "       [0.  ],\n",
       "       [0.  ],\n",
       "       [0.  ],\n",
       "       [0.  ],\n",
       "       [0.75],\n",
       "       [0.  ],\n",
       "       [0.25],\n",
       "       [1.  ],\n",
       "       [0.  ],\n",
       "       [0.  ],\n",
       "       [0.25],\n",
       "       [0.  ],\n",
       "       [0.  ],\n",
       "       [0.  ],\n",
       "       [0.  ],\n",
       "       [0.  ],\n",
       "       [0.  ],\n",
       "       [0.  ],\n",
       "       [0.  ],\n",
       "       [0.  ],\n",
       "       [0.  ],\n",
       "       [0.  ],\n",
       "       [1.  ],\n",
       "       [0.  ],\n",
       "       [0.  ],\n",
       "       [0.  ],\n",
       "       [1.  ],\n",
       "       [0.  ],\n",
       "       [0.  ],\n",
       "       [0.  ],\n",
       "       [0.5 ],\n",
       "       [0.  ],\n",
       "       [0.  ],\n",
       "       [0.5 ],\n",
       "       [0.  ],\n",
       "       [0.25],\n",
       "       [0.  ],\n",
       "       [0.5 ],\n",
       "       [0.  ],\n",
       "       [0.5 ],\n",
       "       [0.5 ],\n",
       "       [0.  ],\n",
       "       [0.  ],\n",
       "       [0.  ],\n",
       "       [0.  ],\n",
       "       [0.5 ],\n",
       "       [0.  ],\n",
       "       [1.  ],\n",
       "       [0.  ],\n",
       "       [0.  ],\n",
       "       [0.  ],\n",
       "       [0.  ],\n",
       "       [0.  ],\n",
       "       [1.  ],\n",
       "       [0.75],\n",
       "       [0.  ],\n",
       "       [0.  ],\n",
       "       [0.  ],\n",
       "       [0.  ],\n",
       "       [0.  ],\n",
       "       [0.  ],\n",
       "       [0.  ],\n",
       "       [0.  ],\n",
       "       [0.  ],\n",
       "       [0.  ],\n",
       "       [0.  ],\n",
       "       [0.5 ],\n",
       "       [0.  ],\n",
       "       [1.  ],\n",
       "       [0.  ],\n",
       "       [0.  ],\n",
       "       [0.  ],\n",
       "       [0.  ],\n",
       "       [0.  ],\n",
       "       [0.  ],\n",
       "       [1.  ],\n",
       "       [0.  ],\n",
       "       [0.  ],\n",
       "       [0.  ],\n",
       "       [0.  ],\n",
       "       [0.  ],\n",
       "       [1.  ],\n",
       "       [0.  ],\n",
       "       [0.  ],\n",
       "       [0.  ],\n",
       "       [0.  ],\n",
       "       [0.5 ],\n",
       "       [0.  ],\n",
       "       [0.  ],\n",
       "       [0.  ],\n",
       "       [0.  ],\n",
       "       [0.  ],\n",
       "       [0.  ],\n",
       "       [0.  ],\n",
       "       [0.  ],\n",
       "       [0.  ],\n",
       "       [0.  ],\n",
       "       [0.  ],\n",
       "       [1.  ],\n",
       "       [0.  ],\n",
       "       [0.25],\n",
       "       [0.  ],\n",
       "       [0.  ],\n",
       "       [0.5 ],\n",
       "       [0.5 ],\n",
       "       [1.  ],\n",
       "       [0.5 ],\n",
       "       [0.  ],\n",
       "       [0.  ],\n",
       "       [0.  ],\n",
       "       [0.  ],\n",
       "       [0.  ],\n",
       "       [0.  ],\n",
       "       [0.5 ],\n",
       "       [0.  ],\n",
       "       [0.  ],\n",
       "       [0.  ],\n",
       "       [0.  ],\n",
       "       [0.  ],\n",
       "       [0.5 ],\n",
       "       [0.25],\n",
       "       [0.  ],\n",
       "       [0.  ],\n",
       "       [0.25],\n",
       "       [0.  ],\n",
       "       [0.  ],\n",
       "       [0.  ],\n",
       "       [0.  ],\n",
       "       [0.  ],\n",
       "       [0.  ],\n",
       "       [0.  ],\n",
       "       [0.  ],\n",
       "       [1.  ],\n",
       "       [0.25],\n",
       "       [0.  ],\n",
       "       [0.  ],\n",
       "       [0.  ],\n",
       "       [0.5 ],\n",
       "       [0.  ],\n",
       "       [0.  ],\n",
       "       [0.  ],\n",
       "       [0.  ],\n",
       "       [0.  ],\n",
       "       [0.  ],\n",
       "       [0.  ],\n",
       "       [0.  ],\n",
       "       [0.  ],\n",
       "       [1.  ],\n",
       "       [0.  ],\n",
       "       [0.  ],\n",
       "       [0.  ],\n",
       "       [0.  ]])"
      ]
     },
     "execution_count": 70,
     "metadata": {},
     "output_type": "execute_result"
    }
   ],
   "source": [
    "x_scaled"
   ]
  },
  {
   "cell_type": "code",
   "execution_count": 71,
   "id": "3078d8ec",
   "metadata": {},
   "outputs": [],
   "source": [
    "x_train, x_test , y_train , y_test = train_test_split(x_scaled, y, test_size=.2, random_state=3)  #autocompletion; Jupiter에서는 'tab'"
   ]
  },
  {
   "cell_type": "code",
   "execution_count": 72,
   "id": "dc031db1",
   "metadata": {},
   "outputs": [
    {
     "data": {
      "text/plain": [
       "array([0.])"
      ]
     },
     "execution_count": 72,
     "metadata": {},
     "output_type": "execute_result"
    }
   ],
   "source": [
    "x_train[0]"
   ]
  },
  {
   "cell_type": "code",
   "execution_count": 73,
   "id": "42e40021",
   "metadata": {},
   "outputs": [],
   "source": [
    "smote = SMOTE()\n",
    "x_smote, y_smote = smote.fit_resample(x_train, y_train)"
   ]
  },
  {
   "cell_type": "code",
   "execution_count": 74,
   "id": "c352ab69",
   "metadata": {},
   "outputs": [],
   "source": [
    "# list로 score, cv_score 저장 \n",
    "score_lst_small = []\n",
    "cv_lst_small = []"
   ]
  },
  {
   "cell_type": "code",
   "execution_count": 75,
   "id": "22e65dcd",
   "metadata": {},
   "outputs": [
    {
     "name": "stdout",
     "output_type": "stream",
     "text": [
      "test_score= 0.9827586206896551\n",
      "[1.         0.83333333 1.         0.66666667 0.83333333 0.83333333\n",
      " 0.66666667 0.83333333 1.         1.        ]\n"
     ]
    }
   ],
   "source": [
    "# 회귀분석\n",
    "lr_model = LogisticRegression(random_state=3)\n",
    "lr_score, lr_cv = evaluate_model(lr_model, x_train, y_train, x_test, y_test)\n",
    "lr_score, lr_cv\n",
    "\n",
    "score_lst_small.append(lr_score)\n",
    "cv_lst_small.append(lr_cv)"
   ]
  },
  {
   "cell_type": "code",
   "execution_count": 76,
   "id": "1514d8b5",
   "metadata": {},
   "outputs": [
    {
     "name": "stdout",
     "output_type": "stream",
     "text": [
      "test_score= 1.0\n",
      "[1.         1.         1.         0.83333333 1.         1.\n",
      " 1.         1.         1.         1.        ]\n"
     ]
    }
   ],
   "source": [
    "#의사결정 트리\n",
    "dt_model = DecisionTreeClassifier(random_state=3)\n",
    "dt_score, dt_cv = evaluate_model(dt_model, x_train, y_train, x_test, y_test)\n",
    "dt_score, dt_cv\n",
    "\n",
    "score_lst_small.append(dt_score)\n",
    "cv_lst_small.append(dt_cv)"
   ]
  },
  {
   "cell_type": "code",
   "execution_count": 77,
   "id": "26f48b84",
   "metadata": {},
   "outputs": [
    {
     "name": "stdout",
     "output_type": "stream",
     "text": [
      "test_score= 1.0\n",
      "[1.         1.         1.         0.83333333 1.         1.\n",
      " 1.         1.         1.         1.        ]\n"
     ]
    }
   ],
   "source": [
    "#랜덤 포레스트\n",
    "rf_model = RandomForestClassifier(random_state=3)\n",
    "rf_score, rf_cv = evaluate_model(rf_model, x_train, y_train, x_test, y_test)\n",
    "rf_score, rf_cv\n",
    "\n",
    "score_lst_small.append(rf_score)\n",
    "cv_lst_small.append(rf_cv)"
   ]
  },
  {
   "cell_type": "code",
   "execution_count": 78,
   "id": "abeb8360",
   "metadata": {},
   "outputs": [],
   "source": [
    "#평균, 표준편차 테이블로 비교\n",
    "cv_df = pd.DataFrame(cv_lst_small, index=score_df.index).T\n",
    "cv_summary = pd.DataFrame({'mean': cv_df.mean(),\n",
    "                             'std': cv_df.std()})"
   ]
  },
  {
   "cell_type": "code",
   "execution_count": 79,
   "id": "b99f98e8",
   "metadata": {
    "scrolled": true
   },
   "outputs": [
    {
     "data": {
      "image/png": "[encoded data removed]",
      "text/plain": [
       "<Figure size 640x480 with 1 Axes>"
      ]
     },
     "metadata": {},
     "output_type": "display_data"
    }
   ],
   "source": [
    "cv_df.boxplot()\n",
    "plt.show()"
   ]
  },
  {
   "cell_type": "code",
   "execution_count": 80,
   "id": "7daf2e36",
   "metadata": {
    "scrolled": true
   },
   "outputs": [
    {
     "data": {
      "text/html": [
       "<div>\n",
       "<style scoped>\n",
       "    .dataframe tbody tr th:only-of-type {\n",
       "        vertical-align: middle;\n",
       "    }\n",
       "\n",
       "    .dataframe tbody tr th {\n",
       "        vertical-align: top;\n",
       "    }\n",
       "\n",
       "    .dataframe thead th {\n",
       "        text-align: right;\n",
       "    }\n",
       "</style>\n",
       "<table border=\"1\" class=\"dataframe\">\n",
       "  <thead>\n",
       "    <tr style=\"text-align: right;\">\n",
       "      <th></th>\n",
       "      <th>mean</th>\n",
       "      <th>std</th>\n",
       "    </tr>\n",
       "  </thead>\n",
       "  <tbody>\n",
       "    <tr>\n",
       "      <th>LR</th>\n",
       "      <td>0.866667</td>\n",
       "      <td>0.131468</td>\n",
       "    </tr>\n",
       "    <tr>\n",
       "      <th>DT</th>\n",
       "      <td>0.983333</td>\n",
       "      <td>0.052705</td>\n",
       "    </tr>\n",
       "    <tr>\n",
       "      <th>RF</th>\n",
       "      <td>0.983333</td>\n",
       "      <td>0.052705</td>\n",
       "    </tr>\n",
       "  </tbody>\n",
       "</table>\n",
       "</div>"
      ],
      "text/plain": [
       "        mean       std\n",
       "LR  0.866667  0.131468\n",
       "DT  0.983333  0.052705\n",
       "RF  0.983333  0.052705"
      ]
     },
     "execution_count": 80,
     "metadata": {},
     "output_type": "execute_result"
    }
   ],
   "source": [
    "cv_summary"
   ]
  },
  {
   "cell_type": "code",
   "execution_count": 81,
   "id": "2f11084b",
   "metadata": {},
   "outputs": [
    {
     "data": {
      "text/plain": [
       "[0.9827586206896551, 1.0, 1.0]"
      ]
     },
     "execution_count": 81,
     "metadata": {},
     "output_type": "execute_result"
    }
   ],
   "source": [
    "score_lst_small"
   ]
  },
  {
   "cell_type": "code",
   "execution_count": 82,
   "id": "5e18444d",
   "metadata": {},
   "outputs": [
    {
     "data": {
      "text/plain": [
       "array([[0.  ],\n",
       "       [0.  ],\n",
       "       [0.  ],\n",
       "       [0.  ],\n",
       "       [1.  ],\n",
       "       [0.5 ],\n",
       "       [1.  ],\n",
       "       [0.  ],\n",
       "       [0.  ],\n",
       "       [0.  ],\n",
       "       [0.  ],\n",
       "       [0.  ],\n",
       "       [0.  ],\n",
       "       [0.  ],\n",
       "       [0.  ],\n",
       "       [0.  ],\n",
       "       [0.  ],\n",
       "       [0.  ],\n",
       "       [0.  ],\n",
       "       [0.  ],\n",
       "       [0.5 ],\n",
       "       [0.25],\n",
       "       [0.  ],\n",
       "       [0.5 ],\n",
       "       [1.  ],\n",
       "       [0.  ],\n",
       "       [0.  ],\n",
       "       [0.  ],\n",
       "       [0.  ],\n",
       "       [0.  ],\n",
       "       [0.  ],\n",
       "       [0.  ],\n",
       "       [0.5 ],\n",
       "       [0.  ],\n",
       "       [1.  ],\n",
       "       [0.  ],\n",
       "       [0.5 ],\n",
       "       [0.5 ],\n",
       "       [0.  ],\n",
       "       [0.  ],\n",
       "       [0.  ],\n",
       "       [0.  ],\n",
       "       [0.  ],\n",
       "       [0.  ],\n",
       "       [0.  ],\n",
       "       [0.  ],\n",
       "       [0.5 ],\n",
       "       [1.  ],\n",
       "       [0.  ],\n",
       "       [0.  ],\n",
       "       [0.  ],\n",
       "       [0.  ],\n",
       "       [1.  ],\n",
       "       [1.  ],\n",
       "       [0.  ],\n",
       "       [0.  ],\n",
       "       [0.  ],\n",
       "       [0.  ]])"
      ]
     },
     "execution_count": 82,
     "metadata": {},
     "output_type": "execute_result"
    }
   ],
   "source": [
    "x_test"
   ]
  },
  {
   "cell_type": "code",
   "execution_count": 83,
   "id": "b41ef1e5",
   "metadata": {},
   "outputs": [
    {
     "data": {
      "image/png": "[encoded data removed]",
      "text/plain": [
       "<Figure size 640x480 with 2 Axes>"
      ]
     },
     "metadata": {},
     "output_type": "display_data"
    }
   ],
   "source": [
    "from sklearn.metrics import confusion_matrix, classification_report\n",
    "\n",
    "#confussion_matrix\n",
    "rf_model = RandomForestClassifier()\n",
    "rf_model.fit(x_smote, y_smote)\n",
    "y_pred = rf_model.predict(x_test)\n",
    "sns.heatmap(confusion_matrix(y_test, y_pred), annot=True)\n",
    "plt.show()"
   ]
  },
  {
   "cell_type": "code",
   "execution_count": 84,
   "id": "427c49f3",
   "metadata": {},
   "outputs": [
    {
     "name": "stdout",
     "output_type": "stream",
     "text": [
      "최적 하이퍼 파라미터:  {'max_depth': 6, 'min_samples_leaf': 8, 'min_samples_split': 8, 'n_estimators': 10}\n",
      "최고 예측 정확도: 1.0000\n"
     ]
    }
   ],
   "source": [
    "# fine tuning\n",
    "from sklearn.model_selection import GridSearchCV\n",
    "\n",
    "params = { 'n_estimators' : [10, 100],\n",
    "           'max_depth' : [6, 8, 10, 12],\n",
    "           'min_samples_leaf' : [8, 12, 18],\n",
    "           'min_samples_split' : [8, 16, 20]\n",
    "            }\n",
    "\n",
    "# GridSearchCV 수행\n",
    "rf = RandomForestClassifier(random_state = 0, n_jobs = -1)\n",
    "grid_cv = GridSearchCV(rf, param_grid = params, cv = 3, n_jobs = -1)\n",
    "grid_cv.fit(x_train, y_train)\n",
    "\n",
    "print('최적 하이퍼 파라미터: ', grid_cv.best_params_)\n",
    "print('최고 예측 정확도: {:.4f}'.format(grid_cv.best_score_))"
   ]
  },
  {
   "cell_type": "code",
   "execution_count": 85,
   "id": "a110bdc1",
   "metadata": {},
   "outputs": [
    {
     "data": {
      "text/html": [
       "<style>#sk-container-id-2 {color: black;background-color: white;}#sk-container-id-2 pre{padding: 0;}#sk-container-id-2 div.sk-toggleable {background-color: white;}#sk-container-id-2 label.sk-toggleable__label {cursor: pointer;display: block;width: 100%;margin-bottom: 0;padding: 0.3em;box-sizing: border-box;text-align: center;}#sk-container-id-2 label.sk-toggleable__label-arrow:before {content: \"▸\";float: left;margin-right: 0.25em;color: #696969;}#sk-container-id-2 label.sk-toggleable__label-arrow:hover:before {color: black;}#sk-container-id-2 div.sk-estimator:hover label.sk-toggleable__label-arrow:before {color: black;}#sk-container-id-2 div.sk-toggleable__content {max-height: 0;max-width: 0;overflow: hidden;text-align: left;background-color: #f0f8ff;}#sk-container-id-2 div.sk-toggleable__content pre {margin: 0.2em;color: black;border-radius: 0.25em;background-color: #f0f8ff;}#sk-container-id-2 input.sk-toggleable__control:checked~div.sk-toggleable__content {max-height: 200px;max-width: 100%;overflow: auto;}#sk-container-id-2 input.sk-toggleable__control:checked~label.sk-toggleable__label-arrow:before {content: \"▾\";}#sk-container-id-2 div.sk-estimator input.sk-toggleable__control:checked~label.sk-toggleable__label {background-color: #d4ebff;}#sk-container-id-2 div.sk-label input.sk-toggleable__control:checked~label.sk-toggleable__label {background-color: #d4ebff;}#sk-container-id-2 input.sk-hidden--visually {border: 0;clip: rect(1px 1px 1px 1px);clip: rect(1px, 1px, 1px, 1px);height: 1px;margin: -1px;overflow: hidden;padding: 0;position: absolute;width: 1px;}#sk-container-id-2 div.sk-estimator {font-family: monospace;background-color: #f0f8ff;border: 1px dotted black;border-radius: 0.25em;box-sizing: border-box;margin-bottom: 0.5em;}#sk-container-id-2 div.sk-estimator:hover {background-color: #d4ebff;}#sk-container-id-2 div.sk-parallel-item::after {content: \"\";width: 100%;border-bottom: 1px solid gray;flex-grow: 1;}#sk-container-id-2 div.sk-label:hover label.sk-toggleable__label {background-color: #d4ebff;}#sk-container-id-2 div.sk-serial::before {content: \"\";position: absolute;border-left: 1px solid gray;box-sizing: border-box;top: 0;bottom: 0;left: 50%;z-index: 0;}#sk-container-id-2 div.sk-serial {display: flex;flex-direction: column;align-items: center;background-color: white;padding-right: 0.2em;padding-left: 0.2em;position: relative;}#sk-container-id-2 div.sk-item {position: relative;z-index: 1;}#sk-container-id-2 div.sk-parallel {display: flex;align-items: stretch;justify-content: center;background-color: white;position: relative;}#sk-container-id-2 div.sk-item::before, #sk-container-id-2 div.sk-parallel-item::before {content: \"\";position: absolute;border-left: 1px solid gray;box-sizing: border-box;top: 0;bottom: 0;left: 50%;z-index: -1;}#sk-container-id-2 div.sk-parallel-item {display: flex;flex-direction: column;z-index: 1;position: relative;background-color: white;}#sk-container-id-2 div.sk-parallel-item:first-child::after {align-self: flex-end;width: 50%;}#sk-container-id-2 div.sk-parallel-item:last-child::after {align-self: flex-start;width: 50%;}#sk-container-id-2 div.sk-parallel-item:only-child::after {width: 0;}#sk-container-id-2 div.sk-dashed-wrapped {border: 1px dashed gray;margin: 0 0.4em 0.5em 0.4em;box-sizing: border-box;padding-bottom: 0.4em;background-color: white;}#sk-container-id-2 div.sk-label label {font-family: monospace;font-weight: bold;display: inline-block;line-height: 1.2em;}#sk-container-id-2 div.sk-label-container {text-align: center;}#sk-container-id-2 div.sk-container {/* jupyter's `normalize.less` sets `[hidden] { display: none; }` but bootstrap.min.css set `[hidden] { display: none !important; }` so we also need the `!important` here to be able to override the default hidden behavior on the sphinx rendered scikit-learn.org. See: https://github.com/scikit-learn/scikit-learn/issues/21755 */display: inline-block !important;position: relative;}#sk-container-id-2 div.sk-text-repr-fallback {display: none;}</style><div id=\"sk-container-id-2\" class=\"sk-top-container\"><div class=\"sk-text-repr-fallback\"><pre>RandomForestClassifier(max_depth=6, min_samples_leaf=8, min_samples_split=8,\n",
       "                       n_estimators=10)</pre><b>In a Jupyter environment, please rerun this cell to show the HTML representation or trust the notebook. <br />On GitHub, the HTML representation is unable to render, please try loading this page with nbviewer.org.</b></div><div class=\"sk-container\" hidden><div class=\"sk-item\"><div class=\"sk-estimator sk-toggleable\"><input class=\"sk-toggleable__control sk-hidden--visually\" id=\"sk-estimator-id-2\" type=\"checkbox\" checked><label for=\"sk-estimator-id-2\" class=\"sk-toggleable__label sk-toggleable__label-arrow\">RandomForestClassifier</label><div class=\"sk-toggleable__content\"><pre>RandomForestClassifier(max_depth=6, min_samples_leaf=8, min_samples_split=8,\n",
       "                       n_estimators=10)</pre></div></div></div></div></div>"
      ],
      "text/plain": [
       "RandomForestClassifier(max_depth=6, min_samples_leaf=8, min_samples_split=8,\n",
       "                       n_estimators=10)"
      ]
     },
     "execution_count": 85,
     "metadata": {},
     "output_type": "execute_result"
    }
   ],
   "source": [
    "# 추천된 파라미터로 재학습\n",
    "final_model = RandomForestClassifier(\n",
    "max_depth = 6, min_samples_leaf = 8, min_samples_split = 8, n_estimators = 10\n",
    "    )\n",
    "final_model.fit(x_smote, y_smote)"
   ]
  },
  {
   "cell_type": "code",
   "execution_count": 86,
   "id": "aaa32464",
   "metadata": {},
   "outputs": [
    {
     "data": {
      "text/plain": [
       "1.0"
      ]
     },
     "execution_count": 86,
     "metadata": {},
     "output_type": "execute_result"
    }
   ],
   "source": [
    "# 재학습시 정확도\n",
    "final_score = final_model.score(x_test, y_test) \n",
    "final_score"
   ]
  },
  {
   "cell_type": "code",
   "execution_count": 87,
   "id": "f05fffb9",
   "metadata": {},
   "outputs": [
    {
     "data": {
      "text/plain": [
       "array([[0.        ],\n",
       "       [0.        ],\n",
       "       [0.        ],\n",
       "       [0.        ],\n",
       "       [0.        ],\n",
       "       [0.        ],\n",
       "       [0.        ],\n",
       "       [0.        ],\n",
       "       [0.        ],\n",
       "       [0.        ],\n",
       "       [0.        ],\n",
       "       [0.        ],\n",
       "       [0.        ],\n",
       "       [0.        ],\n",
       "       [0.        ],\n",
       "       [0.        ],\n",
       "       [0.        ],\n",
       "       [1.        ],\n",
       "       [0.5       ],\n",
       "       [0.        ],\n",
       "       [0.        ],\n",
       "       [0.5       ],\n",
       "       [0.75      ],\n",
       "       [0.        ],\n",
       "       [1.        ],\n",
       "       [0.        ],\n",
       "       [0.        ],\n",
       "       [0.        ],\n",
       "       [0.        ],\n",
       "       [0.5       ],\n",
       "       [1.        ],\n",
       "       [0.5       ],\n",
       "       [0.        ],\n",
       "       [0.        ],\n",
       "       [0.        ],\n",
       "       [0.        ],\n",
       "       [0.        ],\n",
       "       [0.        ],\n",
       "       [0.25      ],\n",
       "       [0.        ],\n",
       "       [0.        ],\n",
       "       [1.        ],\n",
       "       [0.        ],\n",
       "       [0.        ],\n",
       "       [0.        ],\n",
       "       [0.        ],\n",
       "       [0.        ],\n",
       "       [0.        ],\n",
       "       [0.        ],\n",
       "       [0.        ],\n",
       "       [0.25      ],\n",
       "       [0.5       ],\n",
       "       [0.        ],\n",
       "       [0.5       ],\n",
       "       [0.        ],\n",
       "       [0.5       ],\n",
       "       [0.        ],\n",
       "       [0.        ],\n",
       "       [0.        ],\n",
       "       [0.        ],\n",
       "       [0.        ],\n",
       "       [0.        ],\n",
       "       [0.        ],\n",
       "       [0.        ],\n",
       "       [1.        ],\n",
       "       [0.        ],\n",
       "       [0.5       ],\n",
       "       [0.        ],\n",
       "       [0.        ],\n",
       "       [0.        ],\n",
       "       [0.        ],\n",
       "       [0.        ],\n",
       "       [0.        ],\n",
       "       [0.        ],\n",
       "       [0.        ],\n",
       "       [0.5       ],\n",
       "       [0.        ],\n",
       "       [0.75      ],\n",
       "       [0.        ],\n",
       "       [1.        ],\n",
       "       [1.        ],\n",
       "       [0.5       ],\n",
       "       [0.        ],\n",
       "       [0.        ],\n",
       "       [0.        ],\n",
       "       [0.        ],\n",
       "       [0.        ],\n",
       "       [1.        ],\n",
       "       [1.        ],\n",
       "       [0.        ],\n",
       "       [0.        ],\n",
       "       [0.        ],\n",
       "       [0.        ],\n",
       "       [0.        ],\n",
       "       [0.5       ],\n",
       "       [0.        ],\n",
       "       [0.        ],\n",
       "       [0.        ],\n",
       "       [0.        ],\n",
       "       [0.        ],\n",
       "       [0.5       ],\n",
       "       [1.        ],\n",
       "       [1.        ],\n",
       "       [0.25      ],\n",
       "       [0.        ],\n",
       "       [1.        ],\n",
       "       [0.        ],\n",
       "       [1.        ],\n",
       "       [0.        ],\n",
       "       [0.        ],\n",
       "       [0.        ],\n",
       "       [0.        ],\n",
       "       [0.        ],\n",
       "       [0.        ],\n",
       "       [1.        ],\n",
       "       [0.        ],\n",
       "       [0.75      ],\n",
       "       [0.        ],\n",
       "       [0.        ],\n",
       "       [0.        ],\n",
       "       [0.        ],\n",
       "       [0.        ],\n",
       "       [0.5       ],\n",
       "       [0.        ],\n",
       "       [0.        ],\n",
       "       [0.        ],\n",
       "       [0.        ],\n",
       "       [0.5       ],\n",
       "       [0.        ],\n",
       "       [0.5       ],\n",
       "       [0.25      ],\n",
       "       [0.        ],\n",
       "       [0.5       ],\n",
       "       [0.        ],\n",
       "       [0.        ],\n",
       "       [1.        ],\n",
       "       [0.75      ],\n",
       "       [0.        ],\n",
       "       [0.        ],\n",
       "       [0.        ],\n",
       "       [0.        ],\n",
       "       [0.25      ],\n",
       "       [0.        ],\n",
       "       [0.        ],\n",
       "       [0.        ],\n",
       "       [0.        ],\n",
       "       [0.        ],\n",
       "       [0.25      ],\n",
       "       [0.        ],\n",
       "       [0.        ],\n",
       "       [0.5       ],\n",
       "       [0.        ],\n",
       "       [0.5       ],\n",
       "       [0.        ],\n",
       "       [0.        ],\n",
       "       [0.        ],\n",
       "       [0.5       ],\n",
       "       [0.        ],\n",
       "       [0.        ],\n",
       "       [0.        ],\n",
       "       [0.        ],\n",
       "       [0.        ],\n",
       "       [0.5       ],\n",
       "       [1.        ],\n",
       "       [0.        ],\n",
       "       [0.        ],\n",
       "       [0.        ],\n",
       "       [0.5       ],\n",
       "       [0.        ],\n",
       "       [0.        ],\n",
       "       [0.        ],\n",
       "       [0.        ],\n",
       "       [0.        ],\n",
       "       [0.        ],\n",
       "       [0.        ],\n",
       "       [0.5       ],\n",
       "       [0.        ],\n",
       "       [0.        ],\n",
       "       [0.        ],\n",
       "       [1.        ],\n",
       "       [0.        ],\n",
       "       [0.25      ],\n",
       "       [1.        ],\n",
       "       [0.        ],\n",
       "       [0.        ],\n",
       "       [0.        ],\n",
       "       [0.        ],\n",
       "       [0.        ],\n",
       "       [0.        ],\n",
       "       [0.        ],\n",
       "       [0.        ],\n",
       "       [1.        ],\n",
       "       [0.        ],\n",
       "       [0.        ],\n",
       "       [0.        ],\n",
       "       [0.5       ],\n",
       "       [0.        ],\n",
       "       [0.        ],\n",
       "       [0.        ],\n",
       "       [0.        ],\n",
       "       [0.75      ],\n",
       "       [1.        ],\n",
       "       [0.5       ],\n",
       "       [0.        ],\n",
       "       [1.        ],\n",
       "       [0.        ],\n",
       "       [0.        ],\n",
       "       [0.        ],\n",
       "       [0.        ],\n",
       "       [0.5       ],\n",
       "       [0.        ],\n",
       "       [0.        ],\n",
       "       [0.        ],\n",
       "       [0.        ],\n",
       "       [0.        ],\n",
       "       [0.        ],\n",
       "       [0.        ],\n",
       "       [0.25      ],\n",
       "       [0.        ],\n",
       "       [0.5       ],\n",
       "       [0.        ],\n",
       "       [0.25      ],\n",
       "       [1.        ],\n",
       "       [0.        ],\n",
       "       [0.        ],\n",
       "       [0.        ],\n",
       "       [0.        ],\n",
       "       [0.        ],\n",
       "       [0.        ],\n",
       "       [0.        ],\n",
       "       [0.        ],\n",
       "       [0.        ],\n",
       "       [0.5       ],\n",
       "       [0.5       ],\n",
       "       [0.5       ],\n",
       "       [0.5       ],\n",
       "       [0.5       ],\n",
       "       [0.5       ],\n",
       "       [0.75      ],\n",
       "       [0.25      ],\n",
       "       [0.5       ],\n",
       "       [0.25      ],\n",
       "       [0.5       ],\n",
       "       [1.        ],\n",
       "       [0.59501327],\n",
       "       [0.54056565],\n",
       "       [1.        ],\n",
       "       [1.        ],\n",
       "       [0.5       ],\n",
       "       [1.        ],\n",
       "       [0.5       ],\n",
       "       [1.        ],\n",
       "       [0.5       ],\n",
       "       [0.5       ],\n",
       "       [0.75      ],\n",
       "       [0.5       ],\n",
       "       [0.5       ],\n",
       "       [0.5       ],\n",
       "       [0.25      ],\n",
       "       [0.5       ],\n",
       "       [0.5       ],\n",
       "       [0.67848598],\n",
       "       [0.5       ],\n",
       "       [0.5       ],\n",
       "       [0.25      ],\n",
       "       [0.25      ],\n",
       "       [0.5       ],\n",
       "       [0.75      ],\n",
       "       [0.25      ],\n",
       "       [1.        ],\n",
       "       [0.5       ],\n",
       "       [0.5       ],\n",
       "       [1.        ],\n",
       "       [0.5       ],\n",
       "       [0.5       ],\n",
       "       [1.        ],\n",
       "       [1.        ],\n",
       "       [0.75      ],\n",
       "       [1.        ],\n",
       "       [0.5       ],\n",
       "       [0.25      ],\n",
       "       [1.        ],\n",
       "       [0.5       ],\n",
       "       [0.5       ],\n",
       "       [1.        ],\n",
       "       [0.5       ],\n",
       "       [0.25      ],\n",
       "       [0.75      ],\n",
       "       [0.5       ],\n",
       "       [0.5       ],\n",
       "       [1.        ],\n",
       "       [1.        ],\n",
       "       [0.25      ],\n",
       "       [0.5       ],\n",
       "       [0.5       ],\n",
       "       [1.        ],\n",
       "       [1.        ],\n",
       "       [1.        ],\n",
       "       [0.5       ],\n",
       "       [0.5       ],\n",
       "       [1.        ],\n",
       "       [0.5       ],\n",
       "       [1.        ],\n",
       "       [0.5       ],\n",
       "       [0.5       ],\n",
       "       [0.5       ],\n",
       "       [0.5       ],\n",
       "       [0.5       ],\n",
       "       [1.        ],\n",
       "       [1.        ],\n",
       "       [0.75      ],\n",
       "       [1.        ],\n",
       "       [1.        ],\n",
       "       [1.        ],\n",
       "       [0.5       ],\n",
       "       [0.5       ],\n",
       "       [0.5       ],\n",
       "       [1.        ],\n",
       "       [0.75      ],\n",
       "       [1.        ],\n",
       "       [1.        ],\n",
       "       [1.        ],\n",
       "       [0.5       ],\n",
       "       [0.5       ],\n",
       "       [0.68361523],\n",
       "       [0.5       ],\n",
       "       [0.5       ],\n",
       "       [0.5       ],\n",
       "       [1.        ],\n",
       "       [0.5       ],\n",
       "       [0.25      ],\n",
       "       [1.        ],\n",
       "       [1.        ],\n",
       "       [0.5       ],\n",
       "       [0.5       ],\n",
       "       [1.        ],\n",
       "       [1.        ],\n",
       "       [0.5       ],\n",
       "       [0.5       ],\n",
       "       [1.        ]])"
      ]
     },
     "execution_count": 87,
     "metadata": {},
     "output_type": "execute_result"
    }
   ],
   "source": [
    "x_smote"
   ]
  },
  {
   "cell_type": "code",
   "execution_count": 88,
   "id": "8e66e847",
   "metadata": {},
   "outputs": [],
   "source": [
    "# 결론; 변수 단일 학습 모델 성능 유사; "
   ]
  },
  {
   "cell_type": "code",
   "execution_count": 89,
   "id": "e71fb15c",
   "metadata": {},
   "outputs": [
    {
     "data": {
      "text/html": [
       "<div>\n",
       "<style scoped>\n",
       "    .dataframe tbody tr th:only-of-type {\n",
       "        vertical-align: middle;\n",
       "    }\n",
       "\n",
       "    .dataframe tbody tr th {\n",
       "        vertical-align: top;\n",
       "    }\n",
       "\n",
       "    .dataframe thead th {\n",
       "        text-align: right;\n",
       "    }\n",
       "</style>\n",
       "<table border=\"1\" class=\"dataframe\">\n",
       "  <thead>\n",
       "    <tr style=\"text-align: right;\">\n",
       "      <th></th>\n",
       "      <th>Input</th>\n",
       "    </tr>\n",
       "  </thead>\n",
       "  <tbody>\n",
       "    <tr>\n",
       "      <th>0</th>\n",
       "      <td>3</td>\n",
       "    </tr>\n",
       "    <tr>\n",
       "      <th>1</th>\n",
       "      <td>4</td>\n",
       "    </tr>\n",
       "    <tr>\n",
       "      <th>2</th>\n",
       "      <td>1</td>\n",
       "    </tr>\n",
       "    <tr>\n",
       "      <th>3</th>\n",
       "      <td>0</td>\n",
       "    </tr>\n",
       "  </tbody>\n",
       "</table>\n",
       "</div>"
      ],
      "text/plain": [
       "   Input\n",
       "0      3\n",
       "1      4\n",
       "2      1\n",
       "3      0"
      ]
     },
     "execution_count": 89,
     "metadata": {},
     "output_type": "execute_result"
    }
   ],
   "source": [
    "data = {'Input': [3, 4, 1, 0]}\n",
    "input_df = pd.DataFrame(data)\n",
    "\n",
    "input_df"
   ]
  },
  {
   "cell_type": "code",
   "execution_count": 90,
   "id": "5e0866b8",
   "metadata": {},
   "outputs": [
    {
     "data": {
      "text/plain": [
       "pandas.core.series.Series"
      ]
     },
     "execution_count": 90,
     "metadata": {},
     "output_type": "execute_result"
    }
   ],
   "source": [
    "x_input = input_df.Input\n",
    "type(x_input)"
   ]
  },
  {
   "cell_type": "code",
   "execution_count": 91,
   "id": "5dbf6ba7",
   "metadata": {},
   "outputs": [],
   "source": [
    "#x의 1차원을 2차원으로 변환\n",
    "x_input_scaled = scaler.fit_transform(x_input.values.reshape(-1, 1)) #비교군이 있어야함"
   ]
  },
  {
   "cell_type": "code",
   "execution_count": 92,
   "id": "f48c930f",
   "metadata": {},
   "outputs": [
    {
     "data": {
      "text/plain": [
       "array([0.75])"
      ]
     },
     "execution_count": 92,
     "metadata": {},
     "output_type": "execute_result"
    }
   ],
   "source": [
    "x_input_scaled[0]"
   ]
  },
  {
   "cell_type": "code",
   "execution_count": 93,
   "id": "de6ae916",
   "metadata": {
    "scrolled": false
   },
   "outputs": [
    {
     "data": {
      "text/plain": [
       "1"
      ]
     },
     "execution_count": 93,
     "metadata": {},
     "output_type": "execute_result"
    }
   ],
   "source": [
    "final_model.predict(x_input_scaled)[0] # 가장 마지막 값을 input으로 두기"
   ]
  },
  {
   "cell_type": "markdown",
   "id": "8b380882",
   "metadata": {},
   "source": [
    "# (extra) 모델을 활용한 조회링크 공유하는 서비스"
   ]
  },
  {
   "cell_type": "code",
   "execution_count": 94,
   "id": "0bbf75bd",
   "metadata": {},
   "outputs": [],
   "source": [
    "from tkinter import *"
   ]
  },
  {
   "cell_type": "code",
   "execution_count": 100,
   "id": "e2365a62",
   "metadata": {},
   "outputs": [
    {
     "name": "stderr",
     "output_type": "stream",
     "text": [
      "C:\\Users\\jangs\\AppData\\Local\\Temp\\ipykernel_8824\\360361484.py:23: FutureWarning: The frame.append method is deprecated and will be removed from pandas in a future version. Use pandas.concat instead.\n",
      "  input_df = input_df.append(new_row, ignore_index=True)\n"
     ]
    },
    {
     "name": "stdout",
     "output_type": "stream",
     "text": [
      "분실물 조회에 참고할수있는 링크가 2개 이상있습니다.\n",
      "기차 분실물조회:  https://www.letskorail.com/ebizcom/cs/guide/lost/lost02.do\n",
      "경찰청 분실물 조회: https://www.lost112.go.kr/\n"
     ]
    }
   ],
   "source": [
    "win = Tk()\n",
    "win.geometry(\"300x100\") #입력 창의 크기 \n",
    "win.option_add(\"*Font\",\"궁서 20\") #입력 칭의 font\n",
    "\n",
    "#문자입력 \n",
    "ent = Entry(win) \n",
    "ent.pack()\n",
    "\n",
    "\n",
    "\n",
    "# 창이 계속 실행되어야 하며 해당 함수 공간에서만 유효;\n",
    "def ent_p():\n",
    "    input_value = ent.get() #입력한 문자열 추출\n",
    "    \n",
    "    # 1. 예시 데이터프레임 생성\n",
    "    data = {'Input': ['기차', '버스', '택시', '기타_공공', '미상'],\n",
    "       'lost_lace': [1, 2, 3, 4, 0]}\n",
    "    input_df = pd.DataFrame(data)\n",
    "    \n",
    "    # 2. 입력 데이터 인코딩\n",
    "    if (input_value == '기차'):\n",
    "        new_row = pd.DataFrame([[1]], columns=['lost_lace'])\n",
    "        input_df = input_df.append(new_row, ignore_index=True)\n",
    "    elif (input_value == '버스'):\n",
    "        new_row = pd.DataFrame([[2]], columns=['lost_lace'])\n",
    "        input_df = input_df.append(new_row, ignore_index=True)\n",
    "    elif (input_value == '택시'):\n",
    "        new_row = pd.DataFrame([[3]], columns=['lost_lace'])\n",
    "        input_df = input_df.append(new_row, ignore_index=True)\n",
    "    elif (input_value == '기타_공공'):\n",
    "        new_row = pd.DataFrame([[4]], columns=['lost_lace'])\n",
    "        input_df = input_df.append(new_row, ignore_index=True)\n",
    "    else :\n",
    "        new_row = pd.DataFrame([[0]], columns=['lost_lace'])\n",
    "        input_df = input_df.append(new_row, ignore_index=True)\n",
    "    \n",
    "    # 3. x의 1차원을 2차원으로 변환; 모델 학습 가능한 데이터로 전환\n",
    "    x_input_scaled = scaler.fit_transform(input_df['lost_lace'].values.reshape(-1, 1)) #비교군이 있어야함\n",
    "    \n",
    "    # 4. 학습 모델에 해당 데이터 적용\n",
    "    result_input = final_model.predict(x_input_scaled)[-1] # 가장 마지막 값이 input값\n",
    "    \n",
    "    # 5. 도출된 결과에 대해서 '분실물 조회 링크 출력'\n",
    "    if(result_input == 1):\n",
    "        print(\"분실물 조회에 참고할수있는 링크가 2개 이상있습니다.\")\n",
    "        if(input_value == '기차'):\n",
    "            print(\"기차 분실물조회:  https://www.letskorail.com/ebizcom/cs/guide/lost/lost02.do\")\n",
    "        elif(input_value == '버스'):\n",
    "                print(\"버스 분실물조회:  http://sinan.9393114.com/html/sub02_1.html?page=3&id=4444&type=read&db=notice&amode=&column=&keyword=&sort= \")\n",
    "        elif(input_value == '택시'):\n",
    "                print(\"택시 분실물조회:  http://www.taxi.or.kr/02/04.php\")\n",
    "        else:\n",
    "            print(\"기타_공공기관 분실물조회: 해당기관에 직접연락 하시는것을 추천해요~\")\n",
    "    else:\n",
    "        print('분실물 조회에 참고할수있는 링크가 1개 있습니다.')\n",
    "    print('경찰청 분실물 조회: https://www.lost112.go.kr/')\n",
    "    \n",
    "# 검색 기능 실행 part\n",
    "btn = Button(win)\n",
    "btn.config(text = \"분실정보 링크조회\")\n",
    "btn.config(command = ent_p)# 연결시킬 함수\n",
    "btn.pack()\n",
    "win.mainloop()"
   ]
  },
  {
   "cell_type": "code",
   "execution_count": null,
   "id": "ae220388",
   "metadata": {},
   "outputs": [],
   "source": []
  }
 ],
 "metadata": {
  "kernelspec": {
   "display_name": "Python 3 (ipykernel)",
   "language": "python",
   "name": "python3"
  },
  "language_info": {
   "codemirror_mode": {
    "name": "ipython",
    "version": 3
   },
   "file_extension": ".py",
   "mimetype": "text/x-python",
   "name": "python",
   "nbconvert_exporter": "python",
   "pygments_lexer": "ipython3",
   "version": "3.11.3"
  }
 },
 "nbformat": 4,
 "nbformat_minor": 5
}
