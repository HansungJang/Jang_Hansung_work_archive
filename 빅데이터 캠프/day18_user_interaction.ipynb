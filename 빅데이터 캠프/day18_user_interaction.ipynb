{
 "cells": [
  {
   "cell_type": "code",
   "execution_count": 37,
   "id": "2a6ee080",
   "metadata": {},
   "outputs": [],
   "source": [
    "from tkinter import *"
   ]
  },
  {
   "cell_type": "code",
   "execution_count": 38,
   "id": "d523242f",
   "metadata": {},
   "outputs": [],
   "source": [
    "import pandas as pd\n",
    "import numpy as np "
   ]
  },
  {
   "cell_type": "markdown",
   "id": "6275e9e6",
   "metadata": {},
   "source": [
    "# STEP7.  사용자에게 입력을 받는 '입력창' 만들기"
   ]
  },
  {
   "cell_type": "markdown",
   "id": "4f642ecb",
   "metadata": {},
   "source": [
    "# INPUT: (분실장소, 분실물품종류, 분실기간)"
   ]
  },
  {
   "cell_type": "markdown",
   "id": "47d736bd",
   "metadata": {},
   "source": [
    "# PROCESS: 입력 문자열:  ','split, encoding_data가공, 모델_학습"
   ]
  },
  {
   "cell_type": "markdown",
   "id": "2d8209e6",
   "metadata": {},
   "source": [
    "# OUTPUT:\n",
    "# <1> (경찰청이외_분실물정보조회_가능여부) : Yes/ No\n",
    "# <2> 조회 링크 URL: \n",
    "\n",
    "#학습모델 분류기준: >> '기차': 1,'버스': 2,'택시': 3,'기타_공공기관': 4, '임의지역': 0\n",
    "\n",
    "#>> No:\n",
    "경찰청: https://www.lost112.go.kr/ \n",
    "#>> 기타_공공기관: 텍스트 입력 기관 검색 자동화? \n",
    "\n",
    "#>> Yes:\n",
    "#>>  기차: https://www.letskorail.com/ebizcom/cs/guide/lost/lost02.do  \n",
    "#>>  버스: http://sinan.9393114.com/html/sub02_1.html?page=3&id=4444&type=read&db=notice&amode=&column=&keyword=&sort=\n",
    "#>>  택시: http://www.taxi.or.kr/02/04.php \n"
   ]
  },
  {
   "cell_type": "code",
   "execution_count": 49,
   "id": "b841cbe7",
   "metadata": {},
   "outputs": [
    {
     "name": "stdout",
     "output_type": "stream",
     "text": [
      "버스\n"
     ]
    },
    {
     "name": "stderr",
     "output_type": "stream",
     "text": [
      "Exception in Tkinter callback\n",
      "Traceback (most recent call last):\n",
      "  File \"C:\\anaconda\\Lib\\tkinter\\__init__.py\", line 1948, in __call__\n",
      "    return self.func(*args)\n",
      "           ^^^^^^^^^^^^^^^^\n",
      "  File \"C:\\Users\\jangs\\AppData\\Local\\Temp\\ipykernel_18248\\1131590255.py\", line 13, in ent_p\n",
      "    copy = a.copy()\n",
      "           ^^^^^^\n",
      "AttributeError: 'str' object has no attribute 'copy'\n"
     ]
    }
   ],
   "source": [
    "win = Tk()\n",
    "win.geometry(\"300x100\") #입력 창의 크기 \n",
    "win.option_add(\"*Font\",\"궁서 20\") #입력 칭의 font\n",
    "\n",
    "#문자입력 \n",
    "ent = Entry(win) \n",
    "ent.pack()\n",
    "copy = []\n",
    "\n",
    "def ent_p():\n",
    "    a = ent.get()\n",
    "    print(a)\n",
    "    copy = a.copy()\n",
    "\n",
    "\n",
    "btn = Button(win)\n",
    "btn.config(text = \"분실정보 링크조회\")\n",
    "btn.config(command = ent_p)# 연결시킬 함수\n",
    "\n",
    "btn.pack()\n",
    "win.mainloop()\n"
   ]
  },
  {
   "cell_type": "code",
   "execution_count": 50,
   "id": "b38dfb4b",
   "metadata": {},
   "outputs": [
    {
     "data": {
      "text/plain": [
       "[]"
      ]
     },
     "execution_count": 50,
     "metadata": {},
     "output_type": "execute_result"
    }
   ],
   "source": [
    "copy"
   ]
  },
  {
   "cell_type": "code",
   "execution_count": 51,
   "id": "ea9ad511",
   "metadata": {},
   "outputs": [
    {
     "name": "stdout",
     "output_type": "stream",
     "text": [
      "<class 'str'>\n"
     ]
    }
   ],
   "source": [
    "win = Tk()\n",
    "win.geometry(\"300x100\") #입력 창의 크기 \n",
    "win.option_add(\"*Font\",\"궁서 20\") #입력 칭의 font\n",
    "\n",
    "#문자입력 \n",
    "ent = Entry(win) \n",
    "ent.pack()\n",
    "\n",
    "# 창이 계속 실행되어야 하며 해당 함수 공간에서만 유효;\n",
    "def ent_p():\n",
    "    a = ent.get()\n",
    "    print(type(a))\n",
    "    \n",
    "\n",
    "\n",
    "btn = Button(win)\n",
    "btn.config(text = \"분실정보 링크조회\")\n",
    "btn.config(command = ent_p)# 연결시킬 함수\n",
    "\n",
    "btn.pack()\n",
    "win.mainloop()\n"
   ]
  },
  {
   "cell_type": "code",
   "execution_count": 44,
   "id": "716b57fb",
   "metadata": {},
   "outputs": [],
   "source": [
    "rt"
   ]
  },
  {
   "cell_type": "code",
   "execution_count": 33,
   "id": "3175dab1",
   "metadata": {
    "scrolled": true
   },
   "outputs": [
    {
     "name": "stderr",
     "output_type": "stream",
     "text": [
      "C:\\Users\\jangs\\AppData\\Local\\Temp\\ipykernel_18248\\188033089.py:23: FutureWarning: The frame.append method is deprecated and will be removed from pandas in a future version. Use pandas.concat instead.\n",
      "  input_df = input_df.append(new_row, ignore_index=True)\n"
     ]
    }
   ],
   "source": [
    "win = Tk()\n",
    "win.geometry(\"300x100\") #입력 창의 크기 \n",
    "win.option_add(\"*Font\",\"궁서 20\") #입력 칭의 font\n",
    "\n",
    "#문자입력 \n",
    "ent = Entry(win) \n",
    "ent.pack()\n",
    "\n",
    "\n",
    "#버튼을 눌렀을때 출력되게 되는 함수\n",
    "def ent_p():\n",
    "    \n",
    "     input_value = ent.get() #입력한 문자열 추출\n",
    "    \n",
    "    # 예시 데이터프레임 생성\n",
    "    data = {'Input': ['기차', '버스', '택시', '기타_공공', '미상'],\n",
    "       'lost_lace': [1, 2, 3, 4, 0]}\n",
    "    input_df = pd.DataFrame(data)\n",
    "    \n",
    "    # 2. 'bus' 값이 데이터프레임에 있는지 확인하고 'lost_lace' 열에 1 삽입\n",
    "    if (input_value == '기차'):\n",
    "        new_row = pd.DataFrame([[1]], columns=['lost_lace'])\n",
    "        #new_row = pd.DataFrame(['버스'], columns=['Input '])\n",
    "        input_df = input_df.append(new_row, ignore_index=True)\n",
    "    elif (input_value == '버스'):\n",
    "        new_row = pd.DataFrame([[2]], columns=['lost_lace'])\n",
    "        #new_row = pd.DataFrame(['버스'], columns=['Input '])\n",
    "        input_df = input_df.append(new_row, ignore_index=True)\n",
    "    elif (input_value == '택시'):\n",
    "        new_row = pd.DataFrame([[3]], columns=['lost_lace'])\n",
    "        #new_row = pd.DataFrame(['버스'], columns=['Input '])\n",
    "        input_df = input_df.append(new_row, ignore_index=True)\n",
    "    elif (input_value == '기타_공공'):\n",
    "        new_row = pd.DataFrame([[4]], columns=['lost_lace'])\n",
    "        #new_row = pd.DataFrame(['버스'], columns=['Input '])\n",
    "        input_df = input_df.append(new_row, ignore_index=True)\n",
    "    else :\n",
    "        new_row = pd.DataFrame([[0]], columns=['lost_lace'])\n",
    "        #new_row = pd.DataFrame(['버스'], columns=['Input '])\n",
    "        input_df = input_df.append(new_row, ignore_index=True)\n",
    "\n",
    "    return input_df\n",
    "    \n",
    "    \n",
    "#버튼 동작\n",
    "btn = Button(win)\n",
    "btn.config(text = \"분실정보 링크조회\")\n",
    "result_df = btn.config(command = ent_p)# 연결시킬 함수\n",
    "btn.pack()\n",
    "win.mainloop()\n"
   ]
  },
  {
   "cell_type": "code",
   "execution_count": 35,
   "id": "2e6512ce",
   "metadata": {},
   "outputs": [],
   "source": [
    "result_df"
   ]
  },
  {
   "cell_type": "code",
   "execution_count": 16,
   "id": "6375487b",
   "metadata": {},
   "outputs": [
    {
     "ename": "ValueError",
     "evalue": "The truth value of a Series is ambiguous. Use a.empty, a.bool(), a.item(), a.any() or a.all().",
     "output_type": "error",
     "traceback": [
      "\u001b[1;31m---------------------------------------------------------------------------\u001b[0m",
      "\u001b[1;31mValueError\u001b[0m                                Traceback (most recent call last)",
      "Cell \u001b[1;32mIn[16], line 21\u001b[0m\n\u001b[0;32m     19\u001b[0m \u001b[38;5;66;03m# 함수 호출\u001b[39;00m\n\u001b[0;32m     20\u001b[0m input_value \u001b[38;5;241m=\u001b[39m \u001b[38;5;124m'\u001b[39m\u001b[38;5;124mbus\u001b[39m\u001b[38;5;124m'\u001b[39m\n\u001b[1;32m---> 21\u001b[0m result_df \u001b[38;5;241m=\u001b[39m process_dataframe(input_value, input_df)\n\u001b[0;32m     23\u001b[0m \u001b[38;5;66;03m# 결과 출력\u001b[39;00m\n\u001b[0;32m     24\u001b[0m \u001b[38;5;28mprint\u001b[39m(result_df)\n",
      "Cell \u001b[1;32mIn[16], line 8\u001b[0m, in \u001b[0;36mprocess_dataframe\u001b[1;34m(input_value, df)\u001b[0m\n\u001b[0;32m      5\u001b[0m df \u001b[38;5;241m=\u001b[39m pd\u001b[38;5;241m.\u001b[39mDataFrame([input_value], columns\u001b[38;5;241m=\u001b[39m[\u001b[38;5;124m'\u001b[39m\u001b[38;5;124mInput\u001b[39m\u001b[38;5;124m'\u001b[39m])\n\u001b[0;32m      7\u001b[0m \u001b[38;5;66;03m# 2. 'bus' 값이 데이터프레임에 있는지 확인하고 'lost_lace' 열에 1 삽입\u001b[39;00m\n\u001b[1;32m----> 8\u001b[0m \u001b[38;5;28;01mif\u001b[39;00m df[\u001b[38;5;124m'\u001b[39m\u001b[38;5;124mInput\u001b[39m\u001b[38;5;124m'\u001b[39m]\u001b[38;5;241m.\u001b[39mstr\u001b[38;5;241m.\u001b[39mcontains(\u001b[38;5;124m'\u001b[39m\u001b[38;5;124mbus\u001b[39m\u001b[38;5;124m'\u001b[39m):\n\u001b[0;32m      9\u001b[0m     df \u001b[38;5;241m=\u001b[39m pd\u001b[38;5;241m.\u001b[39mDataFrame([[\u001b[38;5;241m2\u001b[39m]], columns\u001b[38;5;241m=\u001b[39m[\u001b[38;5;124m'\u001b[39m\u001b[38;5;124mlost_lace\u001b[39m\u001b[38;5;124m'\u001b[39m])\n\u001b[0;32m     10\u001b[0m     \u001b[38;5;66;03m#df = df.append(new_row, ignore_index=True)\u001b[39;00m\n",
      "File \u001b[1;32mC:\\anaconda\\Lib\\site-packages\\pandas\\core\\generic.py:1527\u001b[0m, in \u001b[0;36mNDFrame.__nonzero__\u001b[1;34m(self)\u001b[0m\n\u001b[0;32m   1525\u001b[0m \u001b[38;5;129m@final\u001b[39m\n\u001b[0;32m   1526\u001b[0m \u001b[38;5;28;01mdef\u001b[39;00m \u001b[38;5;21m__nonzero__\u001b[39m(\u001b[38;5;28mself\u001b[39m) \u001b[38;5;241m-\u001b[39m\u001b[38;5;241m>\u001b[39m NoReturn:\n\u001b[1;32m-> 1527\u001b[0m     \u001b[38;5;28;01mraise\u001b[39;00m \u001b[38;5;167;01mValueError\u001b[39;00m(\n\u001b[0;32m   1528\u001b[0m         \u001b[38;5;124mf\u001b[39m\u001b[38;5;124m\"\u001b[39m\u001b[38;5;124mThe truth value of a \u001b[39m\u001b[38;5;132;01m{\u001b[39;00m\u001b[38;5;28mtype\u001b[39m(\u001b[38;5;28mself\u001b[39m)\u001b[38;5;241m.\u001b[39m\u001b[38;5;18m__name__\u001b[39m\u001b[38;5;132;01m}\u001b[39;00m\u001b[38;5;124m is ambiguous. \u001b[39m\u001b[38;5;124m\"\u001b[39m\n\u001b[0;32m   1529\u001b[0m         \u001b[38;5;124m\"\u001b[39m\u001b[38;5;124mUse a.empty, a.bool(), a.item(), a.any() or a.all().\u001b[39m\u001b[38;5;124m\"\u001b[39m\n\u001b[0;32m   1530\u001b[0m     )\n",
      "\u001b[1;31mValueError\u001b[0m: The truth value of a Series is ambiguous. Use a.empty, a.bool(), a.item(), a.any() or a.all()."
     ]
    }
   ],
   "source": [
    "import pandas as pd\n",
    "\n",
    "def process_dataframe(input_value, df):\n",
    "    # 1. 입력 값을 데이터프레임으로 변환\n",
    "    df = pd.DataFrame([input_value], columns=['Input'])\n",
    "\n",
    "    # 2. 'bus' 값이 데이터프레임에 있는지 확인하고 'lost_lace' 열에 1 삽입\n",
    "    if df['Input'].str.contains('bus'):\n",
    "        df = pd.DataFrame([[2]], columns=['lost_lace'])\n",
    "        #df = df.append(new_row, ignore_index=True)\n",
    "\n",
    "    return df\n",
    "\n",
    "# 예시 데이터프레임 생성\n",
    "data = {'Input': ['기차', '버스', '택시', '기타_공공', '미상'],\n",
    "       'lost_lace': [1, 2, 3, 4, 0]}\n",
    "input_df = pd.DataFrame(data)\n",
    "\n",
    "# 함수 호출\n",
    "input_value = 'bus'\n",
    "result_df = process_dataframe(input_value, input_df)\n",
    "\n",
    "# 결과 출력\n",
    "print(result_df)\n"
   ]
  },
  {
   "cell_type": "code",
   "execution_count": 30,
   "id": "a824fc94",
   "metadata": {
    "scrolled": true
   },
   "outputs": [
    {
     "name": "stdout",
     "output_type": "stream",
     "text": [
      "   Input  lost_lace\n",
      "0     기차          1\n",
      "1     버스          2\n",
      "2     택시          3\n",
      "3  기타_공공          4\n",
      "4     미상          0\n",
      "5    NaN          3\n"
     ]
    },
    {
     "name": "stderr",
     "output_type": "stream",
     "text": [
      "C:\\Users\\jangs\\AppData\\Local\\Temp\\ipykernel_18248\\1363418992.py:20: FutureWarning: The frame.append method is deprecated and will be removed from pandas in a future version. Use pandas.concat instead.\n",
      "  df = df.append(new_row, ignore_index=True)\n"
     ]
    },
    {
     "data": {
      "text/plain": [
       "0    1\n",
       "1    2\n",
       "2    3\n",
       "3    4\n",
       "4    0\n",
       "5    3\n",
       "Name: lost_lace, dtype: int64"
      ]
     },
     "execution_count": 30,
     "metadata": {},
     "output_type": "execute_result"
    }
   ],
   "source": [
    "import pandas as pd\n",
    "\n",
    "def process_dataframe(input_value, df):\n",
    "    # 1. 입력 값을 데이터프레임으로 변환\n",
    "    #input_df = pd.DataFrame([input_value], columns=['Input'])\n",
    "  \n",
    "\n",
    "    # 2. 'bus' 값이 데이터프레임에 있는지 확인하고 'lost_lace' 열에 1 삽입\n",
    "    if (input_value == '기차'):\n",
    "        new_row = pd.DataFrame([[1]], columns=['lost_lace'])\n",
    "        #new_row = pd.DataFrame(['버스'], columns=['Input '])\n",
    "        df = df.append(new_row, ignore_index=True)\n",
    "    elif (input_value == '버스'):\n",
    "        new_row = pd.DataFrame([[2]], columns=['lost_lace'])\n",
    "        #new_row = pd.DataFrame(['버스'], columns=['Input '])\n",
    "        df = df.append(new_row, ignore_index=True)\n",
    "    elif (input_value == '택시'):\n",
    "        new_row = pd.DataFrame([[3]], columns=['lost_lace'])\n",
    "        #new_row = pd.DataFrame(['버스'], columns=['Input '])\n",
    "        df = df.append(new_row, ignore_index=True)\n",
    "    elif (input_value == '기타_공공'):\n",
    "        new_row = pd.DataFrame([[4]], columns=['lost_lace'])\n",
    "        #new_row = pd.DataFrame(['버스'], columns=['Input '])\n",
    "        df = df.append(new_row, ignore_index=True)\n",
    "    else :\n",
    "        new_row = pd.DataFrame([[0]], columns=['lost_lace'])\n",
    "        #new_row = pd.DataFrame(['버스'], columns=['Input '])\n",
    "        df = df.append(new_row, ignore_index=True)\n",
    "\n",
    "    return df\n",
    "\n",
    "# 예시 데이터프레임 생성\n",
    "data = {'Input': ['기차', '버스', '택시', '기타_공공', '미상'],\n",
    "       'lost_lace': [1, 2, 3, 4, 0]}\n",
    "df = pd.DataFrame(data)\n",
    "\n",
    "\n",
    "\n",
    "\n",
    "# 함수 호출\n",
    "input_value = '택시'\n",
    "result_df = process_dataframe(input_value, df)\n",
    "\n",
    "# 결과 출력\n",
    "print(result_df)\n",
    "result_df['lost_lace']"
   ]
  },
  {
   "cell_type": "markdown",
   "id": "89bbc8ca",
   "metadata": {},
   "source": [
    "# 정해진 입력값에 대해서 인코딩; "
   ]
  },
  {
   "cell_type": "code",
   "execution_count": 52,
   "id": "bfb296ed",
   "metadata": {
    "scrolled": true
   },
   "outputs": [
    {
     "name": "stderr",
     "output_type": "stream",
     "text": [
      "C:\\Users\\jangs\\AppData\\Local\\Temp\\ipykernel_18248\\3775819324.py:26: FutureWarning: The frame.append method is deprecated and will be removed from pandas in a future version. Use pandas.concat instead.\n",
      "  input_df = input_df.append(new_row, ignore_index=True)\n"
     ]
    },
    {
     "name": "stdout",
     "output_type": "stream",
     "text": [
      "0    1\n",
      "1    2\n",
      "2    3\n",
      "3    4\n",
      "4    0\n",
      "5    2\n",
      "Name: lost_lace, dtype: int64\n"
     ]
    }
   ],
   "source": [
    "win = Tk()\n",
    "win.geometry(\"300x100\") #입력 창의 크기 \n",
    "win.option_add(\"*Font\",\"궁서 20\") #입력 칭의 font\n",
    "\n",
    "#문자입력 \n",
    "ent = Entry(win) \n",
    "ent.pack()\n",
    "\n",
    "\n",
    "\n",
    "# 창이 계속 실행되어야 하며 해당 함수 공간에서만 유효;\n",
    "def ent_p():\n",
    "    input_value = ent.get() #입력한 문자열 추출\n",
    "    \n",
    "    # 1. 예시 데이터프레임 생성\n",
    "    data = {'Input': ['기차', '버스', '택시', '기타_공공', '미상'],\n",
    "       'lost_lace': [1, 2, 3, 4, 0]}\n",
    "    input_df = pd.DataFrame(data)\n",
    "    \n",
    "    # 2. 입력 데이터 인코딩\n",
    "    if (input_value == '기차'):\n",
    "        new_row = pd.DataFrame([[1]], columns=['lost_lace'])\n",
    "        #new_row = pd.DataFrame(['버스'], columns=['Input '])\n",
    "        input_df = input_df.append(new_row, ignore_index=True)\n",
    "    elif (input_value == '버스'):\n",
    "        new_row = pd.DataFrame([[2]], columns=['lost_lace'])\n",
    "        #new_row = pd.DataFrame(['버스'], columns=['Input '])\n",
    "        input_df = input_df.append(new_row, ignore_index=True)\n",
    "    elif (input_value == '택시'):\n",
    "        new_row = pd.DataFrame([[3]], columns=['lost_lace'])\n",
    "        #new_row = pd.DataFrame(['버스'], columns=['Input '])\n",
    "        input_df = input_df.append(new_row, ignore_index=True)\n",
    "    elif (input_value == '기타_공공'):\n",
    "        new_row = pd.DataFrame([[4]], columns=['lost_lace'])\n",
    "        #new_row = pd.DataFrame(['버스'], columns=['Input '])\n",
    "        input_df = input_df.append(new_row, ignore_index=True)\n",
    "    else :\n",
    "        new_row = pd.DataFrame([[0]], columns=['lost_lace'])\n",
    "        #new_row = pd.DataFrame(['버스'], columns=['Input '])\n",
    "        input_df = input_df.append(new_row, ignore_index=True)\n",
    "    \n",
    "    # 3. x의 1차원을 2차원으로 변환; 모델 학습 가능한 데이터로 전환\n",
    "    x_input_scaled = scaler.fit_transform(input_df.lost_lace.reshape(-1, 1)) #비교군이 있어야함\n",
    "    \n",
    "    # 4. 학습 모델에 해당 데이터 적용\n",
    "    result_input = final_model.predict(x_input_scaled)[-1] # 가장 마지막 값이 input값\n",
    "    \n",
    "    # 5. 도출된 결과에 대해서 '분실물 조회 링크 출력'\n",
    "    if(result_input == 1):\n",
    "        print(\"분실물 조회에 참고할수있는 링크가 2개 이상있습니다.\")\n",
    "        if(input_df.lost_lace[-1] == 1):\n",
    "            print(\"기차 분실물조회:  https://www.letskorail.com/ebizcom/cs/guide/lost/lost02.do\")\n",
    "        elif(input_df.lost_lace[-1] == 2):\n",
    "                print(\"버스 분실물조회:  http://sinan.9393114.com/html/sub02_1.html?page=3&id=4444&type=read&db=notice&amode=&column=&keyword=&sort= \")\n",
    "        elif(input_df.lost_lace[-1] == 3):\n",
    "                print(\"택시 분실물조회:  http://www.taxi.or.kr/02/04.php\")\n",
    "        else:\n",
    "            print(\"기타_공공기관 분실물조회: 해당기관 웹사이트에 직접연락 하시는것을 추천해요~\")\n",
    "    else:\n",
    "        print('분실물 조회에 참고할수있는 링크가 1개 있습니다.')\n",
    "    print('경찰청 분실물 조회: https://www.lost112.go.kr/')\n",
    "    \n",
    "# 검색 기능 실행 part\n",
    "btn = Button(win)\n",
    "btn.config(text = \"분실정보 링크조회\")\n",
    "btn.config(command = ent_p)# 연결시킬 함수\n",
    "btn.pack()\n",
    "win.mainloop()"
   ]
  },
  {
   "cell_type": "code",
   "execution_count": 69,
   "id": "46c57ae1",
   "metadata": {},
   "outputs": [
    {
     "name": "stdout",
     "output_type": "stream",
     "text": [
      "경찰청: https://www.lost112.go.kr/\n"
     ]
    }
   ],
   "source": [
    "#학습모델 분류기준: >> '기차': 1,'버스': 2,'택시': 3,'기타_공공기관': 4, '임의지역': 0\n",
    "\n",
    "#>> No:\n",
    "print('경찰청: https://www.lost112.go.kr/') \n",
    "#>> 기타_공공기관: 텍스트 입력 기관 검색 자동화? \n",
    "\n",
    "#>> Yes:\n",
    "#>>  기차: https://www.letskorail.com/ebizcom/cs/guide/lost/lost02.do  \n",
    "#>>  버스: http://sinan.9393114.com/html/sub02_1.html?page=3&id=4444&type=read&db=notice&amode=&column=&keyword=&sort=\n",
    "#>>  택시: http://www.taxi.or.kr/02/04.php "
   ]
  },
  {
   "cell_type": "code",
   "execution_count": null,
   "id": "52f4473c",
   "metadata": {},
   "outputs": [],
   "source": []
  }
 ],
 "metadata": {
  "kernelspec": {
   "display_name": "Python 3 (ipykernel)",
   "language": "python",
   "name": "python3"
  },
  "language_info": {
   "codemirror_mode": {
    "name": "ipython",
    "version": 3
   },
   "file_extension": ".py",
   "mimetype": "text/x-python",
   "name": "python",
   "nbconvert_exporter": "python",
   "pygments_lexer": "ipython3",
   "version": "3.11.3"
  }
 },
 "nbformat": 4,
 "nbformat_minor": 5
}
