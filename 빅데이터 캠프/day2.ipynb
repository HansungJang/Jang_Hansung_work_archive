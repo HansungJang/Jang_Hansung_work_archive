{
 "cells": [
  {
   "cell_type": "code",
   "execution_count": 2,
   "id": "690e0397",
   "metadata": {},
   "outputs": [
    {
     "name": "stdout",
     "output_type": "stream",
     "text": [
      "Enter your numbers: 1 2 3\n",
      "6\n"
     ]
    }
   ],
   "source": [
    "num = input(\"Enter your numbers: \")\n",
    "new_num = num.split(' ')\n",
    "\n",
    "for j in range (0, len(new_num)): \n",
    "    new_num[j] = int(new_num[j])\n",
    "    \n",
    "sum = 0\n",
    "for i in range(0, len(new_num)): \n",
    "    sum += new_num[i]\n",
    "\n",
    "print(sum)"
   ]
  },
  {
   "cell_type": "code",
   "execution_count": 3,
   "id": "4f909a84",
   "metadata": {},
   "outputs": [
    {
     "name": "stdout",
     "output_type": "stream",
     "text": [
      "Enter integer num1 2 7 4\n",
      "7\n"
     ]
    }
   ],
   "source": [
    "in_num = input(\"Enter integer num\").split(' ')\n",
    "\n",
    "for i in range (0, len(in_num)): \n",
    "    in_num[i] = int(in_num[i]) \n",
    "\n",
    "max = in_num[0]\n",
    "for j in range (0, len(in_num)):\n",
    "        if(max < in_num[j]): \n",
    "            max = in_num[j] \n",
    "print(max)"
   ]
  },
  {
   "cell_type": "code",
   "execution_count": 8,
   "id": "1cccdf7a",
   "metadata": {},
   "outputs": [
    {
     "name": "stdout",
     "output_type": "stream",
     "text": [
      "가위 바위 보 게임\n",
      "1. 가위\n",
      "2. 바위\n",
      "3. 보\n",
      "0. 종료\n",
      "1-st player (1~0) 값을 입력하세요: 3\n",
      "2-nd player (1~0) 값을 입력하세요: 1\n",
      "congrats winner is 1 player \n",
      "가위 바위 보 게임\n",
      "1. 가위\n",
      "2. 바위\n",
      "3. 보\n",
      "0. 종료\n",
      "1-st player (1~0) 값을 입력하세요: 0\n",
      "2-nd player (1~0) 값을 입력하세요: 0\n",
      "프로그램을 종료합니다\n"
     ]
    }
   ],
   "source": [
    "#input: 2player; (3개의 옵션) / 다른 값을 입력하면 에러메세지 출력\n",
    "\n",
    "\n",
    "play_con = 1 #프로그램 지속 조건\n",
    "win = 0 # 이기는 player\n",
    "\n",
    "while play_con == 1: \n",
    "    print('가위 바위 보 게임\\n1. 가위\\n2. 바위\\n3. 보\\n0. 종료')\n",
    "    first = int(input('1-st player (1~0) 값을 입력하세요: '))\n",
    "    second = int(input('2-nd player (1~0) 값을 입력하세요: '))\n",
    "    \n",
    "  \n",
    "    #종료 조건을 1 or 2 player의 답변을 확인하여 종료  \n",
    "    if(first == 0) or (second == 0): \n",
    "        print('프로그램을 종료합니다')\n",
    "        play_con = 0\n",
    "        break\n",
    "    \n",
    "    if(first == second): \n",
    "        print('비겼습니다')\n",
    "        \n",
    "#이기는 경우 :\n",
    "        1, 3\n",
    "        2, 1\n",
    "        3, 2 \n",
    "    \n",
    "#찾는 함수; 기준 first player; \n",
    "\n",
    "# 1-st player  : 가위 경우 \n",
    "    if (first == 1):\n",
    "        if(second == 2):\n",
    "            win = 2\n",
    "        elif(second == 3): \n",
    "            win = 1\n",
    "\n",
    "# 1-st player  : 바위 경우 \n",
    "    if(first == 2):\n",
    "        if(second == 1):\n",
    "            win = 1\n",
    "        elif(second == 3):\n",
    "            win = 2\n",
    "            \n",
    "\n",
    "# 1-st player  : 보 경우   \n",
    "    if(first == 3):\n",
    "        if(second == 1):\n",
    "            win = 1\n",
    "        elif(second == 2):\n",
    "            win = 2\n",
    "            \n",
    "    print(\"congrats winner is %d player \" %win)\n",
    "            \n",
    "    \n"
   ]
  },
  {
   "cell_type": "markdown",
   "id": "47bbcf8b",
   "metadata": {},
   "source": [
    "#module "
   ]
  },
  {
   "cell_type": "code",
   "execution_count": 14,
   "id": "59691fea",
   "metadata": {},
   "outputs": [
    {
     "data": {
      "text/plain": [
       "['BPF',\n",
       " 'LOG4',\n",
       " 'NV_MAGICCONST',\n",
       " 'RECIP_BPF',\n",
       " 'Random',\n",
       " 'SG_MAGICCONST',\n",
       " 'SystemRandom',\n",
       " 'TWOPI',\n",
       " '_ONE',\n",
       " '_Sequence',\n",
       " '_Set',\n",
       " '__all__',\n",
       " '__builtins__',\n",
       " '__cached__',\n",
       " '__doc__',\n",
       " '__file__',\n",
       " '__loader__',\n",
       " '__name__',\n",
       " '__package__',\n",
       " '__spec__',\n",
       " '_accumulate',\n",
       " '_acos',\n",
       " '_bisect',\n",
       " '_ceil',\n",
       " '_cos',\n",
       " '_e',\n",
       " '_exp',\n",
       " '_floor',\n",
       " '_index',\n",
       " '_inst',\n",
       " '_isfinite',\n",
       " '_log',\n",
       " '_os',\n",
       " '_pi',\n",
       " '_random',\n",
       " '_repeat',\n",
       " '_sha512',\n",
       " '_sin',\n",
       " '_sqrt',\n",
       " '_test',\n",
       " '_test_generator',\n",
       " '_urandom',\n",
       " '_warn',\n",
       " 'betavariate',\n",
       " 'choice',\n",
       " 'choices',\n",
       " 'expovariate',\n",
       " 'gammavariate',\n",
       " 'gauss',\n",
       " 'getrandbits',\n",
       " 'getstate',\n",
       " 'lognormvariate',\n",
       " 'normalvariate',\n",
       " 'paretovariate',\n",
       " 'randbytes',\n",
       " 'randint',\n",
       " 'random',\n",
       " 'randrange',\n",
       " 'sample',\n",
       " 'seed',\n",
       " 'setstate',\n",
       " 'shuffle',\n",
       " 'triangular',\n",
       " 'uniform',\n",
       " 'vonmisesvariate',\n",
       " 'weibullvariate']"
      ]
     },
     "execution_count": 14,
     "metadata": {},
     "output_type": "execute_result"
    }
   ],
   "source": [
    "import random\n",
    "dir(random)"
   ]
  },
  {
   "cell_type": "code",
   "execution_count": 16,
   "id": "f5b194f1",
   "metadata": {},
   "outputs": [
    {
     "data": {
      "text/plain": [
       "2.302585092994046"
      ]
     },
     "execution_count": 16,
     "metadata": {},
     "output_type": "execute_result"
    }
   ],
   "source": [
    "import math \n",
    "from math import pi, sqrt\n",
    "pi\n",
    "sqrt(4)\n",
    "\n",
    "from math import* \n",
    "log(10)"
   ]
  },
  {
   "cell_type": "code",
   "execution_count": null,
   "id": "cbb9e9cb",
   "metadata": {},
   "outputs": [],
   "source": [
    "import taxform "
   ]
  },
  {
   "cell_type": "code",
   "execution_count": 1,
   "id": "a533ffa4",
   "metadata": {},
   "outputs": [
    {
     "name": "stdout",
     "output_type": "stream",
     "text": [
      "Enter the gross income: 15000\n",
      "Enter the number of dependents: 3\n",
      "The income tax is $-16000.00\n"
     ]
    }
   ],
   "source": [
    "import taxform "
   ]
  },
  {
   "cell_type": "code",
   "execution_count": 2,
   "id": "0071ab4f",
   "metadata": {},
   "outputs": [
    {
     "name": "stdout",
     "output_type": "stream",
     "text": [
      "Help on module taxform:\n",
      "\n",
      "NAME\n",
      "    taxform - calculate income tax\n",
      "\n",
      "DATA\n",
      "    add_dec = 9000\n",
      "    dependents = 3\n",
      "    income = 15000.0\n",
      "    std_dec = 10000\n",
      "    tax = -16000.0\n",
      "\n",
      "FILE\n",
      "    c:\\users\\jangs\\taxform.py\n",
      "\n",
      "\n"
     ]
    }
   ],
   "source": [
    "help(taxform)"
   ]
  },
  {
   "cell_type": "code",
   "execution_count": 3,
   "id": "e0353b27",
   "metadata": {},
   "outputs": [],
   "source": [
    "import add_nums"
   ]
  },
  {
   "cell_type": "code",
   "execution_count": 4,
   "id": "603dd1a6",
   "metadata": {},
   "outputs": [
    {
     "name": "stdout",
     "output_type": "stream",
     "text": [
      "Help on module add_nums:\n",
      "\n",
      "NAME\n",
      "    add_nums - # coding: utf-8\n",
      "\n",
      "FUNCTIONS\n",
      "    add_nums(a, b)\n",
      "        This program adds two\n",
      "        numbers and return the result\n",
      "\n",
      "FILE\n",
      "    c:\\users\\jangs\\add_nums.py\n",
      "\n",
      "\n"
     ]
    }
   ],
   "source": [
    "help(add_nums)"
   ]
  },
  {
   "cell_type": "code",
   "execution_count": 5,
   "id": "1bac3daa",
   "metadata": {},
   "outputs": [
    {
     "data": {
      "text/plain": [
       "7"
      ]
     },
     "execution_count": 5,
     "metadata": {},
     "output_type": "execute_result"
    }
   ],
   "source": [
    "add_nums.add_nums(3, 4)"
   ]
  },
  {
   "cell_type": "code",
   "execution_count": 7,
   "id": "35cab50b",
   "metadata": {},
   "outputs": [
    {
     "data": {
      "text/plain": [
       "8"
      ]
     },
     "execution_count": 7,
     "metadata": {},
     "output_type": "execute_result"
    }
   ],
   "source": [
    "from add_nums import add_nums\n",
    "add_nums(3,5)"
   ]
  },
  {
   "cell_type": "code",
   "execution_count": 8,
   "id": "ab6008d8",
   "metadata": {},
   "outputs": [
    {
     "data": {
      "text/plain": [
       "11"
      ]
     },
     "execution_count": 8,
     "metadata": {},
     "output_type": "execute_result"
    }
   ],
   "source": [
    "from add_nums import*\n",
    "add_nums(2,9)"
   ]
  },
  {
   "cell_type": "code",
   "execution_count": 11,
   "id": "6ed224d7",
   "metadata": {},
   "outputs": [
    {
     "data": {
      "text/plain": [
       "8"
      ]
     },
     "execution_count": 11,
     "metadata": {},
     "output_type": "execute_result"
    }
   ],
   "source": [
    "# 받아온 file에서 특정 함수 받아오는 경우\n",
    "from example import add_nums\n",
    "add_nums(3,5)"
   ]
  },
  {
   "cell_type": "code",
   "execution_count": 10,
   "id": "c277211c",
   "metadata": {},
   "outputs": [
    {
     "data": {
      "text/plain": [
       "11"
      ]
     },
     "execution_count": 10,
     "metadata": {},
     "output_type": "execute_result"
    }
   ],
   "source": [
    "# 받아온 file에서 모든 함수 불러오는 경우\n",
    "from example import*\n",
    "add_nums(2,9)"
   ]
  },
  {
   "cell_type": "code",
   "execution_count": 13,
   "id": "f38720ac",
   "metadata": {},
   "outputs": [
    {
     "name": "stdout",
     "output_type": "stream",
     "text": [
      "Help on module example:\n",
      "\n",
      "NAME\n",
      "    example - # coding: utf-8\n",
      "\n",
      "FUNCTIONS\n",
      "    add_nums(a, b)\n",
      "        This program adds two\n",
      "        numbers and return the result\n",
      "\n",
      "FILE\n",
      "    c:\\users\\jangs\\example.py\n",
      "\n",
      "\n"
     ]
    }
   ],
   "source": [
    "import example\n",
    "help(example)"
   ]
  },
  {
   "cell_type": "code",
   "execution_count": 20,
   "id": "2bd1e15e",
   "metadata": {},
   "outputs": [
    {
     "data": {
      "text/plain": [
       "'This EXAMPLE has five words!'"
      ]
     },
     "execution_count": 20,
     "metadata": {},
     "output_type": "execute_result"
    }
   ],
   "source": [
    "input_str = \"This example has five words!\"\n",
    "input_spl = input_str.split(' ')\n",
    "Up_word = input_spl[1].upper()\n",
    "input_spl.insert(1,Up_word)\n",
    "input_spl.remove('example')\n",
    "\n",
    "input_spl = ' '.join(input_spl)\n",
    "input_spl"
   ]
  },
  {
   "cell_type": "code",
   "execution_count": null,
   "id": "1f740bcf",
   "metadata": {},
   "outputs": [],
   "source": []
  }
 ],
 "metadata": {
  "kernelspec": {
   "display_name": "Python 3 (ipykernel)",
   "language": "python",
   "name": "python3"
  },
  "language_info": {
   "codemirror_mode": {
    "name": "ipython",
    "version": 3
   },
   "file_extension": ".py",
   "mimetype": "text/x-python",
   "name": "python",
   "nbconvert_exporter": "python",
   "pygments_lexer": "ipython3",
   "version": "3.11.3"
  }
 },
 "nbformat": 4,
 "nbformat_minor": 5
}
