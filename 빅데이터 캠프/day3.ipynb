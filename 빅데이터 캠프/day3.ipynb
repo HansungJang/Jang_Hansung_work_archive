{
 "cells": [
  {
   "cell_type": "code",
   "execution_count": 27,
   "id": "8895956d",
   "metadata": {
    "scrolled": false
   },
   "outputs": [
    {
     "name": "stdout",
     "output_type": "stream",
     "text": [
      "Enter the investment amount: 10000\n",
      "Enter the year: 5\n",
      "Enter the ratio: 5\n",
      "year\t\tstarting balance\tinterest\tEnding balance\n",
      "1\t\t 10000.00\t\t   500.00\t 10500.00\n",
      "2\t\t 10500.00\t\t   525.00\t 11025.00\n",
      "3\t\t 11025.00\t\t   551.25\t 11576.25\n",
      "4\t\t 11576.25\t\t   578.81\t 12155.06\n",
      "5\t\t 12155.06\t\t   607.75\t 12762.82\n",
      "Ending balance: $12762.82\n",
      "Total interest earned: $2762.82\n"
     ]
    }
   ],
   "source": [
    "inti_inve = float(input('Enter the investment amount: '))\n",
    "start = inti_inve # 초기 투자금 저장\n",
    "\n",
    "year = int(input('Enter the year: '))\n",
    "rate = float(input('Enter the ratio: '))\n",
    "rate *= 0.01 # %연산으로 이자율 환산식\n",
    "benefit = 0 #이자\n",
    "end_bal = 0 #최종 자산\n",
    "total_earn = 0   #최종 이자 수익       \n",
    "\n",
    "#투자 복리 계산 프로그램 \n",
    "print('year\\t\\tstarting balance\\tinterest\\tEnding balance')\n",
    "for x in range(0, year):\n",
    "                  end_bal = inti_inve\n",
    "                  benefit = inti_inve * rate\n",
    "                  end_bal += benefit\n",
    "                  print(\"{}\\t\\t{:9.2f}\\t\\t{:9.2f}\\t{:9.2f}\" .format(x+1, inti_inve, benefit, end_bal ))\n",
    "                  inti_inve += benefit\n",
    "                  total_earn = end_bal\n",
    "#최종수익 , 이자 수익금 출력\n",
    "print('Ending balance: $%.2f' %end_bal)\n",
    "total_earn = end_bal - start\n",
    "print('Total interest earned: $%.2f' %total_earn )"
   ]
  },
  {
   "cell_type": "code",
   "execution_count": 2,
   "id": "8c7f454e",
   "metadata": {},
   "outputs": [
    {
     "name": "stdout",
     "output_type": "stream",
     "text": [
      "Jang님\n",
      "jung님\n"
     ]
    }
   ],
   "source": [
    "#매개변수가 한개인 경우\n",
    "def my_function(fname):\n",
    "    print(fname + \"님\")\n",
    "my_function('Jang')\n",
    "my_function('jung')"
   ]
  },
  {
   "cell_type": "code",
   "execution_count": 4,
   "id": "53066115",
   "metadata": {},
   "outputs": [
    {
     "name": "stdout",
     "output_type": "stream",
     "text": [
      "Jang Han님\n",
      "jung Hun님\n"
     ]
    }
   ],
   "source": [
    "#매개변수가 두개인 경우\n",
    "def my_function(fname, lname):\n",
    "    print(fname +\" \"+lname + \"님\")\n",
    "my_function('Jang', 'Han')\n",
    "my_function('jung', 'Hun')"
   ]
  },
  {
   "cell_type": "code",
   "execution_count": 9,
   "id": "8b7242f8",
   "metadata": {},
   "outputs": [
    {
     "name": "stdout",
     "output_type": "stream",
     "text": [
      "where're you from: Canada\n",
      "I am from Canada\n",
      "I am from Korea\n"
     ]
    }
   ],
   "source": [
    "#input값을 활용한 함수 이용\n",
    "def my_function(country = 'Korea'):\n",
    "    print('I am from ' + country)\n",
    "\n",
    "c_name = input(\"where're you from: \")\n",
    "my_function(c_name)\n",
    "my_function( ) #아무것도 없으면 기본값으로 출력"
   ]
  },
  {
   "cell_type": "code",
   "execution_count": 7,
   "id": "b01b2472",
   "metadata": {},
   "outputs": [
    {
     "name": "stdout",
     "output_type": "stream",
     "text": [
      "pizza\n",
      "sushi\n"
     ]
    }
   ],
   "source": [
    "#list 활용 함수 \n",
    "def my_function(lunch):\n",
    "    for x in lunch:\n",
    "        print(x)\n",
    "\n",
    "my_function(['pizza', 'sushi'])\n"
   ]
  },
  {
   "cell_type": "code",
   "execution_count": 8,
   "id": "c7a233f8",
   "metadata": {},
   "outputs": [
    {
     "name": "stdout",
     "output_type": "stream",
     "text": [
      "15\n"
     ]
    }
   ],
   "source": [
    "#return value가 있는 함수\n",
    "def my_function(x):\n",
    "    return 5*x\n",
    "\n",
    "a = my_function(3)\n",
    "print(a)"
   ]
  },
  {
   "cell_type": "code",
   "execution_count": 14,
   "id": "78fa7a06",
   "metadata": {},
   "outputs": [
    {
     "data": {
      "text/plain": [
       "'Greatest common divisor'"
      ]
     },
     "execution_count": 14,
     "metadata": {},
     "output_type": "execute_result"
    }
   ],
   "source": [
    "def gcd(a, b): \n",
    "    \"Greatest common divisor\"\n",
    "    while a != 0: \n",
    "        a, b = b%a, a \n",
    "    return b\n",
    "gcd.__doc__\n",
    "#gcd(12,20)"
   ]
  },
  {
   "cell_type": "code",
   "execution_count": 15,
   "id": "c9a0db10",
   "metadata": {},
   "outputs": [
    {
     "data": {
      "text/plain": [
       "20.0"
      ]
     },
     "execution_count": 15,
     "metadata": {},
     "output_type": "execute_result"
    }
   ],
   "source": [
    "def degree(f):\n",
    "    c = (f - 32)*(5/9)\n",
    "    return c \n",
    "\n",
    "degree(68)"
   ]
  },
  {
   "cell_type": "code",
   "execution_count": 20,
   "id": "b81a9e12",
   "metadata": {},
   "outputs": [
    {
     "name": "stdout",
     "output_type": "stream",
     "text": [
      "Enter integer array: 1 2 3 4\n",
      "24\n"
     ]
    }
   ],
   "source": [
    "# 사용자에게 list를 입력받아 곱 연산하는 프로그램\n",
    "\n",
    "# 곱하는 함수; \n",
    "def mult_tot(box): \n",
    "    result = 1\n",
    "    for i in box: \n",
    "        result *= i\n",
    "    return result\n",
    "\n",
    "#사용자 list입력 \n",
    "num_arr = input(\"Enter integer array: \").split(' ')\n",
    "size = len(num_arr)\n",
    "\n",
    "#입력값 정수형으로 변환\n",
    "for j in range(0,size): \n",
    "    num_arr[j] = int(num_arr[j])\n",
    "    \n",
    "m_result = mult_tot(num_arr) \n",
    "print(m_result)"
   ]
  },
  {
   "cell_type": "code",
   "execution_count": 36,
   "id": "f9863919",
   "metadata": {},
   "outputs": [
    {
     "data": {
      "text/plain": [
       "'blue'"
      ]
     },
     "execution_count": 36,
     "metadata": {},
     "output_type": "execute_result"
    }
   ],
   "source": [
    "#listofstrings =['a', 'b', 'c']\n",
    "#result = \"**\".join(listofstrings)\n",
    "x = 'blue, red, green'\n",
    "a,b,c = x.split(',')\n",
    "a\n",
    "b\n",
    "c\n",
    "\n"
   ]
  },
  {
   "cell_type": "code",
   "execution_count": 37,
   "id": "808dbdc0",
   "metadata": {},
   "outputs": [
    {
     "name": "stdout",
     "output_type": "stream",
     "text": [
      "문장을 입력하세요 :i am lun\n",
      "Output : ['lun', 'am', 'i']\n"
     ]
    }
   ],
   "source": [
    "def rev(lst): \n",
    "    nlst = []\n",
    "    for i in lst:\n",
    "        nlst.insert(0,i)\n",
    "    return nlst\n",
    "\n",
    "sentence = input('문장을 입력하세요 :')\n",
    "lst = sentence.split()\n",
    "print('Output :', rev(lst))"
   ]
  },
  {
   "cell_type": "code",
   "execution_count": 38,
   "id": "6eb441f7",
   "metadata": {},
   "outputs": [
    {
     "name": "stdout",
     "output_type": "stream",
     "text": [
      "insert str: i love chicken\n"
     ]
    },
    {
     "data": {
      "text/plain": [
       "'nekcihc evol i'"
      ]
     },
     "execution_count": 38,
     "metadata": {},
     "output_type": "execute_result"
    }
   ],
   "source": [
    "def reverse(lst):\n",
    "    return lst[::-1]\n",
    "\n",
    "lst = input('insert str: ')\n",
    "reverse(lst)"
   ]
  },
  {
   "cell_type": "code",
   "execution_count": 10,
   "id": "af760df2",
   "metadata": {},
   "outputs": [
    {
     "name": "stdout",
     "output_type": "stream",
     "text": [
      "<re.Match object; span=(0, 1), match='1'>\n",
      "<re.Match object; span=(0, 1), match='1'>\n",
      "<re.Match object; span=(0, 1), match='1'>\n",
      "<re.Match object; span=(0, 1), match='1'>\n",
      "<re.Match object; span=(0, 1), match='1'>\n",
      "<re.Match object; span=(0, 1), match='1'>\n",
      "<re.Match object; span=(0, 1), match='1'>\n",
      "<re.Match object; span=(0, 1), match='1'>\n",
      "<re.Match object; span=(0, 1), match='1'>\n",
      "<re.Match object; span=(0, 1), match='1'>\n",
      "<re.Match object; span=(0, 1), match='1'>\n"
     ]
    }
   ],
   "source": [
    "from re import match  \n",
    "txt = \"1,1,2,3,5,8,13,21,34,55,89\"\n",
    "#txt_spl = txt.split(',')\n",
    "size = len(txt_spl)\n",
    "\n",
    "for i in range(0,size):\n",
    "    print(match(\"[1-10]+\",txt))"
   ]
  },
  {
   "cell_type": "code",
   "execution_count": 75,
   "id": "f3ced5fd",
   "metadata": {},
   "outputs": [
    {
     "name": "stdout",
     "output_type": "stream",
     "text": [
      "[90, 81, 55, 68, 63, 39, 62, 90, 12, 70]\n",
      "[90, 68, 62, 90, 12, 70]\n"
     ]
    }
   ],
   "source": [
    "\n",
    "\n",
    "def rand_list():\n",
    "    import random\n",
    "    first = []\n",
    "    for i in range(0,10):\n",
    "        first.append(random.randint(1,100))\n",
    "        #first.append(random.choice([1,2,3,4,5]))\n",
    "    return first\n",
    "   # first = random.sample(range(1,100),10)\n",
    "    \n",
    "         #random함수를 이용하여 (1~100)임의 값 할당\n",
    "    #     first.append(random.choice(1,100)) \n",
    "\n",
    "\n",
    "\n",
    "def find_even(num):\n",
    "    new_lst = []\n",
    "    for i in num:\n",
    "        if (i%2 == 0):\n",
    "            new_lst.append(i)\n",
    "    return new_lst\n",
    "\n",
    "original = rand_list() \n",
    "even = find_even(original)\n",
    "print(original)\n",
    "print(even)\n",
    "\n"
   ]
  },
  {
   "cell_type": "code",
   "execution_count": 82,
   "id": "b712ee96",
   "metadata": {},
   "outputs": [
    {
     "name": "stdout",
     "output_type": "stream",
     "text": [
      "Enter your password length: 10\n",
      "[45, 2, ':', 'z', 'i', '>', 't', 'f', 'Y', '<']\n"
     ]
    }
   ],
   "source": [
    "import random\n",
    "\n",
    "#function part\n",
    "def make_password(num):\n",
    "    pass_list = []\n",
    "    ret_lst = []\n",
    "    for i in range(0,num):\n",
    "        pass_list.append(random.choice([1,2,3,4,5]))\n",
    "        #대문자 할당\n",
    "        if pass_list[i] == 1:\n",
    "            ret_lst.append(chr(random.randint(65,91)))\n",
    "        #소문자 할당\n",
    "        elif pass_list[i] == 2:\n",
    "            ret_lst.append(chr(random.randint(97,123)))\n",
    "        #숫자할당\n",
    "        elif pass_list[i] == 3:\n",
    "              ret_lst.append(random.randint(0,9))\n",
    "        #심볼할당(1)\n",
    "        elif pass_list[i] == 4:\n",
    "              ret_lst.append(random.randint(33,47))\n",
    "        #심볼할당(2)\n",
    "        else: \n",
    "            ret_lst.append(chr(random.randint(58,64)))\n",
    "    return ret_lst\n",
    "\n",
    "#main - part \n",
    "num = int(input('Enter your password length: '))\n",
    "password = make_password(num)\n",
    "#password2 = \"\".join(password)\n",
    "print(password)"
   ]
  },
  {
   "cell_type": "code",
   "execution_count": 83,
   "id": "a8d96737",
   "metadata": {},
   "outputs": [
    {
     "name": "stdout",
     "output_type": "stream",
     "text": [
      "암호 길이를 입력하시오: 5\n"
     ]
    },
    {
     "data": {
      "text/plain": [
       "'} ] & l G'"
      ]
     },
     "execution_count": 83,
     "metadata": {},
     "output_type": "execute_result"
    }
   ],
   "source": [
    "import random \n",
    "import string\n",
    "\n",
    "def setpw(length):\n",
    "    random_pw = ' '.join(random.choices(string.ascii_letters + string.digits + string.punctuation, k = length))\n",
    "    return random_pw\n",
    "len = int(input('암호 길이를 입력하시오: '))\n",
    "setpw(len)"
   ]
  },
  {
   "cell_type": "code",
   "execution_count": 89,
   "id": "61dfe8dd",
   "metadata": {},
   "outputs": [
    {
     "name": "stdout",
     "output_type": "stream",
     "text": [
      "<re.Match object; span=(0, 6), match='python'>\n"
     ]
    }
   ],
   "source": [
    "s = \"python\"\n",
    "import re\n",
    "print(re.match (\"[a-z]+\", s ))"
   ]
  },
  {
   "cell_type": "code",
   "execution_count": 1,
   "id": "4470a94c",
   "metadata": {},
   "outputs": [
    {
     "name": "stdout",
     "output_type": "stream",
     "text": [
      "[]\n"
     ]
    }
   ],
   "source": [
    "import re\n",
    "\n",
    "# 텍스트에서 이메일 주소를 찾는 정규 표현식 패턴\n",
    "pattern = r'\\b[A-Za-z0-9._%+-]+@[A-Za-z0-9.-]+\\.[A-Z|a-z]{2,}\\b'\n",
    "\n",
    "# 텍스트\n",
    "text = \"이것은 example123@gmail.com과 john_doe@example.com의 이메일 주소입니다.\"\n",
    "\n",
    "# 정규 표현식에 매칭되는 모든 패턴을 찾기\n",
    "matches = re.findall(pattern, text)\n",
    "\n",
    "# 결과 출력\n",
    "print(matches)"
   ]
  },
  {
   "cell_type": "code",
   "execution_count": 7,
   "id": "46524bf3",
   "metadata": {},
   "outputs": [
    {
     "ename": "TypeError",
     "evalue": "expected string or bytes-like object, got 'list'",
     "output_type": "error",
     "traceback": [
      "\u001b[1;31m---------------------------------------------------------------------------\u001b[0m",
      "\u001b[1;31mTypeError\u001b[0m                                 Traceback (most recent call last)",
      "Cell \u001b[1;32mIn[7], line 7\u001b[0m\n\u001b[0;32m      4\u001b[0m size \u001b[38;5;241m=\u001b[39m \u001b[38;5;28mlen\u001b[39m(txt_spl)\n\u001b[0;32m      6\u001b[0m \u001b[38;5;28;01mfor\u001b[39;00m i \u001b[38;5;129;01min\u001b[39;00m \u001b[38;5;28mrange\u001b[39m(\u001b[38;5;241m0\u001b[39m,size):\n\u001b[1;32m----> 7\u001b[0m     \u001b[38;5;28mprint\u001b[39m(match(\u001b[38;5;124m\"\u001b[39m\u001b[38;5;124m[1-10]+\u001b[39m\u001b[38;5;124m\"\u001b[39m,txt_spl))\n",
      "File \u001b[1;32mC:\\anaconda\\Lib\\re\\__init__.py:166\u001b[0m, in \u001b[0;36mmatch\u001b[1;34m(pattern, string, flags)\u001b[0m\n\u001b[0;32m    163\u001b[0m \u001b[38;5;28;01mdef\u001b[39;00m \u001b[38;5;21mmatch\u001b[39m(pattern, string, flags\u001b[38;5;241m=\u001b[39m\u001b[38;5;241m0\u001b[39m):\n\u001b[0;32m    164\u001b[0m \u001b[38;5;250m    \u001b[39m\u001b[38;5;124;03m\"\"\"Try to apply the pattern at the start of the string, returning\u001b[39;00m\n\u001b[0;32m    165\u001b[0m \u001b[38;5;124;03m    a Match object, or None if no match was found.\"\"\"\u001b[39;00m\n\u001b[1;32m--> 166\u001b[0m     \u001b[38;5;28;01mreturn\u001b[39;00m _compile(pattern, flags)\u001b[38;5;241m.\u001b[39mmatch(string)\n",
      "\u001b[1;31mTypeError\u001b[0m: expected string or bytes-like object, got 'list'"
     ]
    }
   ],
   "source": [
    "from re import match  \n",
    "txt = \"1,1,2,3,5,8,13,21,34,55,89\"\n",
    "txt_spl = txt.split(',')\n",
    "size = len(txt_spl)\n",
    "\n",
    "for i in range(0,size):\n",
    "    print(match(\"[1-10]+\",txt_spl))"
   ]
  },
  {
   "cell_type": "code",
   "execution_count": null,
   "id": "4aeac6d7",
   "metadata": {},
   "outputs": [],
   "source": []
  }
 ],
 "metadata": {
  "kernelspec": {
   "display_name": "Python 3 (ipykernel)",
   "language": "python",
   "name": "python3"
  },
  "language_info": {
   "codemirror_mode": {
    "name": "ipython",
    "version": 3
   },
   "file_extension": ".py",
   "mimetype": "text/x-python",
   "name": "python",
   "nbconvert_exporter": "python",
   "pygments_lexer": "ipython3",
   "version": "3.11.3"
  }
 },
 "nbformat": 4,
 "nbformat_minor": 5
}
