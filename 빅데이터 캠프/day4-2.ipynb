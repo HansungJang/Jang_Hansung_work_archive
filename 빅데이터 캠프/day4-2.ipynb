{
 "cells": [
  {
   "cell_type": "code",
   "execution_count": 1,
   "id": "fc9ef18f",
   "metadata": {},
   "outputs": [],
   "source": [
    "import requests\n",
    "from bs4 import BeautifulSoup\n",
    "page = requests.get('https://www.google.com/travel/things-to-do?dest_mid=%2Fm%2F06qd3&dest_state_type=main&dest_src=yts&q=korea&ved=0CAAQ8IAIahcKEwiIjdL6r66AAxUAAAAAHQAAAAAQDQ')\n",
    "soup = BeautifulSoup (page.content ,'html.parser') \n",
    "\n",
    "#lst = soup.select('.Ld2paf')\n",
    "\n",
    "pimg = [x['data-src'].strip() for x in soup.select('.R1Ybne.YH2pd ')[1:]]\n",
    "place =  [x.text for x in soup.select('.skFvHc.YmWhbc')]\n",
    "score = [float(x.text) for x in soup.select('.KFi5wf.lA0BZ')]\n",
    "review = [x.text for x in soup.select('.jdzyld.XLC8M')]\n"
   ]
  },
  {
   "cell_type": "code",
   "execution_count": 6,
   "id": "2b2b8890",
   "metadata": {},
   "outputs": [
    {
     "data": {
      "text/plain": [
       "[4.6, 4.5, 4.4, 4.8, 4.3, 4.5, 4.4, 4.3]"
      ]
     },
     "execution_count": 6,
     "metadata": {},
     "output_type": "execute_result"
    }
   ],
   "source": [
    "len(score)\n",
    "score"
   ]
  },
  {
   "cell_type": "code",
   "execution_count": 7,
   "id": "82081732",
   "metadata": {},
   "outputs": [
    {
     "data": {
      "text/plain": [
       "['https://encrypted-tbn2.gstatic.com/images?q=tbn:ANd9GcSmXXqjmrqQA4MrzqG1WB36N-LLwR3JiQ9XbIZVGH9xG2i3njKLkFrLHb7JwFmDP6bbh2UQ6Y6wxnhcMIypvzIlZg',\n",
       " 'https://encrypted-tbn2.gstatic.com/images?q=tbn:ANd9GcTdzle413xfrDNuFFWIXCWrKqKDxqwPcE2A-aJsIKdNzMUr_v3mRAgy7e3MdJNLcyiOC6T-Hmzc69E73L8W7HIK1g',\n",
       " 'https://encrypted-tbn2.gstatic.com/images?q=tbn:ANd9GcS5JEXApX46-OzM5j1CQYJFgW4uO4hs9hO7oOe193surKtHTGWaZuUC0O_0kwRjphFRpeDj1SPdSGg9fUyS6_sBrw',\n",
       " 'https://encrypted-tbn3.gstatic.com/images?q=tbn:ANd9GcSG80B2fFOgRjabT0NOmLAeoFN82tAOPhNbOXG-ZX-E4Xfv0TrBGB9GpjdglfzotKquZfL3_vl4FBW8TbWUerex6Q',\n",
       " 'https://encrypted-tbn2.gstatic.com/licensed-image?q=tbn:ANd9GcSx4UlbuQ6A-nQMx33-zlfnOsnizky3CqQf16FwQm1fKiow3ePDJAe73XS33125fGNUH7NgNyOG-jkV-1YEj8IUuA',\n",
       " 'https://encrypted-tbn0.gstatic.com/images?q=tbn:ANd9GcTWFBygjhky9_xlKO17Dd-X6K3jb_xX1d6VTiVsJqmrHidMRUC8bUuBq_25rG7ro68QEAzcFCut8ghkx4kIwsA9Bg',\n",
       " 'https://encrypted-tbn3.gstatic.com/images?q=tbn:ANd9GcR4QTUMEfDDhSycezC7MT3LbU1ewympUM_jZtLrV3LcrGbSsRsjd0kcxn060VylxDktHgykGB9eRxLrSlu6-9waCA',\n",
       " 'https://encrypted-tbn1.gstatic.com/images?q=tbn:ANd9GcRCHoyK6HpCPzmR5iszXYii1ENF93j2VrXIbsCpSZf_PytFalnGY9Tw7BVEKN44oT6Z9wIJw5vLrtiBbZ4ZFWGTyg',\n",
       " 'https://encrypted-tbn3.gstatic.com/images?q=tbn:ANd9GcQBFbKz-oUhExxfM8gluEsCL0sdu2Q3-iUkTChdr1aiM_8esiVyG5gM4BQX5luska8EHPV28A0PWOS7kR7ZYeXdHw',\n",
       " 'https://encrypted-tbn0.gstatic.com/images?q=tbn:ANd9GcQUFP6DX2nVDJJCOEQLydx_Pi-dN7HQoSkDPhVAWeueqZJyReTiaYAg33bhcJdDsS05JV6naY1GEDrI_gafXxKEfg',\n",
       " 'https://encrypted-tbn3.gstatic.com/images?q=tbn:ANd9GcSTmbBEznk_QPsmneyuuCvrm58ztgWBPwuYbKRGPopG1hUXytFaN3LSsLROkm1hm77dZsloBGerJvTCuRikPLZ4DA',\n",
       " 'https://encrypted-tbn0.gstatic.com/images?q=tbn:ANd9GcTGsJV8AdwbKZpW5Q-WC-U7lbnl4Zz-Dn5k9d2Ij-X7juo4ejFCS4Vf-5NJozX8Gge2ie4xp8JLCi7uyEmHMqs6dQ',\n",
       " 'https://encrypted-tbn2.gstatic.com/images?q=tbn:ANd9GcRfK_mO_60CCoy8cy4OcGyw9JzNSO1IGWXNFTKa0JWKshXJozY7kh9UQmFuZWL65ijkRcJ5VcZQXnu9QJmySGwsaA']"
      ]
     },
     "execution_count": 7,
     "metadata": {},
     "output_type": "execute_result"
    }
   ],
   "source": [
    "len(pimg)\n",
    "pimg"
   ]
  },
  {
   "cell_type": "code",
   "execution_count": 8,
   "id": "a18806ca",
   "metadata": {},
   "outputs": [
    {
     "data": {
      "text/plain": [
       "[' (37,773)',\n",
       " ' (53,537)',\n",
       " ' (15,282)',\n",
       " ' (61)',\n",
       " ' (42,310)',\n",
       " ' (7,445)',\n",
       " ' (33,472)',\n",
       " ' (27,115)']"
      ]
     },
     "execution_count": 8,
     "metadata": {},
     "output_type": "execute_result"
    }
   ],
   "source": [
    "len(review)\n",
    "review"
   ]
  },
  {
   "cell_type": "code",
   "execution_count": 10,
   "id": "9c2f23d9",
   "metadata": {},
   "outputs": [
    {
     "data": {
      "text/plain": [
       "['Gyeongbokgung Palace',\n",
       " 'N Seoul Tower',\n",
       " 'Bukchon Hanok Village',\n",
       " 'Myeong-dong',\n",
       " 'Changdeoggung',\n",
       " 'Lotte World',\n",
       " 'Cheonggyecheon',\n",
       " 'Nami Island',\n",
       " 'DDP │ Dongdaemun Design Plaza']"
      ]
     },
     "execution_count": 10,
     "metadata": {},
     "output_type": "execute_result"
    }
   ],
   "source": [
    "len(place)\n",
    "place"
   ]
  },
  {
   "cell_type": "code",
   "execution_count": null,
   "id": "0bb53718",
   "metadata": {},
   "outputs": [],
   "source": []
  }
 ],
 "metadata": {
  "kernelspec": {
   "display_name": "Python 3 (ipykernel)",
   "language": "python",
   "name": "python3"
  },
  "language_info": {
   "codemirror_mode": {
    "name": "ipython",
    "version": 3
   },
   "file_extension": ".py",
   "mimetype": "text/x-python",
   "name": "python",
   "nbconvert_exporter": "python",
   "pygments_lexer": "ipython3",
   "version": "3.11.3"
  }
 },
 "nbformat": 4,
 "nbformat_minor": 5
}
