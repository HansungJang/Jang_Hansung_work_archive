{
 "cells": [
  {
   "cell_type": "code",
   "execution_count": 3,
   "id": "7e0ec559",
   "metadata": {},
   "outputs": [
    {
     "name": "stdout",
     "output_type": "stream",
     "text": [
      "(1~9)범위에서 임의의 숫자가 1개 생성 되었습니다\n",
      "trial 0 / 5\n",
      "예상 숫자를 입력해 주세요: 1\n",
      "up\n",
      "trial 1 / 5\n",
      "예상 숫자를 입력해 주세요: 3\n",
      "correct!\n"
     ]
    }
   ],
   "source": [
    "import random\n",
    "\n",
    "def make_num():\n",
    "    que = random.randint(1,10)\n",
    "    return que \n",
    "\n",
    "mis = make_num()\n",
    "print('(1~9)범위에서 임의의 숫자가 1개 생성 되었습니다')\n",
    "count = 0\n",
    "for i in range(0,5):\n",
    "    print('trial %d / 5' %i)\n",
    "    \n",
    "    ans= int(input('예상 숫자를 입력해 주세요: '))\n",
    "    if(ans < mis ):\n",
    "        print('up')\n",
    "    elif(ans == mis):\n",
    "        print('correct!')\n",
    "        break\n",
    "    else :\n",
    "        print('down')\n",
    "    count = i\n",
    "    \n",
    "if(count >= 5):\n",
    "    print('실패...게임을 종료합니다.')\n",
    "\n",
    "    \n",
    "    \n",
    "    "
   ]
  },
  {
   "cell_type": "code",
   "execution_count": 4,
   "id": "3ff94783",
   "metadata": {},
   "outputs": [
    {
     "name": "stdout",
     "output_type": "stream",
     "text": [
      " advisor: Good morning, I hope you're well today\n",
      " advisor: what can i do for you?('exit' to quit)\n",
      " \n",
      " user: i feel rich\n",
      " advisor:  why do you say that can you explain more\n",
      " user: sure, today i will eat pizza\n",
      " advisor:  why do you say that can you explain more\n",
      " user: i love that\n",
      " advisor:  how's you're feeling\n",
      " user: happ\n",
      " advisor:  why do you say that can you explain more\n",
      " user: exit\n",
      " advisor: have a nice day\n"
     ]
    }
   ],
   "source": [
    "#conselour \n",
    "\n",
    "import random \n",
    "answer = [\"why do you say that can you explain more\", \n",
    "         \"please tell me more about it\",\n",
    "         \"how's you're feeling\"]\n",
    "\n",
    "print(\" advisor: Good morning, I hope you're well today\")\n",
    "print(\" advisor: what can i do for you?('exit' to quit)\\n \")\n",
    "\n",
    "while True:\n",
    "    user_input = input(\" user: \")\n",
    "    if (user_input == 'exit'):\n",
    "        print(' advisor: have a nice day')\n",
    "        break\n",
    "    print(' advisor: ',random.choice(answer))"
   ]
  },
  {
   "cell_type": "code",
   "execution_count": 17,
   "id": "8b9cdf6f",
   "metadata": {},
   "outputs": [
    {
     "data": {
      "text/plain": [
       "'Here is some simple content for this page.'"
      ]
     },
     "execution_count": 17,
     "metadata": {},
     "output_type": "execute_result"
    }
   ],
   "source": [
    "import requests\n",
    "from bs4 import BeautifulSoup\n",
    "\n",
    "page = requests.get('http://dataquestio.github.io/web-scraping-pages/simple.html')\n",
    "page.status_code #상태\n",
    "page.content #상태 (문자열)\n",
    "\n",
    "#soup을 이용하면 문서split할 필요없이 특정 부분만 추출할수 있다. \n",
    "soup =  BeautifulSoup(page.content, 'html.parser')\n",
    "#soup.find('p').text #soup을 이용할때는 tag으로 나뉘어진 부분을 불러오는것\n",
    "#soup.p.get_text()\n",
    "soup.p.string"
   ]
  },
  {
   "cell_type": "code",
   "execution_count": 27,
   "id": "fa328d73",
   "metadata": {},
   "outputs": [
    {
     "name": "stdout",
     "output_type": "stream",
     "text": [
      "<html>\n",
      " <head>\n",
      "  <title>\n",
      "   A simple example page\n",
      "  </title>\n",
      " </head>\n",
      " <body>\n",
      "  <div>\n",
      "   <p class=\"inner-text first-item\" id=\"first\">\n",
      "    First paragraph.\n",
      "   </p>\n",
      "   <p class=\"inner-text\">\n",
      "    Second paragraph.\n",
      "   </p>\n",
      "  </div>\n",
      "  <p class=\"outer-text first-item\" id=\"second\">\n",
      "   <b>\n",
      "    First outer paragraph.\n",
      "   </b>\n",
      "  </p>\n",
      "  <p class=\"outer-text\">\n",
      "   <b>\n",
      "    Second outer paragraph.\n",
      "   </b>\n",
      "  </p>\n",
      " </body>\n",
      "</html>\n",
      "\n"
     ]
    }
   ],
   "source": [
    "page = requests.get('http://dataquestio.github.io/web-scraping-pages/ids_and_classes.html')\n",
    "page.status_code\n",
    "\n",
    "soup =  BeautifulSoup(page.content, 'html.parser')\n",
    "print(soup.prettify())\n",
    "#soup.findAll('p')[0].text.strip()\n",
    "#list로 가져온 링크의 문서를 tag를 연결시킬수 있음. \n",
    "#lst = soup.find_all('p')\n",
    "\n"
   ]
  },
  {
   "cell_type": "code",
   "execution_count": 28,
   "id": "93dc13d5",
   "metadata": {},
   "outputs": [
    {
     "data": {
      "text/plain": [
       "[<p class=\"inner-text first-item\" id=\"first\">\n",
       "                 First paragraph.\n",
       "             </p>,\n",
       " <p class=\"inner-text\">\n",
       "                 Second paragraph.\n",
       "             </p>]"
      ]
     },
     "execution_count": 28,
     "metadata": {},
     "output_type": "execute_result"
    }
   ],
   "source": [
    "#클래스 이름을 지정하고 가져올때 \n",
    "soup.find_all(class_='inner-text')\n",
    "soup.find_all(class_='inner-text')\n",
    "soup.find_all(class_='inner-text')"
   ]
  },
  {
   "cell_type": "code",
   "execution_count": 30,
   "id": "19e4eef8",
   "metadata": {},
   "outputs": [
    {
     "data": {
      "text/plain": [
       "'First paragraph.'"
      ]
     },
     "execution_count": 30,
     "metadata": {},
     "output_type": "execute_result"
    }
   ],
   "source": [
    "#아이디와 매칭이 되는 태그를 가져올때\n",
    "soup.find_all(id ='first') #리스트 안에 들어가 있음\n",
    "soup.find_all(id ='first')[0].text.strip()"
   ]
  },
  {
   "cell_type": "code",
   "execution_count": 32,
   "id": "aabcff8a",
   "metadata": {},
   "outputs": [
    {
     "data": {
      "text/plain": [
       "[<p class=\"inner-text first-item\" id=\"first\">\n",
       "                 First paragraph.\n",
       "             </p>]"
      ]
     },
     "execution_count": 32,
     "metadata": {},
     "output_type": "execute_result"
    }
   ],
   "source": [
    "#특정 태그에 있는 클래스를 가져올때\n",
    "#soup.find_all('p',class_'outer-text')\n",
    "soup.select(\"#first\")"
   ]
  },
  {
   "cell_type": "code",
   "execution_count": 33,
   "id": "755305de",
   "metadata": {},
   "outputs": [
    {
     "data": {
      "text/html": [
       "<div>\n",
       "<style scoped>\n",
       "    .dataframe tbody tr th:only-of-type {\n",
       "        vertical-align: middle;\n",
       "    }\n",
       "\n",
       "    .dataframe tbody tr th {\n",
       "        vertical-align: top;\n",
       "    }\n",
       "\n",
       "    .dataframe thead th {\n",
       "        text-align: right;\n",
       "    }\n",
       "</style>\n",
       "<table border=\"1\" class=\"dataframe\">\n",
       "  <thead>\n",
       "    <tr style=\"text-align: right;\">\n",
       "      <th></th>\n",
       "      <th>Country</th>\n",
       "      <th>Capital</th>\n",
       "      <th>Population</th>\n",
       "    </tr>\n",
       "  </thead>\n",
       "  <tbody>\n",
       "    <tr>\n",
       "      <th>0</th>\n",
       "      <td>Belgium</td>\n",
       "      <td>Brussel</td>\n",
       "      <td>1111111</td>\n",
       "    </tr>\n",
       "    <tr>\n",
       "      <th>1</th>\n",
       "      <td>Idia</td>\n",
       "      <td>New Delhi</td>\n",
       "      <td>1345678</td>\n",
       "    </tr>\n",
       "    <tr>\n",
       "      <th>2</th>\n",
       "      <td>Brazil</td>\n",
       "      <td>Brasilia</td>\n",
       "      <td>4567890</td>\n",
       "    </tr>\n",
       "  </tbody>\n",
       "</table>\n",
       "</div>"
      ],
      "text/plain": [
       "   Country    Capital  Population\n",
       "0  Belgium    Brussel     1111111\n",
       "1     Idia  New Delhi     1345678\n",
       "2   Brazil   Brasilia     4567890"
      ]
     },
     "execution_count": 33,
     "metadata": {},
     "output_type": "execute_result"
    }
   ],
   "source": [
    "\n",
    "# dictionary\n",
    "dict = {'Country': ['Belgium','Idia','Brazil'],\n",
    "'Capital': ['Brussel', 'New Delhi', 'Brasilia'],\n",
    "'Population': [1111111, 1345678, 4567890]}\n",
    "dict\n",
    "\n",
    "\n",
    "import pandas as pd\n",
    "df = pd.DataFrame(dict)\n",
    "df"
   ]
  },
  {
   "cell_type": "code",
   "execution_count": 34,
   "id": "9ab72589",
   "metadata": {},
   "outputs": [
    {
     "data": {
      "text/plain": [
       "['Belgium', 'Idia', 'Brazil']"
      ]
     },
     "execution_count": 34,
     "metadata": {},
     "output_type": "execute_result"
    }
   ],
   "source": [
    "dict['Country']"
   ]
  },
  {
   "cell_type": "code",
   "execution_count": 35,
   "id": "31d796ee",
   "metadata": {},
   "outputs": [
    {
     "data": {
      "text/html": [
       "<div>\n",
       "<style scoped>\n",
       "    .dataframe tbody tr th:only-of-type {\n",
       "        vertical-align: middle;\n",
       "    }\n",
       "\n",
       "    .dataframe tbody tr th {\n",
       "        vertical-align: top;\n",
       "    }\n",
       "\n",
       "    .dataframe thead th {\n",
       "        text-align: right;\n",
       "    }\n",
       "</style>\n",
       "<table border=\"1\" class=\"dataframe\">\n",
       "  <thead>\n",
       "    <tr style=\"text-align: right;\">\n",
       "      <th></th>\n",
       "      <th>0</th>\n",
       "      <th>1</th>\n",
       "      <th>2</th>\n",
       "    </tr>\n",
       "  </thead>\n",
       "  <tbody>\n",
       "    <tr>\n",
       "      <th>0</th>\n",
       "      <td>1</td>\n",
       "      <td>2</td>\n",
       "      <td>3</td>\n",
       "    </tr>\n",
       "    <tr>\n",
       "      <th>1</th>\n",
       "      <td>2</td>\n",
       "      <td>3</td>\n",
       "      <td>4</td>\n",
       "    </tr>\n",
       "  </tbody>\n",
       "</table>\n",
       "</div>"
      ],
      "text/plain": [
       "   0  1  2\n",
       "0  1  2  3\n",
       "1  2  3  4"
      ]
     },
     "execution_count": 35,
     "metadata": {},
     "output_type": "execute_result"
    }
   ],
   "source": [
    "df = pd.DataFrame([[1, 2, 3],[2,3,4]])\n",
    "df"
   ]
  },
  {
   "cell_type": "code",
   "execution_count": 37,
   "id": "ad60c61a",
   "metadata": {},
   "outputs": [
    {
     "data": {
      "text/plain": [
       "0    1\n",
       "1    2\n",
       "Name: a, dtype: int64"
      ]
     },
     "execution_count": 37,
     "metadata": {},
     "output_type": "execute_result"
    }
   ],
   "source": [
    "df = pd.DataFrame([[1, 2, 3],[2,3,4]])\n",
    "df.columns = ['a', 'b', 'c']\n",
    "df.a\n",
    "#df.b"
   ]
  },
  {
   "cell_type": "code",
   "execution_count": 6,
   "id": "daf4a04d",
   "metadata": {},
   "outputs": [],
   "source": [
    "import requests\n",
    "from bs4 import BeautifulSoup\n",
    "\n",
    "page = requests.get('https://en.wikipedia.org/wiki/List_of_state_and_union_territory_capitals_in_India')\n",
    "soup = BeautifulSoup(page.content,'html.parser')\n",
    "#print(soup.prettify())"
   ]
  },
  {
   "cell_type": "code",
   "execution_count": 8,
   "id": "95e030ed",
   "metadata": {},
   "outputs": [
    {
     "name": "stdout",
     "output_type": "stream",
     "text": [
      "[]\n",
      "[<td><b><a href=\"/wiki/Andhra_Pradesh\" title=\"Andhra Pradesh\">Andhra Pradesh</a></b>\n",
      "</td>, <td><a href=\"/wiki/Amaravati\" title=\"Amaravati\">Amaravati</a>\n",
      "</td>, <td>Amaravati\n",
      "</td>, <td>Amaravati\n",
      "</td>, <td>2017\n",
      "</td>, <td><a href=\"/wiki/Hyderabad\" title=\"Hyderabad\">Hyderabad</a><sup class=\"reference\" id=\"cite_ref-3\"><a href=\"#cite_note-3\">[a]</a></sup>(1956–2017)\n",
      "</td>]\n",
      "[<td><b><a href=\"/wiki/Arunachal_Pradesh\" title=\"Arunachal Pradesh\">Arunachal Pradesh</a></b>\n",
      "</td>, <td><a href=\"/wiki/Itanagar\" title=\"Itanagar\">Itanagar</a>\n",
      "</td>, <td>Itanagar\n",
      "</td>, <td><a href=\"/wiki/Guwahati\" title=\"Guwahati\">Guwahati</a>\n",
      "</td>, <td>1987\n",
      "</td>, <td> —\n",
      "</td>]\n",
      "[<td><b><a href=\"/wiki/Assam\" title=\"Assam\">Assam</a></b>\n",
      "</td>, <td><a href=\"/wiki/Dispur\" title=\"Dispur\">Dispur</a>\n",
      "</td>, <td>Dispur\n",
      "</td>, <td><a href=\"/wiki/Guwahati\" title=\"Guwahati\">Guwahati</a>\n",
      "</td>, <td>1972\n",
      "</td>, <td><a href=\"/wiki/Shillong\" title=\"Shillong\">Shillong</a><sup class=\"reference\" id=\"cite_ref-5\"><a href=\"#cite_note-5\">[b]</a></sup> (1950–1972)\n",
      "</td>]\n",
      "[<td><b><a href=\"/wiki/Bihar\" title=\"Bihar\">Bihar</a></b>\n",
      "</td>, <td><a href=\"/wiki/Patna\" title=\"Patna\">Patna</a>\n",
      "</td>, <td>Patna\n",
      "</td>, <td>Patna\n",
      "</td>, <td>1950\n",
      "</td>, <td> —\n",
      "</td>]\n",
      "[<td><b><a href=\"/wiki/Chhattisgarh\" title=\"Chhattisgarh\">Chhattisgarh</a></b>\n",
      "</td>, <td><a href=\"/wiki/Raipur\" title=\"Raipur\">Raipur</a><sup class=\"reference\" id=\"cite_ref-6\"><a href=\"#cite_note-6\">[c]</a></sup>\n",
      "</td>, <td>Raipur\n",
      "</td>, <td><a href=\"/wiki/Bilaspur,_Chhattisgarh\" title=\"Bilaspur, Chhattisgarh\">Bilaspur</a>\n",
      "</td>, <td>2000\n",
      "</td>, <td> —\n",
      "</td>]\n",
      "[<td><b><a href=\"/wiki/Goa\" title=\"Goa\">Goa</a></b>\n",
      "</td>, <td><a href=\"/wiki/Panaji\" title=\"Panaji\">Panaji</a><sup class=\"reference\" id=\"cite_ref-8\"><a href=\"#cite_note-8\">[d]</a></sup>\n",
      "</td>, <td><a href=\"/wiki/Porvorim\" title=\"Porvorim\">Porvorim</a>\n",
      "</td>, <td><a href=\"/wiki/Mumbai\" title=\"Mumbai\">Mumbai</a>\n",
      "</td>, <td>1987\n",
      "</td>, <td> —\n",
      "</td>]\n",
      "[<td><b><a href=\"/wiki/Gujarat\" title=\"Gujarat\">Gujarat</a></b>\n",
      "</td>, <td><a href=\"/wiki/Gandhinagar\" title=\"Gandhinagar\">Gandhinagar</a>\n",
      "</td>, <td>Gandhinagar\n",
      "</td>, <td><a href=\"/wiki/Ahmedabad\" title=\"Ahmedabad\">Ahmedabad</a>\n",
      "</td>, <td>1970\n",
      "</td>, <td>Ahmedabad (1960–1970)\n",
      "</td>]\n",
      "[<td><b><a href=\"/wiki/Haryana\" title=\"Haryana\">Haryana</a></b>\n",
      "</td>, <td><a href=\"/wiki/Chandigarh\" title=\"Chandigarh\">Chandigarh</a>\n",
      "</td>, <td>Chandigarh\n",
      "</td>, <td>Chandigarh\n",
      "</td>, <td>1966\n",
      "</td>, <td> —\n",
      "</td>]\n",
      "[<td><b><a href=\"/wiki/Himachal_Pradesh\" title=\"Himachal Pradesh\">Himachal Pradesh</a></b>\n",
      "</td>, <td><a href=\"/wiki/Shimla\" title=\"Shimla\">Shimla</a>\n",
      "</td>, <td>Shimla (Summer)<br/><a href=\"/wiki/Dharamshala\" title=\"Dharamshala\">Dharamshala</a> (Winter)<sup class=\"reference\" id=\"cite_ref-9\"><a href=\"#cite_note-9\">[5]</a></sup>\n",
      "</td>, <td>Shimla\n",
      "</td>, <td>1971\n",
      "</td>, <td> —\n",
      "</td>]\n",
      "[<td><b><a href=\"/wiki/Jharkhand\" title=\"Jharkhand\">Jharkhand</a></b>\n",
      "</td>, <td><a href=\"/wiki/Ranchi\" title=\"Ranchi\">Ranchi</a>\n",
      "</td>, <td>Ranchi\n",
      "</td>, <td>Ranchi\n",
      "</td>, <td>2000\n",
      "</td>, <td> —\n",
      "</td>]\n",
      "[<td><b><a href=\"/wiki/Karnataka\" title=\"Karnataka\">Karnataka</a></b>\n",
      "</td>, <td><a href=\"/wiki/Bangalore\" title=\"Bangalore\">Bangalore</a>\n",
      "</td>, <td>Bangalore (Summer)<br/>\n",
      "<p><a href=\"/wiki/Belgaum\" title=\"Belgaum\">Belgaum</a> (Winter)\n",
      "</p>\n",
      "</td>, <td>Bangalore\n",
      "</td>, <td>1956\n",
      "</td>, <td> —\n",
      "</td>]\n",
      "[<td><b><a href=\"/wiki/Kerala\" title=\"Kerala\">Kerala</a></b>\n",
      "</td>, <td><a href=\"/wiki/Thiruvananthapuram\" title=\"Thiruvananthapuram\">Thiruvananthapuram</a>\n",
      "</td>, <td>Thiruvananthapuram\n",
      "</td>, <td><a href=\"/wiki/Ernakulam\" title=\"Ernakulam\">Ernakulam</a>\n",
      "</td>, <td>1956\n",
      "</td>, <td> —\n",
      "</td>]\n",
      "[<td><b><a href=\"/wiki/Madhya_Pradesh\" title=\"Madhya Pradesh\">Madhya Pradesh</a></b>\n",
      "</td>, <td><a href=\"/wiki/Bhopal\" title=\"Bhopal\">Bhopal</a>\n",
      "</td>, <td>Bhopal\n",
      "</td>, <td><a href=\"/wiki/Jabalpur\" title=\"Jabalpur\">Jabalpur</a>\n",
      "</td>, <td>1956\n",
      "</td>, <td> —\n",
      "</td>]\n",
      "[<td><b><a href=\"/wiki/Maharashtra\" title=\"Maharashtra\">Maharashtra</a></b>\n",
      "</td>, <td><a href=\"/wiki/Mumbai\" title=\"Mumbai\">Mumbai</a><sup class=\"reference\" id=\"cite_ref-10\"><a href=\"#cite_note-10\">[e]</a></sup>\n",
      "</td>, <td>Mumbai (Summer)<br/><a href=\"/wiki/Nagpur\" title=\"Nagpur\">Nagpur</a> (Winter)\n",
      "</td>, <td>Mumbai\n",
      "</td>, <td>1960\n",
      "</td>, <td> —\n",
      "</td>]\n",
      "[<td><b><a href=\"/wiki/Manipur\" title=\"Manipur\">Manipur</a></b>\n",
      "</td>, <td><a href=\"/wiki/Imphal\" title=\"Imphal\">Imphal</a>\n",
      "</td>, <td>Imphal\n",
      "</td>, <td>Imphal\n",
      "</td>, <td>1972\n",
      "</td>, <td> —\n",
      "</td>]\n",
      "[<td><b><a href=\"/wiki/Meghalaya\" title=\"Meghalaya\">Meghalaya</a></b>\n",
      "</td>, <td><a href=\"/wiki/Shillong\" title=\"Shillong\">Shillong</a>\n",
      "</td>, <td>Shillong\n",
      "</td>, <td>Shillong\n",
      "</td>, <td>1972\n",
      "</td>, <td> —\n",
      "</td>]\n",
      "[<td><b><a href=\"/wiki/Mizoram\" title=\"Mizoram\">Mizoram</a></b>\n",
      "</td>, <td><a href=\"/wiki/Aizawl\" title=\"Aizawl\">Aizawl</a>\n",
      "</td>, <td>Aizawl\n",
      "</td>, <td><a href=\"/wiki/Guwahati\" title=\"Guwahati\">Guwahati</a>\n",
      "</td>, <td>1987\n",
      "</td>, <td> —\n",
      "</td>]\n",
      "[<td><b><a href=\"/wiki/Nagaland\" title=\"Nagaland\">Nagaland</a></b>\n",
      "</td>, <td><a href=\"/wiki/Kohima\" title=\"Kohima\">Kohima</a>\n",
      "</td>, <td>Kohima\n",
      "</td>, <td><a href=\"/wiki/Guwahati\" title=\"Guwahati\">Guwahati</a>\n",
      "</td>, <td>1963\n",
      "</td>, <td> —\n",
      "</td>]\n",
      "[<td><b><a href=\"/wiki/Odisha\" title=\"Odisha\">Odisha</a></b>\n",
      "</td>, <td><a href=\"/wiki/Bhubaneswar\" title=\"Bhubaneswar\">Bhubaneswar</a>\n",
      "</td>, <td>Bhubaneswar\n",
      "</td>, <td><a href=\"/wiki/Cuttack\" title=\"Cuttack\">Cuttack</a>\n",
      "</td>, <td>1950\n",
      "</td>, <td>\n",
      "</td>]\n",
      "[<td><b><a href=\"/wiki/Punjab,_India\" title=\"Punjab, India\">Punjab</a></b>\n",
      "</td>, <td><a href=\"/wiki/Chandigarh\" title=\"Chandigarh\">Chandigarh</a>\n",
      "</td>, <td>Chandigarh\n",
      "</td>, <td>Chandigarh\n",
      "</td>, <td>1966\n",
      "</td>, <td> —\n",
      "</td>]\n",
      "[<td><b><a href=\"/wiki/Rajasthan\" title=\"Rajasthan\">Rajasthan</a></b>\n",
      "</td>, <td><a href=\"/wiki/Jaipur\" title=\"Jaipur\">Jaipur</a>\n",
      "</td>, <td>Jaipur\n",
      "</td>, <td><a href=\"/wiki/Jodhpur\" title=\"Jodhpur\">Jodhpur</a>\n",
      "</td>, <td>1950\n",
      "</td>, <td> —\n",
      "</td>]\n",
      "[<td><b><a href=\"/wiki/Sikkim\" title=\"Sikkim\">Sikkim</a></b>\n",
      "</td>, <td><a href=\"/wiki/Gangtok\" title=\"Gangtok\">Gangtok</a><sup class=\"reference\" id=\"cite_ref-12\"><a href=\"#cite_note-12\">[f]</a></sup>\n",
      "</td>, <td>Gangtok\n",
      "</td>, <td>Gangtok\n",
      "</td>, <td>1975\n",
      "</td>, <td> —\n",
      "</td>]\n",
      "[<td><b><a href=\"/wiki/Tamil_Nadu\" title=\"Tamil Nadu\">Tamil Nadu</a></b>\n",
      "</td>, <td><a href=\"/wiki/Chennai\" title=\"Chennai\">Chennai</a><sup class=\"reference\" id=\"cite_ref-13\"><a href=\"#cite_note-13\">[g]</a></sup>\n",
      "</td>, <td>Chennai\n",
      "</td>, <td>Chennai\n",
      "</td>, <td>1956\n",
      "</td>, <td> —\n",
      "</td>]\n",
      "[<td><b><a href=\"/wiki/Telangana\" title=\"Telangana\">Telangana</a></b>\n",
      "</td>, <td><a href=\"/wiki/Hyderabad\" title=\"Hyderabad\">Hyderabad</a>\n",
      "</td>, <td>Hyderabad\n",
      "</td>, <td>Hyderabad\n",
      "</td>, <td>2014\n",
      "</td>, <td> —\n",
      "</td>]\n",
      "[<td><b><a href=\"/wiki/Tripura\" title=\"Tripura\">Tripura</a></b>\n",
      "</td>, <td><a href=\"/wiki/Agartala\" title=\"Agartala\">Agartala</a>\n",
      "</td>, <td>Agartala\n",
      "</td>, <td>Agartala\n",
      "</td>, <td>1972\n",
      "</td>, <td> —\n",
      "</td>]\n",
      "[<td><b><a href=\"/wiki/Uttar_Pradesh\" title=\"Uttar Pradesh\">Uttar Pradesh</a></b>\n",
      "</td>, <td><a href=\"/wiki/Lucknow\" title=\"Lucknow\">Lucknow</a>\n",
      "</td>, <td>Lucknow\n",
      "</td>, <td><a href=\"/wiki/Prayagraj\" title=\"Prayagraj\">Prayagraj</a>\n",
      "</td>, <td>1950\n",
      "</td>, <td> —\n",
      "</td>]\n",
      "[<td><b><a href=\"/wiki/Uttarakhand\" title=\"Uttarakhand\">Uttarakhand</a></b>\n",
      "</td>, <td><a href=\"/wiki/Dehradun\" title=\"Dehradun\">Dehradun</a>\n",
      "</td>, <td><a href=\"/wiki/Bhararisain\" title=\"Bhararisain\">Bhararisain</a> (summer)<sup class=\"reference\" id=\"cite_ref-14\"><a href=\"#cite_note-14\">[7]</a></sup><br/>Dehradun (winter)\n",
      "</td>, <td><a href=\"/wiki/Nainital\" title=\"Nainital\">Nainital</a>\n",
      "</td>, <td>2000\n",
      "</td>, <td> —\n",
      "</td>]\n",
      "[<td><b><a href=\"/wiki/West_Bengal\" title=\"West Bengal\">West Bengal</a></b>\n",
      "</td>, <td><a href=\"/wiki/Kolkata\" title=\"Kolkata\">Kolkata</a>\n",
      "</td>, <td>Kolkata\n",
      "</td>, <td>Kolkata\n",
      "</td>, <td>1950\n",
      "</td>, <td> —\n",
      "</td>]\n"
     ]
    }
   ],
   "source": [
    "state = []\n",
    "tab = soup.find_all('table')[1]\n",
    "for row in tab.find_all('tr'):\n",
    "    cell = row.find_all('td')\n",
    "    #state.append(cell[1])\n",
    "    print(cell)"
   ]
  },
  {
   "cell_type": "code",
   "execution_count": 10,
   "id": "4f4a930c",
   "metadata": {},
   "outputs": [
    {
     "data": {
      "text/plain": [
       "'1987'"
      ]
     },
     "execution_count": 10,
     "metadata": {},
     "output_type": "execute_result"
    }
   ],
   "source": [
    "#tab.findAll('tr')[0]\n",
    "tab.findAll('tr')[2].find_all('td')[4].text.strip()\n"
   ]
  },
  {
   "cell_type": "code",
   "execution_count": 11,
   "id": "9d8acf01",
   "metadata": {},
   "outputs": [
    {
     "data": {
      "text/plain": [
       "['Andhra Pradesh',\n",
       " 'Arunachal Pradesh',\n",
       " 'Assam',\n",
       " 'Bihar',\n",
       " 'Chhattisgarh',\n",
       " 'Goa',\n",
       " 'Gujarat',\n",
       " 'Haryana',\n",
       " 'Himachal Pradesh',\n",
       " 'Jharkhand',\n",
       " 'Karnataka',\n",
       " 'Kerala',\n",
       " 'Madhya Pradesh',\n",
       " 'Maharashtra',\n",
       " 'Manipur',\n",
       " 'Meghalaya',\n",
       " 'Mizoram',\n",
       " 'Nagaland',\n",
       " 'Odisha',\n",
       " 'Punjab',\n",
       " 'Rajasthan',\n",
       " 'Sikkim',\n",
       " 'Tamil Nadu',\n",
       " 'Telangana',\n",
       " 'Tripura',\n",
       " 'Uttar Pradesh',\n",
       " 'Uttarakhand',\n",
       " 'West Bengal']"
      ]
     },
     "execution_count": 11,
     "metadata": {},
     "output_type": "execute_result"
    }
   ],
   "source": [
    "state = []\n",
    "tab = soup.find_all('table')[1]\n",
    "for row in tab.find_all('tr'):\n",
    "    cell = row.find_all('td')\n",
    "    if cell: #값이 있으면 진행 ; \n",
    "        state.append(cell[0].text.strip())\n",
    "state\n",
    "    \n",
    "    #for col in tab.find_all('tr').find_all('td'):\n",
    "    #cell = row.find_all('td')\n",
    "    #state.append(cell[1])\n",
    "    #print(cell)"
   ]
  },
  {
   "cell_type": "code",
   "execution_count": 7,
   "id": "24a8a73d",
   "metadata": {},
   "outputs": [],
   "source": [
    "state = []\n",
    "admin = []\n",
    "leg = []\n",
    "jud = []\n",
    "year = []\n",
    "former = []\n",
    "\n",
    "tab = soup.find_all('table')[1]\n",
    "for row in tab.find_all('tr'):\n",
    "    cell = row.find_all('td')\n",
    "    if cell: #값이 있으면 진행\n",
    "        state.append(cell[0].text.strip())\n",
    "        admin.append(cell[1].text.strip())\n",
    "        leg.append(cell[2].text.strip())  \n",
    "        jud.append(cell[3].text.strip())  \n",
    "        year.append(int(cell[4].text.strip()))  \n",
    "        former.append(cell[5].text.strip())\n"
   ]
  },
  {
   "cell_type": "code",
   "execution_count": 8,
   "id": "63cfdb1c",
   "metadata": {},
   "outputs": [
    {
     "data": {
      "text/plain": [
       "state     object\n",
       "admin     object\n",
       "leg       object\n",
       "jud       object\n",
       "year       int64\n",
       "former    object\n",
       "dtype: object"
      ]
     },
     "execution_count": 8,
     "metadata": {},
     "output_type": "execute_result"
    }
   ],
   "source": [
    "import pandas as pd\n",
    "df = pd.DataFrame({\n",
    "    \"state\": state,\n",
    "    \"admin\": admin,\n",
    "    \"leg\": leg,\n",
    "    \"jud\": jud, \n",
    "    \"year\": year,\n",
    "    \"former\": former    \n",
    "})\n",
    "df.dtypes"
   ]
  },
  {
   "cell_type": "code",
   "execution_count": 2,
   "id": "92f28006",
   "metadata": {},
   "outputs": [
    {
     "data": {
      "text/plain": [
       "200"
      ]
     },
     "execution_count": 2,
     "metadata": {},
     "output_type": "execute_result"
    }
   ],
   "source": [
    "import requests\n",
    "from bs4 import BeautifulSoup\n",
    "page = requests.get('https://forecast.weather.gov/MapClick.php?lat=37.7772&lon=-122.4168')\n",
    "soup = BeautifulSoup (page.content ,'html.parser') \n",
    "page.status_code"
   ]
  },
  {
   "cell_type": "code",
   "execution_count": 5,
   "id": "a48cfb2c",
   "metadata": {},
   "outputs": [
    {
     "name": "stdout",
     "output_type": "stream",
     "text": [
      "Overnight\n",
      "Thursday\n",
      "ThursdayNight\n",
      "Friday\n",
      "FridayNight\n",
      "Saturday\n",
      "SaturdayNight\n",
      "Sunday\n",
      "SundayNight\n"
     ]
    },
    {
     "data": {
      "text/plain": [
       "['Overnight',\n",
       " 'Thursday',\n",
       " 'ThursdayNight',\n",
       " 'Friday',\n",
       " 'FridayNight',\n",
       " 'Saturday',\n",
       " 'SaturdayNight',\n",
       " 'Sunday',\n",
       " 'SundayNight']"
      ]
     },
     "execution_count": 5,
     "metadata": {},
     "output_type": "execute_result"
    }
   ],
   "source": [
    "lst = soup.select('.period-name')\n",
    "lst_new = []\n",
    "for i in lst:\n",
    "    print(i.text)\n",
    "    lst_new.append(i.text)\n",
    "lst_new"
   ]
  },
  {
   "cell_type": "code",
   "execution_count": 8,
   "id": "ea272e38",
   "metadata": {},
   "outputs": [],
   "source": [
    "pname = [x.text for x in soup.select('.period-name')]\n",
    "sdesc = [x.text for x in soup.select('.short-desc')]\n",
    "temp = [int(x.text.split(' ')[1]) for x in soup.select('.temp')] #정수 데이터 \n",
    "desc = [x['alt'].strip() for x in soup.select('img.forecast-icon')] #이미지 데이타 "
   ]
  },
  {
   "cell_type": "code",
   "execution_count": 9,
   "id": "b3fbf6a1",
   "metadata": {},
   "outputs": [
    {
     "data": {
      "text/plain": [
       "(9, 9, 9, 9)"
      ]
     },
     "execution_count": 9,
     "metadata": {},
     "output_type": "execute_result"
    }
   ],
   "source": [
    "len(pname), len(sdesc), len(temp), len(desc)"
   ]
  },
  {
   "cell_type": "code",
   "execution_count": 10,
   "id": "1523681c",
   "metadata": {},
   "outputs": [
    {
     "data": {
      "text/plain": [
       "pname    object\n",
       "sdesc    object\n",
       "temp      int64\n",
       "desc     object\n",
       "dtype: object"
      ]
     },
     "execution_count": 10,
     "metadata": {},
     "output_type": "execute_result"
    }
   ],
   "source": [
    "import pandas as pd\n",
    "df = pd.DataFrame({\n",
    "    \"pname\": pname,\n",
    "    \"sdesc\": sdesc,\n",
    "    \"temp\": temp,\n",
    "    \"desc\": desc, \n",
    "    \n",
    "})\n",
    "df.dtypes"
   ]
  },
  {
   "cell_type": "code",
   "execution_count": 4,
   "id": "4411b90d",
   "metadata": {},
   "outputs": [],
   "source": [
    "import requests\n",
    "from bs4 import BeautifulSoup\n",
    "page = requests.get('https://www.google.com/travel/things-to-do?dest_mid=%2Fm%2F06qd3&dest_state_type=main&dest_src=yts&q=korea&ved=0CAAQ8IAIahcKEwiIjdL6r66AAxUAAAAAHQAAAAAQDQ')\n",
    "soup = BeautifulSoup (page.content ,'html.parser') \n",
    "\n"
   ]
  },
  {
   "cell_type": "code",
   "execution_count": 5,
   "id": "537c942b",
   "metadata": {},
   "outputs": [],
   "source": [
    "#lst = soup.select('.Ld2paf')\n",
    "\n",
    "pimg = [x['data-src'].strip() for x in soup.select('.R1Ybne.YH2pd ')[1:]]\n",
    "place =  [x.text for x in soup.select('.skFvHc.YmWhbc')]\n",
    "score = [float(x.text) for x in soup.select('.KFi5wf.lA0BZ')]\n",
    "review = [x.text for x in soup.select('.jdzyld.XLC8M')]"
   ]
  },
  {
   "cell_type": "raw",
   "id": "fa0dc28a",
   "metadata": {},
   "source": [
    "len(score)"
   ]
  },
  {
   "cell_type": "code",
   "execution_count": null,
   "id": "9bb39e20",
   "metadata": {},
   "outputs": [],
   "source": [
    "import requests\n",
    "from bs4 import BeautifulSoup\n",
    "page = requests.get('https://www.google.com/travel/things-to-do?dest_mid=%2Fm%2F06qd3&dest_state_type=main&dest_src=yts&q=korea&ved=0CAAQ8IAIahcKEwiIjdL6r66AAxUAAAAAHQAAAAAQDQ')\n",
    "soup = BeautifulSoup (page.content ,'html.parser') \n",
    "\n",
    "#lst = soup.select('.Ld2paf')\n",
    "\n",
    "pimg = [x['data-src'].strip() for x in soup.select('.R1Ybne.YH2pd ')[1:]]\n",
    "place =  [x.text for x in soup.select('.skFvHc.YmWhbc')]\n",
    "score = [float(x.text) for x in soup.select('.KFi5wf.lA0BZ')]\n",
    "review = [x.text for x in soup.select('.jdzyld.XLC8M')]\n"
   ]
  }
 ],
 "metadata": {
  "kernelspec": {
   "display_name": "Python 3 (ipykernel)",
   "language": "python",
   "name": "python3"
  },
  "language_info": {
   "codemirror_mode": {
    "name": "ipython",
    "version": 3
   },
   "file_extension": ".py",
   "mimetype": "text/x-python",
   "name": "python",
   "nbconvert_exporter": "python",
   "pygments_lexer": "ipython3",
   "version": "3.11.3"
  }
 },
 "nbformat": 4,
 "nbformat_minor": 5
}
