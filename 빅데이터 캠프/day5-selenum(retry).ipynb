{
 "cells": [
  {
   "cell_type": "code",
   "execution_count": 1,
   "id": "76b836d3",
   "metadata": {
    "scrolled": true
   },
   "outputs": [],
   "source": [
    "from selenium import webdriver\n",
    "from selenium.webdriver.chrome.service import Service\n",
    "from selenium.webdriver.chrome.options import Options\n",
    "from selenium.webdriver.common.by import By  #로케이터 방법을 추가\n",
    "from selenium.webdriver.common.keys import Keys\n",
    "\n",
    "user_agent = 'Mozilla/5.0 (Windows NT 10.0; Win64; x64) AppleWebKit/537.36 (KHTML, like Gecko) Chrome/115.0.0.0 Safari/537.36'\n",
    "chrome_service = Service('C:\\\\Users\\\\jangs\\\\chromedriver.exe')\n",
    "chrome_options = Options()\n",
    "chrome_options.add_argument(f'user-agent=(user_agent)')\n",
    "driver = webdriver.Chrome(service=chrome_service, options=chrome_options)\n",
    "driver.get('https://www.google.com')\n",
    "\n",
    "elem = driver.find_element(By.NAME, \"q\")\n",
    "elem.send_keys(\"아이유\")\n",
    "#elem.clear() #초기화\n",
    "elem.send_keys(Keys.ENTER)#enter입력\n"
   ]
  },
  {
   "cell_type": "code",
   "execution_count": null,
   "id": "ebbaca05",
   "metadata": {},
   "outputs": [],
   "source": []
  }
 ],
 "metadata": {
  "kernelspec": {
   "display_name": "Python 3 (ipykernel)",
   "language": "python",
   "name": "python3"
  },
  "language_info": {
   "codemirror_mode": {
    "name": "ipython",
    "version": 3
   },
   "file_extension": ".py",
   "mimetype": "text/x-python",
   "name": "python",
   "nbconvert_exporter": "python",
   "pygments_lexer": "ipython3",
   "version": "3.11.3"
  }
 },
 "nbformat": 4,
 "nbformat_minor": 5
}
