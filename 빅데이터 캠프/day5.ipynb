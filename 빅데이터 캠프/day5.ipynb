{
 "cells": [
  {
   "cell_type": "code",
   "execution_count": 1,
   "id": "18466d25",
   "metadata": {},
   "outputs": [],
   "source": [
    "import requests \n",
    "from bs4 import BeautifulSoup\n",
    "page = requests.get('https://coinmarketcap.com/ko/')\n",
    "soup = BeautifulSoup(page.content,'html.parser')"
   ]
  },
  {
   "cell_type": "code",
   "execution_count": 2,
   "id": "27d7f0a1",
   "metadata": {
    "scrolled": false
   },
   "outputs": [
    {
     "data": {
      "text/plain": [
       "[0.33, 0.6, 2.6, 0.27, 0.76, 2.26, 0.13, 0.34, 0.54, 0.17]"
      ]
     },
     "execution_count": 2,
     "metadata": {},
     "output_type": "execute_result"
    }
   ],
   "source": [
    "ratio = [] \n",
    "for x in soup.select('.sc-97d6d2ca-0.bQjSqS')[:10]:\n",
    "     ratio.append(x.text.replace('%',''))\n",
    "ratio  = [float(x) for x in ratio] #하락한 데이터의 리스트... 연속된 값이 아님! \n",
    "ratio"
   ]
  },
  {
   "cell_type": "code",
   "execution_count": 3,
   "id": "c1505bf2",
   "metadata": {},
   "outputs": [
    {
     "data": {
      "text/plain": [
       "['37...39.34',\n",
       " '23...78.70',\n",
       " '1279.72',\n",
       " '914.16',\n",
       " '307586.50',\n",
       " '1280.03',\n",
       " '98.49',\n",
       " '394.63']"
      ]
     },
     "execution_count": 3,
     "metadata": {},
     "output_type": "execute_result"
    }
   ],
   "source": [
    "#가격 데이터 (#12 > #10개로 조정) , (문자> float형 볌환)\n",
    "price_b = []\n",
    "for x in soup.select('.sc-bc83b59-0.iVdfNf')[:10]:\n",
    "     price_b.append(x.text[1:].replace(',','')) #('\\', ',') 문자 삭제\n",
    "#price_b = [float(x) for x in price_b] #형 변환 실패(표현 범위 이상 '...'표기로 인해 )\n",
    "del price_b[1] #중복 데이터 제거 \n",
    "del price_b[1]\n",
    "price_b"
   ]
  },
  {
   "cell_type": "code",
   "execution_count": 4,
   "id": "fc41ea64",
   "metadata": {
    "scrolled": true
   },
   "outputs": [
    {
     "name": "stdout",
     "output_type": "stream",
     "text": [
      "<td style=\"text-align:end\"><span class=\"sc-97d6d2ca-0 bQjSqS\"><span class=\"icon-Caret-down\"></span>0.33%</span></td>\n",
      "<td style=\"text-align:end\"><span class=\"sc-97d6d2ca-0 bQjSqS\"><span class=\"icon-Caret-down\"></span>0.27%</span></td>\n",
      "<td style=\"text-align:end\"><span class=\"sc-97d6d2ca-0 bQjSqS\"><span class=\"icon-Caret-down\"></span>0.13%</span></td>\n",
      "<td style=\"text-align:end\"><span class=\"sc-97d6d2ca-0 bQjSqS\"><span class=\"icon-Caret-down\"></span>0.54%</span></td>\n",
      "<td style=\"text-align:end\"><span class=\"sc-97d6d2ca-0 bQjSqS\"><span class=\"icon-Caret-down\"></span>0.35%</span></td>\n",
      "<td style=\"text-align:end\"><span class=\"sc-97d6d2ca-0 bQjSqS\"><span class=\"icon-Caret-down\"></span>0.13%</span></td>\n",
      "<td style=\"text-align:end\"><span class=\"sc-97d6d2ca-0 bQjSqS\"><span class=\"icon-Caret-down\"></span>0.74%</span></td>\n",
      "<td style=\"text-align:end\"><span class=\"sc-97d6d2ca-0 bQjSqS\"><span class=\"icon-Caret-down\"></span>0.58%</span></td>\n",
      "<td style=\"text-align:end\"><span class=\"sc-97d6d2ca-0 bQjSqS\"><span class=\"icon-Caret-down\"></span>0.91%</span></td>\n"
     ]
    }
   ],
   "source": [
    "for row in soup.select('table')[0].find_all('tr')[:10]:\n",
    "    cell = row.find_all('td')\n",
    "    if cell: \n",
    "        print(cell[4])"
   ]
  },
  {
   "cell_type": "code",
   "execution_count": 6,
   "id": "2f317390",
   "metadata": {},
   "outputs": [
    {
     "data": {
      "text/html": [
       "<div>\n",
       "<style scoped>\n",
       "    .dataframe tbody tr th:only-of-type {\n",
       "        vertical-align: middle;\n",
       "    }\n",
       "\n",
       "    .dataframe tbody tr th {\n",
       "        vertical-align: top;\n",
       "    }\n",
       "\n",
       "    .dataframe thead th {\n",
       "        text-align: right;\n",
       "    }\n",
       "</style>\n",
       "<table border=\"1\" class=\"dataframe\">\n",
       "  <thead>\n",
       "    <tr style=\"text-align: right;\">\n",
       "      <th></th>\n",
       "      <th>Unnamed: 0</th>\n",
       "      <th>#</th>\n",
       "      <th>이름</th>\n",
       "      <th>가격</th>\n",
       "      <th>1h %</th>\n",
       "      <th>24시간 %</th>\n",
       "      <th>7d %</th>\n",
       "      <th>시가총액</th>\n",
       "      <th>거래량 (24시간)</th>\n",
       "      <th>유통 공급량</th>\n",
       "      <th>최근 7일</th>\n",
       "    </tr>\n",
       "  </thead>\n",
       "  <tbody>\n",
       "    <tr>\n",
       "      <th>0</th>\n",
       "      <td>NaN</td>\n",
       "      <td>1.0</td>\n",
       "      <td>BitcoinBTC</td>\n",
       "      <td>₩37,...39.34</td>\n",
       "      <td>0.33%</td>\n",
       "      <td>0.60%</td>\n",
       "      <td>2.60%</td>\n",
       "      <td>₩726.67T₩726,671,552,507,211</td>\n",
       "      <td>₩13,827,870,309,642369,943 BTC</td>\n",
       "      <td>19,440,962 BTC</td>\n",
       "      <td>NaN</td>\n",
       "    </tr>\n",
       "    <tr>\n",
       "      <th>1</th>\n",
       "      <td>NaN</td>\n",
       "      <td>2.0</td>\n",
       "      <td>EthereumETH</td>\n",
       "      <td>₩2,3...78.70</td>\n",
       "      <td>0.27%</td>\n",
       "      <td>0.76%</td>\n",
       "      <td>2.26%</td>\n",
       "      <td>₩286.26T₩286,260,887,748,280</td>\n",
       "      <td>₩5,238,699,924,5262,199,479 ETH</td>\n",
       "      <td>120,187,221 ETH</td>\n",
       "      <td>NaN</td>\n",
       "    </tr>\n",
       "    <tr>\n",
       "      <th>2</th>\n",
       "      <td>NaN</td>\n",
       "      <td>3.0</td>\n",
       "      <td>Tether USDtUSDT</td>\n",
       "      <td>₩1,279.72</td>\n",
       "      <td>0.13%</td>\n",
       "      <td>0.01%</td>\n",
       "      <td>0.34%</td>\n",
       "      <td>₩107.27T₩107,268,011,224,531</td>\n",
       "      <td>₩22,720,828,761,36517,754,597,227 USDT</td>\n",
       "      <td>83,821,781,092 USDT</td>\n",
       "      <td>NaN</td>\n",
       "    </tr>\n",
       "    <tr>\n",
       "      <th>3</th>\n",
       "      <td>NaN</td>\n",
       "      <td>4.0</td>\n",
       "      <td>XRPXRP</td>\n",
       "      <td>₩914.16</td>\n",
       "      <td>0.54%</td>\n",
       "      <td>0.17%</td>\n",
       "      <td>10.75%</td>\n",
       "      <td>₩48.17T₩48,170,731,761,617</td>\n",
       "      <td>₩1,874,682,613,5062,050,710,953 XRP</td>\n",
       "      <td>52,693,851,493 XRP</td>\n",
       "      <td>NaN</td>\n",
       "    </tr>\n",
       "    <tr>\n",
       "      <th>4</th>\n",
       "      <td>NaN</td>\n",
       "      <td>5.0</td>\n",
       "      <td>BNBBNB</td>\n",
       "      <td>₩307,586.50</td>\n",
       "      <td>0.35%</td>\n",
       "      <td>0.23%</td>\n",
       "      <td>2.03%</td>\n",
       "      <td>₩47.32T₩47,317,594,324,520</td>\n",
       "      <td>₩559,899,959,2811,820,546 BNB</td>\n",
       "      <td>153,855,835 BNB</td>\n",
       "      <td>NaN</td>\n",
       "    </tr>\n",
       "    <tr>\n",
       "      <th>...</th>\n",
       "      <td>...</td>\n",
       "      <td>...</td>\n",
       "      <td>...</td>\n",
       "      <td>...</td>\n",
       "      <td>...</td>\n",
       "      <td>...</td>\n",
       "      <td>...</td>\n",
       "      <td>...</td>\n",
       "      <td>...</td>\n",
       "      <td>...</td>\n",
       "      <td>...</td>\n",
       "    </tr>\n",
       "    <tr>\n",
       "      <th>95</th>\n",
       "      <td>NaN</td>\n",
       "      <td>NaN</td>\n",
       "      <td>ZilliqaZIL</td>\n",
       "      <td>$0.02</td>\n",
       "      <td>NaN</td>\n",
       "      <td>NaN</td>\n",
       "      <td>NaN</td>\n",
       "      <td>NaN</td>\n",
       "      <td>NaN</td>\n",
       "      <td>NaN</td>\n",
       "      <td>NaN</td>\n",
       "    </tr>\n",
       "    <tr>\n",
       "      <th>96</th>\n",
       "      <td>NaN</td>\n",
       "      <td>NaN</td>\n",
       "      <td>dYdXDYDX</td>\n",
       "      <td>$2.04</td>\n",
       "      <td>NaN</td>\n",
       "      <td>NaN</td>\n",
       "      <td>NaN</td>\n",
       "      <td>NaN</td>\n",
       "      <td>NaN</td>\n",
       "      <td>NaN</td>\n",
       "      <td>NaN</td>\n",
       "    </tr>\n",
       "    <tr>\n",
       "      <th>97</th>\n",
       "      <td>NaN</td>\n",
       "      <td>NaN</td>\n",
       "      <td>PancakeSwapCAKE</td>\n",
       "      <td>$1.49</td>\n",
       "      <td>NaN</td>\n",
       "      <td>NaN</td>\n",
       "      <td>NaN</td>\n",
       "      <td>NaN</td>\n",
       "      <td>NaN</td>\n",
       "      <td>NaN</td>\n",
       "      <td>NaN</td>\n",
       "    </tr>\n",
       "    <tr>\n",
       "      <th>98</th>\n",
       "      <td>NaN</td>\n",
       "      <td>NaN</td>\n",
       "      <td>1inch Network1INCH</td>\n",
       "      <td>$0.31</td>\n",
       "      <td>NaN</td>\n",
       "      <td>NaN</td>\n",
       "      <td>NaN</td>\n",
       "      <td>NaN</td>\n",
       "      <td>NaN</td>\n",
       "      <td>NaN</td>\n",
       "      <td>NaN</td>\n",
       "    </tr>\n",
       "    <tr>\n",
       "      <th>99</th>\n",
       "      <td>NaN</td>\n",
       "      <td>NaN</td>\n",
       "      <td>THORChainRUNE</td>\n",
       "      <td>$0.93</td>\n",
       "      <td>NaN</td>\n",
       "      <td>NaN</td>\n",
       "      <td>NaN</td>\n",
       "      <td>NaN</td>\n",
       "      <td>NaN</td>\n",
       "      <td>NaN</td>\n",
       "      <td>NaN</td>\n",
       "    </tr>\n",
       "  </tbody>\n",
       "</table>\n",
       "<p>100 rows × 11 columns</p>\n",
       "</div>"
      ],
      "text/plain": [
       "    Unnamed: 0    #                  이름            가격   1h % 24시간 %    7d %  \\\n",
       "0          NaN  1.0          BitcoinBTC  ₩37,...39.34  0.33%  0.60%   2.60%   \n",
       "1          NaN  2.0         EthereumETH  ₩2,3...78.70  0.27%  0.76%   2.26%   \n",
       "2          NaN  3.0     Tether USDtUSDT     ₩1,279.72  0.13%  0.01%   0.34%   \n",
       "3          NaN  4.0              XRPXRP       ₩914.16  0.54%  0.17%  10.75%   \n",
       "4          NaN  5.0              BNBBNB   ₩307,586.50  0.35%  0.23%   2.03%   \n",
       "..         ...  ...                 ...           ...    ...    ...     ...   \n",
       "95         NaN  NaN          ZilliqaZIL         $0.02    NaN    NaN     NaN   \n",
       "96         NaN  NaN            dYdXDYDX         $2.04    NaN    NaN     NaN   \n",
       "97         NaN  NaN     PancakeSwapCAKE         $1.49    NaN    NaN     NaN   \n",
       "98         NaN  NaN  1inch Network1INCH         $0.31    NaN    NaN     NaN   \n",
       "99         NaN  NaN       THORChainRUNE         $0.93    NaN    NaN     NaN   \n",
       "\n",
       "                            시가총액                              거래량 (24시간)  \\\n",
       "0   ₩726.67T₩726,671,552,507,211          ₩13,827,870,309,642369,943 BTC   \n",
       "1   ₩286.26T₩286,260,887,748,280         ₩5,238,699,924,5262,199,479 ETH   \n",
       "2   ₩107.27T₩107,268,011,224,531  ₩22,720,828,761,36517,754,597,227 USDT   \n",
       "3     ₩48.17T₩48,170,731,761,617     ₩1,874,682,613,5062,050,710,953 XRP   \n",
       "4     ₩47.32T₩47,317,594,324,520           ₩559,899,959,2811,820,546 BNB   \n",
       "..                           ...                                     ...   \n",
       "95                           NaN                                     NaN   \n",
       "96                           NaN                                     NaN   \n",
       "97                           NaN                                     NaN   \n",
       "98                           NaN                                     NaN   \n",
       "99                           NaN                                     NaN   \n",
       "\n",
       "                 유통 공급량  최근 7일  \n",
       "0        19,440,962 BTC    NaN  \n",
       "1       120,187,221 ETH    NaN  \n",
       "2   83,821,781,092 USDT    NaN  \n",
       "3    52,693,851,493 XRP    NaN  \n",
       "4       153,855,835 BNB    NaN  \n",
       "..                  ...    ...  \n",
       "95                  NaN    NaN  \n",
       "96                  NaN    NaN  \n",
       "97                  NaN    NaN  \n",
       "98                  NaN    NaN  \n",
       "99                  NaN    NaN  \n",
       "\n",
       "[100 rows x 11 columns]"
      ]
     },
     "execution_count": 6,
     "metadata": {},
     "output_type": "execute_result"
    }
   ],
   "source": [
    "#table 통째로 가져오는 경우\n",
    "import pandas as pd \n",
    "pd.read_html(str(soup.select('table')[0]))[0]"
   ]
  },
  {
   "cell_type": "code",
   "execution_count": 7,
   "id": "2d23d89b",
   "metadata": {},
   "outputs": [
    {
     "data": {
      "text/html": [
       "<div>\n",
       "<style scoped>\n",
       "    .dataframe tbody tr th:only-of-type {\n",
       "        vertical-align: middle;\n",
       "    }\n",
       "\n",
       "    .dataframe tbody tr th {\n",
       "        vertical-align: top;\n",
       "    }\n",
       "\n",
       "    .dataframe thead th {\n",
       "        text-align: right;\n",
       "    }\n",
       "</style>\n",
       "<table border=\"1\" class=\"dataframe\">\n",
       "  <thead>\n",
       "    <tr style=\"text-align: right;\">\n",
       "      <th></th>\n",
       "      <th>이름</th>\n",
       "      <th>가격</th>\n",
       "      <th>24시간 %</th>\n",
       "      <th>거래량 (24시간)</th>\n",
       "    </tr>\n",
       "  </thead>\n",
       "  <tbody>\n",
       "    <tr>\n",
       "      <th>0</th>\n",
       "      <td>BitcoinBTC</td>\n",
       "      <td>₩37,...39.34</td>\n",
       "      <td>0.60%</td>\n",
       "      <td>₩13,827,870,309,642369,943 BTC</td>\n",
       "    </tr>\n",
       "    <tr>\n",
       "      <th>1</th>\n",
       "      <td>EthereumETH</td>\n",
       "      <td>₩2,3...78.70</td>\n",
       "      <td>0.76%</td>\n",
       "      <td>₩5,238,699,924,5262,199,479 ETH</td>\n",
       "    </tr>\n",
       "    <tr>\n",
       "      <th>2</th>\n",
       "      <td>Tether USDtUSDT</td>\n",
       "      <td>₩1,279.72</td>\n",
       "      <td>0.01%</td>\n",
       "      <td>₩22,720,828,761,36517,754,597,227 USDT</td>\n",
       "    </tr>\n",
       "    <tr>\n",
       "      <th>3</th>\n",
       "      <td>XRPXRP</td>\n",
       "      <td>₩914.16</td>\n",
       "      <td>0.17%</td>\n",
       "      <td>₩1,874,682,613,5062,050,710,953 XRP</td>\n",
       "    </tr>\n",
       "    <tr>\n",
       "      <th>4</th>\n",
       "      <td>BNBBNB</td>\n",
       "      <td>₩307,586.50</td>\n",
       "      <td>0.23%</td>\n",
       "      <td>₩559,899,959,2811,820,546 BNB</td>\n",
       "    </tr>\n",
       "    <tr>\n",
       "      <th>...</th>\n",
       "      <td>...</td>\n",
       "      <td>...</td>\n",
       "      <td>...</td>\n",
       "      <td>...</td>\n",
       "    </tr>\n",
       "    <tr>\n",
       "      <th>95</th>\n",
       "      <td>ZilliqaZIL</td>\n",
       "      <td>$0.02</td>\n",
       "      <td>NaN</td>\n",
       "      <td>NaN</td>\n",
       "    </tr>\n",
       "    <tr>\n",
       "      <th>96</th>\n",
       "      <td>dYdXDYDX</td>\n",
       "      <td>$2.04</td>\n",
       "      <td>NaN</td>\n",
       "      <td>NaN</td>\n",
       "    </tr>\n",
       "    <tr>\n",
       "      <th>97</th>\n",
       "      <td>PancakeSwapCAKE</td>\n",
       "      <td>$1.49</td>\n",
       "      <td>NaN</td>\n",
       "      <td>NaN</td>\n",
       "    </tr>\n",
       "    <tr>\n",
       "      <th>98</th>\n",
       "      <td>1inch Network1INCH</td>\n",
       "      <td>$0.31</td>\n",
       "      <td>NaN</td>\n",
       "      <td>NaN</td>\n",
       "    </tr>\n",
       "    <tr>\n",
       "      <th>99</th>\n",
       "      <td>THORChainRUNE</td>\n",
       "      <td>$0.93</td>\n",
       "      <td>NaN</td>\n",
       "      <td>NaN</td>\n",
       "    </tr>\n",
       "  </tbody>\n",
       "</table>\n",
       "<p>100 rows × 4 columns</p>\n",
       "</div>"
      ],
      "text/plain": [
       "                    이름            가격 24시간 %  \\\n",
       "0           BitcoinBTC  ₩37,...39.34  0.60%   \n",
       "1          EthereumETH  ₩2,3...78.70  0.76%   \n",
       "2      Tether USDtUSDT     ₩1,279.72  0.01%   \n",
       "3               XRPXRP       ₩914.16  0.17%   \n",
       "4               BNBBNB   ₩307,586.50  0.23%   \n",
       "..                 ...           ...    ...   \n",
       "95          ZilliqaZIL         $0.02    NaN   \n",
       "96            dYdXDYDX         $2.04    NaN   \n",
       "97     PancakeSwapCAKE         $1.49    NaN   \n",
       "98  1inch Network1INCH         $0.31    NaN   \n",
       "99       THORChainRUNE         $0.93    NaN   \n",
       "\n",
       "                                거래량 (24시간)  \n",
       "0           ₩13,827,870,309,642369,943 BTC  \n",
       "1          ₩5,238,699,924,5262,199,479 ETH  \n",
       "2   ₩22,720,828,761,36517,754,597,227 USDT  \n",
       "3      ₩1,874,682,613,5062,050,710,953 XRP  \n",
       "4            ₩559,899,959,2811,820,546 BNB  \n",
       "..                                     ...  \n",
       "95                                     NaN  \n",
       "96                                     NaN  \n",
       "97                                     NaN  \n",
       "98                                     NaN  \n",
       "99                                     NaN  \n",
       "\n",
       "[100 rows x 4 columns]"
      ]
     },
     "execution_count": 7,
     "metadata": {},
     "output_type": "execute_result"
    }
   ],
   "source": [
    "df = pd.read_html(str(soup.select('table')[0]))[0]\n",
    "df[['이름','가격','24시간 %','거래량 (24시간)']]"
   ]
  },
  {
   "cell_type": "code",
   "execution_count": 12,
   "id": "12e8320b",
   "metadata": {},
   "outputs": [
    {
     "name": "stdout",
     "output_type": "stream",
     "text": [
      "Collecting pyautogui\n",
      "  Downloading PyAutoGUI-0.9.54.tar.gz (61 kB)\n",
      "                                              0.0/61.2 kB ? eta -:--:--\n",
      "     --------------------                     30.7/61.2 kB ? eta -:--:--\n",
      "     -------------------------------------- 61.2/61.2 kB 822.5 kB/s eta 0:00:00\n",
      "  Installing build dependencies: started\n",
      "  Installing build dependencies: finished with status 'done'\n",
      "  Getting requirements to build wheel: started\n",
      "  Getting requirements to build wheel: finished with status 'done'\n",
      "  Preparing metadata (pyproject.toml): started\n",
      "  Preparing metadata (pyproject.toml): finished with status 'done'\n",
      "Collecting pymsgbox (from pyautogui)\n",
      "  Downloading PyMsgBox-1.0.9.tar.gz (18 kB)\n",
      "  Installing build dependencies: started\n",
      "  Installing build dependencies: finished with status 'done'\n",
      "  Getting requirements to build wheel: started\n",
      "  Getting requirements to build wheel: finished with status 'done'\n",
      "  Preparing metadata (pyproject.toml): started\n",
      "  Preparing metadata (pyproject.toml): finished with status 'done'\n",
      "Collecting pytweening>=1.0.4 (from pyautogui)\n",
      "  Downloading pytweening-1.0.7.tar.gz (168 kB)\n",
      "                                              0.0/168.2 kB ? eta -:--:--\n",
      "                                              0.0/168.2 kB ? eta -:--:--\n",
      "     --                                       10.2/168.2 kB ? eta -:--:--\n",
      "     --                                       10.2/168.2 kB ? eta -:--:--\n",
      "     ------                                30.7/168.2 kB 262.6 kB/s eta 0:00:01\n",
      "     ------                                30.7/168.2 kB 262.6 kB/s eta 0:00:01\n",
      "     ------                                30.7/168.2 kB 262.6 kB/s eta 0:00:01\n",
      "     ------                                30.7/168.2 kB 262.6 kB/s eta 0:00:01\n",
      "     ------                                30.7/168.2 kB 262.6 kB/s eta 0:00:01\n",
      "     ------                                30.7/168.2 kB 262.6 kB/s eta 0:00:01\n",
      "     ------                                30.7/168.2 kB 262.6 kB/s eta 0:00:01\n",
      "     ------                                30.7/168.2 kB 262.6 kB/s eta 0:00:01\n",
      "     ------                                30.7/168.2 kB 262.6 kB/s eta 0:00:01\n",
      "     ------                                30.7/168.2 kB 262.6 kB/s eta 0:00:01\n",
      "     ------                                30.7/168.2 kB 262.6 kB/s eta 0:00:01\n",
      "     ------                                30.7/168.2 kB 262.6 kB/s eta 0:00:01\n",
      "     ------                                30.7/168.2 kB 262.6 kB/s eta 0:00:01\n",
      "     -------------                          61.4/168.2 kB 71.2 kB/s eta 0:00:02\n",
      "     ----------------                       71.7/168.2 kB 83.6 kB/s eta 0:00:02\n",
      "     ----------------                       71.7/168.2 kB 83.6 kB/s eta 0:00:02\n",
      "     ----------------                       71.7/168.2 kB 83.6 kB/s eta 0:00:02\n",
      "     ----------------                       71.7/168.2 kB 83.6 kB/s eta 0:00:02\n",
      "     ----------------                       71.7/168.2 kB 83.6 kB/s eta 0:00:02\n",
      "     ----------------                       71.7/168.2 kB 83.6 kB/s eta 0:00:02\n",
      "     ----------------                       71.7/168.2 kB 83.6 kB/s eta 0:00:02\n",
      "     ----------------                       71.7/168.2 kB 83.6 kB/s eta 0:00:02\n",
      "     ----------------                       71.7/168.2 kB 83.6 kB/s eta 0:00:02\n",
      "     ----------------                       71.7/168.2 kB 83.6 kB/s eta 0:00:02\n",
      "     ----------------                       71.7/168.2 kB 83.6 kB/s eta 0:00:02\n",
      "     ----------------                       71.7/168.2 kB 83.6 kB/s eta 0:00:02\n",
      "     ---------------------------           122.9/168.2 kB 86.8 kB/s eta 0:00:01\n",
      "     --------------------------------     153.6/168.2 kB 108.0 kB/s eta 0:00:01\n",
      "     --------------------------------     153.6/168.2 kB 108.0 kB/s eta 0:00:01\n",
      "     --------------------------------     153.6/168.2 kB 108.0 kB/s eta 0:00:01\n",
      "     ------------------------------------ 168.2/168.2 kB 105.3 kB/s eta 0:00:00\n",
      "  Preparing metadata (setup.py): started\n",
      "  Preparing metadata (setup.py): finished with status 'done'\n",
      "Collecting pyscreeze>=0.1.21 (from pyautogui)\n",
      "  Downloading PyScreeze-0.1.29.tar.gz (25 kB)\n",
      "  Installing build dependencies: started\n",
      "  Installing build dependencies: finished with status 'done'\n",
      "  Getting requirements to build wheel: started\n",
      "  Getting requirements to build wheel: finished with status 'done'\n",
      "  Preparing metadata (pyproject.toml): started\n",
      "  Preparing metadata (pyproject.toml): finished with status 'done'\n",
      "Collecting pygetwindow>=0.0.5 (from pyautogui)\n",
      "  Downloading PyGetWindow-0.0.9.tar.gz (9.7 kB)\n",
      "  Preparing metadata (setup.py): started\n",
      "  Preparing metadata (setup.py): finished with status 'done'\n",
      "Collecting mouseinfo (from pyautogui)\n",
      "  Downloading MouseInfo-0.1.3.tar.gz (10 kB)\n",
      "  Preparing metadata (setup.py): started\n",
      "  Preparing metadata (setup.py): finished with status 'done'\n",
      "Collecting pyrect (from pygetwindow>=0.0.5->pyautogui)\n",
      "  Downloading PyRect-0.2.0.tar.gz (17 kB)\n",
      "  Preparing metadata (setup.py): started\n",
      "  Preparing metadata (setup.py): finished with status 'done'\n",
      "Collecting pyscreenshot (from pyscreeze>=0.1.21->pyautogui)\n",
      "  Downloading pyscreenshot-3.1-py3-none-any.whl (28 kB)\n",
      "Requirement already satisfied: Pillow>=9.3.0 in c:\\anaconda\\lib\\site-packages (from pyscreeze>=0.1.21->pyautogui) (9.4.0)\n",
      "Collecting pyperclip (from mouseinfo->pyautogui)\n",
      "  Downloading pyperclip-1.8.2.tar.gz (20 kB)\n",
      "  Preparing metadata (setup.py): started\n",
      "  Preparing metadata (setup.py): finished with status 'done'\n",
      "Collecting EasyProcess (from pyscreenshot->pyscreeze>=0.1.21->pyautogui)\n",
      "  Downloading EasyProcess-1.1-py3-none-any.whl (8.7 kB)\n",
      "Collecting entrypoint2 (from pyscreenshot->pyscreeze>=0.1.21->pyautogui)\n",
      "  Downloading entrypoint2-1.1-py2.py3-none-any.whl (9.9 kB)\n",
      "Collecting mss (from pyscreenshot->pyscreeze>=0.1.21->pyautogui)\n",
      "  Downloading mss-9.0.1-py3-none-any.whl (22 kB)\n",
      "Building wheels for collected packages: pyautogui, pygetwindow, pyscreeze, pytweening, mouseinfo, pymsgbox, pyperclip, pyrect\n",
      "  Building wheel for pyautogui (pyproject.toml): started\n",
      "  Building wheel for pyautogui (pyproject.toml): finished with status 'done'\n",
      "  Created wheel for pyautogui: filename=PyAutoGUI-0.9.54-py3-none-any.whl size=37600 sha256=bf299deb18c23d3094c9d9e774d64a859c93f9aa13e7b750fd0b67b0281d85fa\n",
      "  Stored in directory: c:\\users\\jangs\\appdata\\local\\pip\\cache\\wheels\\95\\dc\\b1\\fe122b791e0db8bf439a0e6e1d2628e48f10bf430cae13521b\n",
      "  Building wheel for pygetwindow (setup.py): started\n",
      "  Building wheel for pygetwindow (setup.py): finished with status 'done'\n",
      "  Created wheel for pygetwindow: filename=PyGetWindow-0.0.9-py3-none-any.whl size=11079 sha256=e1053d8eb705b359097718e49f726202b1ec4de60ac45df7fa88b6438633a0f0\n",
      "  Stored in directory: c:\\users\\jangs\\appdata\\local\\pip\\cache\\wheels\\07\\75\\0b\\7ca0b598eb4c21d43ba4bcc78a0538dfcf803a5997da33bc19\n",
      "  Building wheel for pyscreeze (pyproject.toml): started\n",
      "  Building wheel for pyscreeze (pyproject.toml): finished with status 'done'\n",
      "  Created wheel for pyscreeze: filename=PyScreeze-0.1.29-py3-none-any.whl size=13483 sha256=61206d73858166c534d236abb889f6b4a35b4d38d9cde178cea71d90dd289e4e\n",
      "  Stored in directory: c:\\users\\jangs\\appdata\\local\\pip\\cache\\wheels\\d3\\bd\\06\\4b4c57f65e89d1ab7a63a924c12aca4784cd95e74940371b5e\n",
      "  Building wheel for pytweening (setup.py): started\n",
      "  Building wheel for pytweening (setup.py): finished with status 'done'\n",
      "  Created wheel for pytweening: filename=pytweening-1.0.7-py3-none-any.whl size=6214 sha256=6f04fb01e7d44a871dce0704fd4b160243ae8486a438e81b706071b44d1f59b0\n",
      "  Stored in directory: c:\\users\\jangs\\appdata\\local\\pip\\cache\\wheels\\b2\\9b\\02\\059beba389e7e31a635bd9e8d9b7299f4ec11caca1f237f56d\n",
      "  Building wheel for mouseinfo (setup.py): started\n",
      "  Building wheel for mouseinfo (setup.py): finished with status 'done'\n",
      "  Created wheel for mouseinfo: filename=MouseInfo-0.1.3-py3-none-any.whl size=10906 sha256=bbfb3b881f15c5b9be9fba37227f2bdd8b703007bc7208f151bcb4c34e9f98b7\n",
      "  Stored in directory: c:\\users\\jangs\\appdata\\local\\pip\\cache\\wheels\\20\\0b\\7f\\939ac9ff785b09951c706150537572c00123412f260a6024f3\n",
      "  Building wheel for pymsgbox (pyproject.toml): started\n",
      "  Building wheel for pymsgbox (pyproject.toml): finished with status 'done'\n",
      "  Created wheel for pymsgbox: filename=PyMsgBox-1.0.9-py3-none-any.whl size=7417 sha256=97626b3ea57422796c6211c2a0fbace898772503dc2f04f100485877cafba189\n",
      "  Stored in directory: c:\\users\\jangs\\appdata\\local\\pip\\cache\\wheels\\85\\92\\63\\e126ee5f33d8f2ed04f96e43ef5df7270a2f331848752e8662\n",
      "  Building wheel for pyperclip (setup.py): started\n",
      "  Building wheel for pyperclip (setup.py): finished with status 'done'\n",
      "  Created wheel for pyperclip: filename=pyperclip-1.8.2-py3-none-any.whl size=11137 sha256=0626c24774475d265a0364950ed4d059668eade39d5a8516c8f288c0023c9e5c\n",
      "  Stored in directory: c:\\users\\jangs\\appdata\\local\\pip\\cache\\wheels\\70\\bd\\ba\\8ae5c080c895c9360fe6e153acda2dee82527374467eae061b\n",
      "  Building wheel for pyrect (setup.py): started\n",
      "  Building wheel for pyrect (setup.py): finished with status 'done'\n",
      "  Created wheel for pyrect: filename=PyRect-0.2.0-py2.py3-none-any.whl size=11205 sha256=9dd92f35527da9b69dd54f4d41500cfd0eb54198e102567034f2dcd9fddfdf82\n",
      "  Stored in directory: c:\\users\\jangs\\appdata\\local\\pip\\cache\\wheels\\c4\\e9\\fc\\b7a666dd4f9a3168fb44d643079b41d36ddab52f470707e820\n",
      "Successfully built pyautogui pygetwindow pyscreeze pytweening mouseinfo pymsgbox pyperclip pyrect\n",
      "Installing collected packages: pytweening, pyrect, pyperclip, pymsgbox, entrypoint2, EasyProcess, pygetwindow, mss, mouseinfo, pyscreenshot, pyscreeze, pyautogui\n",
      "Successfully installed EasyProcess-1.1 entrypoint2-1.1 mouseinfo-0.1.3 mss-9.0.1 pyautogui-0.9.54 pygetwindow-0.0.9 pymsgbox-1.0.9 pyperclip-1.8.2 pyrect-0.2.0 pyscreenshot-3.1 pyscreeze-0.1.29 pytweening-1.0.7\n"
     ]
    }
   ],
   "source": [
    "!pip install pyautogui"
   ]
  },
  {
   "cell_type": "code",
   "execution_count": 13,
   "id": "860fd2ba",
   "metadata": {},
   "outputs": [
    {
     "data": {
      "text/plain": [
       "Size(width=1920, height=1080)"
      ]
     },
     "execution_count": 13,
     "metadata": {},
     "output_type": "execute_result"
    }
   ],
   "source": [
    "#자동화 automation\n",
    "import pyautogui\n",
    "pyautogui.size() #화면사이즈"
   ]
  },
  {
   "cell_type": "code",
   "execution_count": 14,
   "id": "713c8a2e",
   "metadata": {},
   "outputs": [],
   "source": [
    "import time\n",
    "time.sleep(2) # ( )동안 기다리기"
   ]
  },
  {
   "cell_type": "code",
   "execution_count": 58,
   "id": "7117417c",
   "metadata": {},
   "outputs": [
    {
     "data": {
      "text/plain": [
       "Point(x=601, y=898)"
      ]
     },
     "execution_count": 58,
     "metadata": {},
     "output_type": "execute_result"
    }
   ],
   "source": [
    "pyautogui.position() #화면 위치 출력"
   ]
  },
  {
   "cell_type": "code",
   "execution_count": 34,
   "id": "ba4023cd",
   "metadata": {},
   "outputs": [],
   "source": [
    "pyautogui.moveTo(100,200,5) #마우스 위치 조정 (x좌표,y좌표,이동시간)"
   ]
  },
  {
   "cell_type": "code",
   "execution_count": 27,
   "id": "ce0adfb9",
   "metadata": {},
   "outputs": [],
   "source": [
    "pyautogui.click() #button click(left)"
   ]
  },
  {
   "cell_type": "code",
   "execution_count": 32,
   "id": "05568f1e",
   "metadata": {},
   "outputs": [],
   "source": [
    "pyautogui.click(button='right') #button click(left) #클릭 좌,우 바뀜\n",
    "#pyautogui.doubleClick() #더블 클릭\n",
    "#pyautogui.click(clicks=3, interval=1) #(클릭횟수, 시간간격)"
   ]
  },
  {
   "cell_type": "code",
   "execution_count": 50,
   "id": "79ae01f9",
   "metadata": {},
   "outputs": [],
   "source": [
    "pyautogui.moveTo(917, 757, 1)\n",
    "pyautogui.dragTo(1072, 757, 1)# 드레그 하는 방법\n",
    "pyautogui.hotkey('ctrl','c') # 키보드 자동화(복사 버튼)\n",
    "pyautogui.moveTo(922, 941)\n",
    "pyautogui.hotkey('ctrl','v')"
   ]
  },
  {
   "cell_type": "code",
   "execution_count": 60,
   "id": "656b76de",
   "metadata": {},
   "outputs": [],
   "source": [
    "pyautogui.click()\n",
    "pyautogui.scroll(500) #양수는 위로 스크롤, 음수는 아래로 스크롤"
   ]
  },
  {
   "cell_type": "code",
   "execution_count": 69,
   "id": "4238cf74",
   "metadata": {},
   "outputs": [
    {
     "data": {
      "text/plain": [
       "Point(x=595, y=817)"
      ]
     },
     "execution_count": 69,
     "metadata": {},
     "output_type": "execute_result"
    }
   ],
   "source": [
    "pyautogui.position()"
   ]
  },
  {
   "cell_type": "code",
   "execution_count": 71,
   "id": "e38457f2",
   "metadata": {
    "scrolled": true
   },
   "outputs": [
    {
     "ename": "NameError",
     "evalue": "name 'hipyautogui' is not defined",
     "output_type": "error",
     "traceback": [
      "\u001b[1;31m---------------------------------------------------------------------------\u001b[0m",
      "\u001b[1;31mNameError\u001b[0m                                 Traceback (most recent call last)",
      "Cell \u001b[1;32mIn[71], line 3\u001b[0m\n\u001b[0;32m      1\u001b[0m \u001b[38;5;66;03m#키보드 자동화; \u001b[39;00m\n\u001b[0;32m      2\u001b[0m pyautogui\u001b[38;5;241m.\u001b[39mmoveTo(\u001b[38;5;241m595\u001b[39m,\u001b[38;5;241m817\u001b[39m)\n\u001b[1;32m----> 3\u001b[0m hipyautogui\u001b[38;5;241m.\u001b[39mwrite(\u001b[38;5;124m'\u001b[39m\u001b[38;5;124mhi\u001b[39m\u001b[38;5;124m'\u001b[39m)\n",
      "\u001b[1;31mNameError\u001b[0m: name 'hipyautogui' is not defined"
     ]
    }
   ],
   "source": [
    "#키보드 자동화; \n",
    "pyautogui.moveTo(595,817)\n",
    "pyautogui.write('hi') # 글자를 작성할때\n",
    "#한글을 작성할때\n",
    "paperclip.copy('자동화 예제')"
   ]
  },
  {
   "cell_type": "code",
   "execution_count": 95,
   "id": "8793d609",
   "metadata": {
    "scrolled": true
   },
   "outputs": [],
   "source": [
    "#web 여는 라이브러리\n",
    "import webbrowser\n",
    "import pyperclip\n",
    "webbrowser.open('https://www.google.com')\n",
    "time.sleep(1)\n",
    "\n",
    "pyautogui.moveTo(805,453)\n",
    "pyautogui.click\n",
    "#pyautogui.write('automation example')\n",
    "pyperclip.copy(\"자동화 예제\")\n",
    "pyautogui.hotkey('ctrl','v')\n",
    "pyautogui.press('enter') \n",
    "time.sleep(2)\n",
    "\n",
    "pyautogui.moveTo(613,413)\n",
    "pyautogui.doubleClick()\n",
    "#pyautogui.position() #; (805,453)\n",
    "\n"
   ]
  },
  {
   "cell_type": "code",
   "execution_count": 92,
   "id": "e3e30519",
   "metadata": {},
   "outputs": [
    {
     "data": {
      "text/plain": [
       "Point(x=613, y=413)"
      ]
     },
     "execution_count": 92,
     "metadata": {},
     "output_type": "execute_result"
    }
   ],
   "source": [
    "pyautogui.position()"
   ]
  },
  {
   "cell_type": "code",
   "execution_count": 100,
   "id": "1b017002",
   "metadata": {},
   "outputs": [
    {
     "data": {
      "text/plain": [
       "'OK'"
      ]
     },
     "execution_count": 100,
     "metadata": {},
     "output_type": "execute_result"
    }
   ],
   "source": [
    "#메세지 박스\n",
    "pyautogui.alert(text='warning', title='greeting',button='OK') #경고메세지 박스 출력"
   ]
  },
  {
   "cell_type": "code",
   "execution_count": 103,
   "id": "16778fc6",
   "metadata": {},
   "outputs": [
    {
     "data": {
      "text/plain": [
       "'OK'"
      ]
     },
     "execution_count": 103,
     "metadata": {},
     "output_type": "execute_result"
    }
   ],
   "source": [
    "pyautogui.confirm(text=\"이세계 가시겠습니까 ?\", title='check status',buttons=['OK', 'Cancel']) #확인메세지 박스"
   ]
  },
  {
   "cell_type": "code",
   "execution_count": 104,
   "id": "290ea1cb",
   "metadata": {},
   "outputs": [],
   "source": [
    "pyautogui.prompt(text='이름은?', title='name', default='입력해주세요') #문자열 입력 박스"
   ]
  },
  {
   "cell_type": "code",
   "execution_count": 99,
   "id": "76c8728c",
   "metadata": {},
   "outputs": [
    {
     "data": {
      "text/plain": [
       "'1234'"
      ]
     },
     "execution_count": 99,
     "metadata": {},
     "output_type": "execute_result"
    }
   ],
   "source": [
    "pyautogui.password(text='패쓰워드는?', title='password',default='입력 해주세요',mask='*') #(문자,숫자)입력 박스(mask)통해서 가릴수있음 string으로 저장; "
   ]
  },
  {
   "cell_type": "code",
   "execution_count": 112,
   "id": "2cb51838",
   "metadata": {},
   "outputs": [
    {
     "name": "stdout",
     "output_type": "stream",
     "text": [
      "Requirement already satisfied: openpyxl in c:\\anaconda\\lib\\site-packages (3.0.10)\n",
      "Requirement already satisfied: et_xmlfile in c:\\anaconda\\lib\\site-packages (from openpyxl) (1.1.0)\n"
     ]
    }
   ],
   "source": [
    "#엑셀 자동화\n",
    "!pip install openpyxl\n",
    "import openpyxl"
   ]
  },
  {
   "cell_type": "code",
   "execution_count": 117,
   "id": "51f43654",
   "metadata": {},
   "outputs": [
    {
     "data": {
      "text/plain": [
       "openpyxl.workbook.workbook.Workbook"
      ]
     },
     "execution_count": 117,
     "metadata": {},
     "output_type": "execute_result"
    }
   ],
   "source": [
    "wb = openpyxl.load_workbook('example1.xlsx')\n",
    "type(wb) #시트 자료형 확인?? "
   ]
  },
  {
   "cell_type": "code",
   "execution_count": 118,
   "id": "47880a44",
   "metadata": {},
   "outputs": [
    {
     "data": {
      "text/plain": [
       "['Sheet1', 'Sheet2', 'Sheet3']"
      ]
     },
     "execution_count": 118,
     "metadata": {},
     "output_type": "execute_result"
    }
   ],
   "source": [
    "wb.sheetnames #시트 이름 출력"
   ]
  },
  {
   "cell_type": "code",
   "execution_count": 121,
   "id": "d43f83a1",
   "metadata": {},
   "outputs": [
    {
     "data": {
      "text/plain": [
       "openpyxl.worksheet.worksheet.Worksheet"
      ]
     },
     "execution_count": 121,
     "metadata": {},
     "output_type": "execute_result"
    }
   ],
   "source": [
    "sheet = wb['Sheet3'] #시트 선택\n",
    "type(sheet) #데이터 타입"
   ]
  },
  {
   "cell_type": "code",
   "execution_count": 122,
   "id": "140af9c3",
   "metadata": {},
   "outputs": [
    {
     "data": {
      "text/plain": [
       "<Worksheet \"Sheet1\">"
      ]
     },
     "execution_count": 122,
     "metadata": {},
     "output_type": "execute_result"
    }
   ],
   "source": [
    "wb.active #default로 sheet1번 열때"
   ]
  },
  {
   "cell_type": "code",
   "execution_count": 123,
   "id": "8ef3bece",
   "metadata": {},
   "outputs": [
    {
     "data": {
      "text/plain": [
       "datetime.datetime(2015, 4, 5, 13, 34, 2)"
      ]
     },
     "execution_count": 123,
     "metadata": {},
     "output_type": "execute_result"
    }
   ],
   "source": [
    "wb['Sheet1']['A1'].value #cell안에 있는 값"
   ]
  },
  {
   "cell_type": "code",
   "execution_count": 127,
   "id": "278e8d3c",
   "metadata": {},
   "outputs": [
    {
     "data": {
      "text/plain": [
       "(1, 1, datetime.datetime(2015, 4, 5, 13, 34, 2), 'A1')"
      ]
     },
     "execution_count": 127,
     "metadata": {},
     "output_type": "execute_result"
    }
   ],
   "source": [
    "sheet = wb['Sheet1']\n",
    "sheet['A1'].row, sheet['A1'].column, sheet['A1'].value, sheet['A1'].coordinate #coordinate 행의 이름"
   ]
  },
  {
   "cell_type": "code",
   "execution_count": 125,
   "id": "5a5fcba6",
   "metadata": {},
   "outputs": [
    {
     "data": {
      "text/plain": [
       "datetime.datetime(2015, 4, 5, 13, 34, 2)"
      ]
     },
     "execution_count": 125,
     "metadata": {},
     "output_type": "execute_result"
    }
   ],
   "source": [
    "sheet.cell(row=1, column=1).value"
   ]
  },
  {
   "cell_type": "code",
   "execution_count": 126,
   "id": "c5ab9847",
   "metadata": {},
   "outputs": [
    {
     "name": "stdout",
     "output_type": "stream",
     "text": [
      "2015-04-05 13:34:02\n",
      "2015-04-05 03:41:23\n",
      "2015-04-06 12:46:51\n",
      "2015-04-08 08:59:43\n",
      "2015-04-10 02:07:00\n",
      "2015-04-10 18:10:37\n",
      "2015-04-10 02:40:46\n"
     ]
    }
   ],
   "source": [
    "for i in range(1, 8):\n",
    "    print(sheet.cell(row=i, column=1).value)"
   ]
  },
  {
   "cell_type": "code",
   "execution_count": 128,
   "id": "1bccdbae",
   "metadata": {},
   "outputs": [
    {
     "data": {
      "text/plain": [
       "(7, 3)"
      ]
     },
     "execution_count": 128,
     "metadata": {},
     "output_type": "execute_result"
    }
   ],
   "source": [
    "sheet.max_row, sheet.max_column #sheet의 사이즈"
   ]
  },
  {
   "cell_type": "code",
   "execution_count": 129,
   "id": "3271afcd",
   "metadata": {},
   "outputs": [
    {
     "data": {
      "text/plain": [
       "(<Cell 'Sheet1'.A1>,\n",
       " <Cell 'Sheet1'.A2>,\n",
       " <Cell 'Sheet1'.A3>,\n",
       " <Cell 'Sheet1'.A4>,\n",
       " <Cell 'Sheet1'.A5>,\n",
       " <Cell 'Sheet1'.A6>,\n",
       " <Cell 'Sheet1'.A7>)"
      ]
     },
     "execution_count": 129,
     "metadata": {},
     "output_type": "execute_result"
    }
   ],
   "source": [
    "list(sheet.columns)[0]"
   ]
  },
  {
   "cell_type": "code",
   "execution_count": 130,
   "id": "4f05fcf0",
   "metadata": {},
   "outputs": [],
   "source": [
    "wb.save('example1.xlsx')#저장"
   ]
  },
  {
   "cell_type": "code",
   "execution_count": 131,
   "id": "56e35d9a",
   "metadata": {},
   "outputs": [
    {
     "data": {
      "text/plain": [
       "['Sheet']"
      ]
     },
     "execution_count": 131,
     "metadata": {},
     "output_type": "execute_result"
    }
   ],
   "source": [
    "#create new xlsx\n",
    "wb = openpyxl.Workbook()\n",
    "wb.sheetnames"
   ]
  },
  {
   "cell_type": "code",
   "execution_count": 133,
   "id": "861a75fb",
   "metadata": {},
   "outputs": [
    {
     "data": {
      "text/plain": [
       "['Sheet', 'Sheet1']"
      ]
     },
     "execution_count": 133,
     "metadata": {},
     "output_type": "execute_result"
    }
   ],
   "source": [
    "#create new sheets\n",
    "wb.create_sheet()\n",
    "wb.sheetnames"
   ]
  },
  {
   "cell_type": "code",
   "execution_count": 135,
   "id": "6911c454",
   "metadata": {},
   "outputs": [
    {
     "data": {
      "text/plain": [
       "<Worksheet \"first Sheet\">"
      ]
     },
     "execution_count": 135,
     "metadata": {},
     "output_type": "execute_result"
    }
   ],
   "source": [
    "#sheet name change(0번째 위치 새로 추가)\n",
    "wb.create_sheet(index=0, title='first Sheet')"
   ]
  },
  {
   "cell_type": "code",
   "execution_count": 136,
   "id": "c90a9bf3",
   "metadata": {},
   "outputs": [
    {
     "data": {
      "text/plain": [
       "['first Sheet', 'Sheet', 'Sheet1']"
      ]
     },
     "execution_count": 136,
     "metadata": {},
     "output_type": "execute_result"
    }
   ],
   "source": [
    "wb.sheetnames"
   ]
  },
  {
   "cell_type": "code",
   "execution_count": 137,
   "id": "143911c9",
   "metadata": {},
   "outputs": [
    {
     "data": {
      "text/plain": [
       "['first Sheet', 'Sheet1']"
      ]
     },
     "execution_count": 137,
     "metadata": {},
     "output_type": "execute_result"
    }
   ],
   "source": [
    "del wb['Sheet']\n",
    "wb.sheetnames"
   ]
  },
  {
   "cell_type": "code",
   "execution_count": 138,
   "id": "081690e4",
   "metadata": {},
   "outputs": [],
   "source": [
    "wb.close()"
   ]
  },
  {
   "cell_type": "code",
   "execution_count": 142,
   "id": "8bbaaa66",
   "metadata": {},
   "outputs": [
    {
     "data": {
      "text/plain": [
       "['Sheet1']"
      ]
     },
     "execution_count": 142,
     "metadata": {},
     "output_type": "execute_result"
    }
   ],
   "source": [
    "#exercise 8\n",
    "#파일 업로드\n",
    "wb = openpyxl.load_workbook('example2.xlsx')\n",
    "wb.sheetnames"
   ]
  },
  {
   "cell_type": "code",
   "execution_count": 141,
   "id": "03daafb4",
   "metadata": {},
   "outputs": [
    {
     "data": {
      "text/plain": [
       "<bound method Workbook.close of <openpyxl.workbook.workbook.Workbook object at 0x000001D4119442D0>>"
      ]
     },
     "execution_count": 141,
     "metadata": {},
     "output_type": "execute_result"
    }
   ],
   "source": [
    "#Sheet1 선택\n",
    "sheet = wb['Sheet1']\n",
    "\n",
    "#a1, b1에 값쓰기\n",
    "sheet['A1'] = 'Hello'\n",
    "sheet['A1'].value\n",
    "sheet['B1'] = 'world'\n",
    "sheet['B1'].value\n",
    "\n",
    "#wb 저장 및 닫기\n",
    "wb.save('example2_copy.xlsx')\n",
    "wb.close()\n"
   ]
  },
  {
   "cell_type": "code",
   "execution_count": 148,
   "id": "71bab5e7",
   "metadata": {},
   "outputs": [
    {
     "name": "stdout",
     "output_type": "stream",
     "text": [
      "Hello world "
     ]
    }
   ],
   "source": [
    "#cell값 출력\n",
    "sheet = wb['Sheet1']\n",
    "for i in range(1,3):\n",
    "    print(sheet.cell(row=1, column=i).value, end='')\n",
    "    print(\" \",end='')\n"
   ]
  },
  {
   "cell_type": "code",
   "execution_count": 149,
   "id": "c049c0be",
   "metadata": {},
   "outputs": [],
   "source": [
    "wb.close()"
   ]
  },
  {
   "cell_type": "code",
   "execution_count": 150,
   "id": "fa79cd3a",
   "metadata": {},
   "outputs": [
    {
     "name": "stdout",
     "output_type": "stream",
     "text": [
      "Collecting python-docx\n",
      "  Downloading python-docx-0.8.11.tar.gz (5.6 MB)\n",
      "                                              0.0/5.6 MB ? eta -:--:--\n",
      "                                              0.1/5.6 MB 2.0 MB/s eta 0:00:03\n",
      "     -                                        0.1/5.6 MB 2.1 MB/s eta 0:00:03\n",
      "     -                                        0.2/5.6 MB 1.7 MB/s eta 0:00:04\n",
      "     -                                        0.3/5.6 MB 1.6 MB/s eta 0:00:04\n",
      "     -                                        0.3/5.6 MB 1.6 MB/s eta 0:00:04\n",
      "     --                                       0.3/5.6 MB 1.3 MB/s eta 0:00:05\n",
      "     --                                       0.3/5.6 MB 1.3 MB/s eta 0:00:05\n",
      "     --                                       0.3/5.6 MB 1.3 MB/s eta 0:00:05\n",
      "     --                                       0.3/5.6 MB 1.3 MB/s eta 0:00:05\n",
      "     --                                       0.3/5.6 MB 1.3 MB/s eta 0:00:05\n",
      "     --                                       0.3/5.6 MB 1.3 MB/s eta 0:00:05\n",
      "     --                                       0.3/5.6 MB 1.3 MB/s eta 0:00:05\n",
      "     --                                       0.3/5.6 MB 1.3 MB/s eta 0:00:05\n",
      "     --                                       0.3/5.6 MB 1.3 MB/s eta 0:00:05\n",
      "     --                                       0.3/5.6 MB 1.3 MB/s eta 0:00:05\n",
      "     --                                       0.3/5.6 MB 1.3 MB/s eta 0:00:05\n",
      "     --                                       0.3/5.6 MB 1.3 MB/s eta 0:00:05\n",
      "     --                                       0.3/5.6 MB 1.3 MB/s eta 0:00:05\n",
      "     --                                       0.3/5.6 MB 1.3 MB/s eta 0:00:05\n",
      "     --                                       0.3/5.6 MB 1.3 MB/s eta 0:00:05\n",
      "     --                                       0.3/5.6 MB 311.6 kB/s eta 0:00:17\n",
      "     --                                       0.4/5.6 MB 412.6 kB/s eta 0:00:13\n",
      "     ---                                      0.4/5.6 MB 407.2 kB/s eta 0:00:13\n",
      "     ---                                      0.5/5.6 MB 402.9 kB/s eta 0:00:13\n",
      "     ---                                      0.5/5.6 MB 402.9 kB/s eta 0:00:13\n",
      "     ---                                      0.5/5.6 MB 402.9 kB/s eta 0:00:13\n",
      "     ---                                      0.5/5.6 MB 402.9 kB/s eta 0:00:13\n",
      "     ---                                      0.5/5.6 MB 402.9 kB/s eta 0:00:13\n",
      "     ---                                      0.5/5.6 MB 402.9 kB/s eta 0:00:13\n",
      "     ---                                      0.5/5.6 MB 402.9 kB/s eta 0:00:13\n",
      "     ---                                      0.5/5.6 MB 402.9 kB/s eta 0:00:13\n",
      "     ---                                      0.5/5.6 MB 331.2 kB/s eta 0:00:16\n",
      "     ---                                      0.5/5.6 MB 331.2 kB/s eta 0:00:16\n",
      "     ---                                      0.5/5.6 MB 331.2 kB/s eta 0:00:16\n",
      "     ---                                      0.5/5.6 MB 315.0 kB/s eta 0:00:17\n",
      "     ---                                      0.5/5.6 MB 324.6 kB/s eta 0:00:16\n",
      "     ---                                      0.5/5.6 MB 324.6 kB/s eta 0:00:16\n",
      "     ----                                     0.6/5.6 MB 318.9 kB/s eta 0:00:16\n",
      "     ----                                     0.6/5.6 MB 321.8 kB/s eta 0:00:16\n",
      "     ----                                     0.6/5.6 MB 321.8 kB/s eta 0:00:16\n",
      "     ----                                     0.6/5.6 MB 321.8 kB/s eta 0:00:16\n",
      "     ----                                     0.6/5.6 MB 321.8 kB/s eta 0:00:16\n",
      "     ----                                     0.6/5.6 MB 321.8 kB/s eta 0:00:16\n",
      "     ----                                     0.6/5.6 MB 321.8 kB/s eta 0:00:16\n",
      "     ----                                     0.6/5.6 MB 300.3 kB/s eta 0:00:17\n",
      "     ----                                     0.6/5.6 MB 300.3 kB/s eta 0:00:17\n",
      "     ----                                     0.6/5.6 MB 300.3 kB/s eta 0:00:17\n",
      "     ----                                     0.7/5.6 MB 304.3 kB/s eta 0:00:17\n",
      "     -----                                    0.7/5.6 MB 311.4 kB/s eta 0:00:16\n",
      "     -----                                    0.7/5.6 MB 305.3 kB/s eta 0:00:16\n",
      "     -----                                    0.7/5.6 MB 305.3 kB/s eta 0:00:16\n",
      "     -----                                    0.7/5.6 MB 305.3 kB/s eta 0:00:16\n",
      "     -----                                    0.7/5.6 MB 305.3 kB/s eta 0:00:16\n",
      "     -----                                    0.7/5.6 MB 305.3 kB/s eta 0:00:16\n",
      "     -----                                    0.7/5.6 MB 305.3 kB/s eta 0:00:16\n",
      "     -----                                    0.7/5.6 MB 305.3 kB/s eta 0:00:16\n",
      "     -----                                    0.7/5.6 MB 305.3 kB/s eta 0:00:16\n",
      "     -----                                    0.7/5.6 MB 305.3 kB/s eta 0:00:16\n",
      "     -----                                    0.7/5.6 MB 305.3 kB/s eta 0:00:16\n",
      "     -----                                    0.7/5.6 MB 305.3 kB/s eta 0:00:16\n",
      "     -----                                    0.8/5.6 MB 288.9 kB/s eta 0:00:17\n",
      "     ------                                   0.8/5.6 MB 295.0 kB/s eta 0:00:17\n",
      "     ------                                   0.9/5.6 MB 297.3 kB/s eta 0:00:16\n",
      "     ------                                   0.9/5.6 MB 294.5 kB/s eta 0:00:16\n",
      "     ------                                   0.9/5.6 MB 296.7 kB/s eta 0:00:16\n",
      "     ------                                   0.9/5.6 MB 305.4 kB/s eta 0:00:16\n",
      "     ------                                   1.0/5.6 MB 307.7 kB/s eta 0:00:15\n",
      "     ------                                   1.0/5.6 MB 312.7 kB/s eta 0:00:15\n",
      "     ------                                   1.0/5.6 MB 312.7 kB/s eta 0:00:15\n",
      "     ------                                   1.0/5.6 MB 312.7 kB/s eta 0:00:15\n",
      "     ------                                   1.0/5.6 MB 312.7 kB/s eta 0:00:15\n",
      "     -------                                  1.0/5.6 MB 302.5 kB/s eta 0:00:16\n",
      "     -------                                  1.0/5.6 MB 302.5 kB/s eta 0:00:16\n",
      "     -------                                  1.0/5.6 MB 306.4 kB/s eta 0:00:15\n",
      "     -------                                  1.1/5.6 MB 308.3 kB/s eta 0:00:15\n",
      "     -------                                  1.1/5.6 MB 308.3 kB/s eta 0:00:15\n",
      "     -------                                  1.1/5.6 MB 308.3 kB/s eta 0:00:15\n",
      "     -------                                  1.1/5.6 MB 300.3 kB/s eta 0:00:15\n",
      "     -------                                  1.1/5.6 MB 300.3 kB/s eta 0:00:15\n",
      "     -------                                  1.1/5.6 MB 298.2 kB/s eta 0:00:15\n",
      "     -------                                  1.1/5.6 MB 297.2 kB/s eta 0:00:15\n",
      "     --------                                 1.1/5.6 MB 298.9 kB/s eta 0:00:15\n",
      "     --------                                 1.1/5.6 MB 300.6 kB/s eta 0:00:15\n",
      "     --------                                 1.1/5.6 MB 300.6 kB/s eta 0:00:15\n",
      "     --------                                 1.2/5.6 MB 297.2 kB/s eta 0:00:15\n",
      "     --------                                 1.2/5.6 MB 300.1 kB/s eta 0:00:15\n",
      "     --------                                 1.2/5.6 MB 296.8 kB/s eta 0:00:15\n",
      "     --------                                 1.2/5.6 MB 296.8 kB/s eta 0:00:15\n",
      "     --------                                 1.2/5.6 MB 297.2 kB/s eta 0:00:15\n",
      "     --------                                 1.2/5.6 MB 299.1 kB/s eta 0:00:15\n",
      "     --------                                 1.2/5.6 MB 299.1 kB/s eta 0:00:15\n",
      "     --------                                 1.2/5.6 MB 299.1 kB/s eta 0:00:15\n",
      "     --------                                 1.2/5.6 MB 299.1 kB/s eta 0:00:15\n",
      "     --------                                 1.2/5.6 MB 299.1 kB/s eta 0:00:15\n",
      "     ---------                                1.3/5.6 MB 292.1 kB/s eta 0:00:15\n",
      "     ---------                                1.3/5.6 MB 293.9 kB/s eta 0:00:15\n",
      "     ---------                                1.3/5.6 MB 293.9 kB/s eta 0:00:15\n",
      "     ---------                                1.3/5.6 MB 293.1 kB/s eta 0:00:15\n",
      "     ---------                                1.3/5.6 MB 293.1 kB/s eta 0:00:15\n",
      "     ---------                                1.3/5.6 MB 293.1 kB/s eta 0:00:15\n",
      "     ---------                                1.3/5.6 MB 293.1 kB/s eta 0:00:15\n",
      "     ---------                                1.3/5.6 MB 293.1 kB/s eta 0:00:15\n",
      "     ---------                                1.3/5.6 MB 293.1 kB/s eta 0:00:15\n",
      "     ---------                                1.4/5.6 MB 282.4 kB/s eta 0:00:15\n",
      "     ---------                                1.4/5.6 MB 282.4 kB/s eta 0:00:15\n",
      "     ---------                                1.4/5.6 MB 280.0 kB/s eta 0:00:16\n",
      "     ---------                                1.4/5.6 MB 280.0 kB/s eta 0:00:16\n",
      "     ---------                                1.4/5.6 MB 279.7 kB/s eta 0:00:15\n",
      "     ----------                               1.4/5.6 MB 278.3 kB/s eta 0:00:15\n",
      "     ----------                               1.4/5.6 MB 279.7 kB/s eta 0:00:15\n",
      "     ----------                               1.4/5.6 MB 279.7 kB/s eta 0:00:15\n",
      "     ----------                               1.4/5.6 MB 280.6 kB/s eta 0:00:15\n",
      "     ----------                               1.5/5.6 MB 283.2 kB/s eta 0:00:15\n",
      "     ----------                               1.5/5.6 MB 283.2 kB/s eta 0:00:15\n",
      "     ----------                               1.5/5.6 MB 287.8 kB/s eta 0:00:15\n",
      "     -----------                              1.5/5.6 MB 290.9 kB/s eta 0:00:14\n",
      "     -----------                              1.6/5.6 MB 297.1 kB/s eta 0:00:14\n",
      "     -----------                              1.6/5.6 MB 297.2 kB/s eta 0:00:14\n",
      "     -----------                              1.6/5.6 MB 297.6 kB/s eta 0:00:14\n",
      "     -----------                              1.7/5.6 MB 300.6 kB/s eta 0:00:13\n",
      "     ------------                             1.7/5.6 MB 304.5 kB/s eta 0:00:13\n",
      "     ------------                             1.7/5.6 MB 310.2 kB/s eta 0:00:13\n",
      "     ------------                             1.8/5.6 MB 312.2 kB/s eta 0:00:13\n",
      "     ------------                             1.8/5.6 MB 315.0 kB/s eta 0:00:12\n",
      "     -------------                            1.8/5.6 MB 321.4 kB/s eta 0:00:12\n",
      "     -------------                            1.9/5.6 MB 325.1 kB/s eta 0:00:12\n",
      "     -------------                            1.9/5.6 MB 333.0 kB/s eta 0:00:11\n",
      "     --------------                           2.0/5.6 MB 334.7 kB/s eta 0:00:11\n",
      "     --------------                           2.0/5.6 MB 335.5 kB/s eta 0:00:11\n",
      "     --------------                           2.0/5.6 MB 341.5 kB/s eta 0:00:11\n",
      "     ---------------                          2.1/5.6 MB 350.8 kB/s eta 0:00:10\n",
      "     ---------------                          2.1/5.6 MB 353.2 kB/s eta 0:00:10\n",
      "     ---------------                          2.2/5.6 MB 362.2 kB/s eta 0:00:10\n",
      "     ---------------                          2.2/5.6 MB 362.2 kB/s eta 0:00:10\n",
      "     ----------------                         2.3/5.6 MB 370.0 kB/s eta 0:00:09\n",
      "     -----------------                        2.4/5.6 MB 378.8 kB/s eta 0:00:09\n",
      "     -----------------                        2.5/5.6 MB 390.6 kB/s eta 0:00:08\n",
      "     ------------------                       2.6/5.6 MB 404.0 kB/s eta 0:00:08\n",
      "     ------------------                       2.6/5.6 MB 407.2 kB/s eta 0:00:08\n",
      "     ------------------                       2.6/5.6 MB 410.2 kB/s eta 0:00:08\n",
      "     -------------------                      2.7/5.6 MB 417.3 kB/s eta 0:00:07\n",
      "     -------------------                      2.8/5.6 MB 423.2 kB/s eta 0:00:07\n",
      "     --------------------                     2.8/5.6 MB 427.5 kB/s eta 0:00:07\n",
      "     --------------------                     2.8/5.6 MB 427.5 kB/s eta 0:00:07\n",
      "     --------------------                     2.8/5.6 MB 427.5 kB/s eta 0:00:07\n",
      "     --------------------                     2.8/5.6 MB 427.5 kB/s eta 0:00:07\n",
      "     --------------------                     2.8/5.6 MB 423.2 kB/s eta 0:00:07\n",
      "     --------------------                     2.9/5.6 MB 423.8 kB/s eta 0:00:07\n",
      "     ---------------------                    2.9/5.6 MB 428.4 kB/s eta 0:00:07\n",
      "     ---------------------                    3.0/5.6 MB 437.0 kB/s eta 0:00:06\n",
      "     ----------------------                   3.1/5.6 MB 441.9 kB/s eta 0:00:06\n",
      "     ----------------------                   3.1/5.6 MB 450.7 kB/s eta 0:00:06\n",
      "     -----------------------                  3.2/5.6 MB 456.4 kB/s eta 0:00:06\n",
      "     -----------------------                  3.3/5.6 MB 460.7 kB/s eta 0:00:06\n",
      "     -----------------------                  3.3/5.6 MB 467.3 kB/s eta 0:00:05\n",
      "     ------------------------                 3.4/5.6 MB 474.3 kB/s eta 0:00:05\n",
      "     ------------------------                 3.5/5.6 MB 481.2 kB/s eta 0:00:05\n",
      "     -------------------------                3.5/5.6 MB 489.4 kB/s eta 0:00:05\n",
      "     --------------------------               3.6/5.6 MB 500.4 kB/s eta 0:00:04\n",
      "     --------------------------               3.7/5.6 MB 505.6 kB/s eta 0:00:04\n",
      "     --------------------------               3.7/5.6 MB 507.2 kB/s eta 0:00:04\n",
      "     ---------------------------              3.8/5.6 MB 513.0 kB/s eta 0:00:04\n",
      "     ---------------------------              3.9/5.6 MB 516.3 kB/s eta 0:00:04\n",
      "     ----------------------------             3.9/5.6 MB 524.0 kB/s eta 0:00:04\n",
      "     ----------------------------             4.0/5.6 MB 526.2 kB/s eta 0:00:04\n",
      "     -----------------------------            4.1/5.6 MB 534.0 kB/s eta 0:00:03\n",
      "     -----------------------------            4.1/5.6 MB 543.7 kB/s eta 0:00:03\n",
      "     ------------------------------           4.2/5.6 MB 548.4 kB/s eta 0:00:03\n",
      "     ------------------------------           4.3/5.6 MB 549.5 kB/s eta 0:00:03\n",
      "     -------------------------------          4.3/5.6 MB 554.0 kB/s eta 0:00:03\n",
      "     -------------------------------          4.4/5.6 MB 565.0 kB/s eta 0:00:03\n",
      "     --------------------------------         4.5/5.6 MB 574.7 kB/s eta 0:00:02\n",
      "     ---------------------------------        4.6/5.6 MB 582.8 kB/s eta 0:00:02\n",
      "     ---------------------------------        4.7/5.6 MB 588.4 kB/s eta 0:00:02\n",
      "     ----------------------------------       4.7/5.6 MB 591.3 kB/s eta 0:00:02\n",
      "     ----------------------------------       4.8/5.6 MB 599.4 kB/s eta 0:00:02\n",
      "     -----------------------------------      4.9/5.6 MB 607.2 kB/s eta 0:00:02\n",
      "     ------------------------------------     5.0/5.6 MB 613.9 kB/s eta 0:00:01\n",
      "     ------------------------------------     5.1/5.6 MB 617.8 kB/s eta 0:00:01\n",
      "     ------------------------------------     5.1/5.6 MB 623.1 kB/s eta 0:00:01\n",
      "     -------------------------------------    5.2/5.6 MB 626.8 kB/s eta 0:00:01\n",
      "     --------------------------------------   5.3/5.6 MB 635.7 kB/s eta 0:00:01\n",
      "     --------------------------------------   5.4/5.6 MB 643.1 kB/s eta 0:00:01\n",
      "     ---------------------------------------  5.5/5.6 MB 651.7 kB/s eta 0:00:01\n",
      "     ---------------------------------------- 5.6/5.6 MB 655.6 kB/s eta 0:00:00\n",
      "  Preparing metadata (setup.py): started\n",
      "  Preparing metadata (setup.py): finished with status 'done'\n",
      "Requirement already satisfied: lxml>=2.3.2 in c:\\anaconda\\lib\\site-packages (from python-docx) (4.9.2)\n",
      "Building wheels for collected packages: python-docx\n",
      "  Building wheel for python-docx (setup.py): started\n",
      "  Building wheel for python-docx (setup.py): finished with status 'done'\n",
      "  Created wheel for python-docx: filename=python_docx-0.8.11-py3-none-any.whl size=184519 sha256=baf34a7e48e699f039d3c2051460c2308c8cd1064ce40a7bdd71b28b8c556590\n",
      "  Stored in directory: c:\\users\\jangs\\appdata\\local\\pip\\cache\\wheels\\b2\\11\\b8\\209e41af524253c9ba6c2a8b8ecec0f98ecbc28c732512803c\n",
      "Successfully built python-docx\n",
      "Installing collected packages: python-docx\n",
      "Successfully installed python-docx-0.8.11\n"
     ]
    }
   ],
   "source": [
    "!pip install python-docx"
   ]
  },
  {
   "cell_type": "code",
   "execution_count": 151,
   "id": "5c533644",
   "metadata": {},
   "outputs": [],
   "source": [
    "#워드 자동화\n",
    "from docx import Document\n",
    "doc = Document()\n",
    "doc.add_heading('제목')\n",
    "doc.add_paragraph('내용입니다')\n",
    "doc.add_paragraph('또다른 내용입니다')\n",
    "tab = doc.add_table(rows=3, cols=2)\n",
    "tab.cell(0,0).text = '이름'\n",
    "tab.cell(0,1).text = '나이'\n",
    "tab.cell(1,0).text = '제이'\n",
    "tab.cell(1,1).text = '20'\n",
    "tab.cell(2,0).text = '나나'\n",
    "tab.cell(2,1).text = '22'\n",
    "doc.save('example.docx')"
   ]
  },
  {
   "cell_type": "code",
   "execution_count": 152,
   "id": "95925245",
   "metadata": {},
   "outputs": [
    {
     "name": "stdout",
     "output_type": "stream",
     "text": [
      "Collecting selenium\n",
      "  Downloading selenium-4.10.0-py3-none-any.whl (6.7 MB)\n",
      "                                              0.0/6.7 MB ? eta -:--:--\n",
      "                                              0.0/6.7 MB 1.9 MB/s eta 0:00:04\n",
      "                                              0.1/6.7 MB 919.0 kB/s eta 0:00:08\n",
      "                                              0.1/6.7 MB 901.1 kB/s eta 0:00:08\n",
      "                                              0.2/6.7 MB 1.1 MB/s eta 0:00:06\n",
      "     -                                        0.2/6.7 MB 1.1 MB/s eta 0:00:06\n",
      "     -                                        0.3/6.7 MB 1.1 MB/s eta 0:00:06\n",
      "     --                                       0.3/6.7 MB 1.1 MB/s eta 0:00:06\n",
      "     --                                       0.4/6.7 MB 1.1 MB/s eta 0:00:06\n",
      "     --                                       0.5/6.7 MB 1.2 MB/s eta 0:00:06\n",
      "     ---                                      0.5/6.7 MB 1.2 MB/s eta 0:00:05\n",
      "     ---                                      0.7/6.7 MB 1.4 MB/s eta 0:00:05\n",
      "     ---                                      0.7/6.7 MB 1.4 MB/s eta 0:00:05\n",
      "     ----                                     0.7/6.7 MB 1.2 MB/s eta 0:00:05\n",
      "     -----                                    0.9/6.7 MB 1.4 MB/s eta 0:00:05\n",
      "     -----                                    0.9/6.7 MB 1.3 MB/s eta 0:00:05\n",
      "     -----                                    0.9/6.7 MB 1.3 MB/s eta 0:00:05\n",
      "     -----                                    0.9/6.7 MB 1.3 MB/s eta 0:00:05\n",
      "     -----                                    0.9/6.7 MB 1.3 MB/s eta 0:00:05\n",
      "     -----                                    0.9/6.7 MB 1.3 MB/s eta 0:00:05\n",
      "     -----                                    0.9/6.7 MB 1.3 MB/s eta 0:00:05\n",
      "     -----                                    0.9/6.7 MB 1.3 MB/s eta 0:00:05\n",
      "     -----                                    0.9/6.7 MB 1.3 MB/s eta 0:00:05\n",
      "     -----                                    0.9/6.7 MB 1.3 MB/s eta 0:00:05\n",
      "     -----                                    0.9/6.7 MB 1.3 MB/s eta 0:00:05\n",
      "     -----                                    0.9/6.7 MB 1.3 MB/s eta 0:00:05\n",
      "     -----                                    0.9/6.7 MB 1.3 MB/s eta 0:00:05\n",
      "     -----                                    0.9/6.7 MB 1.3 MB/s eta 0:00:05\n",
      "     -----                                    0.9/6.7 MB 1.3 MB/s eta 0:00:05\n",
      "     -----                                    0.9/6.7 MB 1.3 MB/s eta 0:00:05\n",
      "     -----                                    0.9/6.7 MB 1.3 MB/s eta 0:00:05\n",
      "     -----                                    0.9/6.7 MB 1.3 MB/s eta 0:00:05\n",
      "     -----                                    0.9/6.7 MB 1.3 MB/s eta 0:00:05\n",
      "     -----                                    0.9/6.7 MB 1.3 MB/s eta 0:00:05\n",
      "     -----                                    0.9/6.7 MB 1.3 MB/s eta 0:00:05\n",
      "     -----                                    0.9/6.7 MB 1.3 MB/s eta 0:00:05\n",
      "     -----                                    0.9/6.7 MB 1.3 MB/s eta 0:00:05\n",
      "     -----                                    0.9/6.7 MB 1.3 MB/s eta 0:00:05\n",
      "     -----                                    0.9/6.7 MB 1.3 MB/s eta 0:00:05\n",
      "     -----                                    0.9/6.7 MB 1.3 MB/s eta 0:00:05\n",
      "     -----                                    0.9/6.7 MB 1.3 MB/s eta 0:00:05\n",
      "     -----                                    0.9/6.7 MB 1.3 MB/s eta 0:00:05\n",
      "     -----                                    0.9/6.7 MB 1.3 MB/s eta 0:00:05\n",
      "     -----                                    0.9/6.7 MB 1.3 MB/s eta 0:00:05\n",
      "     -----                                    1.0/6.7 MB 491.5 kB/s eta 0:00:12\n",
      "     -----                                    1.0/6.7 MB 491.5 kB/s eta 0:00:12\n",
      "     -----                                    1.0/6.7 MB 491.5 kB/s eta 0:00:12\n",
      "     -----                                    1.0/6.7 MB 491.5 kB/s eta 0:00:12\n",
      "     -----                                    1.0/6.7 MB 491.5 kB/s eta 0:00:12\n",
      "     -----                                    1.0/6.7 MB 491.5 kB/s eta 0:00:12\n",
      "     ------                                   1.0/6.7 MB 435.5 kB/s eta 0:00:14\n",
      "     ------                                   1.0/6.7 MB 435.5 kB/s eta 0:00:14\n",
      "     ------                                   1.0/6.7 MB 432.5 kB/s eta 0:00:14\n",
      "     ------                                   1.0/6.7 MB 432.6 kB/s eta 0:00:14\n",
      "     ------                                   1.0/6.7 MB 432.6 kB/s eta 0:00:14\n",
      "     ------                                   1.1/6.7 MB 427.2 kB/s eta 0:00:14\n",
      "     ------                                   1.1/6.7 MB 427.2 kB/s eta 0:00:14\n",
      "     ------                                   1.1/6.7 MB 427.2 kB/s eta 0:00:14\n",
      "     ------                                   1.1/6.7 MB 427.2 kB/s eta 0:00:14\n",
      "     ------                                   1.1/6.7 MB 427.2 kB/s eta 0:00:14\n",
      "     ------                                   1.1/6.7 MB 427.2 kB/s eta 0:00:14\n",
      "     ------                                   1.1/6.7 MB 427.2 kB/s eta 0:00:14\n",
      "     ------                                   1.1/6.7 MB 427.2 kB/s eta 0:00:14\n",
      "     ------                                   1.1/6.7 MB 427.2 kB/s eta 0:00:14\n",
      "     ------                                   1.1/6.7 MB 427.2 kB/s eta 0:00:14\n",
      "     ------                                   1.1/6.7 MB 427.2 kB/s eta 0:00:14\n",
      "     ------                                   1.1/6.7 MB 427.2 kB/s eta 0:00:14\n",
      "     ------                                   1.1/6.7 MB 427.2 kB/s eta 0:00:14\n",
      "     ------                                   1.1/6.7 MB 427.2 kB/s eta 0:00:14\n",
      "     ------                                   1.1/6.7 MB 427.2 kB/s eta 0:00:14\n",
      "     ------                                   1.1/6.7 MB 427.2 kB/s eta 0:00:14\n",
      "     ------                                   1.1/6.7 MB 427.2 kB/s eta 0:00:14\n",
      "     ------                                   1.1/6.7 MB 427.2 kB/s eta 0:00:14\n",
      "     ------                                   1.1/6.7 MB 427.2 kB/s eta 0:00:14\n",
      "     ------                                   1.1/6.7 MB 427.2 kB/s eta 0:00:14\n",
      "     ------                                   1.1/6.7 MB 427.2 kB/s eta 0:00:14\n",
      "     ------                                   1.1/6.7 MB 427.2 kB/s eta 0:00:14\n",
      "     ------                                   1.1/6.7 MB 427.2 kB/s eta 0:00:14\n",
      "     ------                                   1.1/6.7 MB 427.2 kB/s eta 0:00:14\n",
      "     ------                                   1.1/6.7 MB 427.2 kB/s eta 0:00:14\n",
      "     ------                                   1.1/6.7 MB 427.2 kB/s eta 0:00:14\n",
      "     ------                                   1.1/6.7 MB 427.2 kB/s eta 0:00:14\n",
      "     ------                                   1.1/6.7 MB 427.2 kB/s eta 0:00:14\n",
      "     ------                                   1.1/6.7 MB 281.7 kB/s eta 0:00:20\n",
      "     ------                                   1.1/6.7 MB 281.7 kB/s eta 0:00:20\n",
      "     ------                                   1.1/6.7 MB 281.7 kB/s eta 0:00:20\n",
      "     ------                                   1.1/6.7 MB 281.7 kB/s eta 0:00:20\n",
      "     ------                                   1.1/6.7 MB 281.7 kB/s eta 0:00:20\n",
      "     ------                                   1.1/6.7 MB 281.7 kB/s eta 0:00:20\n",
      "     ------                                   1.1/6.7 MB 281.7 kB/s eta 0:00:20\n",
      "     ------                                   1.1/6.7 MB 281.7 kB/s eta 0:00:20\n",
      "     ------                                   1.1/6.7 MB 281.7 kB/s eta 0:00:20\n",
      "     ------                                   1.1/6.7 MB 281.7 kB/s eta 0:00:20\n",
      "     ------                                   1.1/6.7 MB 281.7 kB/s eta 0:00:20\n",
      "     ------                                   1.1/6.7 MB 281.7 kB/s eta 0:00:20\n",
      "     ------                                   1.1/6.7 MB 281.7 kB/s eta 0:00:20\n",
      "     ------                                   1.1/6.7 MB 281.7 kB/s eta 0:00:20\n",
      "     ------                                   1.1/6.7 MB 281.7 kB/s eta 0:00:20\n",
      "     ------                                   1.1/6.7 MB 242.9 kB/s eta 0:00:23\n",
      "     ------                                   1.1/6.7 MB 242.9 kB/s eta 0:00:23\n",
      "     ------                                   1.1/6.7 MB 242.9 kB/s eta 0:00:23\n",
      "     ------                                   1.1/6.7 MB 242.9 kB/s eta 0:00:23\n",
      "     ------                                   1.1/6.7 MB 242.9 kB/s eta 0:00:23\n",
      "     ------                                   1.1/6.7 MB 242.9 kB/s eta 0:00:23\n",
      "     ------                                   1.1/6.7 MB 242.9 kB/s eta 0:00:23\n",
      "     ------                                   1.1/6.7 MB 242.9 kB/s eta 0:00:23\n",
      "     ------                                   1.1/6.7 MB 242.9 kB/s eta 0:00:23\n",
      "     ------                                   1.1/6.7 MB 242.9 kB/s eta 0:00:23\n",
      "     ------                                   1.1/6.7 MB 242.9 kB/s eta 0:00:23\n",
      "     ------                                   1.1/6.7 MB 220.5 kB/s eta 0:00:26\n",
      "     ------                                   1.1/6.7 MB 220.5 kB/s eta 0:00:26\n",
      "     ------                                   1.1/6.7 MB 220.5 kB/s eta 0:00:26\n",
      "     ------                                   1.1/6.7 MB 220.5 kB/s eta 0:00:26\n",
      "     ------                                   1.1/6.7 MB 216.5 kB/s eta 0:00:26\n",
      "     ------                                   1.1/6.7 MB 216.5 kB/s eta 0:00:26\n",
      "     ------                                   1.1/6.7 MB 216.5 kB/s eta 0:00:26\n",
      "     ------                                   1.1/6.7 MB 214.6 kB/s eta 0:00:26\n",
      "     ------                                   1.1/6.7 MB 214.6 kB/s eta 0:00:26\n",
      "     ------                                   1.2/6.7 MB 214.0 kB/s eta 0:00:26\n",
      "     ------                                   1.2/6.7 MB 214.0 kB/s eta 0:00:26\n",
      "     -------                                  1.2/6.7 MB 214.1 kB/s eta 0:00:26\n",
      "     -------                                  1.2/6.7 MB 214.1 kB/s eta 0:00:26\n",
      "     -------                                  1.2/6.7 MB 214.1 kB/s eta 0:00:26\n",
      "     -------                                  1.2/6.7 MB 214.1 kB/s eta 0:00:26\n",
      "     -------                                  1.2/6.7 MB 214.1 kB/s eta 0:00:26\n",
      "     -------                                  1.2/6.7 MB 210.1 kB/s eta 0:00:27\n",
      "     -------                                  1.2/6.7 MB 210.1 kB/s eta 0:00:27\n",
      "     -------                                  1.2/6.7 MB 210.1 kB/s eta 0:00:27\n",
      "     -------                                  1.2/6.7 MB 210.1 kB/s eta 0:00:27\n",
      "     -------                                  1.2/6.7 MB 210.1 kB/s eta 0:00:27\n",
      "     -------                                  1.2/6.7 MB 210.1 kB/s eta 0:00:27\n",
      "     -------                                  1.2/6.7 MB 210.1 kB/s eta 0:00:27\n",
      "     -------                                  1.2/6.7 MB 210.1 kB/s eta 0:00:27\n",
      "     -------                                  1.2/6.7 MB 210.1 kB/s eta 0:00:27\n",
      "     -------                                  1.2/6.7 MB 210.1 kB/s eta 0:00:27\n",
      "     -------                                  1.2/6.7 MB 210.1 kB/s eta 0:00:27\n",
      "     -------                                  1.2/6.7 MB 210.1 kB/s eta 0:00:27\n",
      "     -------                                  1.2/6.7 MB 210.1 kB/s eta 0:00:27\n",
      "     -------                                  1.2/6.7 MB 210.1 kB/s eta 0:00:27\n",
      "     -------                                  1.2/6.7 MB 210.1 kB/s eta 0:00:27\n",
      "     -------                                  1.2/6.7 MB 210.1 kB/s eta 0:00:27\n",
      "     -------                                  1.2/6.7 MB 189.7 kB/s eta 0:00:29\n",
      "     -------                                  1.2/6.7 MB 189.7 kB/s eta 0:00:29\n",
      "     -------                                  1.2/6.7 MB 188.1 kB/s eta 0:00:29\n",
      "     -------                                  1.2/6.7 MB 188.1 kB/s eta 0:00:29\n",
      "     -------                                  1.3/6.7 MB 189.5 kB/s eta 0:00:29\n",
      "     -------                                  1.3/6.7 MB 189.7 kB/s eta 0:00:29\n",
      "     -------                                  1.3/6.7 MB 189.7 kB/s eta 0:00:29\n",
      "     -------                                  1.3/6.7 MB 189.2 kB/s eta 0:00:29\n",
      "     -------                                  1.3/6.7 MB 189.2 kB/s eta 0:00:29\n",
      "     -------                                  1.3/6.7 MB 188.5 kB/s eta 0:00:29\n",
      "     -------                                  1.3/6.7 MB 188.5 kB/s eta 0:00:29\n",
      "     -------                                  1.3/6.7 MB 188.5 kB/s eta 0:00:29\n",
      "     -------                                  1.3/6.7 MB 188.5 kB/s eta 0:00:29\n",
      "     -------                                  1.3/6.7 MB 188.5 kB/s eta 0:00:29\n",
      "     -------                                  1.3/6.7 MB 188.5 kB/s eta 0:00:29\n",
      "     -------                                  1.3/6.7 MB 188.5 kB/s eta 0:00:29\n",
      "     -------                                  1.3/6.7 MB 188.5 kB/s eta 0:00:29\n",
      "     -------                                  1.3/6.7 MB 188.5 kB/s eta 0:00:29\n",
      "     -------                                  1.3/6.7 MB 179.4 kB/s eta 0:00:30\n",
      "     -------                                  1.3/6.7 MB 179.4 kB/s eta 0:00:30\n",
      "     -------                                  1.3/6.7 MB 179.5 kB/s eta 0:00:30\n",
      "     -------                                  1.3/6.7 MB 179.5 kB/s eta 0:00:30\n",
      "     -------                                  1.3/6.7 MB 179.5 kB/s eta 0:00:30\n",
      "     -------                                  1.3/6.7 MB 179.5 kB/s eta 0:00:30\n",
      "     -------                                  1.3/6.7 MB 179.5 kB/s eta 0:00:30\n",
      "     -------                                  1.3/6.7 MB 179.5 kB/s eta 0:00:30\n",
      "     -------                                  1.3/6.7 MB 179.5 kB/s eta 0:00:30\n",
      "     -------                                  1.3/6.7 MB 179.5 kB/s eta 0:00:30\n",
      "     -------                                  1.3/6.7 MB 179.5 kB/s eta 0:00:30\n",
      "     -------                                  1.3/6.7 MB 179.5 kB/s eta 0:00:30\n",
      "     --------                                 1.4/6.7 MB 172.0 kB/s eta 0:00:31\n",
      "     --------                                 1.4/6.7 MB 172.0 kB/s eta 0:00:31\n",
      "     --------                                 1.4/6.7 MB 172.0 kB/s eta 0:00:31\n",
      "     --------                                 1.4/6.7 MB 172.0 kB/s eta 0:00:31\n",
      "     --------                                 1.4/6.7 MB 169.3 kB/s eta 0:00:32\n",
      "     --------                                 1.4/6.7 MB 169.3 kB/s eta 0:00:32\n",
      "     --------                                 1.4/6.7 MB 169.3 kB/s eta 0:00:32\n",
      "     --------                                 1.4/6.7 MB 169.3 kB/s eta 0:00:32\n",
      "     --------                                 1.4/6.7 MB 169.3 kB/s eta 0:00:32\n",
      "     --------                                 1.4/6.7 MB 169.3 kB/s eta 0:00:32\n",
      "     --------                                 1.4/6.7 MB 166.3 kB/s eta 0:00:32\n",
      "     --------                                 1.4/6.7 MB 166.3 kB/s eta 0:00:32\n",
      "     --------                                 1.4/6.7 MB 166.3 kB/s eta 0:00:32\n",
      "     --------                                 1.4/6.7 MB 166.3 kB/s eta 0:00:32\n",
      "     --------                                 1.4/6.7 MB 163.8 kB/s eta 0:00:33\n",
      "     --------                                 1.4/6.7 MB 163.8 kB/s eta 0:00:33\n",
      "     --------                                 1.4/6.7 MB 163.8 kB/s eta 0:00:33\n",
      "     --------                                 1.4/6.7 MB 163.8 kB/s eta 0:00:33\n",
      "     --------                                 1.4/6.7 MB 163.8 kB/s eta 0:00:33\n",
      "     --------                                 1.4/6.7 MB 163.8 kB/s eta 0:00:33\n",
      "     --------                                 1.4/6.7 MB 163.8 kB/s eta 0:00:33\n",
      "     --------                                 1.4/6.7 MB 160.3 kB/s eta 0:00:33\n",
      "     --------                                 1.4/6.7 MB 160.3 kB/s eta 0:00:33\n",
      "     --------                                 1.4/6.7 MB 160.3 kB/s eta 0:00:33\n",
      "     --------                                 1.4/6.7 MB 160.3 kB/s eta 0:00:33\n",
      "     --------                                 1.4/6.7 MB 160.3 kB/s eta 0:00:33\n",
      "     --------                                 1.4/6.7 MB 158.2 kB/s eta 0:00:34\n",
      "     --------                                 1.4/6.7 MB 158.2 kB/s eta 0:00:34\n",
      "     --------                                 1.4/6.7 MB 158.2 kB/s eta 0:00:34\n",
      "     --------                                 1.4/6.7 MB 156.8 kB/s eta 0:00:34\n",
      "     --------                                 1.4/6.7 MB 156.8 kB/s eta 0:00:34\n",
      "     --------                                 1.5/6.7 MB 157.2 kB/s eta 0:00:34\n",
      "     --------                                 1.5/6.7 MB 157.2 kB/s eta 0:00:34\n",
      "     --------                                 1.5/6.7 MB 157.0 kB/s eta 0:00:34\n",
      "     --------                                 1.5/6.7 MB 157.0 kB/s eta 0:00:34\n",
      "     --------                                 1.5/6.7 MB 157.3 kB/s eta 0:00:33\n",
      "     --------                                 1.5/6.7 MB 157.3 kB/s eta 0:00:33\n",
      "     ---------                                1.5/6.7 MB 158.4 kB/s eta 0:00:33\n",
      "     ---------                                1.5/6.7 MB 158.2 kB/s eta 0:00:33\n",
      "     ---------                                1.5/6.7 MB 159.8 kB/s eta 0:00:33\n",
      "     ---------                                1.6/6.7 MB 160.9 kB/s eta 0:00:32\n",
      "     ---------                                1.6/6.7 MB 164.6 kB/s eta 0:00:31\n",
      "     ---------                                1.7/6.7 MB 170.1 kB/s eta 0:00:30\n",
      "     ----------                               1.7/6.7 MB 174.6 kB/s eta 0:00:29\n",
      "     ----------                               1.7/6.7 MB 174.8 kB/s eta 0:00:29\n",
      "     ----------                               1.8/6.7 MB 176.6 kB/s eta 0:00:28\n",
      "     ----------                               1.8/6.7 MB 180.3 kB/s eta 0:00:28\n",
      "     -----------                              1.9/6.7 MB 184.6 kB/s eta 0:00:27\n",
      "     -----------                              1.9/6.7 MB 192.9 kB/s eta 0:00:25\n",
      "     -----------                              2.0/6.7 MB 195.4 kB/s eta 0:00:25\n",
      "     ------------                             2.0/6.7 MB 199.2 kB/s eta 0:00:24\n",
      "     ------------                             2.1/6.7 MB 204.4 kB/s eta 0:00:23\n",
      "     ------------                             2.2/6.7 MB 210.8 kB/s eta 0:00:22\n",
      "     -------------                            2.2/6.7 MB 214.8 kB/s eta 0:00:21\n",
      "     -------------                            2.2/6.7 MB 217.1 kB/s eta 0:00:21\n",
      "     -------------                            2.3/6.7 MB 218.5 kB/s eta 0:00:21\n",
      "     -------------                            2.3/6.7 MB 222.7 kB/s eta 0:00:20\n",
      "     --------------                           2.4/6.7 MB 227.6 kB/s eta 0:00:19\n",
      "     --------------                           2.5/6.7 MB 233.4 kB/s eta 0:00:19\n",
      "     --------------                           2.5/6.7 MB 233.4 kB/s eta 0:00:19\n",
      "     ---------------                          2.5/6.7 MB 239.1 kB/s eta 0:00:18\n",
      "     ---------------                          2.6/6.7 MB 241.3 kB/s eta 0:00:18\n",
      "     ---------------                          2.7/6.7 MB 247.9 kB/s eta 0:00:17\n",
      "     ----------------                         2.7/6.7 MB 254.1 kB/s eta 0:00:16\n",
      "     ----------------                         2.8/6.7 MB 260.6 kB/s eta 0:00:15\n",
      "     -----------------                        2.9/6.7 MB 264.6 kB/s eta 0:00:15\n",
      "     -----------------                        2.9/6.7 MB 267.8 kB/s eta 0:00:15\n",
      "     -----------------                        3.0/6.7 MB 273.2 kB/s eta 0:00:14\n",
      "     ------------------                       3.1/6.7 MB 277.7 kB/s eta 0:00:14\n",
      "     ------------------                       3.1/6.7 MB 281.5 kB/s eta 0:00:13\n",
      "     ------------------                       3.2/6.7 MB 285.5 kB/s eta 0:00:13\n",
      "     -------------------                      3.2/6.7 MB 292.1 kB/s eta 0:00:12\n",
      "     -------------------                      3.3/6.7 MB 298.7 kB/s eta 0:00:12\n",
      "     --------------------                     3.4/6.7 MB 305.2 kB/s eta 0:00:11\n",
      "     --------------------                     3.5/6.7 MB 308.5 kB/s eta 0:00:11\n",
      "     ---------------------                    3.5/6.7 MB 311.8 kB/s eta 0:00:11\n",
      "     ---------------------                    3.6/6.7 MB 314.1 kB/s eta 0:00:10\n",
      "     ---------------------                    3.6/6.7 MB 314.1 kB/s eta 0:00:10\n",
      "     ---------------------                    3.6/6.7 MB 314.1 kB/s eta 0:00:10\n",
      "     ---------------------                    3.6/6.7 MB 314.1 kB/s eta 0:00:10\n",
      "     ---------------------                    3.6/6.7 MB 310.8 kB/s eta 0:00:10\n",
      "     ---------------------                    3.6/6.7 MB 311.7 kB/s eta 0:00:10\n",
      "     ---------------------                    3.7/6.7 MB 315.3 kB/s eta 0:00:10\n",
      "     ----------------------                   3.7/6.7 MB 318.4 kB/s eta 0:00:10\n",
      "     ----------------------                   3.7/6.7 MB 320.2 kB/s eta 0:00:10\n",
      "     ----------------------                   3.8/6.7 MB 325.5 kB/s eta 0:00:09\n",
      "     -----------------------                  3.9/6.7 MB 330.7 kB/s eta 0:00:09\n",
      "     -----------------------                  4.0/6.7 MB 333.8 kB/s eta 0:00:09\n",
      "     -----------------------                  4.0/6.7 MB 337.6 kB/s eta 0:00:08\n",
      "     ------------------------                 4.1/6.7 MB 341.9 kB/s eta 0:00:08\n",
      "     ------------------------                 4.1/6.7 MB 341.4 kB/s eta 0:00:08\n",
      "     ------------------------                 4.1/6.7 MB 341.4 kB/s eta 0:00:08\n",
      "     ------------------------                 4.1/6.7 MB 340.9 kB/s eta 0:00:08\n",
      "     ------------------------                 4.1/6.7 MB 341.7 kB/s eta 0:00:08\n",
      "     ------------------------                 4.1/6.7 MB 341.7 kB/s eta 0:00:08\n",
      "     ------------------------                 4.1/6.7 MB 341.7 kB/s eta 0:00:08\n",
      "     ------------------------                 4.1/6.7 MB 341.7 kB/s eta 0:00:08\n",
      "     ------------------------                 4.2/6.7 MB 338.1 kB/s eta 0:00:08\n",
      "     ------------------------                 4.2/6.7 MB 338.1 kB/s eta 0:00:08\n",
      "     ------------------------                 4.2/6.7 MB 338.1 kB/s eta 0:00:08\n",
      "     ------------------------                 4.2/6.7 MB 338.1 kB/s eta 0:00:08\n",
      "     ------------------------                 4.2/6.7 MB 338.1 kB/s eta 0:00:08\n",
      "     ------------------------                 4.2/6.7 MB 338.1 kB/s eta 0:00:08\n",
      "     ------------------------                 4.2/6.7 MB 338.1 kB/s eta 0:00:08\n",
      "     ------------------------                 4.2/6.7 MB 338.1 kB/s eta 0:00:08\n",
      "     ------------------------                 4.2/6.7 MB 338.1 kB/s eta 0:00:08\n",
      "     ------------------------                 4.2/6.7 MB 338.1 kB/s eta 0:00:08\n",
      "     ------------------------                 4.2/6.7 MB 338.1 kB/s eta 0:00:08\n",
      "     ------------------------                 4.2/6.7 MB 338.1 kB/s eta 0:00:08\n",
      "     ------------------------                 4.2/6.7 MB 338.1 kB/s eta 0:00:08\n",
      "     ------------------------                 4.2/6.7 MB 338.1 kB/s eta 0:00:08\n",
      "     ------------------------                 4.2/6.7 MB 322.5 kB/s eta 0:00:08\n",
      "     ------------------------                 4.2/6.7 MB 322.5 kB/s eta 0:00:08\n",
      "     -------------------------                4.2/6.7 MB 324.9 kB/s eta 0:00:08\n",
      "     -------------------------                4.3/6.7 MB 325.7 kB/s eta 0:00:08\n",
      "     -------------------------                4.3/6.7 MB 325.7 kB/s eta 0:00:08\n",
      "     -------------------------                4.3/6.7 MB 325.7 kB/s eta 0:00:08\n",
      "     -------------------------                4.3/6.7 MB 325.7 kB/s eta 0:00:08\n",
      "     -------------------------                4.3/6.7 MB 325.7 kB/s eta 0:00:08\n",
      "     -------------------------                4.3/6.7 MB 325.7 kB/s eta 0:00:08\n",
      "     -------------------------                4.3/6.7 MB 325.7 kB/s eta 0:00:08\n",
      "     -------------------------                4.3/6.7 MB 325.7 kB/s eta 0:00:08\n",
      "     -------------------------                4.3/6.7 MB 319.3 kB/s eta 0:00:08\n",
      "     -------------------------                4.3/6.7 MB 319.7 kB/s eta 0:00:08\n",
      "     -------------------------                4.3/6.7 MB 319.7 kB/s eta 0:00:08\n",
      "     -------------------------                4.3/6.7 MB 319.7 kB/s eta 0:00:08\n",
      "     -------------------------                4.3/6.7 MB 319.7 kB/s eta 0:00:08\n",
      "     -------------------------                4.3/6.7 MB 319.7 kB/s eta 0:00:08\n",
      "     -------------------------                4.3/6.7 MB 319.7 kB/s eta 0:00:08\n",
      "     --------------------------               4.3/6.7 MB 315.4 kB/s eta 0:00:08\n",
      "     --------------------------               4.4/6.7 MB 315.8 kB/s eta 0:00:08\n",
      "     --------------------------               4.4/6.7 MB 315.8 kB/s eta 0:00:08\n",
      "     --------------------------               4.4/6.7 MB 315.1 kB/s eta 0:00:08\n",
      "     --------------------------               4.4/6.7 MB 315.1 kB/s eta 0:00:08\n",
      "     --------------------------               4.4/6.7 MB 314.1 kB/s eta 0:00:08\n",
      "     --------------------------               4.4/6.7 MB 313.4 kB/s eta 0:00:08\n",
      "     --------------------------               4.4/6.7 MB 313.4 kB/s eta 0:00:08\n",
      "     --------------------------               4.4/6.7 MB 313.4 kB/s eta 0:00:08\n",
      "     --------------------------               4.4/6.7 MB 313.4 kB/s eta 0:00:08\n",
      "     --------------------------               4.4/6.7 MB 313.4 kB/s eta 0:00:08\n",
      "     --------------------------               4.4/6.7 MB 313.4 kB/s eta 0:00:08\n",
      "     --------------------------               4.4/6.7 MB 313.4 kB/s eta 0:00:08\n",
      "     --------------------------               4.4/6.7 MB 308.4 kB/s eta 0:00:08\n",
      "     --------------------------               4.4/6.7 MB 308.4 kB/s eta 0:00:08\n",
      "     --------------------------               4.5/6.7 MB 308.8 kB/s eta 0:00:08\n",
      "     --------------------------               4.5/6.7 MB 308.6 kB/s eta 0:00:08\n",
      "     --------------------------               4.5/6.7 MB 308.3 kB/s eta 0:00:08\n",
      "     --------------------------               4.5/6.7 MB 308.3 kB/s eta 0:00:08\n",
      "     ---------------------------              4.5/6.7 MB 309.5 kB/s eta 0:00:07\n",
      "     ---------------------------              4.6/6.7 MB 311.2 kB/s eta 0:00:07\n",
      "     ---------------------------              4.6/6.7 MB 312.7 kB/s eta 0:00:07\n",
      "     ----------------------------             4.7/6.7 MB 316.6 kB/s eta 0:00:07\n",
      "     ----------------------------             4.7/6.7 MB 319.0 kB/s eta 0:00:07\n",
      "     ----------------------------             4.8/6.7 MB 323.5 kB/s eta 0:00:06\n",
      "     -----------------------------            4.9/6.7 MB 325.6 kB/s eta 0:00:06\n",
      "     -----------------------------            4.9/6.7 MB 328.0 kB/s eta 0:00:06\n",
      "     -----------------------------            4.9/6.7 MB 328.0 kB/s eta 0:00:06\n",
      "     -----------------------------            5.0/6.7 MB 330.4 kB/s eta 0:00:06\n",
      "     ------------------------------           5.1/6.7 MB 335.2 kB/s eta 0:00:05\n",
      "     ------------------------------           5.1/6.7 MB 339.5 kB/s eta 0:00:05\n",
      "     -------------------------------          5.3/6.7 MB 345.6 kB/s eta 0:00:05\n",
      "     -------------------------------          5.3/6.7 MB 349.6 kB/s eta 0:00:04\n",
      "     --------------------------------         5.4/6.7 MB 352.2 kB/s eta 0:00:04\n",
      "     --------------------------------         5.4/6.7 MB 352.2 kB/s eta 0:00:04\n",
      "     --------------------------------         5.4/6.7 MB 351.7 kB/s eta 0:00:04\n",
      "     --------------------------------         5.5/6.7 MB 355.9 kB/s eta 0:00:04\n",
      "     ---------------------------------        5.5/6.7 MB 358.6 kB/s eta 0:00:04\n",
      "     ---------------------------------        5.6/6.7 MB 361.7 kB/s eta 0:00:03\n",
      "     ----------------------------------       5.7/6.7 MB 369.2 kB/s eta 0:00:03\n",
      "     -----------------------------------      5.8/6.7 MB 374.7 kB/s eta 0:00:03\n",
      "     -----------------------------------      5.9/6.7 MB 378.8 kB/s eta 0:00:02\n",
      "     ------------------------------------     6.0/6.7 MB 382.9 kB/s eta 0:00:02\n",
      "     ------------------------------------     6.1/6.7 MB 388.9 kB/s eta 0:00:02\n",
      "     -------------------------------------    6.3/6.7 MB 398.1 kB/s eta 0:00:01\n",
      "     -------------------------------------    6.3/6.7 MB 400.6 kB/s eta 0:00:01\n",
      "     --------------------------------------   6.5/6.7 MB 407.4 kB/s eta 0:00:01\n",
      "     ---------------------------------------  6.5/6.7 MB 410.2 kB/s eta 0:00:01\n",
      "     ---------------------------------------  6.6/6.7 MB 412.1 kB/s eta 0:00:01\n",
      "     ---------------------------------------  6.6/6.7 MB 415.1 kB/s eta 0:00:01\n",
      "     ---------------------------------------- 6.7/6.7 MB 416.3 kB/s eta 0:00:00\n",
      "Requirement already satisfied: urllib3[socks]<3,>=1.26 in c:\\anaconda\\lib\\site-packages (from selenium) (1.26.16)\n",
      "Collecting trio~=0.17 (from selenium)\n",
      "  Downloading trio-0.22.2-py3-none-any.whl (400 kB)\n",
      "                                              0.0/400.2 kB ? eta -:--:--\n",
      "     -----------                            122.9/400.2 kB 2.4 MB/s eta 0:00:01\n",
      "     ---------------                        163.8/400.2 kB 1.6 MB/s eta 0:00:01\n",
      "     --------------------------             276.5/400.2 kB 1.9 MB/s eta 0:00:01\n",
      "     -------------------------------------  399.4/400.2 kB 2.1 MB/s eta 0:00:01\n",
      "     -------------------------------------- 400.2/400.2 kB 1.9 MB/s eta 0:00:00\n",
      "Collecting trio-websocket~=0.9 (from selenium)\n",
      "  Downloading trio_websocket-0.10.3-py3-none-any.whl (17 kB)\n",
      "Requirement already satisfied: certifi>=2021.10.8 in c:\\anaconda\\lib\\site-packages (from selenium) (2023.5.7)\n",
      "Requirement already satisfied: attrs>=20.1.0 in c:\\anaconda\\lib\\site-packages (from trio~=0.17->selenium) (22.1.0)\n",
      "Requirement already satisfied: sortedcontainers in c:\\anaconda\\lib\\site-packages (from trio~=0.17->selenium) (2.4.0)\n",
      "Requirement already satisfied: idna in c:\\anaconda\\lib\\site-packages (from trio~=0.17->selenium) (3.4)\n",
      "Collecting outcome (from trio~=0.17->selenium)\n",
      "  Downloading outcome-1.2.0-py2.py3-none-any.whl (9.7 kB)\n",
      "Requirement already satisfied: sniffio in c:\\anaconda\\lib\\site-packages (from trio~=0.17->selenium) (1.2.0)\n",
      "Requirement already satisfied: cffi>=1.14 in c:\\anaconda\\lib\\site-packages (from trio~=0.17->selenium) (1.15.1)\n",
      "Collecting exceptiongroup (from trio-websocket~=0.9->selenium)\n",
      "  Downloading exceptiongroup-1.1.2-py3-none-any.whl (14 kB)\n",
      "Collecting wsproto>=0.14 (from trio-websocket~=0.9->selenium)\n",
      "  Downloading wsproto-1.2.0-py3-none-any.whl (24 kB)\n",
      "Requirement already satisfied: PySocks!=1.5.7,<2.0,>=1.5.6 in c:\\anaconda\\lib\\site-packages (from urllib3[socks]<3,>=1.26->selenium) (1.7.1)\n",
      "Requirement already satisfied: pycparser in c:\\anaconda\\lib\\site-packages (from cffi>=1.14->trio~=0.17->selenium) (2.21)\n",
      "Collecting h11<1,>=0.9.0 (from wsproto>=0.14->trio-websocket~=0.9->selenium)\n",
      "  Downloading h11-0.14.0-py3-none-any.whl (58 kB)\n",
      "                                              0.0/58.3 kB ? eta -:--:--\n",
      "     ---------------------------------------- 58.3/58.3 kB 1.5 MB/s eta 0:00:00\n",
      "Installing collected packages: outcome, h11, exceptiongroup, wsproto, trio, trio-websocket, selenium\n",
      "Successfully installed exceptiongroup-1.1.2 h11-0.14.0 outcome-1.2.0 selenium-4.10.0 trio-0.22.2 trio-websocket-0.10.3 wsproto-1.2.0\n"
     ]
    }
   ],
   "source": [
    "!pip install selenium"
   ]
  },
  {
   "cell_type": "code",
   "execution_count": 188,
   "id": "1925d5ca",
   "metadata": {
    "scrolled": false
   },
   "outputs": [
    {
     "ename": "ModuleNotFoundError",
     "evalue": "No module named 'selenium.webdriver.opera'",
     "output_type": "error",
     "traceback": [
      "\u001b[1;31m---------------------------------------------------------------------------\u001b[0m",
      "\u001b[1;31mModuleNotFoundError\u001b[0m                       Traceback (most recent call last)",
      "Cell \u001b[1;32mIn[188], line 2\u001b[0m\n\u001b[0;32m      1\u001b[0m \u001b[38;5;28;01mfrom\u001b[39;00m \u001b[38;5;21;01mselenium\u001b[39;00m \u001b[38;5;28;01mimport\u001b[39;00m webdriver\n\u001b[1;32m----> 2\u001b[0m \u001b[38;5;28;01mfrom\u001b[39;00m \u001b[38;5;21;01mselenium\u001b[39;00m\u001b[38;5;21;01m.\u001b[39;00m\u001b[38;5;21;01mwebdriver\u001b[39;00m\u001b[38;5;21;01m.\u001b[39;00m\u001b[38;5;21;01mopera\u001b[39;00m\u001b[38;5;21;01m.\u001b[39;00m\u001b[38;5;21;01moptions\u001b[39;00m \u001b[38;5;28;01mimport\u001b[39;00m Options\n\u001b[0;32m      4\u001b[0m options \u001b[38;5;241m=\u001b[39m Options()\n\u001b[0;32m      5\u001b[0m options\u001b[38;5;241m.\u001b[39mbinary_location \u001b[38;5;241m=\u001b[39m \u001b[38;5;124mr\u001b[39m\u001b[38;5;124m\"\u001b[39m\u001b[38;5;124mC:\u001b[39m\u001b[38;5;124m\\\u001b[39m\u001b[38;5;124mUsers\u001b[39m\u001b[38;5;124m\\\u001b[39m\u001b[38;5;124mjangs\u001b[39m\u001b[38;5;124m\\\u001b[39m\u001b[38;5;124moperadriver_win64\u001b[39m\u001b[38;5;124m\\\u001b[39m\u001b[38;5;124moperadriver_win64\u001b[39m\u001b[38;5;124m\\\u001b[39m\u001b[38;5;124moperadriver.exe\u001b[39m\u001b[38;5;124m\"\u001b[39m\n",
      "\u001b[1;31mModuleNotFoundError\u001b[0m: No module named 'selenium.webdriver.opera'"
     ]
    }
   ],
   "source": [
    "from selenium import webdriver\n",
    "from selenium.webdriver.opera.options import Options\n",
    "\n",
    "options = Options()\n",
    "options.binary_location = r\"C:\\Users\\jangs\\operadriver_win64\\operadriver_win64\\operadriver.exe\"\n",
    "driver = webdriver.Opera(options=options, executable_path=r\"C:\\Users\\jangs\\operadriver_win64\\operadriver_win64\\operadriver.exe\")\n",
    "driver.maximize_window()\n",
    "driver.get(\"https://www.google.com\")"
   ]
  },
  {
   "cell_type": "code",
   "execution_count": 189,
   "id": "7779fbe9",
   "metadata": {},
   "outputs": [
    {
     "ename": "ModuleNotFoundError",
     "evalue": "No module named 'selenium.webdriver.opera'",
     "output_type": "error",
     "traceback": [
      "\u001b[1;31m---------------------------------------------------------------------------\u001b[0m",
      "\u001b[1;31mModuleNotFoundError\u001b[0m                       Traceback (most recent call last)",
      "Cell \u001b[1;32mIn[189], line 2\u001b[0m\n\u001b[0;32m      1\u001b[0m \u001b[38;5;28;01mfrom\u001b[39;00m \u001b[38;5;21;01mselenium\u001b[39;00m \u001b[38;5;28;01mimport\u001b[39;00m webdriver\n\u001b[1;32m----> 2\u001b[0m \u001b[38;5;28;01mfrom\u001b[39;00m \u001b[38;5;21;01mselenium\u001b[39;00m\u001b[38;5;21;01m.\u001b[39;00m\u001b[38;5;21;01mwebdriver\u001b[39;00m\u001b[38;5;21;01m.\u001b[39;00m\u001b[38;5;21;01mopera\u001b[39;00m\u001b[38;5;21;01m.\u001b[39;00m\u001b[38;5;21;01moptions\u001b[39;00m \u001b[38;5;28;01mimport\u001b[39;00m Options\n\u001b[0;32m      4\u001b[0m opera_options \u001b[38;5;241m=\u001b[39m webdriver\u001b[38;5;241m.\u001b[39mChromeOptions()\n\u001b[0;32m      5\u001b[0m user_agent \u001b[38;5;241m=\u001b[39m \u001b[38;5;124m'\u001b[39m\u001b[38;5;124mMozilla/5.0 (Windows NT 10.0; Win64; x64) AppleWebKit/537.36 (KHTML, like Gecko) Chrome/114.0.0.0 Safari/537.36\u001b[39m\u001b[38;5;124m'\u001b[39m\n",
      "\u001b[1;31mModuleNotFoundError\u001b[0m: No module named 'selenium.webdriver.opera'"
     ]
    }
   ],
   "source": [
    "from selenium import webdriver\n",
    "from selenium.webdriver.opera.options import Options\n",
    "\n",
    "opera_options = webdriver.ChromeOptions()\n",
    "user_agent = 'Mozilla/5.0 (Windows NT 10.0; Win64; x64) AppleWebKit/537.36 (KHTML, like Gecko) Chrome/114.0.0.0 Safari/537.36'\n",
    "opera_options.add_argument(f'user-agent={user_agent}')\n",
    "\n",
    "driver = webdriver.Opera(options=opera_options)\n",
    "driver.get('https://ko-kr.facebook.com/')"
   ]
  },
  {
   "cell_type": "code",
   "execution_count": 1,
   "id": "ea245dba",
   "metadata": {},
   "outputs": [
    {
     "name": "stdout",
     "output_type": "stream",
     "text": [
      "4.10.0\n"
     ]
    }
   ],
   "source": [
    "import selenium\n",
    "print(selenium.__version__)"
   ]
  },
  {
   "cell_type": "code",
   "execution_count": 2,
   "id": "79ee6933",
   "metadata": {},
   "outputs": [],
   "source": [
    "from selenium import webdriver"
   ]
  },
  {
   "cell_type": "code",
   "execution_count": 13,
   "id": "39c5e129",
   "metadata": {},
   "outputs": [
    {
     "ename": "AttributeError",
     "evalue": "'WebDriver' object has no attribute 'find_element_by_name'",
     "output_type": "error",
     "traceback": [
      "\u001b[1;31m---------------------------------------------------------------------------\u001b[0m",
      "\u001b[1;31mAttributeError\u001b[0m                            Traceback (most recent call last)",
      "Cell \u001b[1;32mIn[13], line 8\u001b[0m\n\u001b[0;32m      5\u001b[0m driver \u001b[38;5;241m=\u001b[39m webdriver\u001b[38;5;241m.\u001b[39mChrome() \u001b[38;5;66;03m#request를 대신\u001b[39;00m\n\u001b[0;32m      6\u001b[0m driver\u001b[38;5;241m.\u001b[39mget(\u001b[38;5;124m\"\u001b[39m\u001b[38;5;124mhttps://www.naver.com\u001b[39m\u001b[38;5;124m\"\u001b[39m) \n\u001b[1;32m----> 8\u001b[0m elem \u001b[38;5;241m=\u001b[39m driver\u001b[38;5;241m.\u001b[39mfind_element_by_name(\u001b[38;5;124m\"\u001b[39m\u001b[38;5;124mquery\u001b[39m\u001b[38;5;124m\"\u001b[39m)\u001b[38;5;66;03m#요소 찾기(elem = driver.find) #검색창 'name'으로 찾기\u001b[39;00m\n\u001b[0;32m      9\u001b[0m elem\u001b[38;5;241m.\u001b[39msend_keys(\u001b[38;5;124m\"\u001b[39m\u001b[38;5;124m조코딩\u001b[39m\u001b[38;5;124m\"\u001b[39m)\n",
      "\u001b[1;31mAttributeError\u001b[0m: 'WebDriver' object has no attribute 'find_element_by_name'"
     ]
    }
   ],
   "source": [
    "import selenium\n",
    "from selenium import webdriver\n",
    "from selenium.webdriver.common.keys import Keys\n",
    "\n",
    "driver = webdriver.Chrome() #request를 대신\n",
    "driver.get(\"https://www.naver.com\") \n",
    "\n",
    "elem = driver.find_element_by_name(\"query\")#요소 찾기(elem = driver.find) #검색창 'name'으로 찾기\n",
    "elem.send_keys(\"조코딩\")#입력 넣기 "
   ]
  },
  {
   "cell_type": "code",
   "execution_count": null,
   "id": "e141da13",
   "metadata": {},
   "outputs": [],
   "source": []
  }
 ],
 "metadata": {
  "kernelspec": {
   "display_name": "Python 3 (ipykernel)",
   "language": "python",
   "name": "python3"
  },
  "language_info": {
   "codemirror_mode": {
    "name": "ipython",
    "version": 3
   },
   "file_extension": ".py",
   "mimetype": "text/x-python",
   "name": "python",
   "nbconvert_exporter": "python",
   "pygments_lexer": "ipython3",
   "version": "3.11.3"
  }
 },
 "nbformat": 4,
 "nbformat_minor": 5
}
