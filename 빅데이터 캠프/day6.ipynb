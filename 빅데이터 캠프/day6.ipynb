{
 "cells": [
  {
   "cell_type": "code",
   "execution_count": 60,
   "id": "d7a96ec8",
   "metadata": {},
   "outputs": [],
   "source": [
    "#Exercise 1 [selenum을 활용한, 네이버 금융에서 '삼성증권' 주식 검색 자동화 해보기]\n",
    "\n",
    "from selenium import webdriver\n",
    "from selenium.webdriver.chrome.service import Service\n",
    "from selenium.webdriver.chrome.options import Options\n",
    "from selenium.webdriver.common.by import By  #로케이터 방법을 추가\n",
    "from selenium.webdriver.common.keys import Keys\n",
    "\n",
    "import time\n",
    "#from selenium.webdriver.support.ui import WebDriverWait\n",
    "\n",
    "user_agent = 'Mozilla/5.0 (Windows NT 10.0; Win64; x64) AppleWebKit/537.36 (KHTML, like Gecko) Chrome/115.0.0.0 Safari/537.36'\n",
    "chrome_service = Service('C:\\\\Users\\\\jangs\\\\chromedriver.exe')\n",
    "chrome_options = Options()\n",
    "chrome_options.add_argument(f'user-agent=(user_agent)')\n",
    "driver = webdriver.Chrome(service=chrome_service, options=chrome_options)\n",
    "driver.get('https://finance.naver.com/') #링크 가져오기 \n",
    "\n",
    "# '검색' 자동화 \n",
    "item = driver.find_element(By.ID,'stock_items') #네이버 증권 '검색창' 가져오기\n",
    "item.send_keys('005930')#검색어 입력\n",
    "\n",
    "#'종합검색'버튼 작동\n",
    "botton = driver.find_element(By.CLASS_NAME, \"snb_search_btn-total\")\n",
    "botton.send_keys(Keys.RETURN)\n",
    "\n",
    "\n",
    "#search = driver.find_element(By.CLASS_NAME,'snb_search_btn')\n",
    "#wait = WebDriverWait(driver, 5)\n",
    "#time.sleep(5) #시간 대기 \n",
    "#item.send_keys(Keys.ENTER) #enter 입력\n"
   ]
  },
  {
   "cell_type": "code",
   "execution_count": 61,
   "id": "914e96e5",
   "metadata": {
    "scrolled": true
   },
   "outputs": [
    {
     "name": "stdout",
     "output_type": "stream",
     "text": [
      "<selenium.webdriver.remote.webelement.WebElement (session=\"ba612e4a2bdb3b948153151ca8809630\", element=\"5FB4E55822E6F127D4CDA4206B08C9B5_element_85\")>\n"
     ]
    }
   ],
   "source": [
    "# 숫자 정보를 가져오지 못하게 막음; (CSS Link; 사이트를 이용하여 가져온 css selector주소의 오류여부를 확인 할수있음)\n",
    "#해당 경우에는 code상에서 숫자 값에 대해서 block하여 scrapping 못하는 경우가 있음. \n",
    "\n",
    "#price = driver.find_element(By.XPATH,'blind')\n",
    "price = driver.find_element(By.CLASS_NAME,'blind')\n",
    "print(price)"
   ]
  },
  {
   "cell_type": "code",
   "execution_count": 67,
   "id": "e7a884d6",
   "metadata": {},
   "outputs": [],
   "source": [
    "from selenium import webdriver\n",
    "from selenium.webdriver.chrome.service import Service\n",
    "from selenium.webdriver.chrome.options import Options\n",
    "from selenium.webdriver.common.by import By  #로케이터 방법을 추가\n",
    "from selenium.webdriver.common.keys import Keys\n",
    "\n",
    "import time\n",
    "#from selenium.webdriver.support.ui import WebDriverWait\n",
    "\n",
    "user_agent = 'Mozilla/5.0 (Windows NT 10.0; Win64; x64) AppleWebKit/537.36 (KHTML, like Gecko) Chrome/115.0.0.0 Safari/537.36'\n",
    "chrome_service = Service('C:\\\\Users\\\\jangs\\\\chromedriver.exe')\n",
    "chrome_options = Options()\n",
    "chrome_options.add_argument(f'user-agent=(user_agent)')\n",
    "driver = webdriver.Chrome(service=chrome_service, options=chrome_options)\n",
    "\n",
    "\n",
    "driver = webdriver.Chrome(service=chrome_service, options=chrome_options)\n",
    "driver.get('https://www.myrealtrip.com/')"
   ]
  },
  {
   "cell_type": "code",
   "execution_count": 71,
   "id": "9f66e38c",
   "metadata": {},
   "outputs": [
    {
     "name": "stdout",
     "output_type": "stream",
     "text": [
      "[QR바로입장] 롯데월드 어드벤처 종합이용권\n"
     ]
    }
   ],
   "source": [
    "#여행 정보 SCRAPPING\n",
    "\n",
    "#XPATH로 데이터 SCRAPP [상품 제목 TEXT 추출]\n",
    "name = driver.find_element(By.CLASS_NAME, 'OfferHeaderTitle-module__container--ZcKff')\n",
    "name = name.text\n",
    "print(name)"
   ]
  },
  {
   "cell_type": "code",
   "execution_count": 77,
   "id": "514146aa",
   "metadata": {},
   "outputs": [
    {
     "name": "stdout",
     "output_type": "stream",
     "text": [
      "latitude : 37.511116, longitude : 127.09817\n"
     ]
    }
   ],
   "source": [
    "#위치 정보 SCRAPP\n",
    "loc = driver.find_element(By.CSS_SELECTOR, '#OFFER-SECTION-GUIDANCE > div > div > div:nth-child(2) > div > div > a > img').get_attribute('src')\n",
    "#print(loc)\n",
    "a = loc.split('=')\n",
    "b = a[1].split('&')\n",
    "c = b[0].split('%2C')\n",
    "#print(c)\n",
    "latitude = float(c[0])\n",
    "longitude = float(c[1])\n",
    "print(f\"latitude : {latitude}, longitude : {longitude}\")\n",
    "#lat = loc.split('=')[2].split(',')[0]\n",
    "#long = loc.split('=')[2].split(',')[1]\n",
    "#print(lat, long)"
   ]
  },
  {
   "cell_type": "code",
   "execution_count": 79,
   "id": "558d3486",
   "metadata": {},
   "outputs": [
    {
     "name": "stdout",
     "output_type": "stream",
     "text": [
      "- 주중 영업시간 10:00~21:00\n"
     ]
    }
   ],
   "source": [
    "#영업시간 추출\n",
    "time = driver.find_element(By.CLASS_NAME, 'OfferContents-module__contents--ZvdqS')\n",
    "time  = time.text.split('\\n')\n",
    "print(time[0])"
   ]
  },
  {
   "cell_type": "code",
   "execution_count": 80,
   "id": "2ecc3069",
   "metadata": {},
   "outputs": [
    {
     "name": "stdout",
     "output_type": "stream",
     "text": [
      "4.8\n"
     ]
    },
    {
     "data": {
      "text/plain": [
       "4.8"
      ]
     },
     "execution_count": 80,
     "metadata": {},
     "output_type": "execute_result"
    }
   ],
   "source": [
    "# 점수\n",
    "score = driver.find_element(By.CLASS_NAME, 'offer-container__mini-review__score').text\n",
    "print(score) #데이터 타입을 변환해서 사용\n",
    "float(score)"
   ]
  },
  {
   "cell_type": "code",
   "execution_count": 81,
   "id": "68142092",
   "metadata": {},
   "outputs": [
    {
     "name": "stdout",
     "output_type": "stream",
     "text": [
      "2289\n"
     ]
    }
   ],
   "source": [
    "#댓글수 \n",
    "review = driver.find_element(By.CLASS_NAME, 'offer-container__mini-review__review-count').text\n",
    "review = int(review[3:7])\n",
    "print(review)"
   ]
  },
  {
   "cell_type": "code",
   "execution_count": 83,
   "id": "d2d50fb6",
   "metadata": {},
   "outputs": [],
   "source": [
    "#이미지 다음버튼 클릭 \n",
    "driver.find_element(By.CSS_SELECTOR, 'body > div:nth-child(61) > div > div > div.image-viewer > div > div:nth-child(1) > img.swiper-button-next-custom').click()"
   ]
  },
  {
   "cell_type": "code",
   "execution_count": 85,
   "id": "d929ef71",
   "metadata": {},
   "outputs": [
    {
     "name": "stdout",
     "output_type": "stream",
     "text": [
      "https://dry7pvlp22cox.cloudfront.net/mrt-images-prod/2023/07/15/PIMy/A2BDYGAcmO.jpg?width=760&height=760&operation=crop\n",
      "https://dry7pvlp22cox.cloudfront.net/mrt-images-prod/2023/06/09/P0xt/1edKsWoHu7.jpg?width=760&height=760&operation=crop\n",
      "https://dry7pvlp22cox.cloudfront.net/mrt-images-prod/2023/06/09/ZfcO/ZetxtQJiXS.jpg?width=760&height=760&operation=crop\n",
      "https://dry7pvlp22cox.cloudfront.net/mrt-images-prod/2023/06/06/mZJi/BKXQJ7nFtl.jpg?width=760&height=760&operation=crop\n",
      "https://dry7pvlp22cox.cloudfront.net/mrt-images-prod/2023/06/05/9UZv/zIfn3eAjT1.jpg?width=760&height=760&operation=crop\n"
     ]
    }
   ],
   "source": [
    "#연속된 이미지 1~5번 (반복문을 활용하여 다운 및 slide 넘기기 ) \n",
    "img_lst = []\n",
    "for i in range(5):\n",
    "    image = driver.find_element(By.XPATH, '//*[@id=\"{}\"]/img'.format(i))\n",
    "    print(image.get_attribute('src')) #이미지 링크를 출력\n",
    "    img_lst.append(image.get_attribute('src')) #list에 값을 저장\n",
    "    driver.find_element(By.CLASS_NAME, 'swiper-button-next-custom').click() #다음버튼\n",
    "    driver.implicitly_wait(10) #대기시간"
   ]
  },
  {
   "cell_type": "code",
   "execution_count": 89,
   "id": "608bbc23",
   "metadata": {},
   "outputs": [
    {
     "name": "stdout",
     "output_type": "stream",
     "text": [
      "['A2BDYGAcmO.jpg', '1edKsWoHu7.jpg', 'ZetxtQJiXS.jpg', 'BKXQJ7nFtl.jpg', 'zIfn3eAjT1.jpg']\n"
     ]
    }
   ],
   "source": [
    "#list에 저장되어 있는 값 원하는 정보만 추출 \n",
    "img_lst1 = [x.split('/')[8].split('?')[0] for x in img_lst ]\n",
    "print(img_lst1)"
   ]
  },
  {
   "cell_type": "code",
   "execution_count": 93,
   "id": "fe1f6a0d",
   "metadata": {},
   "outputs": [
    {
     "name": "stdout",
     "output_type": "stream",
     "text": [
      "<?xml version=\"1.0\" encoding=\"UTF-8\" standalone=\"yes\" ?>\n",
      "<response>\n",
      " <body>\n",
      "  <ic>\n",
      "   A011010\n",
      "  </ic>\n",
      "  <in>\n",
      "   쌀\n",
      "  </in>\n",
      "  <items>\n",
      "   <item>\n",
      "    <pi>\n",
      "     999729700\n",
      "    </pi>\n",
      "    <pn>\n",
      "     [농할쿠폰20%] [20년산]경주시농협 삼광쌀20kg\n",
      "    </pn>\n",
      "    <sp>\n",
      "     59940\n",
      "    </sp>\n",
      "    <dp>\n",
      "     59940\n",
      "    </dp>\n",
      "    <bp>\n",
      "     0\n",
      "    </bp>\n",
      "    <sd>\n",
      "     2021-02-20\n",
      "    </sd>\n",
      "   </item>\n",
      "   <item>\n",
      "    <pi>\n",
      "     920808702\n",
      "    </pi>\n",
      "    <pn>\n",
      "     임실농협 행복드림 쌀 20kg /보통등급 최근도정\n",
      "    </pn>\n",
      "    <sp>\n",
      "     57780\n",
      "    </sp>\n",
      "    <dp>\n",
      "     57780\n",
      "    </dp>\n",
      "    <bp>\n",
      "     0\n",
      "    </bp>\n",
      "    <sd>\n",
      "     2021-02-20\n",
      "    </sd>\n",
      "   </item>\n",
      "   <item>\n",
      "    <pi>\n",
      "     920131941\n",
      "    </pi>\n",
      "    <pn>\n",
      "     임실농협 행복드림 신동진쌀 20kg /보통등급 최근도정\n",
      "    </pn>\n",
      "    <sp>\n",
      "     61080\n",
      "    </sp>\n",
      "    <dp>\n",
      "     61080\n",
      "    </dp>\n",
      "    <bp>\n",
      "     0\n",
      "    </bp>\n",
      "    <sd>\n",
      "     2021-02-20\n",
      "    </sd>\n",
      "   </item>\n",
      "   <item>\n",
      "    <pi>\n",
      "     920127163\n",
      "    </pi>\n",
      "    <pn>\n",
      "     밥맛좋은 영양쌀 20kg  최근도정\n",
      "    </pn>\n",
      "    <sp>\n",
      "     56130\n",
      "    </sp>\n",
      "    <dp>\n",
      "     56130\n",
      "    </dp>\n",
      "    <bp>\n",
      "     0\n",
      "    </bp>\n",
      "    <sd>\n",
      "     2021-02-20\n",
      "    </sd>\n",
      "   </item>\n",
      "   <item>\n",
      "    <pi>\n",
      "     918963486\n",
      "    </pi>\n",
      "    <pn>\n",
      "     단일품종 신동진 쌀 20kg /보통등급 최근도정\n",
      "    </pn>\n",
      "    <sp>\n",
      "     60890\n",
      "    </sp>\n",
      "    <dp>\n",
      "     60890\n",
      "    </dp>\n",
      "    <bp>\n",
      "     0\n",
      "    </bp>\n",
      "    <sd>\n",
      "     2021-02-20\n",
      "    </sd>\n",
      "   </item>\n",
      "   <item>\n",
      "    <pi>\n",
      "     918312794\n",
      "    </pi>\n",
      "    <pn>\n",
      "     영양쌀 20kg / 최근도정\n",
      "    </pn>\n",
      "    <sp>\n",
      "     56810\n",
      "    </sp>\n",
      "    <dp>\n",
      "     56810\n",
      "    </dp>\n",
      "    <bp>\n",
      "     0\n",
      "    </bp>\n",
      "    <sd>\n",
      "     2021-02-20\n",
      "    </sd>\n",
      "   </item>\n",
      "   <item>\n",
      "    <pi>\n",
      "     850072518\n",
      "    </pi>\n",
      "    <pn>\n",
      "     20년 햅쌀 무안농협 친환경 무농약 우렁이랑 쌀 20kg\n",
      "    </pn>\n",
      "    <sp>\n",
      "     72500\n",
      "    </sp>\n",
      "    <dp>\n",
      "     72500\n",
      "    </dp>\n",
      "    <bp>\n",
      "     0\n",
      "    </bp>\n",
      "    <sd>\n",
      "     2021-02-20\n",
      "    </sd>\n",
      "   </item>\n",
      "   <item>\n",
      "    <pi>\n",
      "     824090574\n",
      "    </pi>\n",
      "    <pn>\n",
      "     임실농협 행복드림 신동진 쌀 20kg /보통등급 최근도정\n",
      "    </pn>\n",
      "    <sp>\n",
      "     60200\n",
      "    </sp>\n",
      "    <dp>\n",
      "     60200\n",
      "    </dp>\n",
      "    <bp>\n",
      "     0\n",
      "    </bp>\n",
      "    <sd>\n",
      "     2021-02-20\n",
      "    </sd>\n",
      "   </item>\n",
      "   <item>\n",
      "    <pi>\n",
      "     809599833\n",
      "    </pi>\n",
      "    <pn>\n",
      "     임금님표 이천쌀 20kg / 상등급 최근도정\n",
      "    </pn>\n",
      "    <sp>\n",
      "     85440\n",
      "    </sp>\n",
      "    <dp>\n",
      "     85440\n",
      "    </dp>\n",
      "    <bp>\n",
      "     0\n",
      "    </bp>\n",
      "    <sd>\n",
      "     2021-02-20\n",
      "    </sd>\n",
      "   </item>\n",
      "   <item>\n",
      "    <pi>\n",
      "     789835728\n",
      "    </pi>\n",
      "    <pn>\n",
      "     [농할쿠폰20%] [홍천철원] 20년 포항흥해농협 삼광쌀 20kg\n",
      "    </pn>\n",
      "    <sp>\n",
      "     61250\n",
      "    </sp>\n",
      "    <dp>\n",
      "     61250\n",
      "    </dp>\n",
      "    <bp>\n",
      "     0\n",
      "    </bp>\n",
      "    <sd>\n",
      "     2021-02-20\n",
      "    </sd>\n",
      "   </item>\n",
      "  </items>\n",
      "  <numofrows>\n",
      "   10\n",
      "  </numofrows>\n",
      "  <pageno>\n",
      "   1\n",
      "  </pageno>\n",
      "  <totalcount>\n",
      "   93\n",
      "  </totalcount>\n",
      " </body>\n",
      "</response>\n",
      "\n"
     ]
    }
   ],
   "source": [
    "#OPEN API 가격정보 추출\n",
    "#request 반복 not recommend 함으로 body는 다른 페이지로 진행하는것을 추천\n",
    "import requests\n",
    "from bs4 import BeautifulSoup\n",
    "\n",
    "page = requests.get('https://apis.data.go.kr/1240000/bpp_openapi/getPriceInfo?serviceKey=%2By8zxHxSx9sqT6G4i9gNFkZaqH23k%2Bh51QArnY82ML8D%2BJ3CV1ke%2BZAPvIlhtgKUAJPUFi6FaNWgcmehbiwzIA%3D%3D&pageNo=1&numOfRows=10&itemCode=A011010&startDate=20210220&endDate=20210220')\n",
    "soup =  BeautifulSoup(page.content,'html.parser')\n",
    "print(soup.prettify())"
   ]
  },
  {
   "cell_type": "code",
   "execution_count": 94,
   "id": "d8caf294",
   "metadata": {},
   "outputs": [
    {
     "data": {
      "text/plain": [
       "'A011010'"
      ]
     },
     "execution_count": 94,
     "metadata": {},
     "output_type": "execute_result"
    }
   ],
   "source": [
    "soup.ic.text"
   ]
  },
  {
   "cell_type": "code",
   "execution_count": 92,
   "id": "c344dd07",
   "metadata": {},
   "outputs": [
    {
     "name": "stdout",
     "output_type": "stream",
     "text": [
      "b'<OpenAPI_ServiceResponse>\\n\\t<cmmMsgHeader>\\n\\t\\t<errMsg>SERVICE ERROR</errMsg>\\n\\t\\t<returnAuthMsg>SERVICE_KEY_IS_NOT_REGISTERED_ERROR</returnAuthMsg>\\n\\t\\t<returnReasonCode>30</returnReasonCode>\\n\\t</cmmMsgHeader>\\n</OpenAPI_ServiceResponse>'\n"
     ]
    }
   ],
   "source": [
    "#import requests\n",
    "\n",
    "#url = 'http://apis.data.go.kr/1240000/bpp_openapi/getPriceItemList'\n",
    "#params ={'serviceKey' : '%2By8zxHxSx9sqT6G4i9gNFkZaqH23k%2Bh51QArnY82ML8D%2BJ3CV1ke%2BZAPvIlhtgKUAJPUFi6FaNWgcmehbiwzIA%3D%3D', 'pageNo' : '1', 'numOfRows' : '10' }\n",
    "\n",
    "#response = requests.get(url, params=params)\n",
    "#print(response.content)"
   ]
  },
  {
   "cell_type": "code",
   "execution_count": 95,
   "id": "d547e718",
   "metadata": {},
   "outputs": [
    {
     "data": {
      "text/plain": [
       "[<ic>A011010</ic>]"
      ]
     },
     "execution_count": 95,
     "metadata": {},
     "output_type": "execute_result"
    }
   ],
   "source": [
    "ic = soup.find_all('ic') #product id: 품목코드"
   ]
  },
  {
   "cell_type": "code",
   "execution_count": 98,
   "id": "81a06c51",
   "metadata": {},
   "outputs": [
    {
     "name": "stdout",
     "output_type": "stream",
     "text": [
      "쌀\n"
     ]
    }
   ],
   "source": [
    "iname = soup.find('in').text #상품 이름\n",
    "print(iname)"
   ]
  },
  {
   "cell_type": "code",
   "execution_count": 134,
   "id": "ee4eab47",
   "metadata": {},
   "outputs": [
    {
     "name": "stdout",
     "output_type": "stream",
     "text": [
      "[59940, 57780, 61080, 56130, 60890, 56810, 72500, 60200, 85440, 61250]\n"
     ]
    }
   ],
   "source": [
    "pi = soup.find_all('pi')\n",
    "pi_lst = [x.text for x in pi] #상품ID\n",
    "pn = soup.find_all('pn')\n",
    "pn_lst = [x.text for x in pn] #상품명\n",
    "sp = soup.find_all('sp')\n",
    "sp_lst = [int(x.text) for x in sp] #판배가격\n",
    "\n",
    "lst_new = []\n",
    "#loop를 활용하여 데이터 가져오기 \n",
    "for tag in ['pi','dp','bp','sd']:\n",
    "    lst = soup.find_all(tag)\n",
    "    lst_new.append([x.text for x in soup.find_all(tag)])\n",
    "    #if(tag == 'dp'):\n",
    "         #[lst_new.insert(0,int(x.text)) for x in soup.find_all(tag)]\n",
    "\n",
    "#자료형 변황\n",
    "for x in range(0,10):\n",
    "    lst_new[1][x] = int(lst_new[1][x])\n",
    "print(lst_new[1])\n",
    "#print(sp_lst)"
   ]
  },
  {
   "cell_type": "code",
   "execution_count": 136,
   "id": "53e5ed2c",
   "metadata": {},
   "outputs": [
    {
     "data": {
      "text/plain": [
       "pi    object\n",
       "dp    object\n",
       "bp    object\n",
       "sd    object\n",
       "dtype: object"
      ]
     },
     "execution_count": 136,
     "metadata": {},
     "output_type": "execute_result"
    }
   ],
   "source": [
    "#데이타 프레임을 \n",
    "import pandas as pd\n",
    "df = pd.DataFrame(lst_new).T #행렬전치\n",
    "df.columns = ['pi','dp','bp','sd'] #열 index지정 \n",
    "df.dtypes"
   ]
  },
  {
   "cell_type": "code",
   "execution_count": 137,
   "id": "30eff44a",
   "metadata": {},
   "outputs": [],
   "source": [
    "# 한꺼번에 작업하는 경우\n",
    "lst = []\n",
    "col_lst = ['pi', 'pn', 'sp', 'dp', 'bp', 'sd']\n",
    "for tag in col_lst:\n",
    "    lst.append([x.text for x in soup.find_all(tag)]) #판매가격"
   ]
  },
  {
   "cell_type": "code",
   "execution_count": 147,
   "id": "3c469954",
   "metadata": {},
   "outputs": [
    {
     "data": {
      "text/plain": [
       "pi    object\n",
       "pn    object\n",
       "sp    object\n",
       "dp    object\n",
       "bp    object\n",
       "sd    object\n",
       "dtype: object"
      ]
     },
     "execution_count": 147,
     "metadata": {},
     "output_type": "execute_result"
    }
   ],
   "source": [
    "# 2d 데이터로 데이터 프레임 만들기\n",
    "df = pd.DataFrame(lst).T #행열전치\n",
    "df.columns = col_lst\n",
    "\n",
    "\n",
    "#형 변환; \n",
    "for i in range(0,10):\n",
    "    lst[2][i] = int(lst[2][i])\n",
    "lst\n",
    "df.dtypes"
   ]
  },
  {
   "cell_type": "code",
   "execution_count": 185,
   "id": "50bde7cc",
   "metadata": {},
   "outputs": [],
   "source": [
    "key = '%2By8zxHxSx9sqT6G4i9gNFkZaqH23k%2Bh51QArnY82ML8D%2BJ3CV1ke%2BZAPvIlhtgKUAJPUFi6FaNWgcmehbiwzIA%3D%3D'\n",
    "page = requests.get('https://api.odcloud.kr/api/15007097/v1/uddi:e1cdb81d-44d4-40c1-a8d8-f1b311129a54?page=1&perPage=10&serviceKey={}'.format(key))"
   ]
  },
  {
   "cell_type": "code",
   "execution_count": 187,
   "id": "0671fc2b",
   "metadata": {},
   "outputs": [
    {
     "data": {
      "text/plain": [
       "{'currentCount': 10,\n",
       " 'data': [{'경도(도)': '128.423238',\n",
       "   '관광지 아이디': '17703',\n",
       "   '관광지명': '(통영)세병관(통제영지)',\n",
       "   '실내구분': '실외',\n",
       "   '위도(도)': '34.847749',\n",
       "   '이동시간': '2',\n",
       "   '지역 아이디': '4822051000',\n",
       "   '코스 아이디': '177',\n",
       "   '코스순서': '3',\n",
       "   '테마명': '종교/역사/전통',\n",
       "   '테마분류': 'TH05'},\n",
       "  {'경도(도)': '128.417847',\n",
       "   '관광지 아이디': '17704',\n",
       "   '관광지명': '(통영)충렬사',\n",
       "   '실내구분': '실외',\n",
       "   '위도(도)': '34.846626',\n",
       "   '이동시간': '3',\n",
       "   '지역 아이디': '4822051000',\n",
       "   '코스 아이디': '177',\n",
       "   '코스순서': '4',\n",
       "   '테마명': '종교/역사/전통',\n",
       "   '테마분류': 'TH05'},\n",
       "  {'경도(도)': '128.409908',\n",
       "   '관광지 아이디': '17705',\n",
       "   '관광지명': '(통영)해저터널',\n",
       "   '실내구분': '실외',\n",
       "   '위도(도)': '34.834504',\n",
       "   '이동시간': '5',\n",
       "   '지역 아이디': '4822051000',\n",
       "   '코스 아이디': '177',\n",
       "   '코스순서': '5',\n",
       "   '테마명': '체험/학습/산업',\n",
       "   '테마분류': 'TH02'},\n",
       "  {'경도(도)': '128.410558',\n",
       "   '관광지 아이디': '17706',\n",
       "   '관광지명': '(통영)착량묘',\n",
       "   '실내구분': '실외',\n",
       "   '위도(도)': '34.835804',\n",
       "   '이동시간': '6',\n",
       "   '지역 아이디': '4822051000',\n",
       "   '코스 아이디': '177',\n",
       "   '코스순서': '6',\n",
       "   '테마명': '종교/역사/전통',\n",
       "   '테마분류': 'TH05'},\n",
       "  {'경도(도)': '128.432766',\n",
       "   '관광지 아이디': '17707',\n",
       "   '관광지명': '(통영)도남관광지',\n",
       "   '실내구분': '실외',\n",
       "   '위도(도)': '34.828362',\n",
       "   '이동시간': '7',\n",
       "   '지역 아이디': '4822059000',\n",
       "   '코스 아이디': '177',\n",
       "   '코스순서': '7',\n",
       "   '테마명': '자연/힐링',\n",
       "   '테마분류': 'TH03'},\n",
       "  {'경도(도)': '128.415157',\n",
       "   '관광지 아이디': '17708',\n",
       "   '관광지명': '(통영)전혁림미술관',\n",
       "   '실내구분': '실내',\n",
       "   '위도(도)': '34.826556',\n",
       "   '이동시간': '8',\n",
       "   '지역 아이디': '4822051000',\n",
       "   '코스 아이디': '177',\n",
       "   '코스순서': '8',\n",
       "   '테마명': '문화/예술',\n",
       "   '테마분류': 'TH01'},\n",
       "  {'경도(도)': '128.424279',\n",
       "   '관광지 아이디': '17709',\n",
       "   '관광지명': '(통영)중앙활어시장',\n",
       "   '실내구분': '실외',\n",
       "   '위도(도)': '34.845701',\n",
       "   '이동시간': '9',\n",
       "   '지역 아이디': '4822051000',\n",
       "   '코스 아이디': '177',\n",
       "   '코스순서': '9',\n",
       "   '테마명': '쇼핑/놀이',\n",
       "   '테마분류': 'TH06'},\n",
       "  {'경도(도)': '128.429715',\n",
       "   '관광지 아이디': '17710',\n",
       "   '관광지명': '(통영)남망산국제조각공원',\n",
       "   '실내구분': '실외',\n",
       "   '위도(도)': '34.841168',\n",
       "   '이동시간': '11',\n",
       "   '지역 아이디': '4822059000',\n",
       "   '코스 아이디': '177',\n",
       "   '코스순서': '10',\n",
       "   '테마명': '문화/예술',\n",
       "   '테마분류': 'TH01'},\n",
       "  {'경도(도)': '128.432766',\n",
       "   '관광지 아이디': '17801',\n",
       "   '관광지명': '(통영)도남관광지',\n",
       "   '실내구분': '실외',\n",
       "   '위도(도)': '34.828362',\n",
       "   '이동시간': '0',\n",
       "   '지역 아이디': '4822059000',\n",
       "   '코스 아이디': '178',\n",
       "   '코스순서': '1',\n",
       "   '테마명': '자연/힐링',\n",
       "   '테마분류': 'TH03'},\n",
       "  {'경도(도)': '128.472291',\n",
       "   '관광지 아이디': '17802',\n",
       "   '관광지명': '(통영)한산도 제승당',\n",
       "   '실내구분': '실외',\n",
       "   '위도(도)': '34.793922',\n",
       "   '이동시간': '2',\n",
       "   '지역 아이디': '4822036001',\n",
       "   '코스 아이디': '178',\n",
       "   '코스순서': '2',\n",
       "   '테마명': '종교/역사/전통',\n",
       "   '테마분류': 'TH05'}],\n",
       " 'matchCount': 2785,\n",
       " 'page': 1,\n",
       " 'perPage': 10,\n",
       " 'totalCount': 2785}"
      ]
     },
     "execution_count": 187,
     "metadata": {},
     "output_type": "execute_result"
    }
   ],
   "source": [
    "import json \n",
    "data = json.loads(page.text)\n",
    "data"
   ]
  },
  {
   "cell_type": "code",
   "execution_count": 191,
   "id": "17e126c2",
   "metadata": {},
   "outputs": [],
   "source": [
    "#관광지명\n",
    "name = []\n",
    "name = [data['data'][i]['관광지명']  for i in range(0,10)]"
   ]
  },
  {
   "cell_type": "code",
   "execution_count": 206,
   "id": "485b47b6",
   "metadata": {},
   "outputs": [
    {
     "data": {
      "text/plain": [
       "['세병관(통제영지)',\n",
       " '충렬사',\n",
       " '해저터널',\n",
       " '착량묘',\n",
       " '도남관광지',\n",
       " '전혁림미술관',\n",
       " '중앙활어시장',\n",
       " '남망산국제조각공원',\n",
       " '도남관광지',\n",
       " '한산도 제승당']"
      ]
     },
     "execution_count": 206,
     "metadata": {},
     "output_type": "execute_result"
    }
   ],
   "source": [
    "#slicing .... \n",
    "name\n",
    "name_new = name\n",
    "\n",
    "for i in range(0,10): \n",
    "    name_new[i] = (name[i])[4:]\n",
    "\n",
    "name_new"
   ]
  },
  {
   "cell_type": "code",
   "execution_count": 203,
   "id": "4a37ab16",
   "metadata": {},
   "outputs": [
    {
     "data": {
      "text/plain": [
       "7"
      ]
     },
     "execution_count": 203,
     "metadata": {},
     "output_type": "execute_result"
    }
   ],
   "source": [
    "len(name_new)"
   ]
  },
  {
   "cell_type": "code",
   "execution_count": 198,
   "id": "711c8626",
   "metadata": {},
   "outputs": [
    {
     "data": {
      "text/plain": [
       "[128.423238,\n",
       " 128.417847,\n",
       " 128.409908,\n",
       " 128.410558,\n",
       " 128.432766,\n",
       " 128.415157,\n",
       " 128.424279,\n",
       " 128.429715,\n",
       " 128.432766,\n",
       " 128.472291]"
      ]
     },
     "execution_count": 198,
     "metadata": {},
     "output_type": "execute_result"
    }
   ],
   "source": [
    "#경도 \n",
    "long = [] \n",
    "long = [float(data['data'][i]['경도(도)'])  for i in range(0,10)]\n",
    "\n",
    "long"
   ]
  },
  {
   "cell_type": "code",
   "execution_count": 199,
   "id": "b8e32887",
   "metadata": {},
   "outputs": [
    {
     "data": {
      "text/plain": [
       "[34.847749,\n",
       " 34.846626,\n",
       " 34.834504,\n",
       " 34.835804,\n",
       " 34.828362,\n",
       " 34.826556,\n",
       " 34.845701,\n",
       " 34.841168,\n",
       " 34.828362,\n",
       " 34.793922]"
      ]
     },
     "execution_count": 199,
     "metadata": {},
     "output_type": "execute_result"
    }
   ],
   "source": [
    "#위도 \n",
    "lati = [] \n",
    "lati = [float(data['data'][i]['위도(도)'])  for i in range(0,10)]\n",
    "\n",
    "lati"
   ]
  },
  {
   "cell_type": "code",
   "execution_count": 200,
   "id": "578ff06a",
   "metadata": {},
   "outputs": [
    {
     "data": {
      "text/plain": [
       "(10, 10, 10)"
      ]
     },
     "execution_count": 200,
     "metadata": {},
     "output_type": "execute_result"
    }
   ],
   "source": [
    "len(long), len(lati), len(name)"
   ]
  },
  {
   "cell_type": "code",
   "execution_count": 207,
   "id": "90252407",
   "metadata": {},
   "outputs": [
    {
     "data": {
      "text/html": [
       "<div>\n",
       "<style scoped>\n",
       "    .dataframe tbody tr th:only-of-type {\n",
       "        vertical-align: middle;\n",
       "    }\n",
       "\n",
       "    .dataframe tbody tr th {\n",
       "        vertical-align: top;\n",
       "    }\n",
       "\n",
       "    .dataframe thead th {\n",
       "        text-align: right;\n",
       "    }\n",
       "</style>\n",
       "<table border=\"1\" class=\"dataframe\">\n",
       "  <thead>\n",
       "    <tr style=\"text-align: right;\">\n",
       "      <th></th>\n",
       "      <th>name</th>\n",
       "      <th>long</th>\n",
       "      <th>lati</th>\n",
       "    </tr>\n",
       "  </thead>\n",
       "  <tbody>\n",
       "    <tr>\n",
       "      <th>0</th>\n",
       "      <td>세병관(통제영지)</td>\n",
       "      <td>128.423238</td>\n",
       "      <td>34.847749</td>\n",
       "    </tr>\n",
       "    <tr>\n",
       "      <th>1</th>\n",
       "      <td>충렬사</td>\n",
       "      <td>128.417847</td>\n",
       "      <td>34.846626</td>\n",
       "    </tr>\n",
       "    <tr>\n",
       "      <th>2</th>\n",
       "      <td>해저터널</td>\n",
       "      <td>128.409908</td>\n",
       "      <td>34.834504</td>\n",
       "    </tr>\n",
       "    <tr>\n",
       "      <th>3</th>\n",
       "      <td>착량묘</td>\n",
       "      <td>128.410558</td>\n",
       "      <td>34.835804</td>\n",
       "    </tr>\n",
       "    <tr>\n",
       "      <th>4</th>\n",
       "      <td>도남관광지</td>\n",
       "      <td>128.432766</td>\n",
       "      <td>34.828362</td>\n",
       "    </tr>\n",
       "    <tr>\n",
       "      <th>5</th>\n",
       "      <td>전혁림미술관</td>\n",
       "      <td>128.415157</td>\n",
       "      <td>34.826556</td>\n",
       "    </tr>\n",
       "    <tr>\n",
       "      <th>6</th>\n",
       "      <td>중앙활어시장</td>\n",
       "      <td>128.424279</td>\n",
       "      <td>34.845701</td>\n",
       "    </tr>\n",
       "    <tr>\n",
       "      <th>7</th>\n",
       "      <td>남망산국제조각공원</td>\n",
       "      <td>128.429715</td>\n",
       "      <td>34.841168</td>\n",
       "    </tr>\n",
       "    <tr>\n",
       "      <th>8</th>\n",
       "      <td>도남관광지</td>\n",
       "      <td>128.432766</td>\n",
       "      <td>34.828362</td>\n",
       "    </tr>\n",
       "    <tr>\n",
       "      <th>9</th>\n",
       "      <td>한산도 제승당</td>\n",
       "      <td>128.472291</td>\n",
       "      <td>34.793922</td>\n",
       "    </tr>\n",
       "  </tbody>\n",
       "</table>\n",
       "</div>"
      ],
      "text/plain": [
       "        name        long       lati\n",
       "0  세병관(통제영지)  128.423238  34.847749\n",
       "1        충렬사  128.417847  34.846626\n",
       "2       해저터널  128.409908  34.834504\n",
       "3        착량묘  128.410558  34.835804\n",
       "4      도남관광지  128.432766  34.828362\n",
       "5     전혁림미술관  128.415157  34.826556\n",
       "6     중앙활어시장  128.424279  34.845701\n",
       "7  남망산국제조각공원  128.429715  34.841168\n",
       "8      도남관광지  128.432766  34.828362\n",
       "9    한산도 제승당  128.472291  34.793922"
      ]
     },
     "execution_count": 207,
     "metadata": {},
     "output_type": "execute_result"
    }
   ],
   "source": [
    "import pandas as pd\n",
    "df = pd.DataFrame({\n",
    "    'name': name_new,\n",
    "    'long': long,\n",
    "    'lati': lati\n",
    "})\n",
    "\n",
    "df"
   ]
  },
  {
   "cell_type": "code",
   "execution_count": 179,
   "id": "842e16c6",
   "metadata": {},
   "outputs": [
    {
     "name": "stdout",
     "output_type": "stream",
     "text": [
      "(\n",
      "(\n",
      "(\n",
      "통\n",
      "통\n",
      "통\n",
      "영\n",
      "영\n",
      "영\n",
      ")\n",
      ")\n",
      ")\n",
      "도\n",
      "도\n",
      "도\n",
      "남\n",
      "남\n",
      "남\n",
      "관\n",
      "관\n",
      "관\n",
      "광\n",
      "광\n",
      "광\n",
      "지\n",
      "지\n",
      "지\n"
     ]
    }
   ],
   "source": [
    "long = [] #경도\n",
    "lati = [] #위도\n",
    "name = [] #이름\n",
    "for i in range(0,9):\n",
    "    name = data['data'][i]['관광지명']\n",
    "    long = data['data'][i]['경도(도)']\n",
    "    lati = data['data'][i]['위도(도)']\n",
    "    \n",
    "for i in name:\n",
    "    print(i)\n",
    "#for i in long:\n",
    "    print(i)\n",
    "#for i in lati:\n",
    "    print(i)\n",
    "\n",
    "#len(name), len(long), len(lati) \n"
   ]
  },
  {
   "cell_type": "code",
   "execution_count": 175,
   "id": "21992745",
   "metadata": {},
   "outputs": [
    {
     "ename": "ValueError",
     "evalue": "If using all scalar values, you must pass an index",
     "output_type": "error",
     "traceback": [
      "\u001b[1;31m---------------------------------------------------------------------------\u001b[0m",
      "\u001b[1;31mValueError\u001b[0m                                Traceback (most recent call last)",
      "Cell \u001b[1;32mIn[175], line 2\u001b[0m\n\u001b[0;32m      1\u001b[0m \u001b[38;5;28;01mimport\u001b[39;00m \u001b[38;5;21;01mpandas\u001b[39;00m \u001b[38;5;28;01mas\u001b[39;00m \u001b[38;5;21;01mpd\u001b[39;00m\n\u001b[1;32m----> 2\u001b[0m df \u001b[38;5;241m=\u001b[39m pd\u001b[38;5;241m.\u001b[39mDataFrame({\n\u001b[0;32m      3\u001b[0m     \u001b[38;5;124m'\u001b[39m\u001b[38;5;124mname\u001b[39m\u001b[38;5;124m'\u001b[39m: name[:\u001b[38;5;241m9\u001b[39m],\n\u001b[0;32m      4\u001b[0m     \u001b[38;5;124m'\u001b[39m\u001b[38;5;124mlong\u001b[39m\u001b[38;5;124m'\u001b[39m: long[:\u001b[38;5;241m9\u001b[39m],\n\u001b[0;32m      5\u001b[0m     \u001b[38;5;124m'\u001b[39m\u001b[38;5;124mlati\u001b[39m\u001b[38;5;124m'\u001b[39m: lati[:\u001b[38;5;241m9\u001b[39m]\n\u001b[0;32m      6\u001b[0m })\n\u001b[0;32m      8\u001b[0m df\n",
      "File \u001b[1;32mC:\\anaconda\\Lib\\site-packages\\pandas\\core\\frame.py:664\u001b[0m, in \u001b[0;36mDataFrame.__init__\u001b[1;34m(self, data, index, columns, dtype, copy)\u001b[0m\n\u001b[0;32m    658\u001b[0m     mgr \u001b[38;5;241m=\u001b[39m \u001b[38;5;28mself\u001b[39m\u001b[38;5;241m.\u001b[39m_init_mgr(\n\u001b[0;32m    659\u001b[0m         data, axes\u001b[38;5;241m=\u001b[39m{\u001b[38;5;124m\"\u001b[39m\u001b[38;5;124mindex\u001b[39m\u001b[38;5;124m\"\u001b[39m: index, \u001b[38;5;124m\"\u001b[39m\u001b[38;5;124mcolumns\u001b[39m\u001b[38;5;124m\"\u001b[39m: columns}, dtype\u001b[38;5;241m=\u001b[39mdtype, copy\u001b[38;5;241m=\u001b[39mcopy\n\u001b[0;32m    660\u001b[0m     )\n\u001b[0;32m    662\u001b[0m \u001b[38;5;28;01melif\u001b[39;00m \u001b[38;5;28misinstance\u001b[39m(data, \u001b[38;5;28mdict\u001b[39m):\n\u001b[0;32m    663\u001b[0m     \u001b[38;5;66;03m# GH#38939 de facto copy defaults to False only in non-dict cases\u001b[39;00m\n\u001b[1;32m--> 664\u001b[0m     mgr \u001b[38;5;241m=\u001b[39m dict_to_mgr(data, index, columns, dtype\u001b[38;5;241m=\u001b[39mdtype, copy\u001b[38;5;241m=\u001b[39mcopy, typ\u001b[38;5;241m=\u001b[39mmanager)\n\u001b[0;32m    665\u001b[0m \u001b[38;5;28;01melif\u001b[39;00m \u001b[38;5;28misinstance\u001b[39m(data, ma\u001b[38;5;241m.\u001b[39mMaskedArray):\n\u001b[0;32m    666\u001b[0m     \u001b[38;5;28;01mimport\u001b[39;00m \u001b[38;5;21;01mnumpy\u001b[39;00m\u001b[38;5;21;01m.\u001b[39;00m\u001b[38;5;21;01mma\u001b[39;00m\u001b[38;5;21;01m.\u001b[39;00m\u001b[38;5;21;01mmrecords\u001b[39;00m \u001b[38;5;28;01mas\u001b[39;00m \u001b[38;5;21;01mmrecords\u001b[39;00m\n",
      "File \u001b[1;32mC:\\anaconda\\Lib\\site-packages\\pandas\\core\\internals\\construction.py:493\u001b[0m, in \u001b[0;36mdict_to_mgr\u001b[1;34m(data, index, columns, dtype, typ, copy)\u001b[0m\n\u001b[0;32m    489\u001b[0m     \u001b[38;5;28;01melse\u001b[39;00m:\n\u001b[0;32m    490\u001b[0m         \u001b[38;5;66;03m# dtype check to exclude e.g. range objects, scalars\u001b[39;00m\n\u001b[0;32m    491\u001b[0m         arrays \u001b[38;5;241m=\u001b[39m [x\u001b[38;5;241m.\u001b[39mcopy() \u001b[38;5;28;01mif\u001b[39;00m \u001b[38;5;28mhasattr\u001b[39m(x, \u001b[38;5;124m\"\u001b[39m\u001b[38;5;124mdtype\u001b[39m\u001b[38;5;124m\"\u001b[39m) \u001b[38;5;28;01melse\u001b[39;00m x \u001b[38;5;28;01mfor\u001b[39;00m x \u001b[38;5;129;01min\u001b[39;00m arrays]\n\u001b[1;32m--> 493\u001b[0m \u001b[38;5;28;01mreturn\u001b[39;00m arrays_to_mgr(arrays, columns, index, dtype\u001b[38;5;241m=\u001b[39mdtype, typ\u001b[38;5;241m=\u001b[39mtyp, consolidate\u001b[38;5;241m=\u001b[39mcopy)\n",
      "File \u001b[1;32mC:\\anaconda\\Lib\\site-packages\\pandas\\core\\internals\\construction.py:118\u001b[0m, in \u001b[0;36marrays_to_mgr\u001b[1;34m(arrays, columns, index, dtype, verify_integrity, typ, consolidate)\u001b[0m\n\u001b[0;32m    115\u001b[0m \u001b[38;5;28;01mif\u001b[39;00m verify_integrity:\n\u001b[0;32m    116\u001b[0m     \u001b[38;5;66;03m# figure out the index, if necessary\u001b[39;00m\n\u001b[0;32m    117\u001b[0m     \u001b[38;5;28;01mif\u001b[39;00m index \u001b[38;5;129;01mis\u001b[39;00m \u001b[38;5;28;01mNone\u001b[39;00m:\n\u001b[1;32m--> 118\u001b[0m         index \u001b[38;5;241m=\u001b[39m _extract_index(arrays)\n\u001b[0;32m    119\u001b[0m     \u001b[38;5;28;01melse\u001b[39;00m:\n\u001b[0;32m    120\u001b[0m         index \u001b[38;5;241m=\u001b[39m ensure_index(index)\n",
      "File \u001b[1;32mC:\\anaconda\\Lib\\site-packages\\pandas\\core\\internals\\construction.py:656\u001b[0m, in \u001b[0;36m_extract_index\u001b[1;34m(data)\u001b[0m\n\u001b[0;32m    653\u001b[0m         \u001b[38;5;28;01mraise\u001b[39;00m \u001b[38;5;167;01mValueError\u001b[39;00m(\u001b[38;5;124m\"\u001b[39m\u001b[38;5;124mPer-column arrays must each be 1-dimensional\u001b[39m\u001b[38;5;124m\"\u001b[39m)\n\u001b[0;32m    655\u001b[0m \u001b[38;5;28;01mif\u001b[39;00m \u001b[38;5;129;01mnot\u001b[39;00m indexes \u001b[38;5;129;01mand\u001b[39;00m \u001b[38;5;129;01mnot\u001b[39;00m raw_lengths:\n\u001b[1;32m--> 656\u001b[0m     \u001b[38;5;28;01mraise\u001b[39;00m \u001b[38;5;167;01mValueError\u001b[39;00m(\u001b[38;5;124m\"\u001b[39m\u001b[38;5;124mIf using all scalar values, you must pass an index\u001b[39m\u001b[38;5;124m\"\u001b[39m)\n\u001b[0;32m    658\u001b[0m \u001b[38;5;28;01melif\u001b[39;00m have_series:\n\u001b[0;32m    659\u001b[0m     index \u001b[38;5;241m=\u001b[39m union_indexes(indexes)\n",
      "\u001b[1;31mValueError\u001b[0m: If using all scalar values, you must pass an index"
     ]
    }
   ],
   "source": [
    "import pandas as pd\n",
    "df = pd.DataFrame({\n",
    "    'name': name,\n",
    "    'long': long,\n",
    "    'lati': lati\n",
    "})\n",
    "\n",
    "df"
   ]
  },
  {
   "cell_type": "code",
   "execution_count": null,
   "id": "6e1d373b",
   "metadata": {},
   "outputs": [],
   "source": []
  }
 ],
 "metadata": {
  "kernelspec": {
   "display_name": "Python 3 (ipykernel)",
   "language": "python",
   "name": "python3"
  },
  "language_info": {
   "codemirror_mode": {
    "name": "ipython",
    "version": 3
   },
   "file_extension": ".py",
   "mimetype": "text/x-python",
   "name": "python",
   "nbconvert_exporter": "python",
   "pygments_lexer": "ipython3",
   "version": "3.11.3"
  }
 },
 "nbformat": 4,
 "nbformat_minor": 5
}
