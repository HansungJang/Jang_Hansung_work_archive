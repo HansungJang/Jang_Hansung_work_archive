{
 "cells": [
  {
   "cell_type": "code",
   "execution_count": 94,
   "id": "50b557a6",
   "metadata": {},
   "outputs": [],
   "source": [
    "#음원 데이터 추출; \n",
    "import requests\n",
    "from bs4 import BeautifulSoup\n",
    "url = 'https://www.music-flo.com/api/meta/v1/track/KPOP/new?page=1&size=100%D7tamp'\n",
    "page = requests.get(url)\n",
    "\n",
    "#여러 페이지를 가져올때\n",
    "#for i in range(1,11):\n",
    "#    url = 'https://www.music-flo.com/api/meta/v1/track/KPOP/new?page={}&size=100%D7tamp'.format(i)\n",
    "#    page = requests.get(url)"
   ]
  },
  {
   "cell_type": "code",
   "execution_count": 92,
   "id": "276cb023",
   "metadata": {},
   "outputs": [],
   "source": [
    "import json \n",
    "music = json.loads(page.text)\n",
    "#data['data']['list']\n",
    "#music['data']['list']\n",
    "#[0]['name']\n",
    "# 무슨역할 ; data를 가져오기 > list로 만들기 > 해당리스트 순서 > 원하는  요소\n",
    "\n",
    "#노래(title), 가수(artist) 추출"
   ]
  },
  {
   "cell_type": "code",
   "execution_count": 93,
   "id": "86744305",
   "metadata": {
    "scrolled": true
   },
   "outputs": [
    {
     "ename": "KeyError",
     "evalue": "'data'",
     "output_type": "error",
     "traceback": [
      "\u001b[1;31m---------------------------------------------------------------------------\u001b[0m",
      "\u001b[1;31mKeyError\u001b[0m                                  Traceback (most recent call last)",
      "Cell \u001b[1;32mIn[93], line 4\u001b[0m\n\u001b[0;32m      1\u001b[0m \u001b[38;5;66;03m#노래 제목 추출\u001b[39;00m\n\u001b[0;32m      2\u001b[0m \u001b[38;5;66;03m#data = music['data']['list'] \u001b[39;00m\n\u001b[0;32m      3\u001b[0m \u001b[38;5;66;03m#title = [x['name'] for x in data]\u001b[39;00m\n\u001b[1;32m----> 4\u001b[0m title \u001b[38;5;241m=\u001b[39m [x[\u001b[38;5;124m'\u001b[39m\u001b[38;5;124mname\u001b[39m\u001b[38;5;124m'\u001b[39m] \u001b[38;5;28;01mfor\u001b[39;00m x \u001b[38;5;129;01min\u001b[39;00m music[\u001b[38;5;124m'\u001b[39m\u001b[38;5;124mdata\u001b[39m\u001b[38;5;124m'\u001b[39m][\u001b[38;5;124m'\u001b[39m\u001b[38;5;124mlist\u001b[39m\u001b[38;5;124m'\u001b[39m]]\n\u001b[0;32m      5\u001b[0m title\n",
      "\u001b[1;31mKeyError\u001b[0m: 'data'"
     ]
    }
   ],
   "source": [
    "#노래 제목 추출\n",
    "#data = music['data']['list'] \n",
    "#title = [x['name'] for x in data]\n",
    "title = [x['name'] for x in music['data']['list']]\n",
    "title\n",
    "\n",
    "#len(title)"
   ]
  },
  {
   "cell_type": "code",
   "execution_count": 41,
   "id": "5ac55289",
   "metadata": {},
   "outputs": [
    {
     "data": {
      "text/plain": [
       "'109'"
      ]
     },
     "execution_count": 41,
     "metadata": {},
     "output_type": "execute_result"
    }
   ],
   "source": [
    "#가수 추출\n",
    "data[0]['artistList'][0]['name']"
   ]
  },
  {
   "cell_type": "code",
   "execution_count": 42,
   "id": "78e6d87e",
   "metadata": {},
   "outputs": [
    {
     "data": {
      "text/plain": [
       "50"
      ]
     },
     "execution_count": 42,
     "metadata": {},
     "output_type": "execute_result"
    }
   ],
   "source": [
    "artist = [x['artistList'][0]['name'] for x in data]\n",
    "artist\n",
    "\n",
    "len(artist)"
   ]
  },
  {
   "cell_type": "code",
   "execution_count": 96,
   "id": "5f9fb198",
   "metadata": {},
   "outputs": [
    {
     "data": {
      "text/html": [
       "<div>\n",
       "<style scoped>\n",
       "    .dataframe tbody tr th:only-of-type {\n",
       "        vertical-align: middle;\n",
       "    }\n",
       "\n",
       "    .dataframe tbody tr th {\n",
       "        vertical-align: top;\n",
       "    }\n",
       "\n",
       "    .dataframe thead th {\n",
       "        text-align: right;\n",
       "    }\n",
       "</style>\n",
       "<table border=\"1\" class=\"dataframe\">\n",
       "  <thead>\n",
       "    <tr style=\"text-align: right;\">\n",
       "      <th></th>\n",
       "      <th>제목</th>\n",
       "      <th>가수</th>\n",
       "    </tr>\n",
       "  </thead>\n",
       "  <tbody>\n",
       "    <tr>\n",
       "      <th>1</th>\n",
       "      <td>ALL IN</td>\n",
       "      <td>109</td>\n",
       "    </tr>\n",
       "    <tr>\n",
       "      <th>2</th>\n",
       "      <td>스쳐간다</td>\n",
       "      <td>영탁</td>\n",
       "    </tr>\n",
       "    <tr>\n",
       "      <th>3</th>\n",
       "      <td>술래</td>\n",
       "      <td>안병웅</td>\n",
       "    </tr>\n",
       "    <tr>\n",
       "      <th>4</th>\n",
       "      <td>Sunflower</td>\n",
       "      <td>LUCY</td>\n",
       "    </tr>\n",
       "    <tr>\n",
       "      <th>5</th>\n",
       "      <td>Tears pouring down</td>\n",
       "      <td>용준형</td>\n",
       "    </tr>\n",
       "    <tr>\n",
       "      <th>6</th>\n",
       "      <td>보고 싶은 날</td>\n",
       "      <td>VIVIZ (비비지)</td>\n",
       "    </tr>\n",
       "    <tr>\n",
       "      <th>7</th>\n",
       "      <td>마음의 날씨</td>\n",
       "      <td>그리즐리 (Grizzly)</td>\n",
       "    </tr>\n",
       "    <tr>\n",
       "      <th>8</th>\n",
       "      <td>Slump (Feat. Frogman, Qwala)</td>\n",
       "      <td>최유리</td>\n",
       "    </tr>\n",
       "    <tr>\n",
       "      <th>9</th>\n",
       "      <td>잠깐만 (Feat. Kaution)</td>\n",
       "      <td>씨드 (XEED)</td>\n",
       "    </tr>\n",
       "    <tr>\n",
       "      <th>10</th>\n",
       "      <td>Late Night Freestyle</td>\n",
       "      <td>잠골버스</td>\n",
       "    </tr>\n",
       "    <tr>\n",
       "      <th>11</th>\n",
       "      <td>우린 그럴 거야</td>\n",
       "      <td>정혜일 (Hale In Ocean)</td>\n",
       "    </tr>\n",
       "    <tr>\n",
       "      <th>12</th>\n",
       "      <td>MALIBU</td>\n",
       "      <td>김다현</td>\n",
       "    </tr>\n",
       "    <tr>\n",
       "      <th>13</th>\n",
       "      <td>Together</td>\n",
       "      <td>T.A.D</td>\n",
       "    </tr>\n",
       "    <tr>\n",
       "      <th>14</th>\n",
       "      <td>빗물</td>\n",
       "      <td>별하</td>\n",
       "    </tr>\n",
       "    <tr>\n",
       "      <th>15</th>\n",
       "      <td>악귀(惡鬼)</td>\n",
       "      <td>ITZY (있지)</td>\n",
       "    </tr>\n",
       "    <tr>\n",
       "      <th>16</th>\n",
       "      <td>I′m fall in love</td>\n",
       "      <td>인피니트</td>\n",
       "    </tr>\n",
       "    <tr>\n",
       "      <th>17</th>\n",
       "      <td>boy,friend (feat. mabinc)</td>\n",
       "      <td>보배</td>\n",
       "    </tr>\n",
       "    <tr>\n",
       "      <th>18</th>\n",
       "      <td>That's What Friends Are For</td>\n",
       "      <td>연규성</td>\n",
       "    </tr>\n",
       "    <tr>\n",
       "      <th>19</th>\n",
       "      <td>부표</td>\n",
       "      <td>모스크바서핑클럽</td>\n",
       "    </tr>\n",
       "    <tr>\n",
       "      <th>20</th>\n",
       "      <td>살리라</td>\n",
       "      <td>Bigman</td>\n",
       "    </tr>\n",
       "    <tr>\n",
       "      <th>21</th>\n",
       "      <td>빌런 (Villain)</td>\n",
       "      <td>Richboy Hardy</td>\n",
       "    </tr>\n",
       "    <tr>\n",
       "      <th>22</th>\n",
       "      <td>마지막 사랑이고 싶어</td>\n",
       "      <td>FRIA (프리아)</td>\n",
       "    </tr>\n",
       "    <tr>\n",
       "      <th>23</th>\n",
       "      <td>살다가 힘들 때면 (With. 김덕인, 김서진, 김세인, 김영재, 김지희, 김진아,...</td>\n",
       "      <td>차차 (Cha Cha)</td>\n",
       "    </tr>\n",
       "    <tr>\n",
       "      <th>24</th>\n",
       "      <td>Time After Time</td>\n",
       "      <td>에이상 (AY SANG)</td>\n",
       "    </tr>\n",
       "    <tr>\n",
       "      <th>25</th>\n",
       "      <td>위스퍼 (Whisper)</td>\n",
       "      <td>조항조</td>\n",
       "    </tr>\n",
       "    <tr>\n",
       "      <th>26</th>\n",
       "      <td>너를 모아서</td>\n",
       "      <td>트리케라톱스</td>\n",
       "    </tr>\n",
       "    <tr>\n",
       "      <th>27</th>\n",
       "      <td>여름의 너 (2023)</td>\n",
       "      <td>234</td>\n",
       "    </tr>\n",
       "    <tr>\n",
       "      <th>28</th>\n",
       "      <td>목련</td>\n",
       "      <td>채은선</td>\n",
       "    </tr>\n",
       "    <tr>\n",
       "      <th>29</th>\n",
       "      <td>그대 안의 블루</td>\n",
       "      <td>이우</td>\n",
       "    </tr>\n",
       "    <tr>\n",
       "      <th>30</th>\n",
       "      <td>Paradise</td>\n",
       "      <td>CIKI</td>\n",
       "    </tr>\n",
       "    <tr>\n",
       "      <th>31</th>\n",
       "      <td>끝까지 갈래요</td>\n",
       "      <td>NSW yoon</td>\n",
       "    </tr>\n",
       "    <tr>\n",
       "      <th>32</th>\n",
       "      <td>SUPER KOREAN</td>\n",
       "      <td>n.SSign (엔싸인)</td>\n",
       "    </tr>\n",
       "    <tr>\n",
       "      <th>33</th>\n",
       "      <td>여름이었다 (Feat. 도규)</td>\n",
       "      <td>추화정</td>\n",
       "    </tr>\n",
       "    <tr>\n",
       "      <th>34</th>\n",
       "      <td>숨(命)</td>\n",
       "      <td>권영훈 (onlyman)</td>\n",
       "    </tr>\n",
       "    <tr>\n",
       "      <th>35</th>\n",
       "      <td>Elephant In The Room</td>\n",
       "      <td>버기</td>\n",
       "    </tr>\n",
       "    <tr>\n",
       "      <th>36</th>\n",
       "      <td>나의 첫사랑에게</td>\n",
       "      <td>ENHYPEN</td>\n",
       "    </tr>\n",
       "    <tr>\n",
       "      <th>37</th>\n",
       "      <td>여름 여행</td>\n",
       "      <td>세븐어스 (SEVENUS)</td>\n",
       "    </tr>\n",
       "    <tr>\n",
       "      <th>38</th>\n",
       "      <td>신기루</td>\n",
       "      <td>디어 클라우드</td>\n",
       "    </tr>\n",
       "    <tr>\n",
       "      <th>39</th>\n",
       "      <td>BONA BONA</td>\n",
       "      <td>김현식</td>\n",
       "    </tr>\n",
       "    <tr>\n",
       "      <th>40</th>\n",
       "      <td>널 위한 노래</td>\n",
       "      <td>김유나</td>\n",
       "    </tr>\n",
       "    <tr>\n",
       "      <th>41</th>\n",
       "      <td>우린 아직 어린가 봐</td>\n",
       "      <td>서온</td>\n",
       "    </tr>\n",
       "    <tr>\n",
       "      <th>42</th>\n",
       "      <td>I Think I Like You</td>\n",
       "      <td>란 (RAN)</td>\n",
       "    </tr>\n",
       "    <tr>\n",
       "      <th>43</th>\n",
       "      <td>매일</td>\n",
       "      <td>매미 (MEMI)</td>\n",
       "    </tr>\n",
       "    <tr>\n",
       "      <th>44</th>\n",
       "      <td>HARM.... (Explicit Ver.)</td>\n",
       "      <td>정피트</td>\n",
       "    </tr>\n",
       "    <tr>\n",
       "      <th>45</th>\n",
       "      <td>rrr.. (feat. ShyboiiTobii)</td>\n",
       "      <td>LEAFY (리피)</td>\n",
       "    </tr>\n",
       "    <tr>\n",
       "      <th>46</th>\n",
       "      <td>We are still</td>\n",
       "      <td>경서</td>\n",
       "    </tr>\n",
       "    <tr>\n",
       "      <th>47</th>\n",
       "      <td>Freaky (Feat. 문수진 (Moon sujin))</td>\n",
       "      <td>양다일</td>\n",
       "    </tr>\n",
       "    <tr>\n",
       "      <th>48</th>\n",
       "      <td>일부분</td>\n",
       "      <td>키키 (kiki)</td>\n",
       "    </tr>\n",
       "    <tr>\n",
       "      <th>49</th>\n",
       "      <td>PARADISE (Feat. EK, BOLA, Make A Movie, BIGONE...</td>\n",
       "      <td>채무자들</td>\n",
       "    </tr>\n",
       "    <tr>\n",
       "      <th>50</th>\n",
       "      <td>이브, 프시케 그리고 푸른 수염의 아내 (Rina Sawayama Remix)</td>\n",
       "      <td>로켓펀치 (Rocket Punch)</td>\n",
       "    </tr>\n",
       "  </tbody>\n",
       "</table>\n",
       "</div>"
      ],
      "text/plain": [
       "                                                   제목                   가수\n",
       "1                                              ALL IN                  109\n",
       "2                                                스쳐간다                   영탁\n",
       "3                                                  술래                  안병웅\n",
       "4                                           Sunflower                 LUCY\n",
       "5                                  Tears pouring down                  용준형\n",
       "6                                             보고 싶은 날          VIVIZ (비비지)\n",
       "7                                              마음의 날씨       그리즐리 (Grizzly)\n",
       "8                        Slump (Feat. Frogman, Qwala)                  최유리\n",
       "9                                 잠깐만 (Feat. Kaution)            씨드 (XEED)\n",
       "10                               Late Night Freestyle                 잠골버스\n",
       "11                                           우린 그럴 거야  정혜일 (Hale In Ocean)\n",
       "12                                             MALIBU                  김다현\n",
       "13                                           Together                T.A.D\n",
       "14                                                 빗물                   별하\n",
       "15                                             악귀(惡鬼)            ITZY (있지)\n",
       "16                                   I′m fall in love                 인피니트\n",
       "17                          boy,friend (feat. mabinc)                   보배\n",
       "18                        That's What Friends Are For                  연규성\n",
       "19                                                 부표             모스크바서핑클럽\n",
       "20                                                살리라               Bigman\n",
       "21                                       빌런 (Villain)        Richboy Hardy\n",
       "22                                        마지막 사랑이고 싶어           FRIA (프리아)\n",
       "23  살다가 힘들 때면 (With. 김덕인, 김서진, 김세인, 김영재, 김지희, 김진아,...         차차 (Cha Cha)\n",
       "24                                    Time After Time        에이상 (AY SANG)\n",
       "25                                      위스퍼 (Whisper)                  조항조\n",
       "26                                             너를 모아서               트리케라톱스\n",
       "27                                       여름의 너 (2023)                  234\n",
       "28                                                 목련                  채은선\n",
       "29                                           그대 안의 블루                   이우\n",
       "30                                           Paradise                 CIKI\n",
       "31                                            끝까지 갈래요             NSW yoon\n",
       "32                                       SUPER KOREAN        n.SSign (엔싸인)\n",
       "33                                   여름이었다 (Feat. 도규)                  추화정\n",
       "34                                               숨(命)        권영훈 (onlyman)\n",
       "35                               Elephant In The Room                   버기\n",
       "36                                           나의 첫사랑에게              ENHYPEN\n",
       "37                                              여름 여행       세븐어스 (SEVENUS)\n",
       "38                                                신기루              디어 클라우드\n",
       "39                                          BONA BONA                  김현식\n",
       "40                                            널 위한 노래                  김유나\n",
       "41                                        우린 아직 어린가 봐                   서온\n",
       "42                                 I Think I Like You              란 (RAN)\n",
       "43                                                 매일            매미 (MEMI)\n",
       "44                           HARM.... (Explicit Ver.)                  정피트\n",
       "45                         rrr.. (feat. ShyboiiTobii)           LEAFY (리피)\n",
       "46                                       We are still                   경서\n",
       "47                    Freaky (Feat. 문수진 (Moon sujin))                  양다일\n",
       "48                                                일부분            키키 (kiki)\n",
       "49  PARADISE (Feat. EK, BOLA, Make A Movie, BIGONE...                 채무자들\n",
       "50        이브, 프시케 그리고 푸른 수염의 아내 (Rina Sawayama Remix)  로켓펀치 (Rocket Punch)"
      ]
     },
     "execution_count": 96,
     "metadata": {},
     "output_type": "execute_result"
    }
   ],
   "source": [
    "import pandas as pd\n",
    "df = pd.DataFrame({'제목': title, \n",
    "                  '가수': artist})\n",
    "#index번호 수정\n",
    "index_num = []\n",
    "for  i in range(1,51):\n",
    "    index_num.append(i)\n",
    "    \n",
    "#index 변경\n",
    "df.index = [index_num]\n",
    "df\n",
    "\n"
   ]
  },
  {
   "cell_type": "code",
   "execution_count": 97,
   "id": "b77341a8",
   "metadata": {},
   "outputs": [
    {
     "name": "stdout",
     "output_type": "stream",
     "text": [
      "'title'의 개수: 0\n"
     ]
    }
   ],
   "source": [
    "# 특정 키워드 카운트 변수 초기화\n",
    "keyword_count = 0\n",
    "data = music\n",
    "\n",
    "# 특정 키워드를 카운트하는 함수\n",
    "def count_keyword(data, keyword):\n",
    "    global keyword_count\n",
    "    if isinstance(data, dict):\n",
    "        for key, value in data.items():\n",
    "            if key == keyword:\n",
    "                keyword_count += 1\n",
    "            count_keyword(value, keyword)\n",
    "    elif isinstance(data, list):\n",
    "        for item in data:\n",
    "            count_keyword(item, keyword)\n",
    "\n",
    "# 특정 키워드 카운트 수행\n",
    "target_keyword = 'title'\n",
    "count_keyword(data, target_keyword)\n",
    "\n",
    "# 결과 출력\n",
    "print(f\"'{target_keyword}'의 개수: {keyword_count}\")"
   ]
  },
  {
   "cell_type": "code",
   "execution_count": 10,
   "id": "50d93303",
   "metadata": {},
   "outputs": [
    {
     "ename": "KeyError",
     "evalue": "0",
     "output_type": "error",
     "traceback": [
      "\u001b[1;31m---------------------------------------------------------------------------\u001b[0m",
      "\u001b[1;31mKeyError\u001b[0m                                  Traceback (most recent call last)",
      "Cell \u001b[1;32mIn[10], line 4\u001b[0m\n\u001b[0;32m      1\u001b[0m \u001b[38;5;66;03m#title(노래 제목 추출) \u001b[39;00m\n\u001b[0;32m      2\u001b[0m title_name \u001b[38;5;241m=\u001b[39m []\n\u001b[1;32m----> 4\u001b[0m title_name \u001b[38;5;241m=\u001b[39m [music[\u001b[38;5;124m'\u001b[39m\u001b[38;5;124mdata\u001b[39m\u001b[38;5;124m'\u001b[39m][i][\u001b[38;5;124m'\u001b[39m\u001b[38;5;124mtitle\u001b[39m\u001b[38;5;124m'\u001b[39m]  \u001b[38;5;28;01mfor\u001b[39;00m i \u001b[38;5;129;01min\u001b[39;00m \u001b[38;5;28mrange\u001b[39m(\u001b[38;5;241m0\u001b[39m,\u001b[38;5;241m50\u001b[39m)]\n\u001b[0;32m      5\u001b[0m title_name\n",
      "Cell \u001b[1;32mIn[10], line 4\u001b[0m, in \u001b[0;36m<listcomp>\u001b[1;34m(.0)\u001b[0m\n\u001b[0;32m      1\u001b[0m \u001b[38;5;66;03m#title(노래 제목 추출) \u001b[39;00m\n\u001b[0;32m      2\u001b[0m title_name \u001b[38;5;241m=\u001b[39m []\n\u001b[1;32m----> 4\u001b[0m title_name \u001b[38;5;241m=\u001b[39m [music[\u001b[38;5;124m'\u001b[39m\u001b[38;5;124mdata\u001b[39m\u001b[38;5;124m'\u001b[39m][i][\u001b[38;5;124m'\u001b[39m\u001b[38;5;124mtitle\u001b[39m\u001b[38;5;124m'\u001b[39m]  \u001b[38;5;28;01mfor\u001b[39;00m i \u001b[38;5;129;01min\u001b[39;00m \u001b[38;5;28mrange\u001b[39m(\u001b[38;5;241m0\u001b[39m,\u001b[38;5;241m50\u001b[39m)]\n\u001b[0;32m      5\u001b[0m title_name\n",
      "\u001b[1;31mKeyError\u001b[0m: 0"
     ]
    }
   ],
   "source": [
    "#title(노래 제목 추출) \n",
    "title_name = []\n",
    "\n",
    "title_name = [music['data'][i]['title']  for i in range(0,50)]\n",
    "title_name\n",
    "\n"
   ]
  },
  {
   "cell_type": "code",
   "execution_count": 44,
   "id": "f2d51e67",
   "metadata": {
    "scrolled": true
   },
   "outputs": [],
   "source": [
    "import requests\n",
    "from bs4 import BeautifulSoup\n",
    "#여러 페이지를 가져올때\n",
    "url = 'http://openapi.tour.go.kr/openapi/service/TourismResourceStatsService/getPchrgTrrsrtVisitorList?serviceKey=aSkTEXbtl4XRymqEwiFSQEGeMPo3tK%2B7pQ8nLVw4qlxJOhgTYTvPvODJ1nshAM2iu6R9EvCvAh5OvCu01y2Myg%3D%3D&YM=201202&SIDO=부산광역시&GUNGU=해운대구&RES_NM=부산시립미술관'\n",
    "page = requests.get(url)\n",
    "soup =  BeautifulSoup(page.content,'html.parser')\n",
    "#lxml-xml "
   ]
  },
  {
   "cell_type": "code",
   "execution_count": 45,
   "id": "f6122a02",
   "metadata": {},
   "outputs": [
    {
     "data": {
      "text/plain": [
       "'201202'"
      ]
     },
     "execution_count": 45,
     "metadata": {},
     "output_type": "execute_result"
    }
   ],
   "source": [
    "#지역코드, \n",
    "#외국인 방문객수, \n",
    "#내국인 방문객수, \n",
    "#시군구,\n",
    "#관광지,\n",
    "##결과값 나열순서, \n",
    "#시도,\n",
    "#년월\n",
    "\n",
    "soup.select('addrCd')[0].text\n",
    "soup.select('csForCnt')[0].text\n",
    "soup.select('csNatCnt')[0].text\n",
    "soup.select('gungu')[0].text\n",
    "soup.select('resNm')[0].text\n",
    "soup.select('sido')[0].text\n",
    "soup.select('ym')[0].text\n",
    "\n"
   ]
  },
  {
   "cell_type": "code",
   "execution_count": null,
   "id": "5d60554e",
   "metadata": {},
   "outputs": [],
   "source": [
    "df = pandas "
   ]
  },
  {
   "cell_type": "code",
   "execution_count": 38,
   "id": "af6967aa",
   "metadata": {
    "scrolled": false
   },
   "outputs": [
    {
     "name": "stdout",
     "output_type": "stream",
     "text": [
      "<?xml version=\"1.0\" encoding=\"UTF-8\" standalone=\"yes\"?>\n",
      "<response>\n",
      " <header>\n",
      "  <resultcode>\n",
      "   0000\n",
      "  </resultcode>\n",
      "  <resultmsg>\n",
      "   OK\n",
      "  </resultmsg>\n",
      " </header>\n",
      " <body>\n",
      "  <items>\n",
      "   <item>\n",
      "    <addrcd>\n",
      "     2635\n",
      "    </addrcd>\n",
      "    <csforcnt>\n",
      "     286\n",
      "    </csforcnt>\n",
      "    <csmvcnt>\n",
      "     9396\n",
      "    </csmvcnt>\n",
      "    <csnatcnt>\n",
      "     9110\n",
      "    </csnatcnt>\n",
      "    <gungu>\n",
      "     해운대구\n",
      "    </gungu>\n",
      "    <resnm>\n",
      "     부산시립미술관\n",
      "    </resnm>\n",
      "    <rnum>\n",
      "     1\n",
      "    </rnum>\n",
      "    <sido>\n",
      "     부산광역시\n",
      "    </sido>\n",
      "    <ym>\n",
      "     201201\n",
      "    </ym>\n",
      "   </item>\n",
      "  </items>\n",
      "  <numofrows>\n",
      "   10\n",
      "  </numofrows>\n",
      "  <pageno>\n",
      "   1\n",
      "  </pageno>\n",
      "  <totalcount>\n",
      "   1\n",
      "  </totalcount>\n",
      " </body>\n",
      "</response>\n",
      "\n"
     ]
    }
   ],
   "source": [
    "print(soup.prettify())"
   ]
  },
  {
   "cell_type": "code",
   "execution_count": 46,
   "id": "0a5e88d2",
   "metadata": {},
   "outputs": [
    {
     "data": {
      "text/plain": [
       "['201201',\n",
       " '201202',\n",
       " '201203',\n",
       " '201204',\n",
       " '201205',\n",
       " '201206',\n",
       " '201207',\n",
       " '201208',\n",
       " '201209',\n",
       " '201210',\n",
       " '201211',\n",
       " '201212']"
      ]
     },
     "execution_count": 46,
     "metadata": {},
     "output_type": "execute_result"
    }
   ],
   "source": [
    "years = ['2012{:02d}'.format(x) for x in range(1,13)]\n",
    "years"
   ]
  },
  {
   "cell_type": "code",
   "execution_count": 47,
   "id": "36d3c5e1",
   "metadata": {},
   "outputs": [
    {
     "ename": "IndexError",
     "evalue": "list index out of range",
     "output_type": "error",
     "traceback": [
      "\u001b[1;31m---------------------------------------------------------------------------\u001b[0m",
      "\u001b[1;31mIndexError\u001b[0m                                Traceback (most recent call last)",
      "Cell \u001b[1;32mIn[47], line 11\u001b[0m\n\u001b[0;32m      9\u001b[0m page \u001b[38;5;241m=\u001b[39m requests\u001b[38;5;241m.\u001b[39mget(url)\n\u001b[0;32m     10\u001b[0m soup \u001b[38;5;241m=\u001b[39m  BeautifulSoup(page\u001b[38;5;241m.\u001b[39mcontent,\u001b[38;5;124m'\u001b[39m\u001b[38;5;124mlxml-xml\u001b[39m\u001b[38;5;124m'\u001b[39m)\n\u001b[1;32m---> 11\u001b[0m csForCnt_lst\u001b[38;5;241m.\u001b[39mappend(soup\u001b[38;5;241m.\u001b[39mselect(\u001b[38;5;124m'\u001b[39m\u001b[38;5;124mcsForCnt\u001b[39m\u001b[38;5;124m'\u001b[39m)[\u001b[38;5;241m0\u001b[39m]\u001b[38;5;241m.\u001b[39mtext) \n\u001b[0;32m     12\u001b[0m csNatCnt_lst\u001b[38;5;241m.\u001b[39mappend(soup\u001b[38;5;241m.\u001b[39mselect(\u001b[38;5;124m'\u001b[39m\u001b[38;5;124mcsNatCnt\u001b[39m\u001b[38;5;124m'\u001b[39m)[\u001b[38;5;241m0\u001b[39m]\u001b[38;5;241m.\u001b[39mtext)\n\u001b[0;32m     13\u001b[0m ym_lst\u001b[38;5;241m.\u001b[39mappend(soup\u001b[38;5;241m.\u001b[39mselect(\u001b[38;5;124m'\u001b[39m\u001b[38;5;124mym\u001b[39m\u001b[38;5;124m'\u001b[39m)[\u001b[38;5;241m0\u001b[39m]\u001b[38;5;241m.\u001b[39mtext)\n",
      "\u001b[1;31mIndexError\u001b[0m: list index out of range"
     ]
    }
   ],
   "source": [
    "#2012 [1~12월 데이터를 불러와 사용]\n",
    "years = ['2012{:02d}'.format(x) for x in range(1,13)]\n",
    "csForCnt_lst = []\n",
    "csNatCnt_lst = []\n",
    "ym_lst = []\n",
    "\n",
    "for y in years: \n",
    "    url = 'http://openapi.tour.go.kr/openapi/service/TourismResourceStatsService/getPchrgTrrsrtVisitorList?serviceKey=aSkTEXbtl4XRymqEwiFSQEGeMPo3tK%2B7pQ8nLVw4qlxJOhgTYTvPvODJ1nshAM2iu6R9EvCvAh5OvCu01y2Myg%3D%3D&YM={}&SIDO=부산광역시&GUNGU=해운대구&RES_NM=부산시립미술관'.format(years)\n",
    "    page = requests.get(url)\n",
    "    soup =  BeautifulSoup(page.content,'lxml-xml')\n",
    "    csForCnt_lst.append(soup.select('csForCnt')[0].text) \n",
    "    csNatCnt_lst.append(soup.select('csNatCnt')[0].text)\n",
    "    ym_lst.append(soup.select('ym')[0].text)"
   ]
  },
  {
   "cell_type": "code",
   "execution_count": null,
   "id": "99f42ab9",
   "metadata": {},
   "outputs": [],
   "source": []
  },
  {
   "cell_type": "code",
   "execution_count": null,
   "id": "7b7486a1",
   "metadata": {},
   "outputs": [],
   "source": [
    "#url = 'http://openapi.tour.go.kr/openapi/service/TourismResourceStatsService/getPchrgTrrsrtVisitorList'\n",
    "#params = {'serviceKey': '%2By8zxHxSx9sqT6G4i9gNFkZaqH23k%2Bh51QArnY82ML8D%2BJ3CV1ke%2BZAPvIlhtgKUAJPUFi6FaNWgcmehbiwzIA%3D%3D',\n",
    "#         'YM': '201201',\n",
    "#         'SIDO': '부산광역시',\n",
    "#         'GUNGO': '해운대구',\n",
    "#         'RES_NM': ''} "
   ]
  },
  {
   "cell_type": "code",
   "execution_count": 48,
   "id": "c9603a7d",
   "metadata": {},
   "outputs": [
    {
     "data": {
      "text/plain": [
       "[3, -5, 7, 1]"
      ]
     },
     "execution_count": 48,
     "metadata": {},
     "output_type": "execute_result"
    }
   ],
   "source": [
    "#series \n",
    "\n",
    "lst = [3, -5, 7, 1]\n",
    "lst"
   ]
  },
  {
   "cell_type": "code",
   "execution_count": 55,
   "id": "84b0d9b5",
   "metadata": {},
   "outputs": [
    {
     "data": {
      "text/plain": [
       "6"
      ]
     },
     "execution_count": 55,
     "metadata": {},
     "output_type": "execute_result"
    }
   ],
   "source": [
    "sum = 0\n",
    "for i in lst:\n",
    "    sum += i\n",
    "sum"
   ]
  },
  {
   "cell_type": "code",
   "execution_count": 50,
   "id": "54be2445",
   "metadata": {},
   "outputs": [
    {
     "data": {
      "text/plain": [
       "0    3\n",
       "1   -5\n",
       "2    7\n",
       "3    1\n",
       "dtype: int64"
      ]
     },
     "execution_count": 50,
     "metadata": {},
     "output_type": "execute_result"
    }
   ],
   "source": [
    "#pandas를 이용하기 위해서 형 변환; \n",
    "import pandas as pd \n",
    "pd.Series(lst) "
   ]
  },
  {
   "cell_type": "code",
   "execution_count": 51,
   "id": "3e277805",
   "metadata": {},
   "outputs": [
    {
     "data": {
      "text/plain": [
       "a    3\n",
       "b   -5\n",
       "c    7\n",
       "d    1\n",
       "dtype: int64"
      ]
     },
     "execution_count": 51,
     "metadata": {},
     "output_type": "execute_result"
    }
   ],
   "source": [
    "#차이점 index number의 출력 여부(slicing과 같은 기능은 동일)\n",
    "s = pd.Series(lst,index = list('abcd')) #index값 조정\n",
    "s"
   ]
  },
  {
   "cell_type": "code",
   "execution_count": 53,
   "id": "3d705279",
   "metadata": {},
   "outputs": [
    {
     "data": {
      "text/plain": [
       "b   -5\n",
       "c    7\n",
       "dtype: int64"
      ]
     },
     "execution_count": 53,
     "metadata": {},
     "output_type": "execute_result"
    }
   ],
   "source": [
    "s['b':'c']"
   ]
  },
  {
   "cell_type": "code",
   "execution_count": 54,
   "id": "36767519",
   "metadata": {
    "scrolled": true
   },
   "outputs": [
    {
     "data": {
      "text/plain": [
       "6"
      ]
     },
     "execution_count": 54,
     "metadata": {},
     "output_type": "execute_result"
    }
   ],
   "source": [
    "s.sum() #시리즈 연산 (pandas 지원 기능)"
   ]
  },
  {
   "cell_type": "markdown",
   "id": "e58d346b",
   "metadata": {},
   "source": [
    "#데이터 프레임"
   ]
  },
  {
   "cell_type": "code",
   "execution_count": null,
   "id": "2a0da327",
   "metadata": {},
   "outputs": [],
   "source": [
    "#2차원 배열 ; (요소별 갯수가 동일!)\n",
    "#1. dictionary\n",
    "#2. list 행 별로 묶음"
   ]
  },
  {
   "cell_type": "code",
   "execution_count": 56,
   "id": "f24f0ed2",
   "metadata": {},
   "outputs": [
    {
     "data": {
      "text/plain": [
       "['Belgium', 'India', 'Brazil']"
      ]
     },
     "execution_count": 56,
     "metadata": {},
     "output_type": "execute_result"
    }
   ],
   "source": [
    "#dictionary로 프레임 생성\n",
    "data = {\n",
    "    #dic 구성 >>'key' : 'value'\n",
    "    'country' : ['Belgium', 'India', 'Brazil'],\n",
    "    'capital' : ['B-capi', 'I-capi', 'B-capi'],\n",
    "    'population': [1111, 2222, 3333]\n",
    "} \n",
    "data['country'] #key 값으로 value추출 ; dictionary 활용"
   ]
  },
  {
   "cell_type": "code",
   "execution_count": 57,
   "id": "a85efe1c",
   "metadata": {},
   "outputs": [
    {
     "data": {
      "text/html": [
       "<div>\n",
       "<style scoped>\n",
       "    .dataframe tbody tr th:only-of-type {\n",
       "        vertical-align: middle;\n",
       "    }\n",
       "\n",
       "    .dataframe tbody tr th {\n",
       "        vertical-align: top;\n",
       "    }\n",
       "\n",
       "    .dataframe thead th {\n",
       "        text-align: right;\n",
       "    }\n",
       "</style>\n",
       "<table border=\"1\" class=\"dataframe\">\n",
       "  <thead>\n",
       "    <tr style=\"text-align: right;\">\n",
       "      <th></th>\n",
       "      <th>country</th>\n",
       "      <th>capital</th>\n",
       "    </tr>\n",
       "  </thead>\n",
       "  <tbody>\n",
       "    <tr>\n",
       "      <th>0</th>\n",
       "      <td>Belgium</td>\n",
       "      <td>B-capi</td>\n",
       "    </tr>\n",
       "    <tr>\n",
       "      <th>1</th>\n",
       "      <td>India</td>\n",
       "      <td>I-capi</td>\n",
       "    </tr>\n",
       "    <tr>\n",
       "      <th>2</th>\n",
       "      <td>Brazil</td>\n",
       "      <td>B-capi</td>\n",
       "    </tr>\n",
       "  </tbody>\n",
       "</table>\n",
       "</div>"
      ],
      "text/plain": [
       "   country capital\n",
       "0  Belgium  B-capi\n",
       "1    India  I-capi\n",
       "2   Brazil  B-capi"
      ]
     },
     "execution_count": 57,
     "metadata": {},
     "output_type": "execute_result"
    }
   ],
   "source": [
    "df = pd.DataFrame(data)\n",
    "df[['country','capital']] #컬럼명으로 데이터 추출"
   ]
  },
  {
   "cell_type": "code",
   "execution_count": 58,
   "id": "5019540d",
   "metadata": {},
   "outputs": [
    {
     "data": {
      "text/plain": [
       "[['jan', 34, 25, 22, 11, 10.2],\n",
       " ['fed', 24, 24, 24, 14, 14.2],\n",
       " ['mar', 34, 25, 23, 11, 10.2]]"
      ]
     },
     "execution_count": 58,
     "metadata": {},
     "output_type": "execute_result"
    }
   ],
   "source": [
    "#2. list 행 별로 묶음\n",
    "\n",
    "data = [['jan', 34, 25, 22, 11, 10.2],\n",
    "        ['fed', 24, 24, 24, 14, 14.2],\n",
    "        ['mar', 34, 25, 23, 11, 10.2],]\n",
    "data "
   ]
  },
  {
   "cell_type": "code",
   "execution_count": 59,
   "id": "c1add6d5",
   "metadata": {},
   "outputs": [
    {
     "data": {
      "text/plain": [
       "25"
      ]
     },
     "execution_count": 59,
     "metadata": {},
     "output_type": "execute_result"
    }
   ],
   "source": [
    "data[0][2]"
   ]
  },
  {
   "cell_type": "code",
   "execution_count": 71,
   "id": "22967275",
   "metadata": {},
   "outputs": [
    {
     "data": {
      "text/html": [
       "<div>\n",
       "<style scoped>\n",
       "    .dataframe tbody tr th:only-of-type {\n",
       "        vertical-align: middle;\n",
       "    }\n",
       "\n",
       "    .dataframe tbody tr th {\n",
       "        vertical-align: top;\n",
       "    }\n",
       "\n",
       "    .dataframe thead th {\n",
       "        text-align: right;\n",
       "    }\n",
       "</style>\n",
       "<table border=\"1\" class=\"dataframe\">\n",
       "  <thead>\n",
       "    <tr style=\"text-align: right;\">\n",
       "      <th></th>\n",
       "      <th>0</th>\n",
       "      <th>1</th>\n",
       "      <th>2</th>\n",
       "      <th>3</th>\n",
       "      <th>4</th>\n",
       "      <th>5</th>\n",
       "    </tr>\n",
       "  </thead>\n",
       "  <tbody>\n",
       "    <tr>\n",
       "      <th>0</th>\n",
       "      <td>jan</td>\n",
       "      <td>34</td>\n",
       "      <td>25</td>\n",
       "      <td>22</td>\n",
       "      <td>11</td>\n",
       "      <td>10.2</td>\n",
       "    </tr>\n",
       "    <tr>\n",
       "      <th>1</th>\n",
       "      <td>fed</td>\n",
       "      <td>24</td>\n",
       "      <td>24</td>\n",
       "      <td>24</td>\n",
       "      <td>14</td>\n",
       "      <td>14.2</td>\n",
       "    </tr>\n",
       "    <tr>\n",
       "      <th>2</th>\n",
       "      <td>mar</td>\n",
       "      <td>34</td>\n",
       "      <td>25</td>\n",
       "      <td>23</td>\n",
       "      <td>11</td>\n",
       "      <td>10.2</td>\n",
       "    </tr>\n",
       "  </tbody>\n",
       "</table>\n",
       "</div>"
      ],
      "text/plain": [
       "     0   1   2   3   4     5\n",
       "0  jan  34  25  22  11  10.2\n",
       "1  fed  24  24  24  14  14.2\n",
       "2  mar  34  25  23  11  10.2"
      ]
     },
     "execution_count": 71,
     "metadata": {},
     "output_type": "execute_result"
    }
   ],
   "source": [
    "df = pd.DataFrame(data) \n",
    "df"
   ]
  },
  {
   "cell_type": "code",
   "execution_count": 72,
   "id": "0ee6eb4c",
   "metadata": {},
   "outputs": [
    {
     "data": {
      "text/html": [
       "<div>\n",
       "<style scoped>\n",
       "    .dataframe tbody tr th:only-of-type {\n",
       "        vertical-align: middle;\n",
       "    }\n",
       "\n",
       "    .dataframe tbody tr th {\n",
       "        vertical-align: top;\n",
       "    }\n",
       "\n",
       "    .dataframe thead th {\n",
       "        text-align: right;\n",
       "    }\n",
       "</style>\n",
       "<table border=\"1\" class=\"dataframe\">\n",
       "  <thead>\n",
       "    <tr style=\"text-align: right;\">\n",
       "      <th></th>\n",
       "      <th>0</th>\n",
       "      <th>1</th>\n",
       "      <th>2</th>\n",
       "      <th>3</th>\n",
       "      <th>4</th>\n",
       "      <th>5</th>\n",
       "    </tr>\n",
       "  </thead>\n",
       "  <tbody>\n",
       "    <tr>\n",
       "      <th>1</th>\n",
       "      <td>jan</td>\n",
       "      <td>34</td>\n",
       "      <td>25</td>\n",
       "      <td>22</td>\n",
       "      <td>11</td>\n",
       "      <td>10.2</td>\n",
       "    </tr>\n",
       "    <tr>\n",
       "      <th>2</th>\n",
       "      <td>fed</td>\n",
       "      <td>24</td>\n",
       "      <td>24</td>\n",
       "      <td>24</td>\n",
       "      <td>14</td>\n",
       "      <td>14.2</td>\n",
       "    </tr>\n",
       "    <tr>\n",
       "      <th>3</th>\n",
       "      <td>mar</td>\n",
       "      <td>34</td>\n",
       "      <td>25</td>\n",
       "      <td>23</td>\n",
       "      <td>11</td>\n",
       "      <td>10.2</td>\n",
       "    </tr>\n",
       "  </tbody>\n",
       "</table>\n",
       "</div>"
      ],
      "text/plain": [
       "     0   1   2   3   4     5\n",
       "1  jan  34  25  22  11  10.2\n",
       "2  fed  24  24  24  14  14.2\n",
       "3  mar  34  25  23  11  10.2"
      ]
     },
     "execution_count": 72,
     "metadata": {},
     "output_type": "execute_result"
    }
   ],
   "source": [
    "#row, column이름을 변경할수 있음\n",
    "df.index = [1,2,3] #row == index\n",
    "df.columns = ['a','b','c','d','e','f'] #col = column \n",
    "df"
   ]
  },
  {
   "cell_type": "code",
   "execution_count": 76,
   "id": "a2fae41f",
   "metadata": {},
   "outputs": [
    {
     "data": {
      "text/html": [
       "<div>\n",
       "<style scoped>\n",
       "    .dataframe tbody tr th:only-of-type {\n",
       "        vertical-align: middle;\n",
       "    }\n",
       "\n",
       "    .dataframe tbody tr th {\n",
       "        vertical-align: top;\n",
       "    }\n",
       "\n",
       "    .dataframe thead th {\n",
       "        text-align: right;\n",
       "    }\n",
       "</style>\n",
       "<table border=\"1\" class=\"dataframe\">\n",
       "  <thead>\n",
       "    <tr style=\"text-align: right;\">\n",
       "      <th></th>\n",
       "      <th>a</th>\n",
       "      <th>b</th>\n",
       "      <th>c</th>\n",
       "      <th>d</th>\n",
       "      <th>e</th>\n",
       "      <th>f</th>\n",
       "    </tr>\n",
       "  </thead>\n",
       "  <tbody>\n",
       "    <tr>\n",
       "      <th>1</th>\n",
       "      <td>jan</td>\n",
       "      <td>34</td>\n",
       "      <td>25</td>\n",
       "      <td>22</td>\n",
       "      <td>11</td>\n",
       "      <td>10.2</td>\n",
       "    </tr>\n",
       "    <tr>\n",
       "      <th>2</th>\n",
       "      <td>fed</td>\n",
       "      <td>24</td>\n",
       "      <td>24</td>\n",
       "      <td>24</td>\n",
       "      <td>14</td>\n",
       "      <td>14.2</td>\n",
       "    </tr>\n",
       "    <tr>\n",
       "      <th>3</th>\n",
       "      <td>mar</td>\n",
       "      <td>34</td>\n",
       "      <td>25</td>\n",
       "      <td>23</td>\n",
       "      <td>11</td>\n",
       "      <td>10.2</td>\n",
       "    </tr>\n",
       "  </tbody>\n",
       "</table>\n",
       "</div>"
      ],
      "text/plain": [
       "     a   b   c   d   e     f\n",
       "1  jan  34  25  22  11  10.2\n",
       "2  fed  24  24  24  14  14.2\n",
       "3  mar  34  25  23  11  10.2"
      ]
     },
     "execution_count": 76,
     "metadata": {},
     "output_type": "execute_result"
    }
   ],
   "source": [
    "df"
   ]
  },
  {
   "cell_type": "code",
   "execution_count": 80,
   "id": "8b73d619",
   "metadata": {},
   "outputs": [],
   "source": [
    "#dataframe의 읽기, 저장 방법\n",
    "class_df = pd.DataFrame(\n",
    "    {\n",
    "    'courseID' : [111, 222, 333],\n",
    "    'courseName': ['abc', 'def', 'hig'],\n",
    "    'creditHours':[1,2,3],\n",
    "    'Days':['mon', 'thu', 'wen']\n",
    "    })\n",
    "\n",
    "class_df.to_excel('class_df.xlsx') #xcel  파일 저장"
   ]
  },
  {
   "cell_type": "code",
   "execution_count": 81,
   "id": "6a1571fc",
   "metadata": {},
   "outputs": [
    {
     "data": {
      "text/html": [
       "<div>\n",
       "<style scoped>\n",
       "    .dataframe tbody tr th:only-of-type {\n",
       "        vertical-align: middle;\n",
       "    }\n",
       "\n",
       "    .dataframe tbody tr th {\n",
       "        vertical-align: top;\n",
       "    }\n",
       "\n",
       "    .dataframe thead th {\n",
       "        text-align: right;\n",
       "    }\n",
       "</style>\n",
       "<table border=\"1\" class=\"dataframe\">\n",
       "  <thead>\n",
       "    <tr style=\"text-align: right;\">\n",
       "      <th></th>\n",
       "      <th>courseID</th>\n",
       "      <th>courseName</th>\n",
       "      <th>creditHours</th>\n",
       "      <th>Days</th>\n",
       "    </tr>\n",
       "  </thead>\n",
       "  <tbody>\n",
       "    <tr>\n",
       "      <th>0</th>\n",
       "      <td>111</td>\n",
       "      <td>abc</td>\n",
       "      <td>1</td>\n",
       "      <td>mon</td>\n",
       "    </tr>\n",
       "    <tr>\n",
       "      <th>1</th>\n",
       "      <td>222</td>\n",
       "      <td>def</td>\n",
       "      <td>2</td>\n",
       "      <td>thu</td>\n",
       "    </tr>\n",
       "  </tbody>\n",
       "</table>\n",
       "</div>"
      ],
      "text/plain": [
       "   courseID courseName  creditHours Days\n",
       "0       111        abc            1  mon\n",
       "1       222        def            2  thu"
      ]
     },
     "execution_count": 81,
     "metadata": {},
     "output_type": "execute_result"
    }
   ],
   "source": [
    "class_df.head(2) #상위 2개 데이터만 볼때 #default값 5개"
   ]
  },
  {
   "cell_type": "code",
   "execution_count": 82,
   "id": "0fc4acbd",
   "metadata": {},
   "outputs": [
    {
     "data": {
      "text/html": [
       "<div>\n",
       "<style scoped>\n",
       "    .dataframe tbody tr th:only-of-type {\n",
       "        vertical-align: middle;\n",
       "    }\n",
       "\n",
       "    .dataframe tbody tr th {\n",
       "        vertical-align: top;\n",
       "    }\n",
       "\n",
       "    .dataframe thead th {\n",
       "        text-align: right;\n",
       "    }\n",
       "</style>\n",
       "<table border=\"1\" class=\"dataframe\">\n",
       "  <thead>\n",
       "    <tr style=\"text-align: right;\">\n",
       "      <th></th>\n",
       "      <th>courseID</th>\n",
       "      <th>courseName</th>\n",
       "      <th>creditHours</th>\n",
       "      <th>Days</th>\n",
       "    </tr>\n",
       "  </thead>\n",
       "  <tbody>\n",
       "    <tr>\n",
       "      <th>1</th>\n",
       "      <td>222</td>\n",
       "      <td>def</td>\n",
       "      <td>2</td>\n",
       "      <td>thu</td>\n",
       "    </tr>\n",
       "    <tr>\n",
       "      <th>2</th>\n",
       "      <td>333</td>\n",
       "      <td>hig</td>\n",
       "      <td>3</td>\n",
       "      <td>wen</td>\n",
       "    </tr>\n",
       "  </tbody>\n",
       "</table>\n",
       "</div>"
      ],
      "text/plain": [
       "   courseID courseName  creditHours Days\n",
       "1       222        def            2  thu\n",
       "2       333        hig            3  wen"
      ]
     },
     "execution_count": 82,
     "metadata": {},
     "output_type": "execute_result"
    }
   ],
   "source": [
    "class_df.tail(2) #맨 아래 기준 2개 데이터 볼때 #default값 5개"
   ]
  },
  {
   "cell_type": "code",
   "execution_count": 83,
   "id": "f0325588",
   "metadata": {},
   "outputs": [
    {
     "data": {
      "text/plain": [
       "(3, 4)"
      ]
     },
     "execution_count": 83,
     "metadata": {},
     "output_type": "execute_result"
    }
   ],
   "source": [
    "class_df.shape #저장한 자료형의 (행,열) 모양>>3개 레코드, 4개 컬럼"
   ]
  },
  {
   "cell_type": "code",
   "execution_count": 84,
   "id": "ae8cafa5",
   "metadata": {},
   "outputs": [
    {
     "data": {
      "text/plain": [
       "courseID        int64\n",
       "courseName     object\n",
       "creditHours     int64\n",
       "Days           object\n",
       "dtype: object"
      ]
     },
     "execution_count": 84,
     "metadata": {},
     "output_type": "execute_result"
    }
   ],
   "source": [
    "class_df.dtypes #데이터 타입을 체크하고 분석방향을 정함"
   ]
  },
  {
   "cell_type": "code",
   "execution_count": 85,
   "id": "c80d9790",
   "metadata": {},
   "outputs": [
    {
     "name": "stdout",
     "output_type": "stream",
     "text": [
      "<class 'pandas.core.frame.DataFrame'>\n",
      "RangeIndex: 3 entries, 0 to 2\n",
      "Data columns (total 4 columns):\n",
      " #   Column       Non-Null Count  Dtype \n",
      "---  ------       --------------  ----- \n",
      " 0   courseID     3 non-null      int64 \n",
      " 1   courseName   3 non-null      object\n",
      " 2   creditHours  3 non-null      int64 \n",
      " 3   Days         3 non-null      object\n",
      "dtypes: int64(2), object(2)\n",
      "memory usage: 228.0+ bytes\n"
     ]
    }
   ],
   "source": [
    "class_df.info() #전체적으로 요약"
   ]
  },
  {
   "cell_type": "code",
   "execution_count": 86,
   "id": "2b7b1358",
   "metadata": {},
   "outputs": [
    {
     "data": {
      "text/plain": [
       "2"
      ]
     },
     "execution_count": 86,
     "metadata": {},
     "output_type": "execute_result"
    }
   ],
   "source": [
    "class_df.ndim #차원 확인"
   ]
  },
  {
   "cell_type": "code",
   "execution_count": 87,
   "id": "0f05efb8",
   "metadata": {},
   "outputs": [
    {
     "data": {
      "text/plain": [
       "array([[111, 'abc', 1, 'mon'],\n",
       "       [222, 'def', 2, 'thu'],\n",
       "       [333, 'hig', 3, 'wen']], dtype=object)"
      ]
     },
     "execution_count": 87,
     "metadata": {},
     "output_type": "execute_result"
    }
   ],
   "source": [
    "class_df.values #값만 추출할때 (numpy 형식(array)?)"
   ]
  },
  {
   "cell_type": "code",
   "execution_count": 88,
   "id": "9ebdafa6",
   "metadata": {},
   "outputs": [
    {
     "data": {
      "text/plain": [
       "12"
      ]
     },
     "execution_count": 88,
     "metadata": {},
     "output_type": "execute_result"
    }
   ],
   "source": [
    "class_df.size #모든 요소의 갯수"
   ]
  },
  {
   "cell_type": "code",
   "execution_count": 89,
   "id": "64486a51",
   "metadata": {},
   "outputs": [
    {
     "data": {
      "text/plain": [
       "courseID       3\n",
       "courseName     3\n",
       "creditHours    3\n",
       "Days           3\n",
       "dtype: int64"
      ]
     },
     "execution_count": 89,
     "metadata": {},
     "output_type": "execute_result"
    }
   ],
   "source": [
    "class_df.count() #colum별로 null값이 아닌 데이터가 저장되어 있는 갯수를 출력 "
   ]
  },
  {
   "cell_type": "code",
   "execution_count": 91,
   "id": "715f415d",
   "metadata": {},
   "outputs": [
    {
     "data": {
      "text/plain": [
       "0    1\n",
       "1    2\n",
       "2    3\n",
       "Name: creditHours, dtype: object"
      ]
     },
     "execution_count": 91,
     "metadata": {},
     "output_type": "execute_result"
    }
   ],
   "source": [
    "class_df.creditHours.astype('str') #creditHourscolums의 데이터 타입은 변경 ; 단 변경된 자료를 저장해야함\n",
    "!저장해보기!\n",
    "#class_df.dtypes"
   ]
  },
  {
   "cell_type": "code",
   "execution_count": null,
   "id": "62d1eaf2",
   "metadata": {},
   "outputs": [],
   "source": [
    "#null 값을 대입할때 numpy np "
   ]
  },
  {
   "cell_type": "code",
   "execution_count": 92,
   "id": "610aa4a7",
   "metadata": {},
   "outputs": [
    {
     "data": {
      "text/plain": [
       "RangeIndex(start=0, stop=3, step=1)"
      ]
     },
     "execution_count": 92,
     "metadata": {},
     "output_type": "execute_result"
    }
   ],
   "source": [
    "#인덱스만 추출\n",
    "class_df.index"
   ]
  },
  {
   "cell_type": "code",
   "execution_count": 93,
   "id": "2baa674c",
   "metadata": {},
   "outputs": [
    {
     "data": {
      "text/plain": [
       "Index(['courseID', 'courseName', 'creditHours', 'Days'], dtype='object')"
      ]
     },
     "execution_count": 93,
     "metadata": {},
     "output_type": "execute_result"
    }
   ],
   "source": [
    "#컬럼만 출력 \n",
    "class_df.columns\n",
    "#pandas 에서 str == object "
   ]
  },
  {
   "cell_type": "code",
   "execution_count": 94,
   "id": "bf48503f",
   "metadata": {
    "scrolled": true
   },
   "outputs": [
    {
     "data": {
      "text/plain": [
       "courseID        int64\n",
       "courseName     object\n",
       "creditHours     int64\n",
       "Days           object\n",
       "dtype: object"
      ]
     },
     "execution_count": 94,
     "metadata": {},
     "output_type": "execute_result"
    }
   ],
   "source": [
    "class_df.dtypes"
   ]
  },
  {
   "cell_type": "code",
   "execution_count": 105,
   "id": "3e28f71a",
   "metadata": {},
   "outputs": [
    {
     "data": {
      "text/html": [
       "<div>\n",
       "<style scoped>\n",
       "    .dataframe tbody tr th:only-of-type {\n",
       "        vertical-align: middle;\n",
       "    }\n",
       "\n",
       "    .dataframe tbody tr th {\n",
       "        vertical-align: top;\n",
       "    }\n",
       "\n",
       "    .dataframe thead th {\n",
       "        text-align: right;\n",
       "    }\n",
       "</style>\n",
       "<table border=\"1\" class=\"dataframe\">\n",
       "  <thead>\n",
       "    <tr style=\"text-align: right;\">\n",
       "      <th></th>\n",
       "      <th>courseID</th>\n",
       "      <th>courseName</th>\n",
       "      <th>creditHours</th>\n",
       "      <th>Days</th>\n",
       "    </tr>\n",
       "  </thead>\n",
       "  <tbody>\n",
       "    <tr>\n",
       "      <th>count</th>\n",
       "      <td>3.0</td>\n",
       "      <td>3</td>\n",
       "      <td>3.0</td>\n",
       "      <td>3</td>\n",
       "    </tr>\n",
       "    <tr>\n",
       "      <th>unique</th>\n",
       "      <td>NaN</td>\n",
       "      <td>3</td>\n",
       "      <td>NaN</td>\n",
       "      <td>3</td>\n",
       "    </tr>\n",
       "    <tr>\n",
       "      <th>top</th>\n",
       "      <td>NaN</td>\n",
       "      <td>abc</td>\n",
       "      <td>NaN</td>\n",
       "      <td>mon</td>\n",
       "    </tr>\n",
       "    <tr>\n",
       "      <th>freq</th>\n",
       "      <td>NaN</td>\n",
       "      <td>1</td>\n",
       "      <td>NaN</td>\n",
       "      <td>1</td>\n",
       "    </tr>\n",
       "    <tr>\n",
       "      <th>mean</th>\n",
       "      <td>222.0</td>\n",
       "      <td>NaN</td>\n",
       "      <td>2.0</td>\n",
       "      <td>NaN</td>\n",
       "    </tr>\n",
       "    <tr>\n",
       "      <th>std</th>\n",
       "      <td>111.0</td>\n",
       "      <td>NaN</td>\n",
       "      <td>1.0</td>\n",
       "      <td>NaN</td>\n",
       "    </tr>\n",
       "    <tr>\n",
       "      <th>min</th>\n",
       "      <td>111.0</td>\n",
       "      <td>NaN</td>\n",
       "      <td>1.0</td>\n",
       "      <td>NaN</td>\n",
       "    </tr>\n",
       "    <tr>\n",
       "      <th>25%</th>\n",
       "      <td>166.5</td>\n",
       "      <td>NaN</td>\n",
       "      <td>1.5</td>\n",
       "      <td>NaN</td>\n",
       "    </tr>\n",
       "    <tr>\n",
       "      <th>50%</th>\n",
       "      <td>222.0</td>\n",
       "      <td>NaN</td>\n",
       "      <td>2.0</td>\n",
       "      <td>NaN</td>\n",
       "    </tr>\n",
       "    <tr>\n",
       "      <th>75%</th>\n",
       "      <td>277.5</td>\n",
       "      <td>NaN</td>\n",
       "      <td>2.5</td>\n",
       "      <td>NaN</td>\n",
       "    </tr>\n",
       "    <tr>\n",
       "      <th>max</th>\n",
       "      <td>333.0</td>\n",
       "      <td>NaN</td>\n",
       "      <td>3.0</td>\n",
       "      <td>NaN</td>\n",
       "    </tr>\n",
       "  </tbody>\n",
       "</table>\n",
       "</div>"
      ],
      "text/plain": [
       "        courseID courseName  creditHours Days\n",
       "count        3.0          3          3.0    3\n",
       "unique       NaN          3          NaN    3\n",
       "top          NaN        abc          NaN  mon\n",
       "freq         NaN          1          NaN    1\n",
       "mean       222.0        NaN          2.0  NaN\n",
       "std        111.0        NaN          1.0  NaN\n",
       "min        111.0        NaN          1.0  NaN\n",
       "25%        166.5        NaN          1.5  NaN\n",
       "50%        222.0        NaN          2.0  NaN\n",
       "75%        277.5        NaN          2.5  NaN\n",
       "max        333.0        NaN          3.0  NaN"
      ]
     },
     "execution_count": 105,
     "metadata": {},
     "output_type": "execute_result"
    }
   ],
   "source": [
    "#pandas의 연산기능 (통계량) : column기준 / 숫자 자료형에 대해서만 다룸\n",
    "#class_df.describe(include='all') #기술통계\n",
    "#class_df.mean() #평균\n",
    "#class_df.median() #중위수\n",
    "#class_df.sum() #합계\n",
    "#class_df.min() #최소\n",
    "#class_df.max() #최대\n",
    "#class_df.var() #분산\n",
    "#class_df.std() #표준편차"
   ]
  },
  {
   "cell_type": "code",
   "execution_count": 112,
   "id": "0adb5378",
   "metadata": {
    "scrolled": true
   },
   "outputs": [
    {
     "data": {
      "text/html": [
       "<div>\n",
       "<style scoped>\n",
       "    .dataframe tbody tr th:only-of-type {\n",
       "        vertical-align: middle;\n",
       "    }\n",
       "\n",
       "    .dataframe tbody tr th {\n",
       "        vertical-align: top;\n",
       "    }\n",
       "\n",
       "    .dataframe thead th {\n",
       "        text-align: right;\n",
       "    }\n",
       "</style>\n",
       "<table border=\"1\" class=\"dataframe\">\n",
       "  <thead>\n",
       "    <tr style=\"text-align: right;\">\n",
       "      <th></th>\n",
       "      <th>courseID</th>\n",
       "      <th>courseName</th>\n",
       "      <th>creditHours</th>\n",
       "      <th>Days</th>\n",
       "    </tr>\n",
       "  </thead>\n",
       "  <tbody>\n",
       "    <tr>\n",
       "      <th>0</th>\n",
       "      <td>111</td>\n",
       "      <td>abc</td>\n",
       "      <td>1</td>\n",
       "      <td>mon</td>\n",
       "    </tr>\n",
       "    <tr>\n",
       "      <th>1</th>\n",
       "      <td>222</td>\n",
       "      <td>def</td>\n",
       "      <td>2</td>\n",
       "      <td>thu</td>\n",
       "    </tr>\n",
       "    <tr>\n",
       "      <th>2</th>\n",
       "      <td>333</td>\n",
       "      <td>hig</td>\n",
       "      <td>3</td>\n",
       "      <td>wen</td>\n",
       "    </tr>\n",
       "  </tbody>\n",
       "</table>\n",
       "</div>"
      ],
      "text/plain": [
       "   courseID courseName  creditHours Days\n",
       "0       111        abc            1  mon\n",
       "1       222        def            2  thu\n",
       "2       333        hig            3  wen"
      ]
     },
     "execution_count": 112,
     "metadata": {},
     "output_type": "execute_result"
    }
   ],
   "source": [
    "#정렬 (특정 키값을 )\n",
    "class_df.sort_values(by='creditHours', ascending=False) #정렬 기준: by='기준 column', ascending: 오름차순(True)/내림차순(False) \n",
    "#class_df.sort_values(by=['creditHours','Days'], ascending=[False,True]) #2개 이상의 column을 이용하여 정렬할때\n",
    "class_df.sort_values(by='Days', ascending=True)"
   ]
  },
  {
   "cell_type": "code",
   "execution_count": 120,
   "id": "6b83bf89",
   "metadata": {
    "scrolled": true
   },
   "outputs": [
    {
     "data": {
      "text/html": [
       "<div>\n",
       "<style scoped>\n",
       "    .dataframe tbody tr th:only-of-type {\n",
       "        vertical-align: middle;\n",
       "    }\n",
       "\n",
       "    .dataframe tbody tr th {\n",
       "        vertical-align: top;\n",
       "    }\n",
       "\n",
       "    .dataframe thead th {\n",
       "        text-align: right;\n",
       "    }\n",
       "</style>\n",
       "<table border=\"1\" class=\"dataframe\">\n",
       "  <thead>\n",
       "    <tr style=\"text-align: right;\">\n",
       "      <th></th>\n",
       "      <th>month</th>\n",
       "      <th>avg_high</th>\n",
       "      <th>avg_low</th>\n",
       "      <th>record_high</th>\n",
       "      <th>record_low</th>\n",
       "      <th>avg_precipitation</th>\n",
       "    </tr>\n",
       "  </thead>\n",
       "  <tbody>\n",
       "    <tr>\n",
       "      <th>0</th>\n",
       "      <td>Jan</td>\n",
       "      <td>58</td>\n",
       "      <td>42</td>\n",
       "      <td>74.00</td>\n",
       "      <td>22.0</td>\n",
       "      <td>2.95</td>\n",
       "    </tr>\n",
       "    <tr>\n",
       "      <th>1</th>\n",
       "      <td>Feb</td>\n",
       "      <td>61</td>\n",
       "      <td>45</td>\n",
       "      <td>78.00</td>\n",
       "      <td>26.0</td>\n",
       "      <td>3.02</td>\n",
       "    </tr>\n",
       "    <tr>\n",
       "      <th>2</th>\n",
       "      <td>Mar</td>\n",
       "      <td>65</td>\n",
       "      <td>48</td>\n",
       "      <td>84.00</td>\n",
       "      <td>25.0</td>\n",
       "      <td>2.34</td>\n",
       "    </tr>\n",
       "    <tr>\n",
       "      <th>3</th>\n",
       "      <td>Apr</td>\n",
       "      <td>67</td>\n",
       "      <td>50</td>\n",
       "      <td>92.00</td>\n",
       "      <td>28.0</td>\n",
       "      <td>1.02</td>\n",
       "    </tr>\n",
       "    <tr>\n",
       "      <th>4</th>\n",
       "      <td>May7153</td>\n",
       "      <td>98</td>\n",
       "      <td>35</td>\n",
       "      <td>0.48</td>\n",
       "      <td>NaN</td>\n",
       "      <td>NaN</td>\n",
       "    </tr>\n",
       "    <tr>\n",
       "      <th>5</th>\n",
       "      <td>Jun</td>\n",
       "      <td>75</td>\n",
       "      <td>56</td>\n",
       "      <td>107.00</td>\n",
       "      <td>41.0</td>\n",
       "      <td>0.11</td>\n",
       "    </tr>\n",
       "    <tr>\n",
       "      <th>6</th>\n",
       "      <td>Jul</td>\n",
       "      <td>77</td>\n",
       "      <td>58</td>\n",
       "      <td>105.00</td>\n",
       "      <td>44.0</td>\n",
       "      <td>0.00</td>\n",
       "    </tr>\n",
       "    <tr>\n",
       "      <th>7</th>\n",
       "      <td>Aug</td>\n",
       "      <td>77</td>\n",
       "      <td>59</td>\n",
       "      <td>102.00</td>\n",
       "      <td>43.0</td>\n",
       "      <td>0.03</td>\n",
       "    </tr>\n",
       "    <tr>\n",
       "      <th>8</th>\n",
       "      <td>Sep</td>\n",
       "      <td>77</td>\n",
       "      <td>57</td>\n",
       "      <td>103.00</td>\n",
       "      <td>40.0</td>\n",
       "      <td>0.17</td>\n",
       "    </tr>\n",
       "    <tr>\n",
       "      <th>9</th>\n",
       "      <td>Oct</td>\n",
       "      <td>73</td>\n",
       "      <td>54</td>\n",
       "      <td>96.00</td>\n",
       "      <td>34.0</td>\n",
       "      <td>0.81</td>\n",
       "    </tr>\n",
       "    <tr>\n",
       "      <th>10</th>\n",
       "      <td>Nov</td>\n",
       "      <td>64</td>\n",
       "      <td>48</td>\n",
       "      <td>84.00</td>\n",
       "      <td>30.0</td>\n",
       "      <td>1.70</td>\n",
       "    </tr>\n",
       "    <tr>\n",
       "      <th>11</th>\n",
       "      <td>Dec</td>\n",
       "      <td>58</td>\n",
       "      <td>42</td>\n",
       "      <td>73.00</td>\n",
       "      <td>21.0</td>\n",
       "      <td>2.56</td>\n",
       "    </tr>\n",
       "  </tbody>\n",
       "</table>\n",
       "</div>"
      ],
      "text/plain": [
       "      month  avg_high  avg_low  record_high  record_low  avg_precipitation\n",
       "0       Jan        58       42        74.00        22.0               2.95\n",
       "1       Feb        61       45        78.00        26.0               3.02\n",
       "2       Mar        65       48        84.00        25.0               2.34\n",
       "3       Apr        67       50        92.00        28.0               1.02\n",
       "4   May7153        98       35         0.48         NaN                NaN\n",
       "5       Jun        75       56       107.00        41.0               0.11\n",
       "6       Jul        77       58       105.00        44.0               0.00\n",
       "7       Aug        77       59       102.00        43.0               0.03\n",
       "8       Sep        77       57       103.00        40.0               0.17\n",
       "9       Oct        73       54        96.00        34.0               0.81\n",
       "10      Nov        64       48        84.00        30.0               1.70\n",
       "11      Dec        58       42        73.00        21.0               2.56"
      ]
     },
     "execution_count": 120,
     "metadata": {},
     "output_type": "execute_result"
    }
   ],
   "source": [
    "#text파일을 읽을때\n",
    "#import os \n",
    "#os.chdir('폴더 이름') # ppth바꾸는 방법 !주의 경로 / -> // 혹은 forward slash사용이 필요!\n",
    "#os.getcwd #현재 기본 디렉토리가 어떤지 확인할 때 \n",
    "weather = pd.read_csv('weather.txt') #다른 파일에 들어가 있으면 '경로'첨부하여 넣으면 됨\n",
    "\n",
    "# 출력 \n",
    "#weather.head() # 상위 5개 데이터 출력\n",
    "#weather.tail(3) # 하위 3개 데이터 출력\n",
    "\n",
    "#데이터 타입 \n",
    "weather.dtypes\n",
    "\n",
    "#인덱스만 추출\n",
    "weather.index\n",
    "\n",
    "#값들만 추출\n",
    "weather.values\n",
    "\n",
    "#통계요약\n",
    "weather.describe(include='all')\n",
    "\n",
    "weather"
   ]
  },
  {
   "cell_type": "code",
   "execution_count": 121,
   "id": "b964da4d",
   "metadata": {},
   "outputs": [
    {
     "data": {
      "text/html": [
       "<div>\n",
       "<style scoped>\n",
       "    .dataframe tbody tr th:only-of-type {\n",
       "        vertical-align: middle;\n",
       "    }\n",
       "\n",
       "    .dataframe tbody tr th {\n",
       "        vertical-align: top;\n",
       "    }\n",
       "\n",
       "    .dataframe thead th {\n",
       "        text-align: right;\n",
       "    }\n",
       "</style>\n",
       "<table border=\"1\" class=\"dataframe\">\n",
       "  <thead>\n",
       "    <tr style=\"text-align: right;\">\n",
       "      <th></th>\n",
       "      <th>month</th>\n",
       "      <th>avg_high</th>\n",
       "      <th>avg_low</th>\n",
       "      <th>record_high</th>\n",
       "      <th>record_low</th>\n",
       "      <th>avg_precipitation</th>\n",
       "    </tr>\n",
       "  </thead>\n",
       "  <tbody>\n",
       "    <tr>\n",
       "      <th>5</th>\n",
       "      <td>Jun</td>\n",
       "      <td>75</td>\n",
       "      <td>56</td>\n",
       "      <td>107.00</td>\n",
       "      <td>41.0</td>\n",
       "      <td>0.11</td>\n",
       "    </tr>\n",
       "    <tr>\n",
       "      <th>6</th>\n",
       "      <td>Jul</td>\n",
       "      <td>77</td>\n",
       "      <td>58</td>\n",
       "      <td>105.00</td>\n",
       "      <td>44.0</td>\n",
       "      <td>0.00</td>\n",
       "    </tr>\n",
       "    <tr>\n",
       "      <th>8</th>\n",
       "      <td>Sep</td>\n",
       "      <td>77</td>\n",
       "      <td>57</td>\n",
       "      <td>103.00</td>\n",
       "      <td>40.0</td>\n",
       "      <td>0.17</td>\n",
       "    </tr>\n",
       "    <tr>\n",
       "      <th>7</th>\n",
       "      <td>Aug</td>\n",
       "      <td>77</td>\n",
       "      <td>59</td>\n",
       "      <td>102.00</td>\n",
       "      <td>43.0</td>\n",
       "      <td>0.03</td>\n",
       "    </tr>\n",
       "    <tr>\n",
       "      <th>9</th>\n",
       "      <td>Oct</td>\n",
       "      <td>73</td>\n",
       "      <td>54</td>\n",
       "      <td>96.00</td>\n",
       "      <td>34.0</td>\n",
       "      <td>0.81</td>\n",
       "    </tr>\n",
       "    <tr>\n",
       "      <th>3</th>\n",
       "      <td>Apr</td>\n",
       "      <td>67</td>\n",
       "      <td>50</td>\n",
       "      <td>92.00</td>\n",
       "      <td>28.0</td>\n",
       "      <td>1.02</td>\n",
       "    </tr>\n",
       "    <tr>\n",
       "      <th>2</th>\n",
       "      <td>Mar</td>\n",
       "      <td>65</td>\n",
       "      <td>48</td>\n",
       "      <td>84.00</td>\n",
       "      <td>25.0</td>\n",
       "      <td>2.34</td>\n",
       "    </tr>\n",
       "    <tr>\n",
       "      <th>10</th>\n",
       "      <td>Nov</td>\n",
       "      <td>64</td>\n",
       "      <td>48</td>\n",
       "      <td>84.00</td>\n",
       "      <td>30.0</td>\n",
       "      <td>1.70</td>\n",
       "    </tr>\n",
       "    <tr>\n",
       "      <th>1</th>\n",
       "      <td>Feb</td>\n",
       "      <td>61</td>\n",
       "      <td>45</td>\n",
       "      <td>78.00</td>\n",
       "      <td>26.0</td>\n",
       "      <td>3.02</td>\n",
       "    </tr>\n",
       "    <tr>\n",
       "      <th>0</th>\n",
       "      <td>Jan</td>\n",
       "      <td>58</td>\n",
       "      <td>42</td>\n",
       "      <td>74.00</td>\n",
       "      <td>22.0</td>\n",
       "      <td>2.95</td>\n",
       "    </tr>\n",
       "    <tr>\n",
       "      <th>11</th>\n",
       "      <td>Dec</td>\n",
       "      <td>58</td>\n",
       "      <td>42</td>\n",
       "      <td>73.00</td>\n",
       "      <td>21.0</td>\n",
       "      <td>2.56</td>\n",
       "    </tr>\n",
       "    <tr>\n",
       "      <th>4</th>\n",
       "      <td>May7153</td>\n",
       "      <td>98</td>\n",
       "      <td>35</td>\n",
       "      <td>0.48</td>\n",
       "      <td>NaN</td>\n",
       "      <td>NaN</td>\n",
       "    </tr>\n",
       "  </tbody>\n",
       "</table>\n",
       "</div>"
      ],
      "text/plain": [
       "      month  avg_high  avg_low  record_high  record_low  avg_precipitation\n",
       "5       Jun        75       56       107.00        41.0               0.11\n",
       "6       Jul        77       58       105.00        44.0               0.00\n",
       "8       Sep        77       57       103.00        40.0               0.17\n",
       "7       Aug        77       59       102.00        43.0               0.03\n",
       "9       Oct        73       54        96.00        34.0               0.81\n",
       "3       Apr        67       50        92.00        28.0               1.02\n",
       "2       Mar        65       48        84.00        25.0               2.34\n",
       "10      Nov        64       48        84.00        30.0               1.70\n",
       "1       Feb        61       45        78.00        26.0               3.02\n",
       "0       Jan        58       42        74.00        22.0               2.95\n",
       "11      Dec        58       42        73.00        21.0               2.56\n",
       "4   May7153        98       35         0.48         NaN                NaN"
      ]
     },
     "execution_count": 121,
     "metadata": {},
     "output_type": "execute_result"
    }
   ],
   "source": [
    "#record_high값을 기준으로 내림차순 정렬\n",
    "weather.sort_values(by='record_high', ascending=False)"
   ]
  },
  {
   "cell_type": "code",
   "execution_count": 185,
   "id": "0f93ee46",
   "metadata": {},
   "outputs": [],
   "source": [
    "#txt 파일을 다른 폴더에서 가져올때;\n",
    "\n",
    "import os \n",
    "os.chdir('C:\\\\Users\\\\jangs\\\\OneDrive\\\\바탕 화면\\\\빅데이터 캠프\\\\') # ppth바꾸는 방법 !주의 경로 / -> // 혹은 forward slash사용이 필요!\n",
    "os.getcwd \n",
    "\n",
    "weather = pd.read_csv('weather.txt')"
   ]
  },
  {
   "cell_type": "code",
   "execution_count": 125,
   "id": "dae426bb",
   "metadata": {},
   "outputs": [
    {
     "data": {
      "text/html": [
       "<div>\n",
       "<style scoped>\n",
       "    .dataframe tbody tr th:only-of-type {\n",
       "        vertical-align: middle;\n",
       "    }\n",
       "\n",
       "    .dataframe tbody tr th {\n",
       "        vertical-align: top;\n",
       "    }\n",
       "\n",
       "    .dataframe thead th {\n",
       "        text-align: right;\n",
       "    }\n",
       "</style>\n",
       "<table border=\"1\" class=\"dataframe\">\n",
       "  <thead>\n",
       "    <tr style=\"text-align: right;\">\n",
       "      <th></th>\n",
       "      <th>month</th>\n",
       "      <th>avg_high</th>\n",
       "      <th>avg_low</th>\n",
       "      <th>record_high</th>\n",
       "      <th>record_low</th>\n",
       "      <th>avg_precipitation</th>\n",
       "    </tr>\n",
       "  </thead>\n",
       "  <tbody>\n",
       "    <tr>\n",
       "      <th>0</th>\n",
       "      <td>Jan</td>\n",
       "      <td>58</td>\n",
       "      <td>42</td>\n",
       "      <td>74</td>\n",
       "      <td>22</td>\n",
       "      <td>2.95</td>\n",
       "    </tr>\n",
       "    <tr>\n",
       "      <th>1</th>\n",
       "      <td>Feb</td>\n",
       "      <td>61</td>\n",
       "      <td>45</td>\n",
       "      <td>78</td>\n",
       "      <td>26</td>\n",
       "      <td>3.02</td>\n",
       "    </tr>\n",
       "    <tr>\n",
       "      <th>2</th>\n",
       "      <td>Mar</td>\n",
       "      <td>65</td>\n",
       "      <td>48</td>\n",
       "      <td>84</td>\n",
       "      <td>25</td>\n",
       "      <td>2.34</td>\n",
       "    </tr>\n",
       "    <tr>\n",
       "      <th>3</th>\n",
       "      <td>Apr</td>\n",
       "      <td>67</td>\n",
       "      <td>50</td>\n",
       "      <td>92</td>\n",
       "      <td>28</td>\n",
       "      <td>1.02</td>\n",
       "    </tr>\n",
       "    <tr>\n",
       "      <th>4</th>\n",
       "      <td>May</td>\n",
       "      <td>71</td>\n",
       "      <td>53</td>\n",
       "      <td>98</td>\n",
       "      <td>35</td>\n",
       "      <td>0.48</td>\n",
       "    </tr>\n",
       "    <tr>\n",
       "      <th>5</th>\n",
       "      <td>Jun</td>\n",
       "      <td>75</td>\n",
       "      <td>56</td>\n",
       "      <td>107</td>\n",
       "      <td>41</td>\n",
       "      <td>0.11</td>\n",
       "    </tr>\n",
       "    <tr>\n",
       "      <th>6</th>\n",
       "      <td>Jul</td>\n",
       "      <td>77</td>\n",
       "      <td>58</td>\n",
       "      <td>105</td>\n",
       "      <td>44</td>\n",
       "      <td>0.00</td>\n",
       "    </tr>\n",
       "    <tr>\n",
       "      <th>7</th>\n",
       "      <td>Aug</td>\n",
       "      <td>77</td>\n",
       "      <td>59</td>\n",
       "      <td>102</td>\n",
       "      <td>43</td>\n",
       "      <td>0.03</td>\n",
       "    </tr>\n",
       "    <tr>\n",
       "      <th>8</th>\n",
       "      <td>Sep</td>\n",
       "      <td>77</td>\n",
       "      <td>57</td>\n",
       "      <td>103</td>\n",
       "      <td>40</td>\n",
       "      <td>0.17</td>\n",
       "    </tr>\n",
       "    <tr>\n",
       "      <th>9</th>\n",
       "      <td>Oct</td>\n",
       "      <td>73</td>\n",
       "      <td>54</td>\n",
       "      <td>96</td>\n",
       "      <td>34</td>\n",
       "      <td>0.81</td>\n",
       "    </tr>\n",
       "    <tr>\n",
       "      <th>10</th>\n",
       "      <td>Nov</td>\n",
       "      <td>64</td>\n",
       "      <td>48</td>\n",
       "      <td>84</td>\n",
       "      <td>30</td>\n",
       "      <td>1.70</td>\n",
       "    </tr>\n",
       "    <tr>\n",
       "      <th>11</th>\n",
       "      <td>Dec</td>\n",
       "      <td>58</td>\n",
       "      <td>42</td>\n",
       "      <td>73</td>\n",
       "      <td>21</td>\n",
       "      <td>2.56</td>\n",
       "    </tr>\n",
       "  </tbody>\n",
       "</table>\n",
       "</div>"
      ],
      "text/plain": [
       "   month  avg_high  avg_low  record_high  record_low  avg_precipitation\n",
       "0    Jan        58       42           74          22               2.95\n",
       "1    Feb        61       45           78          26               3.02\n",
       "2    Mar        65       48           84          25               2.34\n",
       "3    Apr        67       50           92          28               1.02\n",
       "4    May        71       53           98          35               0.48\n",
       "5    Jun        75       56          107          41               0.11\n",
       "6    Jul        77       58          105          44               0.00\n",
       "7    Aug        77       59          102          43               0.03\n",
       "8    Sep        77       57          103          40               0.17\n",
       "9    Oct        73       54           96          34               0.81\n",
       "10   Nov        64       48           84          30               1.70\n",
       "11   Dec        58       42           73          21               2.56"
      ]
     },
     "execution_count": 125,
     "metadata": {},
     "output_type": "execute_result"
    }
   ],
   "source": [
    "weather"
   ]
  },
  {
   "cell_type": "code",
   "execution_count": 126,
   "id": "1ed10758",
   "metadata": {},
   "outputs": [
    {
     "data": {
      "text/html": [
       "<div>\n",
       "<style scoped>\n",
       "    .dataframe tbody tr th:only-of-type {\n",
       "        vertical-align: middle;\n",
       "    }\n",
       "\n",
       "    .dataframe tbody tr th {\n",
       "        vertical-align: top;\n",
       "    }\n",
       "\n",
       "    .dataframe thead th {\n",
       "        text-align: right;\n",
       "    }\n",
       "</style>\n",
       "<table border=\"1\" class=\"dataframe\">\n",
       "  <thead>\n",
       "    <tr style=\"text-align: right;\">\n",
       "      <th></th>\n",
       "      <th>month</th>\n",
       "      <th>avg_high</th>\n",
       "      <th>avg_low</th>\n",
       "      <th>record_high</th>\n",
       "      <th>record_low</th>\n",
       "      <th>avg_precipitation</th>\n",
       "    </tr>\n",
       "  </thead>\n",
       "  <tbody>\n",
       "    <tr>\n",
       "      <th>5</th>\n",
       "      <td>Jun</td>\n",
       "      <td>75</td>\n",
       "      <td>56</td>\n",
       "      <td>107</td>\n",
       "      <td>41</td>\n",
       "      <td>0.11</td>\n",
       "    </tr>\n",
       "    <tr>\n",
       "      <th>6</th>\n",
       "      <td>Jul</td>\n",
       "      <td>77</td>\n",
       "      <td>58</td>\n",
       "      <td>105</td>\n",
       "      <td>44</td>\n",
       "      <td>0.00</td>\n",
       "    </tr>\n",
       "    <tr>\n",
       "      <th>8</th>\n",
       "      <td>Sep</td>\n",
       "      <td>77</td>\n",
       "      <td>57</td>\n",
       "      <td>103</td>\n",
       "      <td>40</td>\n",
       "      <td>0.17</td>\n",
       "    </tr>\n",
       "    <tr>\n",
       "      <th>7</th>\n",
       "      <td>Aug</td>\n",
       "      <td>77</td>\n",
       "      <td>59</td>\n",
       "      <td>102</td>\n",
       "      <td>43</td>\n",
       "      <td>0.03</td>\n",
       "    </tr>\n",
       "    <tr>\n",
       "      <th>4</th>\n",
       "      <td>May</td>\n",
       "      <td>71</td>\n",
       "      <td>53</td>\n",
       "      <td>98</td>\n",
       "      <td>35</td>\n",
       "      <td>0.48</td>\n",
       "    </tr>\n",
       "    <tr>\n",
       "      <th>9</th>\n",
       "      <td>Oct</td>\n",
       "      <td>73</td>\n",
       "      <td>54</td>\n",
       "      <td>96</td>\n",
       "      <td>34</td>\n",
       "      <td>0.81</td>\n",
       "    </tr>\n",
       "    <tr>\n",
       "      <th>3</th>\n",
       "      <td>Apr</td>\n",
       "      <td>67</td>\n",
       "      <td>50</td>\n",
       "      <td>92</td>\n",
       "      <td>28</td>\n",
       "      <td>1.02</td>\n",
       "    </tr>\n",
       "    <tr>\n",
       "      <th>2</th>\n",
       "      <td>Mar</td>\n",
       "      <td>65</td>\n",
       "      <td>48</td>\n",
       "      <td>84</td>\n",
       "      <td>25</td>\n",
       "      <td>2.34</td>\n",
       "    </tr>\n",
       "    <tr>\n",
       "      <th>10</th>\n",
       "      <td>Nov</td>\n",
       "      <td>64</td>\n",
       "      <td>48</td>\n",
       "      <td>84</td>\n",
       "      <td>30</td>\n",
       "      <td>1.70</td>\n",
       "    </tr>\n",
       "    <tr>\n",
       "      <th>1</th>\n",
       "      <td>Feb</td>\n",
       "      <td>61</td>\n",
       "      <td>45</td>\n",
       "      <td>78</td>\n",
       "      <td>26</td>\n",
       "      <td>3.02</td>\n",
       "    </tr>\n",
       "    <tr>\n",
       "      <th>0</th>\n",
       "      <td>Jan</td>\n",
       "      <td>58</td>\n",
       "      <td>42</td>\n",
       "      <td>74</td>\n",
       "      <td>22</td>\n",
       "      <td>2.95</td>\n",
       "    </tr>\n",
       "    <tr>\n",
       "      <th>11</th>\n",
       "      <td>Dec</td>\n",
       "      <td>58</td>\n",
       "      <td>42</td>\n",
       "      <td>73</td>\n",
       "      <td>21</td>\n",
       "      <td>2.56</td>\n",
       "    </tr>\n",
       "  </tbody>\n",
       "</table>\n",
       "</div>"
      ],
      "text/plain": [
       "   month  avg_high  avg_low  record_high  record_low  avg_precipitation\n",
       "5    Jun        75       56          107          41               0.11\n",
       "6    Jul        77       58          105          44               0.00\n",
       "8    Sep        77       57          103          40               0.17\n",
       "7    Aug        77       59          102          43               0.03\n",
       "4    May        71       53           98          35               0.48\n",
       "9    Oct        73       54           96          34               0.81\n",
       "3    Apr        67       50           92          28               1.02\n",
       "2    Mar        65       48           84          25               2.34\n",
       "10   Nov        64       48           84          30               1.70\n",
       "1    Feb        61       45           78          26               3.02\n",
       "0    Jan        58       42           74          22               2.95\n",
       "11   Dec        58       42           73          21               2.56"
      ]
     },
     "execution_count": 126,
     "metadata": {},
     "output_type": "execute_result"
    }
   ],
   "source": [
    "weather.sort_values(by='record_high', ascending=False)"
   ]
  },
  {
   "cell_type": "code",
   "execution_count": 127,
   "id": "fe2b3a3d",
   "metadata": {},
   "outputs": [
    {
     "data": {
      "text/html": [
       "<div>\n",
       "<style scoped>\n",
       "    .dataframe tbody tr th:only-of-type {\n",
       "        vertical-align: middle;\n",
       "    }\n",
       "\n",
       "    .dataframe tbody tr th {\n",
       "        vertical-align: top;\n",
       "    }\n",
       "\n",
       "    .dataframe thead th {\n",
       "        text-align: right;\n",
       "    }\n",
       "</style>\n",
       "<table border=\"1\" class=\"dataframe\">\n",
       "  <thead>\n",
       "    <tr style=\"text-align: right;\">\n",
       "      <th></th>\n",
       "      <th>month</th>\n",
       "      <th>avg_high</th>\n",
       "      <th>avg_low</th>\n",
       "      <th>record_high</th>\n",
       "      <th>record_low</th>\n",
       "      <th>avg_precipitation</th>\n",
       "    </tr>\n",
       "  </thead>\n",
       "  <tbody>\n",
       "    <tr>\n",
       "      <th>2</th>\n",
       "      <td>Mar</td>\n",
       "      <td>65</td>\n",
       "      <td>48</td>\n",
       "      <td>84</td>\n",
       "      <td>25</td>\n",
       "      <td>2.34</td>\n",
       "    </tr>\n",
       "    <tr>\n",
       "      <th>3</th>\n",
       "      <td>Apr</td>\n",
       "      <td>67</td>\n",
       "      <td>50</td>\n",
       "      <td>92</td>\n",
       "      <td>28</td>\n",
       "      <td>1.02</td>\n",
       "    </tr>\n",
       "  </tbody>\n",
       "</table>\n",
       "</div>"
      ],
      "text/plain": [
       "  month  avg_high  avg_low  record_high  record_low  avg_precipitation\n",
       "2   Mar        65       48           84          25               2.34\n",
       "3   Apr        67       50           92          28               1.02"
      ]
     },
     "execution_count": 127,
     "metadata": {},
     "output_type": "execute_result"
    }
   ],
   "source": [
    "#index sclicing  (마지막 범위 숫자 포함되지 않음)\n",
    "weather[2:4]"
   ]
  },
  {
   "cell_type": "code",
   "execution_count": 130,
   "id": "dbcfb2e7",
   "metadata": {},
   "outputs": [
    {
     "data": {
      "text/plain": [
       "0     Jan\n",
       "1     Feb\n",
       "2     Mar\n",
       "3     Apr\n",
       "4     May\n",
       "5     Jun\n",
       "6     Jul\n",
       "7     Aug\n",
       "8     Sep\n",
       "9     Oct\n",
       "10    Nov\n",
       "11    Dec\n",
       "Name: month, dtype: object"
      ]
     },
     "execution_count": 130,
     "metadata": {},
     "output_type": "execute_result"
    }
   ],
   "source": [
    "#colum으로 자를때 \n",
    "#weather.columns\n",
    "#weather.month\n",
    "weather['month']"
   ]
  },
  {
   "cell_type": "code",
   "execution_count": 131,
   "id": "570693ee",
   "metadata": {},
   "outputs": [
    {
     "data": {
      "text/plain": [
       "0     Jan\n",
       "1     Feb\n",
       "2     Mar\n",
       "3     Apr\n",
       "4     May\n",
       "5     Jun\n",
       "6     Jul\n",
       "7     Aug\n",
       "8     Sep\n",
       "9     Oct\n",
       "10    Nov\n",
       "11    Dec\n",
       "Name: month, dtype: object"
      ]
     },
     "execution_count": 131,
     "metadata": {},
     "output_type": "execute_result"
    }
   ],
   "source": [
    "weather.month"
   ]
  },
  {
   "cell_type": "code",
   "execution_count": 132,
   "id": "a2e7481e",
   "metadata": {},
   "outputs": [
    {
     "data": {
      "text/html": [
       "<div>\n",
       "<style scoped>\n",
       "    .dataframe tbody tr th:only-of-type {\n",
       "        vertical-align: middle;\n",
       "    }\n",
       "\n",
       "    .dataframe tbody tr th {\n",
       "        vertical-align: top;\n",
       "    }\n",
       "\n",
       "    .dataframe thead th {\n",
       "        text-align: right;\n",
       "    }\n",
       "</style>\n",
       "<table border=\"1\" class=\"dataframe\">\n",
       "  <thead>\n",
       "    <tr style=\"text-align: right;\">\n",
       "      <th></th>\n",
       "      <th>avg_high</th>\n",
       "      <th>avg_low</th>\n",
       "    </tr>\n",
       "  </thead>\n",
       "  <tbody>\n",
       "    <tr>\n",
       "      <th>5</th>\n",
       "      <td>75</td>\n",
       "      <td>56</td>\n",
       "    </tr>\n",
       "    <tr>\n",
       "      <th>6</th>\n",
       "      <td>77</td>\n",
       "      <td>58</td>\n",
       "    </tr>\n",
       "    <tr>\n",
       "      <th>7</th>\n",
       "      <td>77</td>\n",
       "      <td>59</td>\n",
       "    </tr>\n",
       "    <tr>\n",
       "      <th>8</th>\n",
       "      <td>77</td>\n",
       "      <td>57</td>\n",
       "    </tr>\n",
       "  </tbody>\n",
       "</table>\n",
       "</div>"
      ],
      "text/plain": [
       "   avg_high  avg_low\n",
       "5        75       56\n",
       "6        77       58\n",
       "7        77       59\n",
       "8        77       57"
      ]
     },
     "execution_count": 132,
     "metadata": {},
     "output_type": "execute_result"
    }
   ],
   "source": [
    "weather.loc[5:8, ['avg_high', 'avg_low']] #열의 이름(마지막 번호 포함)"
   ]
  },
  {
   "cell_type": "code",
   "execution_count": 133,
   "id": "19ebfafa",
   "metadata": {},
   "outputs": [
    {
     "data": {
      "text/html": [
       "<div>\n",
       "<style scoped>\n",
       "    .dataframe tbody tr th:only-of-type {\n",
       "        vertical-align: middle;\n",
       "    }\n",
       "\n",
       "    .dataframe tbody tr th {\n",
       "        vertical-align: top;\n",
       "    }\n",
       "\n",
       "    .dataframe thead th {\n",
       "        text-align: right;\n",
       "    }\n",
       "</style>\n",
       "<table border=\"1\" class=\"dataframe\">\n",
       "  <thead>\n",
       "    <tr style=\"text-align: right;\">\n",
       "      <th></th>\n",
       "      <th>avg_high</th>\n",
       "      <th>avg_low</th>\n",
       "    </tr>\n",
       "  </thead>\n",
       "  <tbody>\n",
       "    <tr>\n",
       "      <th>5</th>\n",
       "      <td>75</td>\n",
       "      <td>56</td>\n",
       "    </tr>\n",
       "    <tr>\n",
       "      <th>6</th>\n",
       "      <td>77</td>\n",
       "      <td>58</td>\n",
       "    </tr>\n",
       "    <tr>\n",
       "      <th>7</th>\n",
       "      <td>77</td>\n",
       "      <td>59</td>\n",
       "    </tr>\n",
       "    <tr>\n",
       "      <th>8</th>\n",
       "      <td>77</td>\n",
       "      <td>57</td>\n",
       "    </tr>\n",
       "  </tbody>\n",
       "</table>\n",
       "</div>"
      ],
      "text/plain": [
       "   avg_high  avg_low\n",
       "5        75       56\n",
       "6        77       58\n",
       "7        77       59\n",
       "8        77       57"
      ]
     },
     "execution_count": 133,
     "metadata": {},
     "output_type": "execute_result"
    }
   ],
   "source": [
    "weather.iloc[5:9, 1:3] #열의 인덱스 넘버(마지막 번호 미포함)"
   ]
  },
  {
   "cell_type": "code",
   "execution_count": 137,
   "id": "e14bb806",
   "metadata": {},
   "outputs": [
    {
     "data": {
      "text/html": [
       "<div>\n",
       "<style scoped>\n",
       "    .dataframe tbody tr th:only-of-type {\n",
       "        vertical-align: middle;\n",
       "    }\n",
       "\n",
       "    .dataframe tbody tr th {\n",
       "        vertical-align: top;\n",
       "    }\n",
       "\n",
       "    .dataframe thead th {\n",
       "        text-align: right;\n",
       "    }\n",
       "</style>\n",
       "<table border=\"1\" class=\"dataframe\">\n",
       "  <thead>\n",
       "    <tr style=\"text-align: right;\">\n",
       "      <th></th>\n",
       "      <th>avg_high</th>\n",
       "      <th>record_high</th>\n",
       "    </tr>\n",
       "  </thead>\n",
       "  <tbody>\n",
       "    <tr>\n",
       "      <th>5</th>\n",
       "      <td>75</td>\n",
       "      <td>107</td>\n",
       "    </tr>\n",
       "    <tr>\n",
       "      <th>6</th>\n",
       "      <td>77</td>\n",
       "      <td>105</td>\n",
       "    </tr>\n",
       "    <tr>\n",
       "      <th>7</th>\n",
       "      <td>77</td>\n",
       "      <td>102</td>\n",
       "    </tr>\n",
       "    <tr>\n",
       "      <th>8</th>\n",
       "      <td>77</td>\n",
       "      <td>103</td>\n",
       "    </tr>\n",
       "  </tbody>\n",
       "</table>\n",
       "</div>"
      ],
      "text/plain": [
       "   avg_high  record_high\n",
       "5        75          107\n",
       "6        77          105\n",
       "7        77          102\n",
       "8        77          103"
      ]
     },
     "execution_count": 137,
     "metadata": {},
     "output_type": "execute_result"
    }
   ],
   "source": [
    "weather.iloc[5:9, [1,3]] #  떨어져있는 데이터를 출력할때 리스트\n",
    "#1열 : avg_high, 3열: record_high를 출력(특정 데이터만)"
   ]
  },
  {
   "cell_type": "code",
   "execution_count": 138,
   "id": "19e8ab74",
   "metadata": {
    "scrolled": true
   },
   "outputs": [
    {
     "data": {
      "text/plain": [
       "0     42\n",
       "1     45\n",
       "2     48\n",
       "3     50\n",
       "4     53\n",
       "5     56\n",
       "6     58\n",
       "7     59\n",
       "8     57\n",
       "9     54\n",
       "10    48\n",
       "11    42\n",
       "Name: avg_low, dtype: int64"
      ]
     },
     "execution_count": 138,
     "metadata": {},
     "output_type": "execute_result"
    }
   ],
   "source": [
    "weather.avg_low"
   ]
  },
  {
   "cell_type": "code",
   "execution_count": 150,
   "id": "4301db26",
   "metadata": {},
   "outputs": [
    {
     "data": {
      "text/plain": [
       "0     42\n",
       "1     45\n",
       "2     48\n",
       "3     50\n",
       "4     53\n",
       "5     56\n",
       "6     58\n",
       "7     59\n",
       "8     57\n",
       "9     54\n",
       "10    48\n",
       "11    42\n",
       "Name: avg_low, dtype: int64"
      ]
     },
     "execution_count": 150,
     "metadata": {},
     "output_type": "execute_result"
    }
   ],
   "source": [
    "weather['avg_low'] # 한글 혹은 띄어쓰기가 있는 경우 대안"
   ]
  },
  {
   "cell_type": "code",
   "execution_count": 142,
   "id": "db17e390",
   "metadata": {
    "scrolled": true
   },
   "outputs": [
    {
     "data": {
      "text/html": [
       "<div>\n",
       "<style scoped>\n",
       "    .dataframe tbody tr th:only-of-type {\n",
       "        vertical-align: middle;\n",
       "    }\n",
       "\n",
       "    .dataframe tbody tr th {\n",
       "        vertical-align: top;\n",
       "    }\n",
       "\n",
       "    .dataframe thead th {\n",
       "        text-align: right;\n",
       "    }\n",
       "</style>\n",
       "<table border=\"1\" class=\"dataframe\">\n",
       "  <thead>\n",
       "    <tr style=\"text-align: right;\">\n",
       "      <th></th>\n",
       "      <th>month</th>\n",
       "      <th>avg_high</th>\n",
       "      <th>avg_low</th>\n",
       "      <th>record_high</th>\n",
       "      <th>record_low</th>\n",
       "      <th>avg_precipitation</th>\n",
       "    </tr>\n",
       "  </thead>\n",
       "  <tbody>\n",
       "    <tr>\n",
       "      <th>1</th>\n",
       "      <td>Feb</td>\n",
       "      <td>61</td>\n",
       "      <td>45</td>\n",
       "      <td>78</td>\n",
       "      <td>26</td>\n",
       "      <td>3.02</td>\n",
       "    </tr>\n",
       "    <tr>\n",
       "      <th>2</th>\n",
       "      <td>Mar</td>\n",
       "      <td>65</td>\n",
       "      <td>48</td>\n",
       "      <td>84</td>\n",
       "      <td>25</td>\n",
       "      <td>2.34</td>\n",
       "    </tr>\n",
       "  </tbody>\n",
       "</table>\n",
       "</div>"
      ],
      "text/plain": [
       "  month  avg_high  avg_low  record_high  record_low  avg_precipitation\n",
       "1   Feb        61       45           78          26               3.02\n",
       "2   Mar        65       48           84          25               2.34"
      ]
     },
     "execution_count": 142,
     "metadata": {},
     "output_type": "execute_result"
    }
   ],
   "source": [
    "weather[1:3]"
   ]
  },
  {
   "cell_type": "code",
   "execution_count": 153,
   "id": "1333bbd9",
   "metadata": {},
   "outputs": [
    {
     "data": {
      "text/html": [
       "<div>\n",
       "<style scoped>\n",
       "    .dataframe tbody tr th:only-of-type {\n",
       "        vertical-align: middle;\n",
       "    }\n",
       "\n",
       "    .dataframe tbody tr th {\n",
       "        vertical-align: top;\n",
       "    }\n",
       "\n",
       "    .dataframe thead th {\n",
       "        text-align: right;\n",
       "    }\n",
       "</style>\n",
       "<table border=\"1\" class=\"dataframe\">\n",
       "  <thead>\n",
       "    <tr style=\"text-align: right;\">\n",
       "      <th></th>\n",
       "      <th>month</th>\n",
       "      <th>avg_high</th>\n",
       "      <th>avg_low</th>\n",
       "      <th>record_high</th>\n",
       "      <th>record_low</th>\n",
       "      <th>avg_precipitation</th>\n",
       "    </tr>\n",
       "  </thead>\n",
       "  <tbody>\n",
       "    <tr>\n",
       "      <th>1</th>\n",
       "      <td>Feb</td>\n",
       "      <td>61</td>\n",
       "      <td>45</td>\n",
       "      <td>78</td>\n",
       "      <td>26</td>\n",
       "      <td>3.02</td>\n",
       "    </tr>\n",
       "    <tr>\n",
       "      <th>2</th>\n",
       "      <td>Mar</td>\n",
       "      <td>65</td>\n",
       "      <td>48</td>\n",
       "      <td>84</td>\n",
       "      <td>25</td>\n",
       "      <td>2.34</td>\n",
       "    </tr>\n",
       "  </tbody>\n",
       "</table>\n",
       "</div>"
      ],
      "text/plain": [
       "  month  avg_high  avg_low  record_high  record_low  avg_precipitation\n",
       "1   Feb        61       45           78          26               3.02\n",
       "2   Mar        65       48           84          25               2.34"
      ]
     },
     "execution_count": 153,
     "metadata": {},
     "output_type": "execute_result"
    }
   ],
   "source": [
    "weather.iloc[[1,2],:]"
   ]
  },
  {
   "cell_type": "code",
   "execution_count": 146,
   "id": "cb7e521b",
   "metadata": {},
   "outputs": [
    {
     "data": {
      "text/html": [
       "<div>\n",
       "<style scoped>\n",
       "    .dataframe tbody tr th:only-of-type {\n",
       "        vertical-align: middle;\n",
       "    }\n",
       "\n",
       "    .dataframe tbody tr th {\n",
       "        vertical-align: top;\n",
       "    }\n",
       "\n",
       "    .dataframe thead th {\n",
       "        text-align: right;\n",
       "    }\n",
       "</style>\n",
       "<table border=\"1\" class=\"dataframe\">\n",
       "  <thead>\n",
       "    <tr style=\"text-align: right;\">\n",
       "      <th></th>\n",
       "      <th>avg_high</th>\n",
       "      <th>avg_low</th>\n",
       "    </tr>\n",
       "  </thead>\n",
       "  <tbody>\n",
       "    <tr>\n",
       "      <th>0</th>\n",
       "      <td>58</td>\n",
       "      <td>42</td>\n",
       "    </tr>\n",
       "    <tr>\n",
       "      <th>1</th>\n",
       "      <td>61</td>\n",
       "      <td>45</td>\n",
       "    </tr>\n",
       "    <tr>\n",
       "      <th>2</th>\n",
       "      <td>65</td>\n",
       "      <td>48</td>\n",
       "    </tr>\n",
       "    <tr>\n",
       "      <th>3</th>\n",
       "      <td>67</td>\n",
       "      <td>50</td>\n",
       "    </tr>\n",
       "    <tr>\n",
       "      <th>4</th>\n",
       "      <td>71</td>\n",
       "      <td>53</td>\n",
       "    </tr>\n",
       "    <tr>\n",
       "      <th>5</th>\n",
       "      <td>75</td>\n",
       "      <td>56</td>\n",
       "    </tr>\n",
       "    <tr>\n",
       "      <th>6</th>\n",
       "      <td>77</td>\n",
       "      <td>58</td>\n",
       "    </tr>\n",
       "    <tr>\n",
       "      <th>7</th>\n",
       "      <td>77</td>\n",
       "      <td>59</td>\n",
       "    </tr>\n",
       "    <tr>\n",
       "      <th>8</th>\n",
       "      <td>77</td>\n",
       "      <td>57</td>\n",
       "    </tr>\n",
       "    <tr>\n",
       "      <th>9</th>\n",
       "      <td>73</td>\n",
       "      <td>54</td>\n",
       "    </tr>\n",
       "    <tr>\n",
       "      <th>10</th>\n",
       "      <td>64</td>\n",
       "      <td>48</td>\n",
       "    </tr>\n",
       "    <tr>\n",
       "      <th>11</th>\n",
       "      <td>58</td>\n",
       "      <td>42</td>\n",
       "    </tr>\n",
       "  </tbody>\n",
       "</table>\n",
       "</div>"
      ],
      "text/plain": [
       "    avg_high  avg_low\n",
       "0         58       42\n",
       "1         61       45\n",
       "2         65       48\n",
       "3         67       50\n",
       "4         71       53\n",
       "5         75       56\n",
       "6         77       58\n",
       "7         77       59\n",
       "8         77       57\n",
       "9         73       54\n",
       "10        64       48\n",
       "11        58       42"
      ]
     },
     "execution_count": 146,
     "metadata": {},
     "output_type": "execute_result"
    }
   ],
   "source": [
    "weather.iloc[:, 1:3]"
   ]
  },
  {
   "cell_type": "code",
   "execution_count": 154,
   "id": "2e0aef9c",
   "metadata": {},
   "outputs": [
    {
     "data": {
      "text/html": [
       "<div>\n",
       "<style scoped>\n",
       "    .dataframe tbody tr th:only-of-type {\n",
       "        vertical-align: middle;\n",
       "    }\n",
       "\n",
       "    .dataframe tbody tr th {\n",
       "        vertical-align: top;\n",
       "    }\n",
       "\n",
       "    .dataframe thead th {\n",
       "        text-align: right;\n",
       "    }\n",
       "</style>\n",
       "<table border=\"1\" class=\"dataframe\">\n",
       "  <thead>\n",
       "    <tr style=\"text-align: right;\">\n",
       "      <th></th>\n",
       "      <th>avg_high</th>\n",
       "      <th>avg_low</th>\n",
       "    </tr>\n",
       "  </thead>\n",
       "  <tbody>\n",
       "    <tr>\n",
       "      <th>0</th>\n",
       "      <td>58</td>\n",
       "      <td>42</td>\n",
       "    </tr>\n",
       "    <tr>\n",
       "      <th>1</th>\n",
       "      <td>61</td>\n",
       "      <td>45</td>\n",
       "    </tr>\n",
       "    <tr>\n",
       "      <th>2</th>\n",
       "      <td>65</td>\n",
       "      <td>48</td>\n",
       "    </tr>\n",
       "    <tr>\n",
       "      <th>3</th>\n",
       "      <td>67</td>\n",
       "      <td>50</td>\n",
       "    </tr>\n",
       "    <tr>\n",
       "      <th>4</th>\n",
       "      <td>71</td>\n",
       "      <td>53</td>\n",
       "    </tr>\n",
       "    <tr>\n",
       "      <th>5</th>\n",
       "      <td>75</td>\n",
       "      <td>56</td>\n",
       "    </tr>\n",
       "    <tr>\n",
       "      <th>6</th>\n",
       "      <td>77</td>\n",
       "      <td>58</td>\n",
       "    </tr>\n",
       "    <tr>\n",
       "      <th>7</th>\n",
       "      <td>77</td>\n",
       "      <td>59</td>\n",
       "    </tr>\n",
       "    <tr>\n",
       "      <th>8</th>\n",
       "      <td>77</td>\n",
       "      <td>57</td>\n",
       "    </tr>\n",
       "    <tr>\n",
       "      <th>9</th>\n",
       "      <td>73</td>\n",
       "      <td>54</td>\n",
       "    </tr>\n",
       "    <tr>\n",
       "      <th>10</th>\n",
       "      <td>64</td>\n",
       "      <td>48</td>\n",
       "    </tr>\n",
       "    <tr>\n",
       "      <th>11</th>\n",
       "      <td>58</td>\n",
       "      <td>42</td>\n",
       "    </tr>\n",
       "  </tbody>\n",
       "</table>\n",
       "</div>"
      ],
      "text/plain": [
       "    avg_high  avg_low\n",
       "0         58       42\n",
       "1         61       45\n",
       "2         65       48\n",
       "3         67       50\n",
       "4         71       53\n",
       "5         75       56\n",
       "6         77       58\n",
       "7         77       59\n",
       "8         77       57\n",
       "9         73       54\n",
       "10        64       48\n",
       "11        58       42"
      ]
     },
     "execution_count": 154,
     "metadata": {},
     "output_type": "execute_result"
    }
   ],
   "source": [
    "#특정 열에 대하여 값을 추출할때; [[]] (중첩을 사용할수 있음)\n",
    "weather[['avg_high','avg_low']]"
   ]
  },
  {
   "cell_type": "code",
   "execution_count": 157,
   "id": "ecb29956",
   "metadata": {},
   "outputs": [
    {
     "data": {
      "text/plain": [
       "avg_precipitation    0.17\n",
       "Name: 8, dtype: object"
      ]
     },
     "execution_count": 157,
     "metadata": {},
     "output_type": "execute_result"
    }
   ],
   "source": [
    "#특정 행에 대해서 추출 가능\n",
    "weather.loc[8, ['avg_precipitation']]"
   ]
  },
  {
   "cell_type": "code",
   "execution_count": 159,
   "id": "129c08e0",
   "metadata": {},
   "outputs": [
    {
     "data": {
      "text/html": [
       "<div>\n",
       "<style scoped>\n",
       "    .dataframe tbody tr th:only-of-type {\n",
       "        vertical-align: middle;\n",
       "    }\n",
       "\n",
       "    .dataframe tbody tr th {\n",
       "        vertical-align: top;\n",
       "    }\n",
       "\n",
       "    .dataframe thead th {\n",
       "        text-align: right;\n",
       "    }\n",
       "</style>\n",
       "<table border=\"1\" class=\"dataframe\">\n",
       "  <thead>\n",
       "    <tr style=\"text-align: right;\">\n",
       "      <th></th>\n",
       "      <th>month</th>\n",
       "      <th>record_high</th>\n",
       "    </tr>\n",
       "  </thead>\n",
       "  <tbody>\n",
       "    <tr>\n",
       "      <th>3</th>\n",
       "      <td>Apr</td>\n",
       "      <td>92</td>\n",
       "    </tr>\n",
       "    <tr>\n",
       "      <th>4</th>\n",
       "      <td>May</td>\n",
       "      <td>98</td>\n",
       "    </tr>\n",
       "  </tbody>\n",
       "</table>\n",
       "</div>"
      ],
      "text/plain": [
       "  month  record_high\n",
       "3   Apr           92\n",
       "4   May           98"
      ]
     },
     "execution_count": 159,
     "metadata": {},
     "output_type": "execute_result"
    }
   ],
   "source": [
    "weather.iloc[3:5, [0,3]]"
   ]
  },
  {
   "cell_type": "code",
   "execution_count": 165,
   "id": "676f1cd0",
   "metadata": {},
   "outputs": [
    {
     "data": {
      "text/html": [
       "<div>\n",
       "<style scoped>\n",
       "    .dataframe tbody tr th:only-of-type {\n",
       "        vertical-align: middle;\n",
       "    }\n",
       "\n",
       "    .dataframe tbody tr th {\n",
       "        vertical-align: top;\n",
       "    }\n",
       "\n",
       "    .dataframe thead th {\n",
       "        text-align: right;\n",
       "    }\n",
       "</style>\n",
       "<table border=\"1\" class=\"dataframe\">\n",
       "  <thead>\n",
       "    <tr style=\"text-align: right;\">\n",
       "      <th></th>\n",
       "      <th>month</th>\n",
       "      <th>avg_high</th>\n",
       "      <th>avg_low</th>\n",
       "      <th>record_high</th>\n",
       "      <th>record_low</th>\n",
       "      <th>avg_precipitation</th>\n",
       "    </tr>\n",
       "  </thead>\n",
       "  <tbody>\n",
       "    <tr>\n",
       "      <th>0</th>\n",
       "      <td>Jan</td>\n",
       "      <td>58</td>\n",
       "      <td>42</td>\n",
       "      <td>74</td>\n",
       "      <td>22</td>\n",
       "      <td>2.95</td>\n",
       "    </tr>\n",
       "    <tr>\n",
       "      <th>1</th>\n",
       "      <td>Feb</td>\n",
       "      <td>61</td>\n",
       "      <td>45</td>\n",
       "      <td>78</td>\n",
       "      <td>26</td>\n",
       "      <td>3.02</td>\n",
       "    </tr>\n",
       "    <tr>\n",
       "      <th>2</th>\n",
       "      <td>Mar</td>\n",
       "      <td>65</td>\n",
       "      <td>48</td>\n",
       "      <td>84</td>\n",
       "      <td>25</td>\n",
       "      <td>2.34</td>\n",
       "    </tr>\n",
       "    <tr>\n",
       "      <th>3</th>\n",
       "      <td>Apr</td>\n",
       "      <td>67</td>\n",
       "      <td>50</td>\n",
       "      <td>92</td>\n",
       "      <td>28</td>\n",
       "      <td>1.02</td>\n",
       "    </tr>\n",
       "    <tr>\n",
       "      <th>10</th>\n",
       "      <td>Nov</td>\n",
       "      <td>64</td>\n",
       "      <td>48</td>\n",
       "      <td>84</td>\n",
       "      <td>30</td>\n",
       "      <td>1.70</td>\n",
       "    </tr>\n",
       "    <tr>\n",
       "      <th>11</th>\n",
       "      <td>Dec</td>\n",
       "      <td>58</td>\n",
       "      <td>42</td>\n",
       "      <td>73</td>\n",
       "      <td>21</td>\n",
       "      <td>2.56</td>\n",
       "    </tr>\n",
       "  </tbody>\n",
       "</table>\n",
       "</div>"
      ],
      "text/plain": [
       "   month  avg_high  avg_low  record_high  record_low  avg_precipitation\n",
       "0    Jan        58       42           74          22               2.95\n",
       "1    Feb        61       45           78          26               3.02\n",
       "2    Mar        65       48           84          25               2.34\n",
       "3    Apr        67       50           92          28               1.02\n",
       "10   Nov        64       48           84          30               1.70\n",
       "11   Dec        58       42           73          21               2.56"
      ]
     },
     "execution_count": 165,
     "metadata": {},
     "output_type": "execute_result"
    }
   ],
   "source": [
    "#필터링\n",
    "weather_pre = weather[weather['avg_precipitation'] > 1.0]\n",
    "weather_pre\n",
    "\n"
   ]
  },
  {
   "cell_type": "code",
   "execution_count": 167,
   "id": "30b91e11",
   "metadata": {},
   "outputs": [
    {
     "data": {
      "text/html": [
       "<div>\n",
       "<style scoped>\n",
       "    .dataframe tbody tr th:only-of-type {\n",
       "        vertical-align: middle;\n",
       "    }\n",
       "\n",
       "    .dataframe tbody tr th {\n",
       "        vertical-align: top;\n",
       "    }\n",
       "\n",
       "    .dataframe thead th {\n",
       "        text-align: right;\n",
       "    }\n",
       "</style>\n",
       "<table border=\"1\" class=\"dataframe\">\n",
       "  <thead>\n",
       "    <tr style=\"text-align: right;\">\n",
       "      <th></th>\n",
       "      <th>month</th>\n",
       "      <th>avg_high</th>\n",
       "      <th>avg_low</th>\n",
       "      <th>record_high</th>\n",
       "      <th>record_low</th>\n",
       "      <th>avg_precipitation</th>\n",
       "    </tr>\n",
       "  </thead>\n",
       "  <tbody>\n",
       "    <tr>\n",
       "      <th>5</th>\n",
       "      <td>Jun</td>\n",
       "      <td>75</td>\n",
       "      <td>56</td>\n",
       "      <td>107</td>\n",
       "      <td>41</td>\n",
       "      <td>0.11</td>\n",
       "    </tr>\n",
       "    <tr>\n",
       "      <th>6</th>\n",
       "      <td>Jul</td>\n",
       "      <td>77</td>\n",
       "      <td>58</td>\n",
       "      <td>105</td>\n",
       "      <td>44</td>\n",
       "      <td>0.00</td>\n",
       "    </tr>\n",
       "    <tr>\n",
       "      <th>7</th>\n",
       "      <td>Aug</td>\n",
       "      <td>77</td>\n",
       "      <td>59</td>\n",
       "      <td>102</td>\n",
       "      <td>43</td>\n",
       "      <td>0.03</td>\n",
       "    </tr>\n",
       "  </tbody>\n",
       "</table>\n",
       "</div>"
      ],
      "text/plain": [
       "  month  avg_high  avg_low  record_high  record_low  avg_precipitation\n",
       "5   Jun        75       56          107          41               0.11\n",
       "6   Jul        77       58          105          44               0.00\n",
       "7   Aug        77       59          102          43               0.03"
      ]
     },
     "execution_count": 167,
     "metadata": {},
     "output_type": "execute_result"
    }
   ],
   "source": [
    "weather[weather.month.isin(['Jun', 'Jul', 'Aug'])]"
   ]
  },
  {
   "cell_type": "code",
   "execution_count": 184,
   "id": "735a8916",
   "metadata": {},
   "outputs": [
    {
     "data": {
      "text/html": [
       "<div>\n",
       "<style scoped>\n",
       "    .dataframe tbody tr th:only-of-type {\n",
       "        vertical-align: middle;\n",
       "    }\n",
       "\n",
       "    .dataframe tbody tr th {\n",
       "        vertical-align: top;\n",
       "    }\n",
       "\n",
       "    .dataframe thead th {\n",
       "        text-align: right;\n",
       "    }\n",
       "</style>\n",
       "<table border=\"1\" class=\"dataframe\">\n",
       "  <thead>\n",
       "    <tr style=\"text-align: right;\">\n",
       "      <th></th>\n",
       "      <th>month</th>\n",
       "      <th>avg_high</th>\n",
       "      <th>avg_low</th>\n",
       "      <th>record_high</th>\n",
       "      <th>record_low</th>\n",
       "      <th>avg_precipitation</th>\n",
       "    </tr>\n",
       "  </thead>\n",
       "  <tbody>\n",
       "    <tr>\n",
       "      <th>0</th>\n",
       "      <td>Jan</td>\n",
       "      <td>58</td>\n",
       "      <td>5</td>\n",
       "      <td>74</td>\n",
       "      <td>22</td>\n",
       "      <td>NaN</td>\n",
       "    </tr>\n",
       "    <tr>\n",
       "      <th>1</th>\n",
       "      <td>Feb</td>\n",
       "      <td>61</td>\n",
       "      <td>5</td>\n",
       "      <td>78</td>\n",
       "      <td>26</td>\n",
       "      <td>NaN</td>\n",
       "    </tr>\n",
       "    <tr>\n",
       "      <th>2</th>\n",
       "      <td>Mar</td>\n",
       "      <td>65</td>\n",
       "      <td>5</td>\n",
       "      <td>84</td>\n",
       "      <td>25</td>\n",
       "      <td>NaN</td>\n",
       "    </tr>\n",
       "    <tr>\n",
       "      <th>3</th>\n",
       "      <td>Apr</td>\n",
       "      <td>67</td>\n",
       "      <td>5</td>\n",
       "      <td>92</td>\n",
       "      <td>28</td>\n",
       "      <td>NaN</td>\n",
       "    </tr>\n",
       "    <tr>\n",
       "      <th>4</th>\n",
       "      <td>May</td>\n",
       "      <td>71</td>\n",
       "      <td>5</td>\n",
       "      <td>98</td>\n",
       "      <td>35</td>\n",
       "      <td>NaN</td>\n",
       "    </tr>\n",
       "    <tr>\n",
       "      <th>5</th>\n",
       "      <td>Jun</td>\n",
       "      <td>75</td>\n",
       "      <td>5</td>\n",
       "      <td>107</td>\n",
       "      <td>41</td>\n",
       "      <td>NaN</td>\n",
       "    </tr>\n",
       "    <tr>\n",
       "      <th>6</th>\n",
       "      <td>Jul</td>\n",
       "      <td>77</td>\n",
       "      <td>5</td>\n",
       "      <td>105</td>\n",
       "      <td>44</td>\n",
       "      <td>NaN</td>\n",
       "    </tr>\n",
       "    <tr>\n",
       "      <th>7</th>\n",
       "      <td>Aug</td>\n",
       "      <td>77</td>\n",
       "      <td>5</td>\n",
       "      <td>102</td>\n",
       "      <td>43</td>\n",
       "      <td>NaN</td>\n",
       "    </tr>\n",
       "    <tr>\n",
       "      <th>8</th>\n",
       "      <td>Sep</td>\n",
       "      <td>77</td>\n",
       "      <td>5</td>\n",
       "      <td>103</td>\n",
       "      <td>40</td>\n",
       "      <td>NaN</td>\n",
       "    </tr>\n",
       "    <tr>\n",
       "      <th>9</th>\n",
       "      <td>Oct</td>\n",
       "      <td>73</td>\n",
       "      <td>5</td>\n",
       "      <td>96</td>\n",
       "      <td>34</td>\n",
       "      <td>NaN</td>\n",
       "    </tr>\n",
       "    <tr>\n",
       "      <th>10</th>\n",
       "      <td>Nov</td>\n",
       "      <td>64</td>\n",
       "      <td>5</td>\n",
       "      <td>84</td>\n",
       "      <td>30</td>\n",
       "      <td>NaN</td>\n",
       "    </tr>\n",
       "    <tr>\n",
       "      <th>11</th>\n",
       "      <td>Dec</td>\n",
       "      <td>58</td>\n",
       "      <td>5</td>\n",
       "      <td>73</td>\n",
       "      <td>21</td>\n",
       "      <td>NaN</td>\n",
       "    </tr>\n",
       "  </tbody>\n",
       "</table>\n",
       "</div>"
      ],
      "text/plain": [
       "   month  avg_high  avg_low  record_high  record_low  avg_precipitation\n",
       "0    Jan        58        5           74          22                NaN\n",
       "1    Feb        61        5           78          26                NaN\n",
       "2    Mar        65        5           84          25                NaN\n",
       "3    Apr        67        5           92          28                NaN\n",
       "4    May        71        5           98          35                NaN\n",
       "5    Jun        75        5          107          41                NaN\n",
       "6    Jul        77        5          105          44                NaN\n",
       "7    Aug        77        5          102          43                NaN\n",
       "8    Sep        77        5          103          40                NaN\n",
       "9    Oct        73        5           96          34                NaN\n",
       "10   Nov        64        5           84          30                NaN\n",
       "11   Dec        58        5           73          21                NaN"
      ]
     },
     "execution_count": 184,
     "metadata": {},
     "output_type": "execute_result"
    }
   ],
   "source": [
    "weather"
   ]
  },
  {
   "cell_type": "code",
   "execution_count": 186,
   "id": "bd8b4ba6",
   "metadata": {},
   "outputs": [
    {
     "data": {
      "text/plain": [
       "avg_precipitation    101.3\n",
       "Name: 9, dtype: object"
      ]
     },
     "execution_count": 186,
     "metadata": {},
     "output_type": "execute_result"
    }
   ],
   "source": [
    "weather.loc[9, 'avg_precipitation'] = 101.3\n",
    "weather.loc[9, ['avg_precipitation']]"
   ]
  },
  {
   "cell_type": "code",
   "execution_count": 183,
   "id": "5251e652",
   "metadata": {},
   "outputs": [
    {
     "data": {
      "text/html": [
       "<div>\n",
       "<style scoped>\n",
       "    .dataframe tbody tr th:only-of-type {\n",
       "        vertical-align: middle;\n",
       "    }\n",
       "\n",
       "    .dataframe tbody tr th {\n",
       "        vertical-align: top;\n",
       "    }\n",
       "\n",
       "    .dataframe thead th {\n",
       "        text-align: right;\n",
       "    }\n",
       "</style>\n",
       "<table border=\"1\" class=\"dataframe\">\n",
       "  <thead>\n",
       "    <tr style=\"text-align: right;\">\n",
       "      <th></th>\n",
       "      <th>month</th>\n",
       "      <th>avg_high</th>\n",
       "      <th>avg_low</th>\n",
       "      <th>record_high</th>\n",
       "      <th>record_low</th>\n",
       "      <th>avg_precipitation</th>\n",
       "    </tr>\n",
       "  </thead>\n",
       "  <tbody>\n",
       "    <tr>\n",
       "      <th>0</th>\n",
       "      <td>Jan</td>\n",
       "      <td>58</td>\n",
       "      <td>5</td>\n",
       "      <td>74</td>\n",
       "      <td>22</td>\n",
       "      <td>NaN</td>\n",
       "    </tr>\n",
       "    <tr>\n",
       "      <th>1</th>\n",
       "      <td>Feb</td>\n",
       "      <td>61</td>\n",
       "      <td>5</td>\n",
       "      <td>78</td>\n",
       "      <td>26</td>\n",
       "      <td>NaN</td>\n",
       "    </tr>\n",
       "    <tr>\n",
       "      <th>2</th>\n",
       "      <td>Mar</td>\n",
       "      <td>65</td>\n",
       "      <td>5</td>\n",
       "      <td>84</td>\n",
       "      <td>25</td>\n",
       "      <td>NaN</td>\n",
       "    </tr>\n",
       "    <tr>\n",
       "      <th>3</th>\n",
       "      <td>Apr</td>\n",
       "      <td>67</td>\n",
       "      <td>5</td>\n",
       "      <td>92</td>\n",
       "      <td>28</td>\n",
       "      <td>NaN</td>\n",
       "    </tr>\n",
       "    <tr>\n",
       "      <th>4</th>\n",
       "      <td>May</td>\n",
       "      <td>71</td>\n",
       "      <td>5</td>\n",
       "      <td>98</td>\n",
       "      <td>35</td>\n",
       "      <td>NaN</td>\n",
       "    </tr>\n",
       "    <tr>\n",
       "      <th>5</th>\n",
       "      <td>Jun</td>\n",
       "      <td>75</td>\n",
       "      <td>5</td>\n",
       "      <td>107</td>\n",
       "      <td>41</td>\n",
       "      <td>NaN</td>\n",
       "    </tr>\n",
       "    <tr>\n",
       "      <th>6</th>\n",
       "      <td>Jul</td>\n",
       "      <td>77</td>\n",
       "      <td>5</td>\n",
       "      <td>105</td>\n",
       "      <td>44</td>\n",
       "      <td>NaN</td>\n",
       "    </tr>\n",
       "    <tr>\n",
       "      <th>7</th>\n",
       "      <td>Aug</td>\n",
       "      <td>77</td>\n",
       "      <td>5</td>\n",
       "      <td>102</td>\n",
       "      <td>43</td>\n",
       "      <td>NaN</td>\n",
       "    </tr>\n",
       "    <tr>\n",
       "      <th>8</th>\n",
       "      <td>Sep</td>\n",
       "      <td>77</td>\n",
       "      <td>5</td>\n",
       "      <td>103</td>\n",
       "      <td>40</td>\n",
       "      <td>NaN</td>\n",
       "    </tr>\n",
       "    <tr>\n",
       "      <th>9</th>\n",
       "      <td>Oct</td>\n",
       "      <td>73</td>\n",
       "      <td>5</td>\n",
       "      <td>96</td>\n",
       "      <td>34</td>\n",
       "      <td>NaN</td>\n",
       "    </tr>\n",
       "    <tr>\n",
       "      <th>10</th>\n",
       "      <td>Nov</td>\n",
       "      <td>64</td>\n",
       "      <td>5</td>\n",
       "      <td>84</td>\n",
       "      <td>30</td>\n",
       "      <td>NaN</td>\n",
       "    </tr>\n",
       "    <tr>\n",
       "      <th>11</th>\n",
       "      <td>Dec</td>\n",
       "      <td>58</td>\n",
       "      <td>5</td>\n",
       "      <td>73</td>\n",
       "      <td>21</td>\n",
       "      <td>NaN</td>\n",
       "    </tr>\n",
       "  </tbody>\n",
       "</table>\n",
       "</div>"
      ],
      "text/plain": [
       "   month  avg_high  avg_low  record_high  record_low  avg_precipitation\n",
       "0    Jan        58        5           74          22                NaN\n",
       "1    Feb        61        5           78          26                NaN\n",
       "2    Mar        65        5           84          25                NaN\n",
       "3    Apr        67        5           92          28                NaN\n",
       "4    May        71        5           98          35                NaN\n",
       "5    Jun        75        5          107          41                NaN\n",
       "6    Jul        77        5          105          44                NaN\n",
       "7    Aug        77        5          102          43                NaN\n",
       "8    Sep        77        5          103          40                NaN\n",
       "9    Oct        73        5           96          34                NaN\n",
       "10   Nov        64        5           84          30                NaN\n",
       "11   Dec        58        5           73          21                NaN"
      ]
     },
     "execution_count": 183,
     "metadata": {},
     "output_type": "execute_result"
    }
   ],
   "source": [
    "weather"
   ]
  },
  {
   "cell_type": "code",
   "execution_count": 188,
   "id": "97588086",
   "metadata": {},
   "outputs": [
    {
     "data": {
      "text/html": [
       "<div>\n",
       "<style scoped>\n",
       "    .dataframe tbody tr th:only-of-type {\n",
       "        vertical-align: middle;\n",
       "    }\n",
       "\n",
       "    .dataframe tbody tr th {\n",
       "        vertical-align: top;\n",
       "    }\n",
       "\n",
       "    .dataframe thead th {\n",
       "        text-align: right;\n",
       "    }\n",
       "</style>\n",
       "<table border=\"1\" class=\"dataframe\">\n",
       "  <thead>\n",
       "    <tr style=\"text-align: right;\">\n",
       "      <th></th>\n",
       "      <th>month</th>\n",
       "      <th>avg_high</th>\n",
       "      <th>avg_low</th>\n",
       "      <th>record_high</th>\n",
       "      <th>record_low</th>\n",
       "      <th>avg_precipitation</th>\n",
       "    </tr>\n",
       "  </thead>\n",
       "  <tbody>\n",
       "    <tr>\n",
       "      <th>0</th>\n",
       "      <td>Jan</td>\n",
       "      <td>58</td>\n",
       "      <td>5</td>\n",
       "      <td>74</td>\n",
       "      <td>22</td>\n",
       "      <td>2.95</td>\n",
       "    </tr>\n",
       "    <tr>\n",
       "      <th>1</th>\n",
       "      <td>Feb</td>\n",
       "      <td>61</td>\n",
       "      <td>5</td>\n",
       "      <td>78</td>\n",
       "      <td>26</td>\n",
       "      <td>3.02</td>\n",
       "    </tr>\n",
       "    <tr>\n",
       "      <th>2</th>\n",
       "      <td>Mar</td>\n",
       "      <td>65</td>\n",
       "      <td>5</td>\n",
       "      <td>84</td>\n",
       "      <td>25</td>\n",
       "      <td>2.34</td>\n",
       "    </tr>\n",
       "    <tr>\n",
       "      <th>3</th>\n",
       "      <td>Apr</td>\n",
       "      <td>67</td>\n",
       "      <td>5</td>\n",
       "      <td>92</td>\n",
       "      <td>28</td>\n",
       "      <td>1.02</td>\n",
       "    </tr>\n",
       "    <tr>\n",
       "      <th>4</th>\n",
       "      <td>May</td>\n",
       "      <td>71</td>\n",
       "      <td>5</td>\n",
       "      <td>98</td>\n",
       "      <td>35</td>\n",
       "      <td>0.48</td>\n",
       "    </tr>\n",
       "    <tr>\n",
       "      <th>5</th>\n",
       "      <td>Jun</td>\n",
       "      <td>75</td>\n",
       "      <td>5</td>\n",
       "      <td>107</td>\n",
       "      <td>41</td>\n",
       "      <td>0.11</td>\n",
       "    </tr>\n",
       "    <tr>\n",
       "      <th>6</th>\n",
       "      <td>Jul</td>\n",
       "      <td>77</td>\n",
       "      <td>5</td>\n",
       "      <td>105</td>\n",
       "      <td>44</td>\n",
       "      <td>0.00</td>\n",
       "    </tr>\n",
       "    <tr>\n",
       "      <th>7</th>\n",
       "      <td>Aug</td>\n",
       "      <td>77</td>\n",
       "      <td>5</td>\n",
       "      <td>102</td>\n",
       "      <td>43</td>\n",
       "      <td>0.03</td>\n",
       "    </tr>\n",
       "    <tr>\n",
       "      <th>8</th>\n",
       "      <td>Sep</td>\n",
       "      <td>77</td>\n",
       "      <td>5</td>\n",
       "      <td>103</td>\n",
       "      <td>40</td>\n",
       "      <td>0.17</td>\n",
       "    </tr>\n",
       "    <tr>\n",
       "      <th>9</th>\n",
       "      <td>Oct</td>\n",
       "      <td>73</td>\n",
       "      <td>5</td>\n",
       "      <td>96</td>\n",
       "      <td>34</td>\n",
       "      <td>NaN</td>\n",
       "    </tr>\n",
       "    <tr>\n",
       "      <th>10</th>\n",
       "      <td>Nov</td>\n",
       "      <td>64</td>\n",
       "      <td>5</td>\n",
       "      <td>84</td>\n",
       "      <td>30</td>\n",
       "      <td>1.70</td>\n",
       "    </tr>\n",
       "    <tr>\n",
       "      <th>11</th>\n",
       "      <td>Dec</td>\n",
       "      <td>58</td>\n",
       "      <td>5</td>\n",
       "      <td>73</td>\n",
       "      <td>21</td>\n",
       "      <td>2.56</td>\n",
       "    </tr>\n",
       "  </tbody>\n",
       "</table>\n",
       "</div>"
      ],
      "text/plain": [
       "   month  avg_high  avg_low  record_high  record_low  avg_precipitation\n",
       "0    Jan        58        5           74          22               2.95\n",
       "1    Feb        61        5           78          26               3.02\n",
       "2    Mar        65        5           84          25               2.34\n",
       "3    Apr        67        5           92          28               1.02\n",
       "4    May        71        5           98          35               0.48\n",
       "5    Jun        75        5          107          41               0.11\n",
       "6    Jul        77        5          105          44               0.00\n",
       "7    Aug        77        5          102          43               0.03\n",
       "8    Sep        77        5          103          40               0.17\n",
       "9    Oct        73        5           96          34                NaN\n",
       "10   Nov        64        5           84          30               1.70\n",
       "11   Dec        58        5           73          21               2.56"
      ]
     },
     "execution_count": 188,
     "metadata": {},
     "output_type": "execute_result"
    }
   ],
   "source": [
    "import numpy as np\n",
    "#weather[['avg_precipitation']] = np.nan \n",
    "weather.loc[9, 'avg_precipitation'] = np.nan \n",
    "weather[['avg_low']] = 5 \n",
    "\n",
    "weather"
   ]
  },
  {
   "cell_type": "code",
   "execution_count": 189,
   "id": "6938b701",
   "metadata": {},
   "outputs": [
    {
     "data": {
      "text/plain": [
       "[31.5, 33.0, 35.0, 36.0, 38.0, 40.0, 41.0, 41.0, 41.0, 39.0, 34.5, 31.5]"
      ]
     },
     "execution_count": 189,
     "metadata": {},
     "output_type": "execute_result"
    }
   ],
   "source": [
    "avg_day = [] \n",
    "for i in range(0,12):\n",
    "    avg_day.append((weather['avg_low'][i] + weather['avg_high'][i])/2)\n",
    "avg_day\n",
    "\n",
    "#numpy를 활용한 연산\n",
    "#avg_day = [np.mean(weather['avg_low'][i], weather['avg_high'][i]) for i in range(len(weather[['avg_high']]))]\n",
    "\n",
    "#pandas의 특성을 활용한 풀이\n",
    "# weather['avg_day']  = (weather.avg_low + weather.avg_high )/2"
   ]
  },
  {
   "cell_type": "code",
   "execution_count": 190,
   "id": "4dc8a33a",
   "metadata": {},
   "outputs": [
    {
     "data": {
      "text/html": [
       "<div>\n",
       "<style scoped>\n",
       "    .dataframe tbody tr th:only-of-type {\n",
       "        vertical-align: middle;\n",
       "    }\n",
       "\n",
       "    .dataframe tbody tr th {\n",
       "        vertical-align: top;\n",
       "    }\n",
       "\n",
       "    .dataframe thead th {\n",
       "        text-align: right;\n",
       "    }\n",
       "</style>\n",
       "<table border=\"1\" class=\"dataframe\">\n",
       "  <thead>\n",
       "    <tr style=\"text-align: right;\">\n",
       "      <th></th>\n",
       "      <th>month</th>\n",
       "      <th>avg_high</th>\n",
       "      <th>avg_low</th>\n",
       "      <th>record_high</th>\n",
       "      <th>record_low</th>\n",
       "      <th>avg_precipitation</th>\n",
       "      <th>avg_day</th>\n",
       "    </tr>\n",
       "  </thead>\n",
       "  <tbody>\n",
       "    <tr>\n",
       "      <th>0</th>\n",
       "      <td>Jan</td>\n",
       "      <td>58</td>\n",
       "      <td>5</td>\n",
       "      <td>74</td>\n",
       "      <td>22</td>\n",
       "      <td>2.95</td>\n",
       "      <td>31.5</td>\n",
       "    </tr>\n",
       "    <tr>\n",
       "      <th>1</th>\n",
       "      <td>Feb</td>\n",
       "      <td>61</td>\n",
       "      <td>5</td>\n",
       "      <td>78</td>\n",
       "      <td>26</td>\n",
       "      <td>3.02</td>\n",
       "      <td>33.0</td>\n",
       "    </tr>\n",
       "    <tr>\n",
       "      <th>2</th>\n",
       "      <td>Mar</td>\n",
       "      <td>65</td>\n",
       "      <td>5</td>\n",
       "      <td>84</td>\n",
       "      <td>25</td>\n",
       "      <td>2.34</td>\n",
       "      <td>35.0</td>\n",
       "    </tr>\n",
       "    <tr>\n",
       "      <th>3</th>\n",
       "      <td>Apr</td>\n",
       "      <td>67</td>\n",
       "      <td>5</td>\n",
       "      <td>92</td>\n",
       "      <td>28</td>\n",
       "      <td>1.02</td>\n",
       "      <td>36.0</td>\n",
       "    </tr>\n",
       "    <tr>\n",
       "      <th>4</th>\n",
       "      <td>May</td>\n",
       "      <td>71</td>\n",
       "      <td>5</td>\n",
       "      <td>98</td>\n",
       "      <td>35</td>\n",
       "      <td>0.48</td>\n",
       "      <td>38.0</td>\n",
       "    </tr>\n",
       "    <tr>\n",
       "      <th>5</th>\n",
       "      <td>Jun</td>\n",
       "      <td>75</td>\n",
       "      <td>5</td>\n",
       "      <td>107</td>\n",
       "      <td>41</td>\n",
       "      <td>0.11</td>\n",
       "      <td>40.0</td>\n",
       "    </tr>\n",
       "    <tr>\n",
       "      <th>6</th>\n",
       "      <td>Jul</td>\n",
       "      <td>77</td>\n",
       "      <td>5</td>\n",
       "      <td>105</td>\n",
       "      <td>44</td>\n",
       "      <td>0.00</td>\n",
       "      <td>41.0</td>\n",
       "    </tr>\n",
       "    <tr>\n",
       "      <th>7</th>\n",
       "      <td>Aug</td>\n",
       "      <td>77</td>\n",
       "      <td>5</td>\n",
       "      <td>102</td>\n",
       "      <td>43</td>\n",
       "      <td>0.03</td>\n",
       "      <td>41.0</td>\n",
       "    </tr>\n",
       "    <tr>\n",
       "      <th>8</th>\n",
       "      <td>Sep</td>\n",
       "      <td>77</td>\n",
       "      <td>5</td>\n",
       "      <td>103</td>\n",
       "      <td>40</td>\n",
       "      <td>0.17</td>\n",
       "      <td>41.0</td>\n",
       "    </tr>\n",
       "    <tr>\n",
       "      <th>9</th>\n",
       "      <td>Oct</td>\n",
       "      <td>73</td>\n",
       "      <td>5</td>\n",
       "      <td>96</td>\n",
       "      <td>34</td>\n",
       "      <td>NaN</td>\n",
       "      <td>39.0</td>\n",
       "    </tr>\n",
       "    <tr>\n",
       "      <th>10</th>\n",
       "      <td>Nov</td>\n",
       "      <td>64</td>\n",
       "      <td>5</td>\n",
       "      <td>84</td>\n",
       "      <td>30</td>\n",
       "      <td>1.70</td>\n",
       "      <td>34.5</td>\n",
       "    </tr>\n",
       "    <tr>\n",
       "      <th>11</th>\n",
       "      <td>Dec</td>\n",
       "      <td>58</td>\n",
       "      <td>5</td>\n",
       "      <td>73</td>\n",
       "      <td>21</td>\n",
       "      <td>2.56</td>\n",
       "      <td>31.5</td>\n",
       "    </tr>\n",
       "  </tbody>\n",
       "</table>\n",
       "</div>"
      ],
      "text/plain": [
       "   month  avg_high  avg_low  record_high  record_low  avg_precipitation  \\\n",
       "0    Jan        58        5           74          22               2.95   \n",
       "1    Feb        61        5           78          26               3.02   \n",
       "2    Mar        65        5           84          25               2.34   \n",
       "3    Apr        67        5           92          28               1.02   \n",
       "4    May        71        5           98          35               0.48   \n",
       "5    Jun        75        5          107          41               0.11   \n",
       "6    Jul        77        5          105          44               0.00   \n",
       "7    Aug        77        5          102          43               0.03   \n",
       "8    Sep        77        5          103          40               0.17   \n",
       "9    Oct        73        5           96          34                NaN   \n",
       "10   Nov        64        5           84          30               1.70   \n",
       "11   Dec        58        5           73          21               2.56   \n",
       "\n",
       "    avg_day  \n",
       "0      31.5  \n",
       "1      33.0  \n",
       "2      35.0  \n",
       "3      36.0  \n",
       "4      38.0  \n",
       "5      40.0  \n",
       "6      41.0  \n",
       "7      41.0  \n",
       "8      41.0  \n",
       "9      39.0  \n",
       "10     34.5  \n",
       "11     31.5  "
      ]
     },
     "execution_count": 190,
     "metadata": {},
     "output_type": "execute_result"
    }
   ],
   "source": [
    "# 새로운 colum을 생성 \n",
    "weather[\"avg_day\"] = avg_day\n",
    "weather"
   ]
  },
  {
   "cell_type": "code",
   "execution_count": 191,
   "id": "7792a3bd",
   "metadata": {},
   "outputs": [
    {
     "data": {
      "text/html": [
       "<div>\n",
       "<style scoped>\n",
       "    .dataframe tbody tr th:only-of-type {\n",
       "        vertical-align: middle;\n",
       "    }\n",
       "\n",
       "    .dataframe tbody tr th {\n",
       "        vertical-align: top;\n",
       "    }\n",
       "\n",
       "    .dataframe thead th {\n",
       "        text-align: right;\n",
       "    }\n",
       "</style>\n",
       "<table border=\"1\" class=\"dataframe\">\n",
       "  <thead>\n",
       "    <tr style=\"text-align: right;\">\n",
       "      <th></th>\n",
       "      <th>month</th>\n",
       "      <th>avg_high</th>\n",
       "      <th>avg_low</th>\n",
       "      <th>record_high</th>\n",
       "      <th>record_low</th>\n",
       "      <th>avg_rain</th>\n",
       "      <th>avg_day</th>\n",
       "    </tr>\n",
       "  </thead>\n",
       "  <tbody>\n",
       "    <tr>\n",
       "      <th>0</th>\n",
       "      <td>Jan</td>\n",
       "      <td>58</td>\n",
       "      <td>5</td>\n",
       "      <td>74</td>\n",
       "      <td>22</td>\n",
       "      <td>2.95</td>\n",
       "      <td>31.5</td>\n",
       "    </tr>\n",
       "    <tr>\n",
       "      <th>1</th>\n",
       "      <td>Feb</td>\n",
       "      <td>61</td>\n",
       "      <td>5</td>\n",
       "      <td>78</td>\n",
       "      <td>26</td>\n",
       "      <td>3.02</td>\n",
       "      <td>33.0</td>\n",
       "    </tr>\n",
       "    <tr>\n",
       "      <th>2</th>\n",
       "      <td>Mar</td>\n",
       "      <td>65</td>\n",
       "      <td>5</td>\n",
       "      <td>84</td>\n",
       "      <td>25</td>\n",
       "      <td>2.34</td>\n",
       "      <td>35.0</td>\n",
       "    </tr>\n",
       "    <tr>\n",
       "      <th>3</th>\n",
       "      <td>Apr</td>\n",
       "      <td>67</td>\n",
       "      <td>5</td>\n",
       "      <td>92</td>\n",
       "      <td>28</td>\n",
       "      <td>1.02</td>\n",
       "      <td>36.0</td>\n",
       "    </tr>\n",
       "    <tr>\n",
       "      <th>4</th>\n",
       "      <td>May</td>\n",
       "      <td>71</td>\n",
       "      <td>5</td>\n",
       "      <td>98</td>\n",
       "      <td>35</td>\n",
       "      <td>0.48</td>\n",
       "      <td>38.0</td>\n",
       "    </tr>\n",
       "    <tr>\n",
       "      <th>5</th>\n",
       "      <td>Jun</td>\n",
       "      <td>75</td>\n",
       "      <td>5</td>\n",
       "      <td>107</td>\n",
       "      <td>41</td>\n",
       "      <td>0.11</td>\n",
       "      <td>40.0</td>\n",
       "    </tr>\n",
       "    <tr>\n",
       "      <th>6</th>\n",
       "      <td>Jul</td>\n",
       "      <td>77</td>\n",
       "      <td>5</td>\n",
       "      <td>105</td>\n",
       "      <td>44</td>\n",
       "      <td>0.00</td>\n",
       "      <td>41.0</td>\n",
       "    </tr>\n",
       "    <tr>\n",
       "      <th>7</th>\n",
       "      <td>Aug</td>\n",
       "      <td>77</td>\n",
       "      <td>5</td>\n",
       "      <td>102</td>\n",
       "      <td>43</td>\n",
       "      <td>0.03</td>\n",
       "      <td>41.0</td>\n",
       "    </tr>\n",
       "    <tr>\n",
       "      <th>8</th>\n",
       "      <td>Sep</td>\n",
       "      <td>77</td>\n",
       "      <td>5</td>\n",
       "      <td>103</td>\n",
       "      <td>40</td>\n",
       "      <td>0.17</td>\n",
       "      <td>41.0</td>\n",
       "    </tr>\n",
       "    <tr>\n",
       "      <th>9</th>\n",
       "      <td>Oct</td>\n",
       "      <td>73</td>\n",
       "      <td>5</td>\n",
       "      <td>96</td>\n",
       "      <td>34</td>\n",
       "      <td>NaN</td>\n",
       "      <td>39.0</td>\n",
       "    </tr>\n",
       "    <tr>\n",
       "      <th>10</th>\n",
       "      <td>Nov</td>\n",
       "      <td>64</td>\n",
       "      <td>5</td>\n",
       "      <td>84</td>\n",
       "      <td>30</td>\n",
       "      <td>1.70</td>\n",
       "      <td>34.5</td>\n",
       "    </tr>\n",
       "    <tr>\n",
       "      <th>11</th>\n",
       "      <td>Dec</td>\n",
       "      <td>58</td>\n",
       "      <td>5</td>\n",
       "      <td>73</td>\n",
       "      <td>21</td>\n",
       "      <td>2.56</td>\n",
       "      <td>31.5</td>\n",
       "    </tr>\n",
       "  </tbody>\n",
       "</table>\n",
       "</div>"
      ],
      "text/plain": [
       "   month  avg_high  avg_low  record_high  record_low  avg_rain  avg_day\n",
       "0    Jan        58        5           74          22      2.95     31.5\n",
       "1    Feb        61        5           78          26      3.02     33.0\n",
       "2    Mar        65        5           84          25      2.34     35.0\n",
       "3    Apr        67        5           92          28      1.02     36.0\n",
       "4    May        71        5           98          35      0.48     38.0\n",
       "5    Jun        75        5          107          41      0.11     40.0\n",
       "6    Jul        77        5          105          44      0.00     41.0\n",
       "7    Aug        77        5          102          43      0.03     41.0\n",
       "8    Sep        77        5          103          40      0.17     41.0\n",
       "9    Oct        73        5           96          34       NaN     39.0\n",
       "10   Nov        64        5           84          30      1.70     34.5\n",
       "11   Dec        58        5           73          21      2.56     31.5"
      ]
     },
     "execution_count": 191,
     "metadata": {},
     "output_type": "execute_result"
    }
   ],
   "source": [
    "#컬럼이름 바꾸기 \n",
    "# 컬럼이름 바꾸기\n",
    "# avg_precipitation to avg_rain\n",
    "weather.rename(columns={'avg_precipitation':'avg_rain'}, inplace=True)\n",
    "weather"
   ]
  },
  {
   "cell_type": "code",
   "execution_count": 192,
   "id": "a46bc062",
   "metadata": {},
   "outputs": [
    {
     "data": {
      "text/html": [
       "<div>\n",
       "<style scoped>\n",
       "    .dataframe tbody tr th:only-of-type {\n",
       "        vertical-align: middle;\n",
       "    }\n",
       "\n",
       "    .dataframe tbody tr th {\n",
       "        vertical-align: top;\n",
       "    }\n",
       "\n",
       "    .dataframe thead th {\n",
       "        text-align: right;\n",
       "    }\n",
       "</style>\n",
       "<table border=\"1\" class=\"dataframe\">\n",
       "  <thead>\n",
       "    <tr style=\"text-align: right;\">\n",
       "      <th></th>\n",
       "      <th>month</th>\n",
       "      <th>av_hi</th>\n",
       "      <th>av_lo</th>\n",
       "      <th>rec_hi</th>\n",
       "      <th>rec_lo</th>\n",
       "      <th>av_rain</th>\n",
       "      <th>av_day</th>\n",
       "    </tr>\n",
       "  </thead>\n",
       "  <tbody>\n",
       "    <tr>\n",
       "      <th>0</th>\n",
       "      <td>Jan</td>\n",
       "      <td>58</td>\n",
       "      <td>5</td>\n",
       "      <td>74</td>\n",
       "      <td>22</td>\n",
       "      <td>2.95</td>\n",
       "      <td>31.5</td>\n",
       "    </tr>\n",
       "    <tr>\n",
       "      <th>1</th>\n",
       "      <td>Feb</td>\n",
       "      <td>61</td>\n",
       "      <td>5</td>\n",
       "      <td>78</td>\n",
       "      <td>26</td>\n",
       "      <td>3.02</td>\n",
       "      <td>33.0</td>\n",
       "    </tr>\n",
       "    <tr>\n",
       "      <th>2</th>\n",
       "      <td>Mar</td>\n",
       "      <td>65</td>\n",
       "      <td>5</td>\n",
       "      <td>84</td>\n",
       "      <td>25</td>\n",
       "      <td>2.34</td>\n",
       "      <td>35.0</td>\n",
       "    </tr>\n",
       "    <tr>\n",
       "      <th>3</th>\n",
       "      <td>Apr</td>\n",
       "      <td>67</td>\n",
       "      <td>5</td>\n",
       "      <td>92</td>\n",
       "      <td>28</td>\n",
       "      <td>1.02</td>\n",
       "      <td>36.0</td>\n",
       "    </tr>\n",
       "    <tr>\n",
       "      <th>4</th>\n",
       "      <td>May</td>\n",
       "      <td>71</td>\n",
       "      <td>5</td>\n",
       "      <td>98</td>\n",
       "      <td>35</td>\n",
       "      <td>0.48</td>\n",
       "      <td>38.0</td>\n",
       "    </tr>\n",
       "    <tr>\n",
       "      <th>5</th>\n",
       "      <td>Jun</td>\n",
       "      <td>75</td>\n",
       "      <td>5</td>\n",
       "      <td>107</td>\n",
       "      <td>41</td>\n",
       "      <td>0.11</td>\n",
       "      <td>40.0</td>\n",
       "    </tr>\n",
       "    <tr>\n",
       "      <th>6</th>\n",
       "      <td>Jul</td>\n",
       "      <td>77</td>\n",
       "      <td>5</td>\n",
       "      <td>105</td>\n",
       "      <td>44</td>\n",
       "      <td>0.00</td>\n",
       "      <td>41.0</td>\n",
       "    </tr>\n",
       "    <tr>\n",
       "      <th>7</th>\n",
       "      <td>Aug</td>\n",
       "      <td>77</td>\n",
       "      <td>5</td>\n",
       "      <td>102</td>\n",
       "      <td>43</td>\n",
       "      <td>0.03</td>\n",
       "      <td>41.0</td>\n",
       "    </tr>\n",
       "    <tr>\n",
       "      <th>8</th>\n",
       "      <td>Sep</td>\n",
       "      <td>77</td>\n",
       "      <td>5</td>\n",
       "      <td>103</td>\n",
       "      <td>40</td>\n",
       "      <td>0.17</td>\n",
       "      <td>41.0</td>\n",
       "    </tr>\n",
       "    <tr>\n",
       "      <th>9</th>\n",
       "      <td>Oct</td>\n",
       "      <td>73</td>\n",
       "      <td>5</td>\n",
       "      <td>96</td>\n",
       "      <td>34</td>\n",
       "      <td>NaN</td>\n",
       "      <td>39.0</td>\n",
       "    </tr>\n",
       "    <tr>\n",
       "      <th>10</th>\n",
       "      <td>Nov</td>\n",
       "      <td>64</td>\n",
       "      <td>5</td>\n",
       "      <td>84</td>\n",
       "      <td>30</td>\n",
       "      <td>1.70</td>\n",
       "      <td>34.5</td>\n",
       "    </tr>\n",
       "    <tr>\n",
       "      <th>11</th>\n",
       "      <td>Dec</td>\n",
       "      <td>58</td>\n",
       "      <td>5</td>\n",
       "      <td>73</td>\n",
       "      <td>21</td>\n",
       "      <td>2.56</td>\n",
       "      <td>31.5</td>\n",
       "    </tr>\n",
       "  </tbody>\n",
       "</table>\n",
       "</div>"
      ],
      "text/plain": [
       "   month  av_hi  av_lo  rec_hi  rec_lo  av_rain  av_day\n",
       "0    Jan     58      5      74      22     2.95    31.5\n",
       "1    Feb     61      5      78      26     3.02    33.0\n",
       "2    Mar     65      5      84      25     2.34    35.0\n",
       "3    Apr     67      5      92      28     1.02    36.0\n",
       "4    May     71      5      98      35     0.48    38.0\n",
       "5    Jun     75      5     107      41     0.11    40.0\n",
       "6    Jul     77      5     105      44     0.00    41.0\n",
       "7    Aug     77      5     102      43     0.03    41.0\n",
       "8    Sep     77      5     103      40     0.17    41.0\n",
       "9    Oct     73      5      96      34      NaN    39.0\n",
       "10   Nov     64      5      84      30     1.70    34.5\n",
       "11   Dec     58      5      73      21     2.56    31.5"
      ]
     },
     "execution_count": 192,
     "metadata": {},
     "output_type": "execute_result"
    }
   ],
   "source": [
    "#전체 colum의 이름을 변경하는 경우\n",
    "weather.columns = ['month','av_hi','av_lo','rec_hi','rec_lo','av_rain', 'av_day']\n",
    "weather"
   ]
  },
  {
   "cell_type": "code",
   "execution_count": 193,
   "id": "96db5e33",
   "metadata": {},
   "outputs": [],
   "source": [
    "weather.to_csv('weather.csv')"
   ]
  },
  {
   "cell_type": "code",
   "execution_count": 194,
   "id": "96befaf1",
   "metadata": {
    "scrolled": true
   },
   "outputs": [
    {
     "data": {
      "text/html": [
       "<div>\n",
       "<style scoped>\n",
       "    .dataframe tbody tr th:only-of-type {\n",
       "        vertical-align: middle;\n",
       "    }\n",
       "\n",
       "    .dataframe tbody tr th {\n",
       "        vertical-align: top;\n",
       "    }\n",
       "\n",
       "    .dataframe thead th {\n",
       "        text-align: right;\n",
       "    }\n",
       "</style>\n",
       "<table border=\"1\" class=\"dataframe\">\n",
       "  <thead>\n",
       "    <tr style=\"text-align: right;\">\n",
       "      <th></th>\n",
       "      <th>month</th>\n",
       "      <th>av_hi</th>\n",
       "      <th>av_lo</th>\n",
       "      <th>rec_hi</th>\n",
       "      <th>rec_lo</th>\n",
       "      <th>av_rain</th>\n",
       "      <th>av_day</th>\n",
       "    </tr>\n",
       "  </thead>\n",
       "  <tbody>\n",
       "    <tr>\n",
       "      <th>0</th>\n",
       "      <td>Jan</td>\n",
       "      <td>58</td>\n",
       "      <td>5</td>\n",
       "      <td>74</td>\n",
       "      <td>22</td>\n",
       "      <td>2.95</td>\n",
       "      <td>31.5</td>\n",
       "    </tr>\n",
       "    <tr>\n",
       "      <th>1</th>\n",
       "      <td>Feb</td>\n",
       "      <td>61</td>\n",
       "      <td>5</td>\n",
       "      <td>78</td>\n",
       "      <td>26</td>\n",
       "      <td>3.02</td>\n",
       "      <td>33.0</td>\n",
       "    </tr>\n",
       "    <tr>\n",
       "      <th>2</th>\n",
       "      <td>Mar</td>\n",
       "      <td>65</td>\n",
       "      <td>5</td>\n",
       "      <td>84</td>\n",
       "      <td>25</td>\n",
       "      <td>2.34</td>\n",
       "      <td>35.0</td>\n",
       "    </tr>\n",
       "    <tr>\n",
       "      <th>3</th>\n",
       "      <td>Apr</td>\n",
       "      <td>67</td>\n",
       "      <td>5</td>\n",
       "      <td>92</td>\n",
       "      <td>28</td>\n",
       "      <td>1.02</td>\n",
       "      <td>36.0</td>\n",
       "    </tr>\n",
       "    <tr>\n",
       "      <th>4</th>\n",
       "      <td>May</td>\n",
       "      <td>71</td>\n",
       "      <td>5</td>\n",
       "      <td>98</td>\n",
       "      <td>35</td>\n",
       "      <td>0.48</td>\n",
       "      <td>38.0</td>\n",
       "    </tr>\n",
       "    <tr>\n",
       "      <th>5</th>\n",
       "      <td>Jun</td>\n",
       "      <td>75</td>\n",
       "      <td>5</td>\n",
       "      <td>107</td>\n",
       "      <td>41</td>\n",
       "      <td>0.11</td>\n",
       "      <td>40.0</td>\n",
       "    </tr>\n",
       "    <tr>\n",
       "      <th>6</th>\n",
       "      <td>Jul</td>\n",
       "      <td>77</td>\n",
       "      <td>5</td>\n",
       "      <td>105</td>\n",
       "      <td>44</td>\n",
       "      <td>0.00</td>\n",
       "      <td>41.0</td>\n",
       "    </tr>\n",
       "    <tr>\n",
       "      <th>7</th>\n",
       "      <td>Aug</td>\n",
       "      <td>77</td>\n",
       "      <td>5</td>\n",
       "      <td>102</td>\n",
       "      <td>43</td>\n",
       "      <td>0.03</td>\n",
       "      <td>41.0</td>\n",
       "    </tr>\n",
       "    <tr>\n",
       "      <th>8</th>\n",
       "      <td>Sep</td>\n",
       "      <td>77</td>\n",
       "      <td>5</td>\n",
       "      <td>103</td>\n",
       "      <td>40</td>\n",
       "      <td>0.17</td>\n",
       "      <td>41.0</td>\n",
       "    </tr>\n",
       "    <tr>\n",
       "      <th>9</th>\n",
       "      <td>Oct</td>\n",
       "      <td>73</td>\n",
       "      <td>5</td>\n",
       "      <td>96</td>\n",
       "      <td>34</td>\n",
       "      <td>NaN</td>\n",
       "      <td>39.0</td>\n",
       "    </tr>\n",
       "    <tr>\n",
       "      <th>10</th>\n",
       "      <td>Nov</td>\n",
       "      <td>64</td>\n",
       "      <td>5</td>\n",
       "      <td>84</td>\n",
       "      <td>30</td>\n",
       "      <td>1.70</td>\n",
       "      <td>34.5</td>\n",
       "    </tr>\n",
       "    <tr>\n",
       "      <th>11</th>\n",
       "      <td>Dec</td>\n",
       "      <td>58</td>\n",
       "      <td>5</td>\n",
       "      <td>73</td>\n",
       "      <td>21</td>\n",
       "      <td>2.56</td>\n",
       "      <td>31.5</td>\n",
       "    </tr>\n",
       "  </tbody>\n",
       "</table>\n",
       "</div>"
      ],
      "text/plain": [
       "   month  av_hi  av_lo  rec_hi  rec_lo  av_rain  av_day\n",
       "0    Jan     58      5      74      22     2.95    31.5\n",
       "1    Feb     61      5      78      26     3.02    33.0\n",
       "2    Mar     65      5      84      25     2.34    35.0\n",
       "3    Apr     67      5      92      28     1.02    36.0\n",
       "4    May     71      5      98      35     0.48    38.0\n",
       "5    Jun     75      5     107      41     0.11    40.0\n",
       "6    Jul     77      5     105      44     0.00    41.0\n",
       "7    Aug     77      5     102      43     0.03    41.0\n",
       "8    Sep     77      5     103      40     0.17    41.0\n",
       "9    Oct     73      5      96      34      NaN    39.0\n",
       "10   Nov     64      5      84      30     1.70    34.5\n",
       "11   Dec     58      5      73      21     2.56    31.5"
      ]
     },
     "execution_count": 194,
     "metadata": {},
     "output_type": "execute_result"
    }
   ],
   "source": [
    "weather"
   ]
  },
  {
   "cell_type": "code",
   "execution_count": 197,
   "id": "4002f959",
   "metadata": {},
   "outputs": [
    {
     "name": "stderr",
     "output_type": "stream",
     "text": [
      "C:\\Users\\jangs\\AppData\\Local\\Temp\\ipykernel_18744\\3050404184.py:5: DtypeWarning: Columns (0,3,5,19,20,24,25,26,27,28,36,37,38,39,48) have mixed types. Specify dtype option on import or set low_memory=False.\n",
      "  food = pd.read_csv('en.openfoodfacts.org.products.tsv', delimiter='\\t')\n"
     ]
    }
   ],
   "source": [
    "import os \n",
    "os.chdir('C:\\\\Users\\\\jangs\\\\archive\\\\') # ppth바꾸는 방법 !주의 경로 / -> // 혹은 forward slash사용이 필요!\n",
    "os.getcwd \n",
    "\n",
    "food = pd.read_csv('en.openfoodfacts.org.products.tsv', delimiter='\\t')"
   ]
  },
  {
   "cell_type": "code",
   "execution_count": 198,
   "id": "f763a1f3",
   "metadata": {},
   "outputs": [
    {
     "data": {
      "text/html": [
       "<div>\n",
       "<style scoped>\n",
       "    .dataframe tbody tr th:only-of-type {\n",
       "        vertical-align: middle;\n",
       "    }\n",
       "\n",
       "    .dataframe tbody tr th {\n",
       "        vertical-align: top;\n",
       "    }\n",
       "\n",
       "    .dataframe thead th {\n",
       "        text-align: right;\n",
       "    }\n",
       "</style>\n",
       "<table border=\"1\" class=\"dataframe\">\n",
       "  <thead>\n",
       "    <tr style=\"text-align: right;\">\n",
       "      <th></th>\n",
       "      <th>code</th>\n",
       "      <th>url</th>\n",
       "      <th>creator</th>\n",
       "      <th>created_t</th>\n",
       "      <th>created_datetime</th>\n",
       "      <th>last_modified_t</th>\n",
       "      <th>last_modified_datetime</th>\n",
       "      <th>product_name</th>\n",
       "      <th>generic_name</th>\n",
       "      <th>quantity</th>\n",
       "      <th>...</th>\n",
       "      <th>fruits-vegetables-nuts_100g</th>\n",
       "      <th>fruits-vegetables-nuts-estimate_100g</th>\n",
       "      <th>collagen-meat-protein-ratio_100g</th>\n",
       "      <th>cocoa_100g</th>\n",
       "      <th>chlorophyl_100g</th>\n",
       "      <th>carbon-footprint_100g</th>\n",
       "      <th>nutrition-score-fr_100g</th>\n",
       "      <th>nutrition-score-uk_100g</th>\n",
       "      <th>glycemic-index_100g</th>\n",
       "      <th>water-hardness_100g</th>\n",
       "    </tr>\n",
       "  </thead>\n",
       "  <tbody>\n",
       "    <tr>\n",
       "      <th>0</th>\n",
       "      <td>3087</td>\n",
       "      <td>http://world-en.openfoodfacts.org/product/0000...</td>\n",
       "      <td>openfoodfacts-contributors</td>\n",
       "      <td>1474103866</td>\n",
       "      <td>2016-09-17T09:17:46Z</td>\n",
       "      <td>1474103893</td>\n",
       "      <td>2016-09-17T09:18:13Z</td>\n",
       "      <td>Farine de blé noir</td>\n",
       "      <td>NaN</td>\n",
       "      <td>1kg</td>\n",
       "      <td>...</td>\n",
       "      <td>NaN</td>\n",
       "      <td>NaN</td>\n",
       "      <td>NaN</td>\n",
       "      <td>NaN</td>\n",
       "      <td>NaN</td>\n",
       "      <td>NaN</td>\n",
       "      <td>NaN</td>\n",
       "      <td>NaN</td>\n",
       "      <td>NaN</td>\n",
       "      <td>NaN</td>\n",
       "    </tr>\n",
       "    <tr>\n",
       "      <th>1</th>\n",
       "      <td>4530</td>\n",
       "      <td>http://world-en.openfoodfacts.org/product/0000...</td>\n",
       "      <td>usda-ndb-import</td>\n",
       "      <td>1489069957</td>\n",
       "      <td>2017-03-09T14:32:37Z</td>\n",
       "      <td>1489069957</td>\n",
       "      <td>2017-03-09T14:32:37Z</td>\n",
       "      <td>Banana Chips Sweetened (Whole)</td>\n",
       "      <td>NaN</td>\n",
       "      <td>NaN</td>\n",
       "      <td>...</td>\n",
       "      <td>NaN</td>\n",
       "      <td>NaN</td>\n",
       "      <td>NaN</td>\n",
       "      <td>NaN</td>\n",
       "      <td>NaN</td>\n",
       "      <td>NaN</td>\n",
       "      <td>14.0</td>\n",
       "      <td>14.0</td>\n",
       "      <td>NaN</td>\n",
       "      <td>NaN</td>\n",
       "    </tr>\n",
       "    <tr>\n",
       "      <th>2</th>\n",
       "      <td>4559</td>\n",
       "      <td>http://world-en.openfoodfacts.org/product/0000...</td>\n",
       "      <td>usda-ndb-import</td>\n",
       "      <td>1489069957</td>\n",
       "      <td>2017-03-09T14:32:37Z</td>\n",
       "      <td>1489069957</td>\n",
       "      <td>2017-03-09T14:32:37Z</td>\n",
       "      <td>Peanuts</td>\n",
       "      <td>NaN</td>\n",
       "      <td>NaN</td>\n",
       "      <td>...</td>\n",
       "      <td>NaN</td>\n",
       "      <td>NaN</td>\n",
       "      <td>NaN</td>\n",
       "      <td>NaN</td>\n",
       "      <td>NaN</td>\n",
       "      <td>NaN</td>\n",
       "      <td>0.0</td>\n",
       "      <td>0.0</td>\n",
       "      <td>NaN</td>\n",
       "      <td>NaN</td>\n",
       "    </tr>\n",
       "    <tr>\n",
       "      <th>3</th>\n",
       "      <td>16087</td>\n",
       "      <td>http://world-en.openfoodfacts.org/product/0000...</td>\n",
       "      <td>usda-ndb-import</td>\n",
       "      <td>1489055731</td>\n",
       "      <td>2017-03-09T10:35:31Z</td>\n",
       "      <td>1489055731</td>\n",
       "      <td>2017-03-09T10:35:31Z</td>\n",
       "      <td>Organic Salted Nut Mix</td>\n",
       "      <td>NaN</td>\n",
       "      <td>NaN</td>\n",
       "      <td>...</td>\n",
       "      <td>NaN</td>\n",
       "      <td>NaN</td>\n",
       "      <td>NaN</td>\n",
       "      <td>NaN</td>\n",
       "      <td>NaN</td>\n",
       "      <td>NaN</td>\n",
       "      <td>12.0</td>\n",
       "      <td>12.0</td>\n",
       "      <td>NaN</td>\n",
       "      <td>NaN</td>\n",
       "    </tr>\n",
       "    <tr>\n",
       "      <th>4</th>\n",
       "      <td>16094</td>\n",
       "      <td>http://world-en.openfoodfacts.org/product/0000...</td>\n",
       "      <td>usda-ndb-import</td>\n",
       "      <td>1489055653</td>\n",
       "      <td>2017-03-09T10:34:13Z</td>\n",
       "      <td>1489055653</td>\n",
       "      <td>2017-03-09T10:34:13Z</td>\n",
       "      <td>Organic Polenta</td>\n",
       "      <td>NaN</td>\n",
       "      <td>NaN</td>\n",
       "      <td>...</td>\n",
       "      <td>NaN</td>\n",
       "      <td>NaN</td>\n",
       "      <td>NaN</td>\n",
       "      <td>NaN</td>\n",
       "      <td>NaN</td>\n",
       "      <td>NaN</td>\n",
       "      <td>NaN</td>\n",
       "      <td>NaN</td>\n",
       "      <td>NaN</td>\n",
       "      <td>NaN</td>\n",
       "    </tr>\n",
       "  </tbody>\n",
       "</table>\n",
       "<p>5 rows × 163 columns</p>\n",
       "</div>"
      ],
      "text/plain": [
       "    code                                                url  \\\n",
       "0   3087  http://world-en.openfoodfacts.org/product/0000...   \n",
       "1   4530  http://world-en.openfoodfacts.org/product/0000...   \n",
       "2   4559  http://world-en.openfoodfacts.org/product/0000...   \n",
       "3  16087  http://world-en.openfoodfacts.org/product/0000...   \n",
       "4  16094  http://world-en.openfoodfacts.org/product/0000...   \n",
       "\n",
       "                      creator   created_t      created_datetime  \\\n",
       "0  openfoodfacts-contributors  1474103866  2016-09-17T09:17:46Z   \n",
       "1             usda-ndb-import  1489069957  2017-03-09T14:32:37Z   \n",
       "2             usda-ndb-import  1489069957  2017-03-09T14:32:37Z   \n",
       "3             usda-ndb-import  1489055731  2017-03-09T10:35:31Z   \n",
       "4             usda-ndb-import  1489055653  2017-03-09T10:34:13Z   \n",
       "\n",
       "  last_modified_t last_modified_datetime                    product_name  \\\n",
       "0      1474103893   2016-09-17T09:18:13Z              Farine de blé noir   \n",
       "1      1489069957   2017-03-09T14:32:37Z  Banana Chips Sweetened (Whole)   \n",
       "2      1489069957   2017-03-09T14:32:37Z                         Peanuts   \n",
       "3      1489055731   2017-03-09T10:35:31Z          Organic Salted Nut Mix   \n",
       "4      1489055653   2017-03-09T10:34:13Z                 Organic Polenta   \n",
       "\n",
       "  generic_name quantity  ... fruits-vegetables-nuts_100g  \\\n",
       "0          NaN      1kg  ...                         NaN   \n",
       "1          NaN      NaN  ...                         NaN   \n",
       "2          NaN      NaN  ...                         NaN   \n",
       "3          NaN      NaN  ...                         NaN   \n",
       "4          NaN      NaN  ...                         NaN   \n",
       "\n",
       "  fruits-vegetables-nuts-estimate_100g collagen-meat-protein-ratio_100g  \\\n",
       "0                                  NaN                              NaN   \n",
       "1                                  NaN                              NaN   \n",
       "2                                  NaN                              NaN   \n",
       "3                                  NaN                              NaN   \n",
       "4                                  NaN                              NaN   \n",
       "\n",
       "  cocoa_100g chlorophyl_100g carbon-footprint_100g nutrition-score-fr_100g  \\\n",
       "0        NaN             NaN                   NaN                     NaN   \n",
       "1        NaN             NaN                   NaN                    14.0   \n",
       "2        NaN             NaN                   NaN                     0.0   \n",
       "3        NaN             NaN                   NaN                    12.0   \n",
       "4        NaN             NaN                   NaN                     NaN   \n",
       "\n",
       "  nutrition-score-uk_100g glycemic-index_100g water-hardness_100g  \n",
       "0                     NaN                 NaN                 NaN  \n",
       "1                    14.0                 NaN                 NaN  \n",
       "2                     0.0                 NaN                 NaN  \n",
       "3                    12.0                 NaN                 NaN  \n",
       "4                     NaN                 NaN                 NaN  \n",
       "\n",
       "[5 rows x 163 columns]"
      ]
     },
     "execution_count": 198,
     "metadata": {},
     "output_type": "execute_result"
    }
   ],
   "source": [
    "food.head()"
   ]
  },
  {
   "cell_type": "code",
   "execution_count": 200,
   "id": "3bacd3c6",
   "metadata": {},
   "outputs": [
    {
     "data": {
      "text/plain": [
       "356027"
      ]
     },
     "execution_count": 200,
     "metadata": {},
     "output_type": "execute_result"
    }
   ],
   "source": [
    "len(food)"
   ]
  },
  {
   "cell_type": "code",
   "execution_count": 202,
   "id": "0be92cb9",
   "metadata": {},
   "outputs": [
    {
     "data": {
      "text/plain": [
       "58032401"
      ]
     },
     "execution_count": 202,
     "metadata": {},
     "output_type": "execute_result"
    }
   ],
   "source": [
    "food.size"
   ]
  },
  {
   "cell_type": "code",
   "execution_count": 206,
   "id": "8b58c621",
   "metadata": {},
   "outputs": [
    {
     "data": {
      "text/plain": [
       "163"
      ]
     },
     "execution_count": 206,
     "metadata": {},
     "output_type": "execute_result"
    }
   ],
   "source": [
    "food.shape[1]"
   ]
  },
  {
   "cell_type": "code",
   "execution_count": 207,
   "id": "8168bee2",
   "metadata": {},
   "outputs": [
    {
     "data": {
      "text/plain": [
       "163"
      ]
     },
     "execution_count": 207,
     "metadata": {},
     "output_type": "execute_result"
    }
   ],
   "source": [
    "len(food.columns)"
   ]
  },
  {
   "cell_type": "code",
   "execution_count": 209,
   "id": "2c626eca",
   "metadata": {},
   "outputs": [
    {
     "data": {
      "text/plain": [
       "'-glucose_100g'"
      ]
     },
     "execution_count": 209,
     "metadata": {},
     "output_type": "execute_result"
    }
   ],
   "source": [
    "food.columns[104]"
   ]
  },
  {
   "cell_type": "code",
   "execution_count": 220,
   "id": "b9d83268",
   "metadata": {},
   "outputs": [
    {
     "data": {
      "text/plain": [
       "dtype('float64')"
      ]
     },
     "execution_count": 220,
     "metadata": {},
     "output_type": "execute_result"
    }
   ],
   "source": [
    "#105번째 컬럼의 데이터 타입\n",
    "food.iloc[:,104].dtypes"
   ]
  },
  {
   "cell_type": "code",
   "execution_count": 222,
   "id": "f3f2f59d",
   "metadata": {},
   "outputs": [
    {
     "data": {
      "text/plain": [
       "dtype('float64')"
      ]
     },
     "execution_count": 222,
     "metadata": {},
     "output_type": "execute_result"
    }
   ],
   "source": [
    "food.dtypes[104]"
   ]
  },
  {
   "cell_type": "code",
   "execution_count": 231,
   "id": "3393f327",
   "metadata": {},
   "outputs": [
    {
     "data": {
      "text/plain": [
       "'Lotus Organic Brown Jasmine Rice'"
      ]
     },
     "execution_count": 231,
     "metadata": {},
     "output_type": "execute_result"
    }
   ],
   "source": [
    "#food.loc[18,'product_name']\n",
    "food.iloc[18, 7]\n",
    "#food.columns.get_loc('product_name') == 7"
   ]
  },
  {
   "cell_type": "code",
   "execution_count": 1,
   "id": "0819fd5a",
   "metadata": {},
   "outputs": [],
   "source": [
    "#import chipo dataset\n",
    "import pandas as pd\n",
    "import os\n",
    "os.chdir('C:\\\\Users\\\\jangs\\\\archive\\\\')\n",
    "chipo = pd.read_excel('chipotle.xlsx')"
   ]
  },
  {
   "cell_type": "code",
   "execution_count": 4,
   "id": "15b7f86e",
   "metadata": {},
   "outputs": [
    {
     "data": {
      "text/html": [
       "<div>\n",
       "<style scoped>\n",
       "    .dataframe tbody tr th:only-of-type {\n",
       "        vertical-align: middle;\n",
       "    }\n",
       "\n",
       "    .dataframe tbody tr th {\n",
       "        vertical-align: top;\n",
       "    }\n",
       "\n",
       "    .dataframe thead th {\n",
       "        text-align: right;\n",
       "    }\n",
       "</style>\n",
       "<table border=\"1\" class=\"dataframe\">\n",
       "  <thead>\n",
       "    <tr style=\"text-align: right;\">\n",
       "      <th></th>\n",
       "      <th>order_id</th>\n",
       "      <th>quantity</th>\n",
       "      <th>item_name</th>\n",
       "      <th>choice_description</th>\n",
       "      <th>item_price</th>\n",
       "    </tr>\n",
       "  </thead>\n",
       "  <tbody>\n",
       "    <tr>\n",
       "      <th>0</th>\n",
       "      <td>1</td>\n",
       "      <td>1</td>\n",
       "      <td>Chips and Fresh Tomato Salsa</td>\n",
       "      <td>NaN</td>\n",
       "      <td>2.39</td>\n",
       "    </tr>\n",
       "    <tr>\n",
       "      <th>1</th>\n",
       "      <td>1</td>\n",
       "      <td>1</td>\n",
       "      <td>Izze</td>\n",
       "      <td>[Clementine]</td>\n",
       "      <td>3.39</td>\n",
       "    </tr>\n",
       "    <tr>\n",
       "      <th>2</th>\n",
       "      <td>1</td>\n",
       "      <td>1</td>\n",
       "      <td>Nantucket Nectar</td>\n",
       "      <td>[Apple]</td>\n",
       "      <td>3.39</td>\n",
       "    </tr>\n",
       "    <tr>\n",
       "      <th>3</th>\n",
       "      <td>1</td>\n",
       "      <td>1</td>\n",
       "      <td>Chips and Tomatillo-Green Chili Salsa</td>\n",
       "      <td>NaN</td>\n",
       "      <td>2.39</td>\n",
       "    </tr>\n",
       "    <tr>\n",
       "      <th>4</th>\n",
       "      <td>2</td>\n",
       "      <td>2</td>\n",
       "      <td>Chicken Bowl</td>\n",
       "      <td>[Tomatillo-Red Chili Salsa (Hot), [Black Beans...</td>\n",
       "      <td>16.98</td>\n",
       "    </tr>\n",
       "    <tr>\n",
       "      <th>5</th>\n",
       "      <td>3</td>\n",
       "      <td>1</td>\n",
       "      <td>Chicken Bowl</td>\n",
       "      <td>[Fresh Tomato Salsa (Mild), [Rice, Cheese, Sou...</td>\n",
       "      <td>10.98</td>\n",
       "    </tr>\n",
       "    <tr>\n",
       "      <th>6</th>\n",
       "      <td>3</td>\n",
       "      <td>1</td>\n",
       "      <td>Side of Chips</td>\n",
       "      <td>NaN</td>\n",
       "      <td>1.69</td>\n",
       "    </tr>\n",
       "    <tr>\n",
       "      <th>7</th>\n",
       "      <td>4</td>\n",
       "      <td>1</td>\n",
       "      <td>Steak Burrito</td>\n",
       "      <td>[Tomatillo Red Chili Salsa, [Fajita Vegetables...</td>\n",
       "      <td>11.75</td>\n",
       "    </tr>\n",
       "    <tr>\n",
       "      <th>8</th>\n",
       "      <td>4</td>\n",
       "      <td>1</td>\n",
       "      <td>Steak Soft Tacos</td>\n",
       "      <td>[Tomatillo Green Chili Salsa, [Pinto Beans, Ch...</td>\n",
       "      <td>9.25</td>\n",
       "    </tr>\n",
       "    <tr>\n",
       "      <th>9</th>\n",
       "      <td>5</td>\n",
       "      <td>1</td>\n",
       "      <td>Steak Burrito</td>\n",
       "      <td>[Fresh Tomato Salsa, [Rice, Black Beans, Pinto...</td>\n",
       "      <td>9.25</td>\n",
       "    </tr>\n",
       "  </tbody>\n",
       "</table>\n",
       "</div>"
      ],
      "text/plain": [
       "   order_id  quantity                              item_name  \\\n",
       "0         1         1           Chips and Fresh Tomato Salsa   \n",
       "1         1         1                                   Izze   \n",
       "2         1         1                       Nantucket Nectar   \n",
       "3         1         1  Chips and Tomatillo-Green Chili Salsa   \n",
       "4         2         2                           Chicken Bowl   \n",
       "5         3         1                           Chicken Bowl   \n",
       "6         3         1                          Side of Chips   \n",
       "7         4         1                          Steak Burrito   \n",
       "8         4         1                       Steak Soft Tacos   \n",
       "9         5         1                          Steak Burrito   \n",
       "\n",
       "                                  choice_description  item_price  \n",
       "0                                                NaN        2.39  \n",
       "1                                       [Clementine]        3.39  \n",
       "2                                            [Apple]        3.39  \n",
       "3                                                NaN        2.39  \n",
       "4  [Tomatillo-Red Chili Salsa (Hot), [Black Beans...       16.98  \n",
       "5  [Fresh Tomato Salsa (Mild), [Rice, Cheese, Sou...       10.98  \n",
       "6                                                NaN        1.69  \n",
       "7  [Tomatillo Red Chili Salsa, [Fajita Vegetables...       11.75  \n",
       "8  [Tomatillo Green Chili Salsa, [Pinto Beans, Ch...        9.25  \n",
       "9  [Fresh Tomato Salsa, [Rice, Black Beans, Pinto...        9.25  "
      ]
     },
     "execution_count": 4,
     "metadata": {},
     "output_type": "execute_result"
    }
   ],
   "source": [
    "chipo.head(10)"
   ]
  },
  {
   "cell_type": "code",
   "execution_count": 5,
   "id": "6d5be960",
   "metadata": {},
   "outputs": [
    {
     "data": {
      "text/plain": [
       "(4622, 5)"
      ]
     },
     "execution_count": 5,
     "metadata": {},
     "output_type": "execute_result"
    }
   ],
   "source": [
    "#관측치 갯수\n",
    "chipo.shape"
   ]
  },
  {
   "cell_type": "code",
   "execution_count": 7,
   "id": "2a74b103",
   "metadata": {},
   "outputs": [
    {
     "data": {
      "text/plain": [
       "Index(['order_id', 'quantity', 'item_name', 'choice_description',\n",
       "       'item_price'],\n",
       "      dtype='object')"
      ]
     },
     "execution_count": 7,
     "metadata": {},
     "output_type": "execute_result"
    }
   ],
   "source": [
    "chipo.columns"
   ]
  },
  {
   "cell_type": "code",
   "execution_count": 8,
   "id": "9537ee8b",
   "metadata": {},
   "outputs": [
    {
     "data": {
      "text/plain": [
       "RangeIndex(start=0, stop=4622, step=1)"
      ]
     },
     "execution_count": 8,
     "metadata": {},
     "output_type": "execute_result"
    }
   ],
   "source": [
    "chipo.index"
   ]
  },
  {
   "cell_type": "code",
   "execution_count": 24,
   "id": "5d81b05f",
   "metadata": {},
   "outputs": [
    {
     "data": {
      "text/plain": [
       "4972"
      ]
     },
     "execution_count": 24,
     "metadata": {},
     "output_type": "execute_result"
    }
   ],
   "source": [
    "#chipo.quantity[0:10].sum()\n",
    "chipo.quantity.sum()"
   ]
  },
  {
   "cell_type": "code",
   "execution_count": 25,
   "id": "f1215e83",
   "metadata": {},
   "outputs": [],
   "source": [
    "chipo['income'] = (chipo.quantity * chipo.item_price)"
   ]
  },
  {
   "cell_type": "code",
   "execution_count": 26,
   "id": "5434fd8a",
   "metadata": {},
   "outputs": [
    {
     "data": {
      "text/plain": [
       "39237.02"
      ]
     },
     "execution_count": 26,
     "metadata": {},
     "output_type": "execute_result"
    }
   ],
   "source": [
    "chipo.income.sum()"
   ]
  },
  {
   "cell_type": "code",
   "execution_count": 27,
   "id": "7557b6f8",
   "metadata": {},
   "outputs": [
    {
     "data": {
      "text/html": [
       "<div>\n",
       "<style scoped>\n",
       "    .dataframe tbody tr th:only-of-type {\n",
       "        vertical-align: middle;\n",
       "    }\n",
       "\n",
       "    .dataframe tbody tr th {\n",
       "        vertical-align: top;\n",
       "    }\n",
       "\n",
       "    .dataframe thead th {\n",
       "        text-align: right;\n",
       "    }\n",
       "</style>\n",
       "<table border=\"1\" class=\"dataframe\">\n",
       "  <thead>\n",
       "    <tr style=\"text-align: right;\">\n",
       "      <th></th>\n",
       "      <th>order_id</th>\n",
       "      <th>quantity</th>\n",
       "      <th>item_name</th>\n",
       "      <th>choice_description</th>\n",
       "      <th>item_price</th>\n",
       "      <th>income</th>\n",
       "    </tr>\n",
       "  </thead>\n",
       "  <tbody>\n",
       "    <tr>\n",
       "      <th>0</th>\n",
       "      <td>1</td>\n",
       "      <td>1</td>\n",
       "      <td>Chips and Fresh Tomato Salsa</td>\n",
       "      <td>NaN</td>\n",
       "      <td>2.39</td>\n",
       "      <td>2.39</td>\n",
       "    </tr>\n",
       "    <tr>\n",
       "      <th>1</th>\n",
       "      <td>1</td>\n",
       "      <td>1</td>\n",
       "      <td>Izze</td>\n",
       "      <td>[Clementine]</td>\n",
       "      <td>3.39</td>\n",
       "      <td>3.39</td>\n",
       "    </tr>\n",
       "    <tr>\n",
       "      <th>2</th>\n",
       "      <td>1</td>\n",
       "      <td>1</td>\n",
       "      <td>Nantucket Nectar</td>\n",
       "      <td>[Apple]</td>\n",
       "      <td>3.39</td>\n",
       "      <td>3.39</td>\n",
       "    </tr>\n",
       "    <tr>\n",
       "      <th>3</th>\n",
       "      <td>1</td>\n",
       "      <td>1</td>\n",
       "      <td>Chips and Tomatillo-Green Chili Salsa</td>\n",
       "      <td>NaN</td>\n",
       "      <td>2.39</td>\n",
       "      <td>2.39</td>\n",
       "    </tr>\n",
       "    <tr>\n",
       "      <th>4</th>\n",
       "      <td>2</td>\n",
       "      <td>2</td>\n",
       "      <td>Chicken Bowl</td>\n",
       "      <td>[Tomatillo-Red Chili Salsa (Hot), [Black Beans...</td>\n",
       "      <td>16.98</td>\n",
       "      <td>33.96</td>\n",
       "    </tr>\n",
       "    <tr>\n",
       "      <th>...</th>\n",
       "      <td>...</td>\n",
       "      <td>...</td>\n",
       "      <td>...</td>\n",
       "      <td>...</td>\n",
       "      <td>...</td>\n",
       "      <td>...</td>\n",
       "    </tr>\n",
       "    <tr>\n",
       "      <th>4617</th>\n",
       "      <td>1833</td>\n",
       "      <td>1</td>\n",
       "      <td>Steak Burrito</td>\n",
       "      <td>[Fresh Tomato Salsa, [Rice, Black Beans, Sour ...</td>\n",
       "      <td>11.75</td>\n",
       "      <td>11.75</td>\n",
       "    </tr>\n",
       "    <tr>\n",
       "      <th>4618</th>\n",
       "      <td>1833</td>\n",
       "      <td>1</td>\n",
       "      <td>Steak Burrito</td>\n",
       "      <td>[Fresh Tomato Salsa, [Rice, Sour Cream, Cheese...</td>\n",
       "      <td>11.75</td>\n",
       "      <td>11.75</td>\n",
       "    </tr>\n",
       "    <tr>\n",
       "      <th>4619</th>\n",
       "      <td>1834</td>\n",
       "      <td>1</td>\n",
       "      <td>Chicken Salad Bowl</td>\n",
       "      <td>[Fresh Tomato Salsa, [Fajita Vegetables, Pinto...</td>\n",
       "      <td>11.25</td>\n",
       "      <td>11.25</td>\n",
       "    </tr>\n",
       "    <tr>\n",
       "      <th>4620</th>\n",
       "      <td>1834</td>\n",
       "      <td>1</td>\n",
       "      <td>Chicken Salad Bowl</td>\n",
       "      <td>[Fresh Tomato Salsa, [Fajita Vegetables, Lettu...</td>\n",
       "      <td>8.75</td>\n",
       "      <td>8.75</td>\n",
       "    </tr>\n",
       "    <tr>\n",
       "      <th>4621</th>\n",
       "      <td>1834</td>\n",
       "      <td>1</td>\n",
       "      <td>Chicken Salad Bowl</td>\n",
       "      <td>[Fresh Tomato Salsa, [Fajita Vegetables, Pinto...</td>\n",
       "      <td>8.75</td>\n",
       "      <td>8.75</td>\n",
       "    </tr>\n",
       "  </tbody>\n",
       "</table>\n",
       "<p>4622 rows × 6 columns</p>\n",
       "</div>"
      ],
      "text/plain": [
       "      order_id  quantity                              item_name  \\\n",
       "0            1         1           Chips and Fresh Tomato Salsa   \n",
       "1            1         1                                   Izze   \n",
       "2            1         1                       Nantucket Nectar   \n",
       "3            1         1  Chips and Tomatillo-Green Chili Salsa   \n",
       "4            2         2                           Chicken Bowl   \n",
       "...        ...       ...                                    ...   \n",
       "4617      1833         1                          Steak Burrito   \n",
       "4618      1833         1                          Steak Burrito   \n",
       "4619      1834         1                     Chicken Salad Bowl   \n",
       "4620      1834         1                     Chicken Salad Bowl   \n",
       "4621      1834         1                     Chicken Salad Bowl   \n",
       "\n",
       "                                     choice_description  item_price  income  \n",
       "0                                                   NaN        2.39    2.39  \n",
       "1                                          [Clementine]        3.39    3.39  \n",
       "2                                               [Apple]        3.39    3.39  \n",
       "3                                                   NaN        2.39    2.39  \n",
       "4     [Tomatillo-Red Chili Salsa (Hot), [Black Beans...       16.98   33.96  \n",
       "...                                                 ...         ...     ...  \n",
       "4617  [Fresh Tomato Salsa, [Rice, Black Beans, Sour ...       11.75   11.75  \n",
       "4618  [Fresh Tomato Salsa, [Rice, Sour Cream, Cheese...       11.75   11.75  \n",
       "4619  [Fresh Tomato Salsa, [Fajita Vegetables, Pinto...       11.25   11.25  \n",
       "4620  [Fresh Tomato Salsa, [Fajita Vegetables, Lettu...        8.75    8.75  \n",
       "4621  [Fresh Tomato Salsa, [Fajita Vegetables, Pinto...        8.75    8.75  \n",
       "\n",
       "[4622 rows x 6 columns]"
      ]
     },
     "execution_count": 27,
     "metadata": {},
     "output_type": "execute_result"
    }
   ],
   "source": [
    "chipo"
   ]
  },
  {
   "cell_type": "code",
   "execution_count": 28,
   "id": "06800622",
   "metadata": {},
   "outputs": [],
   "source": [
    "chipo.to_excel('chipotle.xlsx')"
   ]
  },
  {
   "cell_type": "code",
   "execution_count": 1,
   "id": "59c5eb7f",
   "metadata": {},
   "outputs": [
    {
     "data": {
      "text/plain": [
       "5"
      ]
     },
     "execution_count": 1,
     "metadata": {},
     "output_type": "execute_result"
    }
   ],
   "source": [
    "import pandas as pd\n",
    "user = pd.read_csv('occupation.txt', delimiter='|')\n",
    "# user\n",
    "\n",
    "# Display the first 25 rows. 처음 25줄\n",
    "user.head(25)\n",
    "\n",
    "# Display the last 10 rows. 마지막 10줄\n",
    "user.tail(10)\n",
    "\n",
    "# What is the number of observations in the dataset? 관측치의 수\n",
    "user.shape[0]\n",
    "len(user.index)\n",
    "\n",
    "# What is the number of columns in the dataset? 컬럼의 수\n",
    "user.shape[1]\n",
    "len(user.columns)"
   ]
  },
  {
   "cell_type": "code",
   "execution_count": 2,
   "id": "52121daa",
   "metadata": {},
   "outputs": [
    {
     "data": {
      "text/html": [
       "<div>\n",
       "<style scoped>\n",
       "    .dataframe tbody tr th:only-of-type {\n",
       "        vertical-align: middle;\n",
       "    }\n",
       "\n",
       "    .dataframe tbody tr th {\n",
       "        vertical-align: top;\n",
       "    }\n",
       "\n",
       "    .dataframe thead th {\n",
       "        text-align: right;\n",
       "    }\n",
       "</style>\n",
       "<table border=\"1\" class=\"dataframe\">\n",
       "  <thead>\n",
       "    <tr style=\"text-align: right;\">\n",
       "      <th></th>\n",
       "      <th>user_id</th>\n",
       "      <th>age</th>\n",
       "      <th>gender</th>\n",
       "      <th>occupation</th>\n",
       "      <th>zip_code</th>\n",
       "    </tr>\n",
       "  </thead>\n",
       "  <tbody>\n",
       "    <tr>\n",
       "      <th>0</th>\n",
       "      <td>1</td>\n",
       "      <td>24</td>\n",
       "      <td>M</td>\n",
       "      <td>technician</td>\n",
       "      <td>85711</td>\n",
       "    </tr>\n",
       "    <tr>\n",
       "      <th>1</th>\n",
       "      <td>2</td>\n",
       "      <td>53</td>\n",
       "      <td>F</td>\n",
       "      <td>other</td>\n",
       "      <td>94043</td>\n",
       "    </tr>\n",
       "    <tr>\n",
       "      <th>2</th>\n",
       "      <td>3</td>\n",
       "      <td>23</td>\n",
       "      <td>M</td>\n",
       "      <td>writer</td>\n",
       "      <td>32067</td>\n",
       "    </tr>\n",
       "    <tr>\n",
       "      <th>3</th>\n",
       "      <td>4</td>\n",
       "      <td>24</td>\n",
       "      <td>M</td>\n",
       "      <td>technician</td>\n",
       "      <td>43537</td>\n",
       "    </tr>\n",
       "    <tr>\n",
       "      <th>4</th>\n",
       "      <td>5</td>\n",
       "      <td>33</td>\n",
       "      <td>F</td>\n",
       "      <td>other</td>\n",
       "      <td>15213</td>\n",
       "    </tr>\n",
       "    <tr>\n",
       "      <th>...</th>\n",
       "      <td>...</td>\n",
       "      <td>...</td>\n",
       "      <td>...</td>\n",
       "      <td>...</td>\n",
       "      <td>...</td>\n",
       "    </tr>\n",
       "    <tr>\n",
       "      <th>938</th>\n",
       "      <td>939</td>\n",
       "      <td>26</td>\n",
       "      <td>F</td>\n",
       "      <td>student</td>\n",
       "      <td>33319</td>\n",
       "    </tr>\n",
       "    <tr>\n",
       "      <th>939</th>\n",
       "      <td>940</td>\n",
       "      <td>32</td>\n",
       "      <td>M</td>\n",
       "      <td>administrator</td>\n",
       "      <td>02215</td>\n",
       "    </tr>\n",
       "    <tr>\n",
       "      <th>940</th>\n",
       "      <td>941</td>\n",
       "      <td>20</td>\n",
       "      <td>M</td>\n",
       "      <td>student</td>\n",
       "      <td>97229</td>\n",
       "    </tr>\n",
       "    <tr>\n",
       "      <th>941</th>\n",
       "      <td>942</td>\n",
       "      <td>48</td>\n",
       "      <td>F</td>\n",
       "      <td>librarian</td>\n",
       "      <td>78209</td>\n",
       "    </tr>\n",
       "    <tr>\n",
       "      <th>942</th>\n",
       "      <td>943</td>\n",
       "      <td>22</td>\n",
       "      <td>M</td>\n",
       "      <td>student</td>\n",
       "      <td>77841</td>\n",
       "    </tr>\n",
       "  </tbody>\n",
       "</table>\n",
       "<p>943 rows × 5 columns</p>\n",
       "</div>"
      ],
      "text/plain": [
       "     user_id  age gender     occupation zip_code\n",
       "0          1   24      M     technician    85711\n",
       "1          2   53      F          other    94043\n",
       "2          3   23      M         writer    32067\n",
       "3          4   24      M     technician    43537\n",
       "4          5   33      F          other    15213\n",
       "..       ...  ...    ...            ...      ...\n",
       "938      939   26      F        student    33319\n",
       "939      940   32      M  administrator    02215\n",
       "940      941   20      M        student    97229\n",
       "941      942   48      F      librarian    78209\n",
       "942      943   22      M        student    77841\n",
       "\n",
       "[943 rows x 5 columns]"
      ]
     },
     "execution_count": 2,
     "metadata": {},
     "output_type": "execute_result"
    }
   ],
   "source": [
    "user"
   ]
  },
  {
   "cell_type": "code",
   "execution_count": 7,
   "id": "b825798f",
   "metadata": {
    "scrolled": true
   },
   "outputs": [
    {
     "data": {
      "text/plain": [
       "0         technician\n",
       "1              other\n",
       "2             writer\n",
       "3         technician\n",
       "4              other\n",
       "           ...      \n",
       "938          student\n",
       "939    administrator\n",
       "940          student\n",
       "941        librarian\n",
       "942          student\n",
       "Name: occupation, Length: 943, dtype: object"
      ]
     },
     "execution_count": 7,
     "metadata": {},
     "output_type": "execute_result"
    }
   ],
   "source": [
    "# Print the name of all the columns. 모든 컬럼의 이름\n",
    "#print(user.columns)\n",
    "\n",
    "# How is the dataset indexed? 데이터셋은 어떻게 인덱스 되었나요?\n",
    "#user.index\n",
    "\n",
    "# What is the data type of each column? 각 컬럼의 데이터타입은?\n",
    "#user.dtypes\n",
    "\n",
    "# Print only the occupation column 직업컬럼만 출력\n",
    "#user['occupation']\n",
    "user.occupation"
   ]
  },
  {
   "cell_type": "code",
   "execution_count": 9,
   "id": "e00d70aa",
   "metadata": {},
   "outputs": [
    {
     "data": {
      "text/html": [
       "<div>\n",
       "<style scoped>\n",
       "    .dataframe tbody tr th:only-of-type {\n",
       "        vertical-align: middle;\n",
       "    }\n",
       "\n",
       "    .dataframe tbody tr th {\n",
       "        vertical-align: top;\n",
       "    }\n",
       "\n",
       "    .dataframe thead th {\n",
       "        text-align: right;\n",
       "    }\n",
       "</style>\n",
       "<table border=\"1\" class=\"dataframe\">\n",
       "  <thead>\n",
       "    <tr style=\"text-align: right;\">\n",
       "      <th></th>\n",
       "      <th>user_id</th>\n",
       "      <th>age</th>\n",
       "    </tr>\n",
       "  </thead>\n",
       "  <tbody>\n",
       "    <tr>\n",
       "      <th>count</th>\n",
       "      <td>943.000000</td>\n",
       "      <td>943.000000</td>\n",
       "    </tr>\n",
       "    <tr>\n",
       "      <th>mean</th>\n",
       "      <td>472.000000</td>\n",
       "      <td>34.051962</td>\n",
       "    </tr>\n",
       "    <tr>\n",
       "      <th>std</th>\n",
       "      <td>272.364951</td>\n",
       "      <td>12.192740</td>\n",
       "    </tr>\n",
       "    <tr>\n",
       "      <th>min</th>\n",
       "      <td>1.000000</td>\n",
       "      <td>7.000000</td>\n",
       "    </tr>\n",
       "    <tr>\n",
       "      <th>25%</th>\n",
       "      <td>236.500000</td>\n",
       "      <td>25.000000</td>\n",
       "    </tr>\n",
       "    <tr>\n",
       "      <th>50%</th>\n",
       "      <td>472.000000</td>\n",
       "      <td>31.000000</td>\n",
       "    </tr>\n",
       "    <tr>\n",
       "      <th>75%</th>\n",
       "      <td>707.500000</td>\n",
       "      <td>43.000000</td>\n",
       "    </tr>\n",
       "    <tr>\n",
       "      <th>max</th>\n",
       "      <td>943.000000</td>\n",
       "      <td>73.000000</td>\n",
       "    </tr>\n",
       "  </tbody>\n",
       "</table>\n",
       "</div>"
      ],
      "text/plain": [
       "          user_id         age\n",
       "count  943.000000  943.000000\n",
       "mean   472.000000   34.051962\n",
       "std    272.364951   12.192740\n",
       "min      1.000000    7.000000\n",
       "25%    236.500000   25.000000\n",
       "50%    472.000000   31.000000\n",
       "75%    707.500000   43.000000\n",
       "max    943.000000   73.000000"
      ]
     },
     "execution_count": 9,
     "metadata": {},
     "output_type": "execute_result"
    }
   ],
   "source": [
    "#통계요약\n",
    "user.describe()\n",
    "#user.describe(include='all')"
   ]
  },
  {
   "cell_type": "code",
   "execution_count": 80,
   "id": "b3d4aa7d",
   "metadata": {},
   "outputs": [
    {
     "data": {
      "text/plain": [
       "0         technician\n",
       "1              other\n",
       "2             writer\n",
       "3         technician\n",
       "4              other\n",
       "           ...      \n",
       "938          student\n",
       "939    administrator\n",
       "940          student\n",
       "941        librarian\n",
       "942          student\n",
       "Name: occupation, Length: 943, dtype: object"
      ]
     },
     "execution_count": 80,
     "metadata": {},
     "output_type": "execute_result"
    }
   ],
   "source": [
    "# How many different occupations there are in this dataset? 직업의 종류는?\n",
    "user.occupation.nunique()\n",
    "user.occupation\n",
    "#user.occupation.value_counts() #occupation columns에  중복되지 않는 데이터 정렬하여 확인\n"
   ]
  },
  {
   "cell_type": "code",
   "execution_count": 14,
   "id": "d049f170",
   "metadata": {},
   "outputs": [
    {
     "data": {
      "image/png": "[encoded data removed]",
      "text/plain": [
       "<Figure size 640x480 with 1 Axes>"
      ]
     },
     "metadata": {},
     "output_type": "display_data"
    },
    {
     "data": {
      "image/png": "[encoded data removed]",
      "text/plain": [
       "<Figure size 640x480 with 1 Axes>"
      ]
     },
     "metadata": {},
     "output_type": "display_data"
    }
   ],
   "source": [
    "#데이타 시각화\n",
    "import matplotlib.pyplot as plt\n",
    "x = [1,2,5]\n",
    "y = [5,7,4]\n",
    "plt.plot(x,y) #그래프 \n",
    "plt.plot([1,2,5],[5,7,3])\n",
    "plt.show() #그래프 그림을 2개 이상 작성시 겹쳐서/별도의 그리는 것을 정할수 있음"
   ]
  },
  {
   "cell_type": "code",
   "execution_count": 15,
   "id": "bbb2a839",
   "metadata": {
    "scrolled": true
   },
   "outputs": [
    {
     "data": {
      "text/plain": [
       "(0.0, 8.0)"
      ]
     },
     "execution_count": 15,
     "metadata": {},
     "output_type": "execute_result"
    },
    {
     "data": {
      "image/png": "[encoded data removed]",
      "text/plain": [
       "<Figure size 640x480 with 1 Axes>"
      ]
     },
     "metadata": {},
     "output_type": "display_data"
    }
   ],
   "source": [
    "plt.plot([1,2,5],[5,7,4])\n",
    "plt.xlim(0,4) #x축 범위 조정\n",
    "plt.ylim(0,8) #y축 범위 조정"
   ]
  },
  {
   "cell_type": "code",
   "execution_count": 21,
   "id": "dd6a8018",
   "metadata": {},
   "outputs": [
    {
     "data": {
      "image/png": "[encoded data removed]",
      "text/plain": [
       "<Figure size 640x480 with 1 Axes>"
      ]
     },
     "metadata": {},
     "output_type": "display_data"
    }
   ],
   "source": [
    "plt.title('line Chart')  #그래프에 이름 붙이기\n",
    "plt.xlabel('x') #x축 이름\n",
    "plt.ylabel('y',rotation=0) #y축 이름 (rotation=0을 활용하여 라벨 이름을 회전시킴)\n",
    "plt.plot([1,2,5],[5,7,4], label ='graph1')\n",
    "plt.plot([1,2,5],[5,2,4], label ='graph2')\n",
    "plt.legend() #각 그래프에 레이블을 준후 범례에 사용\n",
    "plt.show()"
   ]
  },
  {
   "cell_type": "code",
   "execution_count": 27,
   "id": "ca81163b",
   "metadata": {},
   "outputs": [
    {
     "data": {
      "image/png": "[encoded data removed]",
      "text/plain": [
       "<Figure size 640x480 with 1 Axes>"
      ]
     },
     "metadata": {},
     "output_type": "display_data"
    }
   ],
   "source": [
    "#산점도 \n",
    "import numpy as np\n",
    "import random\n",
    "x = np.arange(1,9)\n",
    "y = random.sample(range(1,11), 8)\n",
    "plt.scatter(x,y, marker='x', s=30) #산점도 (+marker: 표기모양, s :크기) \n",
    "plt.xlabel('x')\n",
    "plt.ylabel('y')\n",
    "plt.title('Scatter Plot\\nExample')\n",
    "plt.show()"
   ]
  },
  {
   "cell_type": "code",
   "execution_count": 38,
   "id": "4c895a56",
   "metadata": {},
   "outputs": [
    {
     "data": {
      "image/png": "[encoded data removed]",
      "text/plain": [
       "<Figure size 640x480 with 1 Axes>"
      ]
     },
     "metadata": {},
     "output_type": "display_data"
    }
   ],
   "source": [
    "#히스토그램\n",
    "ages =  random.sample(range(1,101), 40)\n",
    "bins = np.arange(0,101,10) #간격 생성 (0-100의 수를 10칸으로 나눔)\n",
    "#plt.hist(ages, bins=10) 직접 간격을 조정;\n",
    "plt.hist(ages, bins, rwidth=.8) #rwidth=.8; 막대의 굵기 조정\n",
    "plt.xlabel('age')\n",
    "plt.ylabel('cnt')\n",
    "plt.title('Histogram\\nExample')\n",
    "plt.show()"
   ]
  },
  {
   "cell_type": "code",
   "execution_count": 39,
   "id": "b5aa1aaa",
   "metadata": {},
   "outputs": [
    {
     "data": {
      "image/png": "[encoded data removed]",
      "text/plain": [
       "<Figure size 640x480 with 1 Axes>"
      ]
     },
     "metadata": {},
     "output_type": "display_data"
    }
   ],
   "source": [
    "#막대그래프 \n",
    "x=[1,2,3,4,5] #범주 \n",
    "y=[4,5,3,6,1] #계량\n",
    "plt.bar(x,y)\n",
    "plt.xlabel('x')\n",
    "plt.ylabel('y', rotation =0)\n",
    "plt.show()\n"
   ]
  },
  {
   "cell_type": "code",
   "execution_count": 40,
   "id": "7dcce70a",
   "metadata": {},
   "outputs": [
    {
     "data": {
      "text/plain": [
       "<BarContainer object of 5 artists>"
      ]
     },
     "execution_count": 40,
     "metadata": {},
     "output_type": "execute_result"
    },
    {
     "data": {
      "image/png": "[encoded data removed]",
      "text/plain": [
       "<Figure size 640x480 with 1 Axes>"
      ]
     },
     "metadata": {},
     "output_type": "display_data"
    }
   ],
   "source": [
    "plt.barh(x,y)"
   ]
  },
  {
   "cell_type": "code",
   "execution_count": 43,
   "id": "fbe08877",
   "metadata": {},
   "outputs": [
    {
     "data": {
      "image/png": "[encoded data removed]",
      "text/plain": [
       "<Figure size 640x480 with 1 Axes>"
      ]
     },
     "metadata": {},
     "output_type": "display_data"
    }
   ],
   "source": [
    "#그룹형 막대그래프\n",
    "x1 = [1,3,5,7,9]\n",
    "x2 = [2,4,6,8,10]\n",
    "y1 = [3, 4, 6, 8, 10]\n",
    "y2 = [7, 5, 4, 7, 5]\n",
    "\n",
    "plt.bar(x1,y1, label='graph1')\n",
    "plt.bar(x2,y2, label='graph2', color = 'c')\n",
    "plt.legend()\n",
    "plt.title('combining Chart')\n",
    "plt.xlabel('x')\n",
    "plt.ylabel('y', rotation =0)\n",
    "plt.show()"
   ]
  },
  {
   "cell_type": "code",
   "execution_count": 45,
   "id": "e1342f6b",
   "metadata": {},
   "outputs": [
    {
     "data": {
      "text/plain": [
       "<matplotlib.legend.Legend at 0x16796dc7950>"
      ]
     },
     "execution_count": 45,
     "metadata": {},
     "output_type": "execute_result"
    },
    {
     "data": {
      "image/png": "[encoded data removed]",
      "text/plain": [
       "<Figure size 640x480 with 1 Axes>"
      ]
     },
     "metadata": {},
     "output_type": "display_data"
    }
   ],
   "source": [
    "#누적 막대그래프 \n",
    "x = [1,3,5,7,9]\n",
    "y1 = [3, 4, 6, 8, 10]\n",
    "y2 = [7, 5, 4, 7, 5]\n",
    "\n",
    "plt.bar(x,y1, bottom = y2, label='graph1')\n",
    "plt.bar(x,y2, label='graph2', color = 'r')\n",
    "plt.legend()"
   ]
  },
  {
   "cell_type": "code",
   "execution_count": 52,
   "id": "1cdb4155",
   "metadata": {},
   "outputs": [
    {
     "data": {
      "image/png": "[encoded data removed]",
      "text/plain": [
       "<Figure size 640x480 with 1 Axes>"
      ]
     },
     "metadata": {},
     "output_type": "display_data"
    }
   ],
   "source": [
    "#box plot\n",
    "data = [[2, 4, 6, 8,10],[6 ,7, 8, 2, 4],[1,3, 5, 7, 9],[7, 8, 2,4, 2]]\n",
    "df = pd.DataFrame(data)\n",
    "\n",
    "df.columns = list('abcde') #컬럼이름 추가 \n",
    "plt.boxplot(df)\n",
    "plt.xticks(np.arange(1,6), df.columns) #x축 이름 추가\n",
    "plt.title('Box Plot')\n",
    "plt.xlabel('x')\n",
    "plt.ylabel('y', rotation = 0)\n",
    "#plt.title('Box Plot')\n",
    "plt.show()"
   ]
  },
  {
   "cell_type": "code",
   "execution_count": 57,
   "id": "d187328f",
   "metadata": {},
   "outputs": [
    {
     "data": {
      "image/png": "[encoded data removed]",
      "text/plain": [
       "<Figure size 640x480 with 1 Axes>"
      ]
     },
     "metadata": {},
     "output_type": "display_data"
    }
   ],
   "source": [
    "#영역그래프; 연속괸 데이터 표현 \n",
    "days = [1, 2, 3, 4, 5]\n",
    "sleeping  = [7, 8, 6, 11, 7]\n",
    "eating = [2, 3, 4, 3, 2]\n",
    "working = [7, 8, 7, 2, 2]\n",
    "playing = [8, 5, 7, 8, 13]\n",
    "\n",
    "plt.stackplot(days,sleeping, eating, working, playing)\n",
    "plt.legend(labels=['sleeping', 'eating', 'working', 'playing'])\n",
    "plt.title('Area Chart')\n",
    "plt.xlabel('days')\n",
    "plt.ylabel('time')\n",
    "plt.xticks(days,['mon', 'tue', 'wed', 'thur', 'fri'])\n",
    "plt.show()"
   ]
  },
  {
   "cell_type": "code",
   "execution_count": 68,
   "id": "a5599827",
   "metadata": {},
   "outputs": [
    {
     "data": {
      "image/png": "[encoded data removed]",
      "text/plain": [
       "<Figure size 640x480 with 2 Axes>"
      ]
     },
     "metadata": {},
     "output_type": "display_data"
    }
   ],
   "source": [
    "#heat-map; 상관관계 table, quant 숙정 행렬; (행렬같은 데이터?)\n",
    "data=[[2,3,4,1],[6,3,5,2],[6,3,5,4],[3,7,5,4],[2,8,1,5]] #5x4 matrix\n",
    "Index= ['I1', 'I2','I3','I4','I5' ]\n",
    "Cols = ['C1', 'C2', 'C3','C4'] #4. variables\n",
    "df = pd.DataFrame(data,index=Index, columns=Cols)\n",
    "df.corr() #상관관계 ?? >> 열. 간의 상관관계를 계산\n",
    "#(1행 1열 ; 2행 2열 ... 기준으로 계산)\n",
    "plt.pcolor(df.corr())\n",
    "plt.colorbar()\n",
    "plt.show()\n",
    "#plt.pcolor(df.corr())\n",
    "#plt.matshow(df.corr())\n",
    "#plt.colorbar()\n",
    "#plt.show()"
   ]
  },
  {
   "cell_type": "code",
   "execution_count": 78,
   "id": "bb1dcbfa",
   "metadata": {},
   "outputs": [
    {
     "data": {
      "text/plain": [
       "list"
      ]
     },
     "execution_count": 78,
     "metadata": {},
     "output_type": "execute_result"
    },
    {
     "data": {
      "image/png": "[encoded data removed]",
      "text/plain": [
       "<Figure size 640x480 with 1 Axes>"
      ]
     },
     "metadata": {},
     "output_type": "display_data"
    }
   ],
   "source": [
    "slices = [7,2,2,13]\n",
    "plt.pie(slices, labels=['sleeping', 'eating', 'working', 'playing']\n",
    "        ,startangle=90 #chart 회전 \n",
    "        ,shadow=True  #음영 넣기\n",
    "        ,explode=(0,.1,0,0) #특정 부분 돌출\n",
    "        ,autopct='%1.1f%%') #%로 표기 \n"
   ]
  },
  {
   "cell_type": "code",
   "execution_count": 77,
   "id": "182d5ead",
   "metadata": {},
   "outputs": [
    {
     "data": {
      "image/png": "[encoded data removed]",
      "text/plain": [
       "<Figure size 640x480 with 1 Axes>"
      ]
     },
     "metadata": {},
     "output_type": "display_data"
    }
   ],
   "source": [
    "df = pd.read_csv('graph_pd.txt')\n",
    "df.columns = ['x', 'y']\n",
    "plt.plot(df.x, df.y)\n",
    "plt.show()"
   ]
  },
  {
   "cell_type": "code",
   "execution_count": 81,
   "id": "86823805",
   "metadata": {},
   "outputs": [
    {
     "data": {
      "text/html": [
       "<div>\n",
       "<style scoped>\n",
       "    .dataframe tbody tr th:only-of-type {\n",
       "        vertical-align: middle;\n",
       "    }\n",
       "\n",
       "    .dataframe tbody tr th {\n",
       "        vertical-align: top;\n",
       "    }\n",
       "\n",
       "    .dataframe thead th {\n",
       "        text-align: right;\n",
       "    }\n",
       "</style>\n",
       "<table border=\"1\" class=\"dataframe\">\n",
       "  <thead>\n",
       "    <tr style=\"text-align: right;\">\n",
       "      <th></th>\n",
       "      <th>A</th>\n",
       "      <th>B</th>\n",
       "      <th>C</th>\n",
       "    </tr>\n",
       "  </thead>\n",
       "  <tbody>\n",
       "    <tr>\n",
       "      <th>0</th>\n",
       "      <td>1</td>\n",
       "      <td>3</td>\n",
       "      <td>5</td>\n",
       "    </tr>\n",
       "    <tr>\n",
       "      <th>1</th>\n",
       "      <td>2</td>\n",
       "      <td>3</td>\n",
       "      <td>5</td>\n",
       "    </tr>\n",
       "    <tr>\n",
       "      <th>2</th>\n",
       "      <td>3</td>\n",
       "      <td>4</td>\n",
       "      <td>5</td>\n",
       "    </tr>\n",
       "    <tr>\n",
       "      <th>3</th>\n",
       "      <td>2</td>\n",
       "      <td>4</td>\n",
       "      <td>6</td>\n",
       "    </tr>\n",
       "  </tbody>\n",
       "</table>\n",
       "</div>"
      ],
      "text/plain": [
       "   A  B  C\n",
       "0  1  3  5\n",
       "1  2  3  5\n",
       "2  3  4  5\n",
       "3  2  4  6"
      ]
     },
     "execution_count": 81,
     "metadata": {},
     "output_type": "execute_result"
    }
   ],
   "source": [
    "import pandas as pd\n",
    "\n",
    "data = {\n",
    "    'A': [1, 2, 3, 2],\n",
    "    'B': [3, 3, 4, 4],\n",
    "    'C': [5, 5, 5, 6]\n",
    "}\n",
    "df = pd.DataFrame(data)\n",
    "df"
   ]
  },
  {
   "cell_type": "code",
   "execution_count": null,
   "id": "71e867e0",
   "metadata": {},
   "outputs": [],
   "source": []
  }
 ],
 "metadata": {
  "kernelspec": {
   "display_name": "Python 3 (ipykernel)",
   "language": "python",
   "name": "python3"
  },
  "language_info": {
   "codemirror_mode": {
    "name": "ipython",
    "version": 3
   },
   "file_extension": ".py",
   "mimetype": "text/x-python",
   "name": "python",
   "nbconvert_exporter": "python",
   "pygments_lexer": "ipython3",
   "version": "3.11.3"
  }
 },
 "nbformat": 4,
 "nbformat_minor": 5
}
