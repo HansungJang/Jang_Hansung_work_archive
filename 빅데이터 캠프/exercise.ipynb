{
 "cells": [
  {
   "cell_type": "code",
   "execution_count": 21,
   "id": "2d82d5fd",
   "metadata": {},
   "outputs": [
    {
     "data": {
      "text/plain": [
       "<Response [401]>"
      ]
     },
     "execution_count": 21,
     "metadata": {},
     "output_type": "execute_result"
    }
   ],
   "source": [
    "import requests\n",
    "from bs4 import BeautifulSoup\n",
    "import numpy as np\n",
    "import pandas as pd \n",
    "import seaborn as sns\n",
    "import matplotlib as plt \n",
    "\n",
    "url = 'https://api.odcloud.kr/api/15072345/v1/uddi:77442a66-8068-4a11-a623-852a4798f71b?page=1&perPage=10&returnType=XML'\n",
    "res = requests.get(url)\n",
    "res\n",
    "\n",
    "#text = res.text\n",
    "#soup = BeautifulSoup(text, 'lxml-xml')\n"
   ]
  },
  {
   "cell_type": "code",
   "execution_count": null,
   "id": "f1799815",
   "metadata": {},
   "outputs": [],
   "source": [
    "import requests\n",
    "from bs4 import BeautifulSoup\n",
    "\n",
    "key = "
   ]
  }
 ],
 "metadata": {
  "kernelspec": {
   "display_name": "Python 3 (ipykernel)",
   "language": "python",
   "name": "python3"
  },
  "language_info": {
   "codemirror_mode": {
    "name": "ipython",
    "version": 3
   },
   "file_extension": ".py",
   "mimetype": "text/x-python",
   "name": "python",
   "nbconvert_exporter": "python",
   "pygments_lexer": "ipython3",
   "version": "3.11.3"
  }
 },
 "nbformat": 4,
 "nbformat_minor": 5
}
